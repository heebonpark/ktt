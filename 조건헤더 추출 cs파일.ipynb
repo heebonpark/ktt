{
 "cells": [
  {
   "cell_type": "markdown",
   "id": "d39ab0a1-bba6-4c4a-83c8-a2edcfa5a344",
   "metadata": {},
   "source": [
    "# 조건헤더 추출"
   ]
  },
  {
   "cell_type": "code",
   "execution_count": null,
   "id": "e3d178f7-89f2-4f0d-813d-c925f141e358",
   "metadata": {},
   "outputs": [],
   "source": [
    "import pandas as pd\n",
    "\n",
    "# 파일 경로 설정 (확장자 .cs)\n",
    "file_path = 'D:/시설/유지/24년11월유지가입자.cs'\n",
    "\n",
    "# 필요한 열만 지정하여 파일 읽기\n",
    "usecols = ['관리본부명', '계약번호', '관리지사명', '영업구역정보']  # 필요한 열만 읽기\n",
    "df = pd.read_csv(file_path, encoding='cp949', usecols=usecols, low_memory=False)\n",
    "\n",
    "# \"관리본부명\" 조건에 맞는 데이터 필터링\n",
    "filtered_data = df[df['관리본부명'].isin(['강북/강원본부', '강원본부'])]\n",
    "\n",
    "# 필터링된 데이터 저장 (엑셀)\n",
    "output_path = 'D:/시설/유지/24년11월 관리본부_filtered.xlsx'\n",
    "filtered_data.to_excel(output_path, index=False, engine='openpyxl')  # 엑셀 엔진 지정\n",
    "\n",
    "# 결과 확인\n",
    "print(\"조건에 맞는 데이터가 저장되었습니다:\", output_path)\n",
    "display(filtered_data)\n"
   ]
  },
  {
   "cell_type": "code",
   "execution_count": null,
   "id": "8ec38607-70fe-4b38-8cbf-0f4259244c12",
   "metadata": {},
   "outputs": [],
   "source": []
  }
 ],
 "metadata": {
  "kernelspec": {
   "display_name": "Python 3 (ipykernel)",
   "language": "python",
   "name": "python3"
  },
  "language_info": {
   "codemirror_mode": {
    "name": "ipython",
    "version": 3
   },
   "file_extension": ".py",
   "mimetype": "text/x-python",
   "name": "python",
   "nbconvert_exporter": "python",
   "pygments_lexer": "ipython3",
   "version": "3.12.4"
  }
 },
 "nbformat": 4,
 "nbformat_minor": 5
}
