{
 "cells": [
  {
   "cell_type": "markdown",
   "id": "734d8ac8-0b58-4470-b8b9-b74849336347",
   "metadata": {},
   "source": [
    "## 마우스 선택 포인트 좌표 "
   ]
  },
  {
   "cell_type": "code",
   "execution_count": 11,
   "id": "809b5b8c-b2cd-4a2a-a88f-5761c788925f",
   "metadata": {},
   "outputs": [
    {
     "name": "stdout",
     "output_type": "stream",
     "text": [
      "아이디 필드, 비밀번호 필드, 로그인 버튼을 순서대로 클릭하세요.\n",
      "클릭한 좌표 - X: 334, Y: 187\n",
      "클릭한 좌표 - X: 326, Y: 278\n",
      "클릭한 좌표 - X: 1545, Y: 469\n",
      "\n",
      "선택된 좌표:\n",
      "1. 아이디 입력 필드: X = 334, Y = 187\n",
      "2. 비밀번호 입력 필드: X = 326, Y = 278\n",
      "3. 로그인 버튼: X = 1545, Y = 469\n"
     ]
    }
   ],
   "source": [
    "from pynput import mouse\n",
    "\n",
    "# 좌표 저장 리스트\n",
    "coordinates = []\n",
    "\n",
    "# 클릭 이벤트 처리\n",
    "def on_click(x, y, button, pressed):\n",
    "    if pressed:\n",
    "        # 클릭 시 좌표 저장\n",
    "        print(f\"클릭한 좌표 - X: {x}, Y: {y}\")\n",
    "        coordinates.append((x, y))\n",
    "        # 3번 클릭하면 리스너 종료\n",
    "        if len(coordinates) == 3:\n",
    "            return False  # 리스너 종료\n",
    "\n",
    "# 리스너 실행\n",
    "print(\"아이디 필드, 비밀번호 필드, 로그인 버튼을 순서대로 클릭하세요.\")\n",
    "with mouse.Listener(on_click=on_click) as listener:\n",
    "    listener.join()\n",
    "\n",
    "# 좌표 출력\n",
    "if len(coordinates) == 3:\n",
    "    print(\"\\n선택된 좌표:\")\n",
    "    print(f\"1. 아이디 입력 필드: X = {coordinates[0][0]}, Y = {coordinates[0][1]}\")\n",
    "    print(f\"2. 비밀번호 입력 필드: X = {coordinates[1][0]}, Y = {coordinates[1][1]}\")\n",
    "    print(f\"3. 로그인 버튼: X = {coordinates[2][0]}, Y = {coordinates[2][1]}\")\n",
    "else:\n",
    "    print(\"3개의 좌표를 선택하지 않았습니다.\")"
   ]
  },
  {
   "cell_type": "markdown",
   "id": "1f20d85d-02f3-43e7-b7d8-76adc0bbccca",
   "metadata": {},
   "source": [
    "## 좌표입력, 텍스트입력 엑셀 녹화 매크로기능"
   ]
  },
  {
   "cell_type": "code",
   "execution_count": 7,
   "id": "746c88a6-e373-4deb-9cf9-25dbfb077ea9",
   "metadata": {},
   "outputs": [
    {
     "name": "stdout",
     "output_type": "stream",
     "text": [
      "좌표와 텍스트 기록 시작 (ESC 키를 눌러 종료합니다).\n",
      "클릭한 좌표 - X: 332, Y: 183\n",
      "클릭한 좌표 - X: 357, Y: 250\n",
      "클릭한 좌표 - X: 462, Y: 186\n",
      "클릭한 좌표 - X: 469, Y: 271\n",
      "ESC 키를 눌러 종료합니다.\n",
      "좌표와 텍스트 기록이 recorded_data_1737339916.json에 저장되었습니다.\n"
     ]
    }
   ],
   "source": [
    "from pynput import mouse, keyboard\n",
    "import json\n",
    "import time\n",
    "\n",
    "# 좌표와 텍스트 저장 리스트\n",
    "data = {\n",
    "    \"clicks\": [],\n",
    "    \"notes\": []\n",
    "}\n",
    "\n",
    "# ESC 키를 누르면 종료\n",
    "stop_recording = False\n",
    "\n",
    "# 마우스 클릭 이벤트 처리\n",
    "def on_click(x, y, button, pressed):\n",
    "    if pressed:\n",
    "        print(f\"클릭한 좌표 - X: {x}, Y: {y}\")\n",
    "        data[\"clicks\"].append({\"x\": x, \"y\": y, \"timestamp\": time.time()})\n",
    "\n",
    "# 키보드 입력 이벤트 처리\n",
    "def on_press(key):\n",
    "    global stop_recording\n",
    "    try:\n",
    "        if key.char:  # 문자 키 입력\n",
    "            print(f\"입력한 텍스트: {key.char}\")\n",
    "            data[\"notes\"].append({\"text\": key.char, \"timestamp\": time.time()})\n",
    "    except AttributeError:\n",
    "        # 특수 키 처리\n",
    "        if key == keyboard.Key.esc:\n",
    "            print(\"ESC 키를 눌러 종료합니다.\")\n",
    "            stop_recording = True\n",
    "            return False  # 키보드 리스너 종료\n",
    "\n",
    "# ESC 키를 눌러 종료되기 전까지 마우스와 키보드 이벤트를 기록\n",
    "def record_events():\n",
    "    print(\"좌표와 텍스트 기록 시작 (ESC 키를 눌러 종료합니다).\")\n",
    "    with mouse.Listener(on_click=on_click) as mouse_listener, keyboard.Listener(on_press=on_press) as keyboard_listener:\n",
    "        while not stop_recording:\n",
    "            time.sleep(0.1)\n",
    "        mouse_listener.stop()\n",
    "        keyboard_listener.stop()\n",
    "\n",
    "# 데이터 저장\n",
    "def save_data():\n",
    "    filename = f\"recorded_data_{int(time.time())}.json\"\n",
    "    with open(filename, 'w', encoding='utf-8') as file:\n",
    "        json.dump(data, file, ensure_ascii=False, indent=4)\n",
    "    print(f\"좌표와 텍스트 기록이 {filename}에 저장되었습니다.\")\n",
    "\n",
    "# 실행\n",
    "if __name__ == \"__main__\":\n",
    "    record_events()\n",
    "    save_data()"
   ]
  },
  {
   "cell_type": "code",
   "execution_count": null,
   "id": "448f4693-5580-4c1c-ae59-0cd89657ae3e",
   "metadata": {},
   "outputs": [],
   "source": [
    "마우스 드래그 포함"
   ]
  },
  {
   "cell_type": "code",
   "execution_count": null,
   "id": "b190b251-1f48-447b-8e18-eeef900b543d",
   "metadata": {},
   "outputs": [],
   "source": []
  },
  {
   "cell_type": "code",
   "execution_count": null,
   "id": "88a6721b-1961-43b2-9aeb-286518cefde5",
   "metadata": {},
   "outputs": [],
   "source": []
  }
 ],
 "metadata": {
  "kernelspec": {
   "display_name": "Python 3 (ipykernel)",
   "language": "python",
   "name": "python3"
  },
  "language_info": {
   "codemirror_mode": {
    "name": "ipython",
    "version": 3
   },
   "file_extension": ".py",
   "mimetype": "text/x-python",
   "name": "python",
   "nbconvert_exporter": "python",
   "pygments_lexer": "ipython3",
   "version": "3.12.4"
  }
 },
 "nbformat": 4,
 "nbformat_minor": 5
}
