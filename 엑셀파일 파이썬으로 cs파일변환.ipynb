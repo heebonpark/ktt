{
 "cells": [
  {
   "cell_type": "code",
   "execution_count": null,
   "id": "55cedd71-582a-44f4-a365-36d109b945f1",
   "metadata": {},
   "outputs": [],
   "source": [
    "import pandas as pd\n",
    "import os\n",
    "\n",
    "# Excel 파일 경로와 시트 이름\n",
    "excel_file_path = \"D:/시설/해지/해지미승인/분석_해지미승인0614.xlsx\"\n",
    "sheet_name = \"해지미승인0614\"\n",
    "\n",
    "# 임시 CSV 파일 경로\n",
    "temp_csv_path = \"D:/시설/해지/해지미승인/해지미승인0614_temp.csv\"\n",
    "\n",
    "# 최종 .cs 파일 경로\n",
    "final_cs_path = \"D:/시설/해지/해지미승인/해지미승인0614_v1.cs\"\n",
    "\n",
    "# Excel 파일 읽기\n",
    "df = pd.read_excel(excel_file_path, sheet_name=sheet_name, engine='openpyxl')\n",
    "\n",
    "# DataFrame을 CSV 파일로 저장\n",
    "df.to_csv(temp_csv_path, index=False, encoding='utf-8-sig')\n",
    "\n",
    "# CSV 파일의 확장자를 .cs로 변경\n",
    "os.rename(temp_csv_path, final_cs_path)\n",
    "\n",
    "print(\"파일이 성공적으로 저장되었습니다.\")"
   ]
  },
  {
   "cell_type": "code",
   "execution_count": null,
   "id": "da4d5948-e378-4195-816c-800e056092ed",
   "metadata": {},
   "outputs": [],
   "source": []
  },
  {
   "cell_type": "code",
   "execution_count": null,
   "id": "b5105579-10ad-4114-8b2a-42e3e2f862a3",
   "metadata": {},
   "outputs": [],
   "source": []
  },
  {
   "cell_type": "code",
   "execution_count": null,
   "id": "16279fdf-3ba3-4bd3-ae5b-06e3a2f6d38b",
   "metadata": {},
   "outputs": [],
   "source": []
  }
 ],
 "metadata": {
  "kernelspec": {
   "display_name": "Python 3 (ipykernel)",
   "language": "python",
   "name": "python3"
  },
  "language_info": {
   "codemirror_mode": {
    "name": "ipython",
    "version": 3
   },
   "file_extension": ".py",
   "mimetype": "text/x-python",
   "name": "python",
   "nbconvert_exporter": "python",
   "pygments_lexer": "ipython3",
   "version": "3.12.3"
  }
 },
 "nbformat": 4,
 "nbformat_minor": 5
}
