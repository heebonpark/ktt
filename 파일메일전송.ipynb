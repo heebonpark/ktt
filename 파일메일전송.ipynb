{
 "cells": [
  {
   "cell_type": "markdown",
   "id": "9db02f01-79a8-493f-a5a6-29ca5f15183e",
   "metadata": {},
   "source": [
    "# 사용 예제\n",
    "folder_path = 'D:/시설/일일실적_해지현황(21년)/해지05'\n",
    "recipient_email = 'bough38@naver.com'\n",
    "send_email_with_attachments(folder_path, recipient_email)"
   ]
  },
  {
   "cell_type": "code",
   "execution_count": null,
   "id": "9977cf3f-ada9-4c63-b1d7-d64f9370afd6",
   "metadata": {},
   "outputs": [],
   "source": [
    "import os\n",
    "import smtplib\n",
    "from email.message import EmailMessage\n",
    "\n",
    "def send_email_with_attachments(folder_path, recipient_email):\n",
    "    # SMTP 서버 설정 (예: 네이버 메일)\n",
    "    smtp_server = 'smtp.naver.com'\n",
    "    smtp_port = 587\n",
    "    smtp_user = 'bough38l@naver.com'\n",
    "    smtp_password = 'Plus3867@@'\n",
    "\n",
    "    # 이메일 메시지 설정\n",
    "    msg = EmailMessage()\n",
    "    msg['Subject'] = '해지05폴더의 파일 전송'\n",
    "    msg['From'] = smtp_user\n",
    "    msg['To'] = recipient_email\n",
    "    msg.set_content('폴더의 파일을 첨부합니다.')\n",
    "\n",
    "    # 지정된 폴더의 모든 파일을 첨부\n",
    "    for filename in os.listdir(folder_path):\n",
    "        file_path = os.path.join(folder_path, filename)\n",
    "        if os.path.isfile(file_path):\n",
    "            with open(file_path, 'rb') as f:\n",
    "                file_data = f.read()\n",
    "                file_name = f.name\n",
    "                msg.add_attachment(file_data, maintype='application', subtype='octet-stream', filename=file_name)\n",
    "\n",
    "    # 이메일 전송\n",
    "    with smtplib.SMTP(smtp_server, smtp_port) as server:\n",
    "        server.starttls()\n",
    "        server.login(smtp_user, smtp_password)\n",
    "        server.send_message(msg)\n",
    "\n",
    "# 사용 예제\n",
    "folder_path = 'D:/시설/일일실적_해지현황(21년)/해지05'\n",
    "recipient_email = 'bough38@naver.com'\n",
    "send_email_with_attachments(folder_path, recipient_email)"
   ]
  },
  {
   "cell_type": "code",
   "execution_count": 1,
   "id": "f9f4cc31-1ead-40f7-8688-bfe50066070e",
   "metadata": {},
   "outputs": [
    {
     "ename": "NotADirectoryError",
     "evalue": "[WinError 267] 디렉터리 이름이 올바르지 않습니다: 'D:/시설/유지/24년5월 조건요약.cs'",
     "output_type": "error",
     "traceback": [
      "\u001b[1;31m---------------------------------------------------------------------------\u001b[0m",
      "\u001b[1;31mNotADirectoryError\u001b[0m                        Traceback (most recent call last)",
      "Cell \u001b[1;32mIn[1], line 37\u001b[0m\n\u001b[0;32m     35\u001b[0m folder_path \u001b[38;5;241m=\u001b[39m \u001b[38;5;124m'\u001b[39m\u001b[38;5;124mD:/시설/유지/24년5월 조건요약.cs\u001b[39m\u001b[38;5;124m'\u001b[39m\n\u001b[0;32m     36\u001b[0m recipient_email \u001b[38;5;241m=\u001b[39m \u001b[38;5;124m'\u001b[39m\u001b[38;5;124mbough38@naver.com\u001b[39m\u001b[38;5;124m'\u001b[39m\n\u001b[1;32m---> 37\u001b[0m \u001b[43msend_email_with_attachments\u001b[49m\u001b[43m(\u001b[49m\u001b[43mfolder_path\u001b[49m\u001b[43m,\u001b[49m\u001b[43m \u001b[49m\u001b[43mrecipient_email\u001b[49m\u001b[43m)\u001b[49m\n",
      "Cell \u001b[1;32mIn[1], line 20\u001b[0m, in \u001b[0;36msend_email_with_attachments\u001b[1;34m(folder_path, recipient_email)\u001b[0m\n\u001b[0;32m     17\u001b[0m msg\u001b[38;5;241m.\u001b[39mset_content(\u001b[38;5;124m'\u001b[39m\u001b[38;5;124m폴더의 파일을 첨부합니다.\u001b[39m\u001b[38;5;124m'\u001b[39m)\n\u001b[0;32m     19\u001b[0m \u001b[38;5;66;03m# 지정된 폴더의 모든 파일을 첨부\u001b[39;00m\n\u001b[1;32m---> 20\u001b[0m \u001b[38;5;28;01mfor\u001b[39;00m filename \u001b[38;5;129;01min\u001b[39;00m \u001b[43mos\u001b[49m\u001b[38;5;241;43m.\u001b[39;49m\u001b[43mlistdir\u001b[49m\u001b[43m(\u001b[49m\u001b[43mfolder_path\u001b[49m\u001b[43m)\u001b[49m:\n\u001b[0;32m     21\u001b[0m     file_path \u001b[38;5;241m=\u001b[39m os\u001b[38;5;241m.\u001b[39mpath\u001b[38;5;241m.\u001b[39mjoin(folder_path, filename)\n\u001b[0;32m     22\u001b[0m     \u001b[38;5;28;01mif\u001b[39;00m os\u001b[38;5;241m.\u001b[39mpath\u001b[38;5;241m.\u001b[39misfile(file_path):\n",
      "\u001b[1;31mNotADirectoryError\u001b[0m: [WinError 267] 디렉터리 이름이 올바르지 않습니다: 'D:/시설/유지/24년5월 조건요약.cs'"
     ]
    }
   ],
   "source": [
    "import os\n",
    "import smtplib\n",
    "from email.message import EmailMessage\n",
    "\n",
    "def send_email_with_attachments(folder_path, recipient_email):\n",
    "    # SMTP 서버 설정 (예: 네이버 메일)\n",
    "    smtp_server = 'smtp.naver.com'\n",
    "    smtp_port = 587\n",
    "    smtp_user = 'bough38l@naver.com'\n",
    "    smtp_password = 'Plus3867@@'\n",
    "\n",
    "    # 이메일 메시지 설정\n",
    "    msg = EmailMessage()\n",
    "    msg['Subject'] = '해지05폴더의 파일 전송'\n",
    "    msg['From'] = smtp_user\n",
    "    msg['To'] = recipient_email\n",
    "    msg.set_content('폴더의 파일을 첨부합니다.')\n",
    "\n",
    "    # 지정된 폴더의 모든 파일을 첨부\n",
    "    for filename in os.listdir(folder_path):\n",
    "        file_path = os.path.join(folder_path, filename)\n",
    "        if os.path.isfile(file_path):\n",
    "            with open(file_path, 'rb') as f:\n",
    "                file_data = f.read()\n",
    "                file_name = f.name\n",
    "                msg.add_attachment(file_data, maintype='application', subtype='octet-stream', filename=file_name)\n",
    "\n",
    "    # 이메일 전송\n",
    "    with smtplib.SMTP(smtp_server, smtp_port) as server:\n",
    "        server.starttls()\n",
    "        server.login(smtp_user, smtp_password)\n",
    "        server.send_message(msg)\n",
    "\n",
    "# 사용 예제\n",
    "folder_path = 'D:/시설/유지/24년5월 조건요약.cs'\n",
    "recipient_email = 'bough38@naver.com'\n",
    "send_email_with_attachments(folder_path, recipient_email)"
   ]
  },
  {
   "cell_type": "code",
   "execution_count": 3,
   "id": "7d5aa0e0-0308-428c-bd6f-4485f8e11373",
   "metadata": {},
   "outputs": [
    {
     "name": "stdout",
     "output_type": "stream",
     "text": [
      "이메일 전송 중 오류가 발생했습니다: (535, b'5.7.1 Username and Password not accepted h++Was1dR0KK1DD0qrs-vQ - nsmtp')\n"
     ]
    }
   ],
   "source": [
    "import os\n",
    "import smtplib\n",
    "from email.message import EmailMessage\n",
    "\n",
    "def send_email_with_attachments(folder_path, recipient_email):\n",
    "    # SMTP 서버 설정 (예: 네이버 메일)\n",
    "    smtp_server = 'smtp.naver.com'\n",
    "    smtp_port = 587\n",
    "    smtp_user = 'bough38l@naver.com'\n",
    "    smtp_password = 'Plus3867@@'  # 실제 비밀번호로 변경하세요\n",
    "\n",
    "    # 이메일 메시지 설정\n",
    "    msg = EmailMessage()\n",
    "    msg['Subject'] = '해지05폴더의 파일 전송'\n",
    "    msg['From'] = smtp_user\n",
    "    msg['To'] = recipient_email\n",
    "    msg.set_content('폴더의 파일을 첨부합니다.')\n",
    "\n",
    "    # 지정된 폴더의 모든 파일을 첨부\n",
    "    if os.path.isdir(folder_path):\n",
    "        for filename in os.listdir(folder_path):\n",
    "            file_path = os.path.join(folder_path, filename)\n",
    "            if os.path.isfile(file_path):\n",
    "                with open(file_path, 'rb') as f:\n",
    "                    file_data = f.read()\n",
    "                    file_name = os.path.basename(file_path)\n",
    "                    msg.add_attachment(file_data, maintype='application', subtype='octet-stream', filename=file_name)\n",
    "    else:\n",
    "        print(f\"{folder_path}는 폴더가 아닙니다. 폴더 경로를 확인하세요.\")\n",
    "\n",
    "    # 이메일 전송\n",
    "    try:\n",
    "        with smtplib.SMTP(smtp_server, smtp_port) as server:\n",
    "            server.starttls()\n",
    "            server.login(smtp_user, smtp_password)\n",
    "            server.send_message(msg)\n",
    "        print(\"이메일이 성공적으로 전송되었습니다.\")\n",
    "    except Exception as e:\n",
    "        print(f\"이메일 전송 중 오류가 발생했습니다: {e}\")\n",
    "\n",
    "# 사용 예제\n",
    "folder_path = 'D:/시설/유지/5월'  # 폴더 경로로 수정\n",
    "recipient_email = 'bough38@naver.com'\n",
    "send_email_with_attachments(folder_path, recipient_email)\n"
   ]
  },
  {
   "cell_type": "code",
   "execution_count": null,
   "id": "6516f9ea-8eb4-4f1f-bc7c-fc1cf65ec546",
   "metadata": {},
   "outputs": [],
   "source": []
  }
 ],
 "metadata": {
  "kernelspec": {
   "display_name": "Python 3 (ipykernel)",
   "language": "python",
   "name": "python3"
  },
  "language_info": {
   "codemirror_mode": {
    "name": "ipython",
    "version": 3
   },
   "file_extension": ".py",
   "mimetype": "text/x-python",
   "name": "python",
   "nbconvert_exporter": "python",
   "pygments_lexer": "ipython3",
   "version": "3.12.3"
  }
 },
 "nbformat": 4,
 "nbformat_minor": 5
}
