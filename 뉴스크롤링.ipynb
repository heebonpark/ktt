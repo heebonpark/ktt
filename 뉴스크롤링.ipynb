{
 "cells": [
  {
   "cell_type": "code",
   "execution_count": 1,
   "id": "5cac4789-88b7-4f12-b693-6948897dd398",
   "metadata": {},
   "outputs": [
    {
     "name": "stdout",
     "output_type": "stream",
     "text": [
      "News saved to news_preview.xlsx\n"
     ]
    }
   ],
   "source": [
    "import requests\n",
    "from bs4 import BeautifulSoup\n",
    "import pandas as pd\n",
    "\n",
    "# Define the URLs for Naver and Google news\n",
    "naver_url = \"https://news.naver.com/main/home.naver\"\n",
    "google_url = \"https://news.google.com/topstories\"\n",
    "\n",
    "# Function to get news from Naver\n",
    "def get_naver_news():\n",
    "    response = requests.get(naver_url)\n",
    "    soup = BeautifulSoup(response.text, 'html.parser')\n",
    "   \n",
    "    news_list = []\n",
    "    for item in soup.select(\".hdline_article_tit a\"):\n",
    "        title = item.text.strip()\n",
    "        url = item['href']\n",
    "        summary = item.get('title', 'No summary available')\n",
    "        news_list.append({\"Title\": title, \"URL\": url, \"Summary\": summary, \"Category\": \"General\", \"Age_Group\": \"20-30\", \"Source\": \"Naver\"})\n",
    "   \n",
    "    return news_list\n",
    "\n",
    "# Function to get news from Google\n",
    "def get_google_news():\n",
    "    response = requests.get(google_url)\n",
    "    soup = BeautifulSoup(response.text, 'html.parser')\n",
    "   \n",
    "    news_list = []\n",
    "    for item in soup.select(\".DY5T1d\"):\n",
    "        title = item.text.strip()\n",
    "        url = \"https://news.google.com\" + item['href'][1:]\n",
    "        summary = item.get('aria-label', 'No summary available')\n",
    "        news_list.append({\"Title\": title, \"URL\": url, \"Summary\": summary, \"Category\": \"General\", \"Age_Group\": \"30-40\", \"Source\": \"Google\"})\n",
    "   \n",
    "    return news_list\n",
    "\n",
    "# Combine news from both sources\n",
    "naver_news = get_naver_news()\n",
    "google_news = get_google_news()\n",
    "all_news = naver_news + google_news\n",
    "\n",
    "# Save to Excel\n",
    "df = pd.DataFrame(all_news)\n",
    "excel_file_path = \"news_preview.xlsx\"\n",
    "df.to_excel(excel_file_path, index=False)\n",
    "\n",
    "print(f\"News saved to {excel_file_path}\")\n",
    "\n"
   ]
  }
 ],
 "metadata": {
  "kernelspec": {
   "display_name": "Python 3 (ipykernel)",
   "language": "python",
   "name": "python3"
  },
  "language_info": {
   "codemirror_mode": {
    "name": "ipython",
    "version": 3
   },
   "file_extension": ".py",
   "mimetype": "text/x-python",
   "name": "python",
   "nbconvert_exporter": "python",
   "pygments_lexer": "ipython3",
   "version": "3.12.3"
  }
 },
 "nbformat": 4,
 "nbformat_minor": 5
}
