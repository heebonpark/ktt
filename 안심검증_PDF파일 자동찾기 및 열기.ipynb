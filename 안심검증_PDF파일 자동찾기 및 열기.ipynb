{
 "cells": [
  {
   "cell_type": "code",
   "execution_count": 7,
   "id": "11c85a6f-8989-4737-bf9e-5e225ba158b5",
   "metadata": {},
   "outputs": [
    {
     "name": "stdin",
     "output_type": "stream",
     "text": [
      "파일 키워드를 입력하세요:  케이엠(KM)스튜디오 신규 계약서.pdf\n"
     ]
    },
    {
     "name": "stdout",
     "output_type": "stream",
     "text": [
      "파일 'D:/안심검증계약서\\케이엠(KM)스튜디오 신규 계약서.pdf'이(가) 열렸습니다.\n"
     ]
    }
   ],
   "source": [
    "import os\n",
    "import webbrowser\n",
    "\n",
    "def open_pdf(keyword, path):\n",
    "    # 주어진 경로와 하위 폴더에서 파일 탐색\n",
    "    for root, dirs, files in os.walk(path):\n",
    "        for file in files:\n",
    "            # 파일 이름에 키워드가 포함되어 있고 PDF 파일인 경우\n",
    "            if keyword in file and file.endswith('.pdf'):\n",
    "                # 파일의 전체 경로 생성\n",
    "                full_path = os.path.join(root, file)\n",
    "                # 파일 열기\n",
    "                webbrowser.open(full_path)\n",
    "                return f\"파일 '{full_path}'이(가) 열렸습니다.\"\n",
    "\n",
    "# 사용자 입력\n",
    "keyword = input(\"파일 키워드를 입력하세요: \")\n",
    "path = \"D:/\"\n",
    "# path = \"D:/강북강원본부/안심검증\"\n",
    "# path = \"C:/Users/User/Downloads/\"\n",
    "print(open_pdf(keyword, path))\n"
   ]
  },
  {
   "cell_type": "code",
   "execution_count": 91,
   "id": "4022b76e-722b-47c8-aa5a-d0d2f1962303",
   "metadata": {},
   "outputs": [
    {
     "name": "stdin",
     "output_type": "stream",
     "text": [
      "파일 키워드를 입력하세요:  로딕스(slim).pdf\n"
     ]
    },
    {
     "name": "stdout",
     "output_type": "stream",
     "text": [
      "None\n"
     ]
    }
   ],
   "source": [
    "import os\n",
    "import webbrowser\n",
    "\n",
    "def open_pdf(keyword, path):\n",
    "    # 주어진 경로와 하위 폴더에서 파일 탐색\n",
    "    for root, dirs, files in os.walk(path):\n",
    "        for file in files:\n",
    "            # 파일 이름에 키워드가 포함되어 있고 PDF 파일인 경우\n",
    "            if keyword in file and file.endswith('.pdf'):\n",
    "                # 파일의 전체 경로 생성\n",
    "                full_path = os.path.join(root, file)\n",
    "                # 파일 열기\n",
    "                webbrowser.open(full_path)\n",
    "                return f\"파일 '{full_path}'이(가) 열렸습신우에너지(주)본사 계약서.pdf니다.\"\n",
    "\n",
    "# 사용자 입력\n",
    "keyword = input(\"파일 키워드를 입력하세요: \")\n",
    "# path = \"D:/\"\n",
    "path = \"D:/강북강원본부/20240930_장재혁_사외채널 인수인계/사외채널 인수인계/3. 대리점, 파트너 정산\"\n",
    "# path = \"D:/강북강원본부/안심검증\"\n",
    "# path = \"C:/Users/User/Downloads/\"\n",
    "print(open_pdf(keyword, path))\n"
   ]
  },
  {
   "cell_type": "code",
   "execution_count": 35,
   "id": "f6c8ceff-4a2a-4bf8-8b07-8f57796b02d4",
   "metadata": {},
   "outputs": [
    {
     "name": "stdin",
     "output_type": "stream",
     "text": [
      "파일 키워드를 입력하세요:  카포상사(신규).pdf\n"
     ]
    },
    {
     "name": "stdout",
     "output_type": "stream",
     "text": [
      "파일 'D:/안심검증계약서\\카포상사(신규).pdf'이(가) 열렸습니다.\n"
     ]
    }
   ],
   "source": [
    "import os\n",
    "import webbrowser\n",
    "\n",
    "def open_pdf(keyword, path):\n",
    "    # 주어진 경로와 하위 폴더에서 파일 탐색\n",
    "    for root, dirs, files in os.walk(path):\n",
    "        for file in files:\n",
    "            # 파일 이름에 키워드가 포함되어 있고 PDF 파일인 경우\n",
    "            if keyword in file and file.endswith('.pdf'):\n",
    "                # 파일의 전체 경로 생성\n",
    "                full_path = os.path.join(root, file)\n",
    "                # 파일 열기\n",
    "                webbrowser.open(full_path)\n",
    "                return f\"파일 '{full_path}'이(가) 열렸습니다.\"\n",
    "\n",
    "# 사용자 입력\n",
    "keyword = input(\"파일 키워드를 입력하세요: \")\n",
    "path = \"D:/\"\n",
    "# path = \"D:/강북강원본부/안심검증\"\n",
    "# path = \"C:/Users/User/Downloads/\"\n",
    "print(open_pdf(keyword, path))\n"
   ]
  },
  {
   "cell_type": "code",
   "execution_count": null,
   "id": "e42909c9-5975-400b-b0cf-7e8079f73769",
   "metadata": {},
   "outputs": [],
   "source": []
  }
 ],
 "metadata": {
  "kernelspec": {
   "display_name": "Python 3 (ipykernel)",
   "language": "python",
   "name": "python3"
  },
  "language_info": {
   "codemirror_mode": {
    "name": "ipython",
    "version": 3
   },
   "file_extension": ".py",
   "mimetype": "text/x-python",
   "name": "python",
   "nbconvert_exporter": "python",
   "pygments_lexer": "ipython3",
   "version": "3.12.4"
  }
 },
 "nbformat": 4,
 "nbformat_minor": 5
}
