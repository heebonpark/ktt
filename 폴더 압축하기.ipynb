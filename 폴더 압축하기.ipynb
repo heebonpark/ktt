{
 "cells": [
  {
   "cell_type": "code",
   "execution_count": 1,
   "id": "3349c5fb-2fc5-4a14-9915-38b6abbbe7a4",
   "metadata": {},
   "outputs": [
    {
     "name": "stdout",
     "output_type": "stream",
     "text": [
      "폴더가 성공적으로 압축되었습니다: D:\\강북강원본부\\20240930_장재혁_사외채널 인수인계\\사외채널 인수인계\\2. 파트너 등록\\파트너 등록\\2025년\\의정부\\파트너 등록 승인 요청서_건승정보통신.zip\n"
     ]
    }
   ],
   "source": [
    "import os\n",
    "import shutil\n",
    "\n",
    "# 압축할 경로 지정\n",
    "folder_to_zip = r\"D:\\강북강원본부\\20240930_장재혁_사외채널 인수인계\\사외채널 인수인계\\2. 파트너 등록\\파트너 등록\\2025년\\의정부\\파트너 등록 승인 요청서_건승정보통신\"\n",
    "output_zip_path = r\"D:\\강북강원본부\\20240930_장재혁_사외채널 인수인계\\사외채널 인수인계\\2. 파트너 등록\\파트너 등록\\2025년\\의정부\\파트너 등록 승인 요청서_건승정보통신.zip\"\n",
    "\n",
    "# 폴더를 압축\n",
    "shutil.make_archive(output_zip_path.replace('.zip', ''), 'zip', folder_to_zip)\n",
    "\n",
    "print(f\"폴더가 성공적으로 압축되었습니다: {output_zip_path}\")\n"
   ]
  },
  {
   "cell_type": "code",
   "execution_count": 9,
   "id": "4d914c4a-a6e2-41cf-bfbf-15f1229f1ab2",
   "metadata": {},
   "outputs": [
    {
     "name": "stdout",
     "output_type": "stream",
     "text": [
      "폴더가 성공적으로 압축되었습니다: D:\\강북강원본부\\20240930_장재혁_사외채널 인수인계\\사외채널 인수인계\\3. 대리점, 파트너 정산\\파트너 수수료 정산\\25년 1월\\파트너2차.zip\n"
     ]
    }
   ],
   "source": [
    "import os\n",
    "import shutil\n",
    "\n",
    "# 압축할 경로 지정\n",
    "folder_to_zip = r\"D:\\강북강원본부\\20240930_장재혁_사외채널 인수인계\\사외채널 인수인계\\3. 대리점, 파트너 정산\\파트너 수수료 정산\\25년 1월\\파트너2차\"\n",
    "output_zip_path = r\"D:\\강북강원본부\\20240930_장재혁_사외채널 인수인계\\사외채널 인수인계\\3. 대리점, 파트너 정산\\파트너 수수료 정산\\25년 1월\\파트너2차.zip\"\n",
    "\n",
    "# 폴더를 압축\n",
    "shutil.make_archive(output_zip_path.replace('.zip', ''), 'zip', folder_to_zip)\n",
    "\n",
    "print(f\"폴더가 성공적으로 압축되었습니다: {output_zip_path}\")"
   ]
  },
  {
   "cell_type": "code",
   "execution_count": 1,
   "id": "b37baefa-5c86-49ba-9834-c7eabffffe51",
   "metadata": {},
   "outputs": [
    {
     "name": "stdout",
     "output_type": "stream",
     "text": [
      "폴더가 성공적으로 압축되었습니다: D:\\강북강원본부\\20240930_장재혁_사외채널 인수인계\\사외채널 인수인계\\3. 대리점, 파트너 정산\\대리점 수수료 정산\\25년 1월\\대리점_계산서.zip\n"
     ]
    }
   ],
   "source": [
    "import os\n",
    "import shutil\n",
    "\n",
    "# 압축할 경로 지정\n",
    "folder_to_zip = r\"D:\\강북강원본부\\20240930_장재혁_사외채널 인수인계\\사외채널 인수인계\\3. 대리점, 파트너 정산\\대리점 수수료 정산\\25년 1월\\계산서\"\n",
    "output_zip_path = r\"D:\\강북강원본부\\20240930_장재혁_사외채널 인수인계\\사외채널 인수인계\\3. 대리점, 파트너 정산\\대리점 수수료 정산\\25년 1월\\대리점_계산서.zip\"\n",
    "\n",
    "# 폴더를 압축\n",
    "shutil.make_archive(output_zip_path.replace('.zip', ''), 'zip', folder_to_zip)\n",
    "\n",
    "print(f\"폴더가 성공적으로 압축되었습니다: {output_zip_path}\")"
   ]
  },
  {
   "cell_type": "code",
   "execution_count": null,
   "id": "6dc648f6-9909-411a-b81e-bb5f1d3034be",
   "metadata": {},
   "outputs": [],
   "source": []
  },
  {
   "cell_type": "code",
   "execution_count": null,
   "id": "fe029a57-297c-4eaa-9fa8-2209f2f86881",
   "metadata": {},
   "outputs": [],
   "source": []
  }
 ],
 "metadata": {
  "kernelspec": {
   "display_name": "Python 3 (ipykernel)",
   "language": "python",
   "name": "python3"
  },
  "language_info": {
   "codemirror_mode": {
    "name": "ipython",
    "version": 3
   },
   "file_extension": ".py",
   "mimetype": "text/x-python",
   "name": "python",
   "nbconvert_exporter": "python",
   "pygments_lexer": "ipython3",
   "version": "3.12.4"
  }
 },
 "nbformat": 4,
 "nbformat_minor": 5
}
