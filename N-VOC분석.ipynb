{
 "cells": [
  {
   "cell_type": "code",
   "execution_count": 1,
   "id": "bb220d31-cd64-4077-9538-46657fba3515",
   "metadata": {},
   "outputs": [
    {
     "name": "stdout",
     "output_type": "stream",
     "text": [
      "Defaulting to user installation because normal site-packages is not writeable\n",
      "Requirement already satisfied: pywin32 in c:\\programdata\\anaconda3\\lib\\site-packages (305.1)\n"
     ]
    }
   ],
   "source": [
    "!pip install pywin32"
   ]
  },
  {
   "cell_type": "code",
   "execution_count": 5,
   "id": "d0d68d16-41e1-446e-a26c-8ff76f68bfcc",
   "metadata": {},
   "outputs": [
    {
     "ename": "com_error",
     "evalue": "(-2146827864, 'OLE error 0x800a01a8', None, None)",
     "output_type": "error",
     "traceback": [
      "\u001b[1;31m---------------------------------------------------------------------------\u001b[0m",
      "\u001b[1;31mcom_error\u001b[0m                                 Traceback (most recent call last)",
      "Cell \u001b[1;32mIn[5], line 1\u001b[0m\n\u001b[1;32m----> 1\u001b[0m ws\u001b[38;5;241m.\u001b[39mUnprotect()\n",
      "File \u001b[1;32m<COMObject <unknown>>:2\u001b[0m, in \u001b[0;36mUnprotect\u001b[1;34m(self, Password)\u001b[0m\n",
      "\u001b[1;31mcom_error\u001b[0m: (-2146827864, 'OLE error 0x800a01a8', None, None)"
     ]
    }
   ],
   "source": [
    "ws.Unprotect()  # 시트 보호 해제"
   ]
  },
  {
   "cell_type": "code",
   "execution_count": null,
   "id": "2a2489e9-c2d8-4057-a83a-3feebdac0dbc",
   "metadata": {},
   "outputs": [],
   "source": []
  },
  {
   "cell_type": "code",
   "execution_count": 7,
   "id": "8553e0fb-9eb4-47da-92a1-54ba9f8a985b",
   "metadata": {},
   "outputs": [
    {
     "ename": "com_error",
     "evalue": "(-2147418111, '피호출자가 호출을 거부했습니다.', None, None)",
     "output_type": "error",
     "traceback": [
      "\u001b[1;31m---------------------------------------------------------------------------\u001b[0m",
      "\u001b[1;31mcom_error\u001b[0m                                 Traceback (most recent call last)",
      "Cell \u001b[1;32mIn[7], line 52\u001b[0m\n\u001b[0;32m     50\u001b[0m ws\u001b[38;5;241m.\u001b[39mCells(i, \u001b[38;5;241m26\u001b[39m)\u001b[38;5;241m.\u001b[39mValue \u001b[38;5;241m=\u001b[39m info[\u001b[38;5;124m'\u001b[39m\u001b[38;5;124mN1\u001b[39m\u001b[38;5;124m'\u001b[39m]       \u001b[38;5;66;03m# Z\u001b[39;00m\n\u001b[0;32m     51\u001b[0m ws\u001b[38;5;241m.\u001b[39mCells(i, \u001b[38;5;241m27\u001b[39m)\u001b[38;5;241m.\u001b[39mValue \u001b[38;5;241m=\u001b[39m info[\u001b[38;5;124m'\u001b[39m\u001b[38;5;124mN2\u001b[39m\u001b[38;5;124m'\u001b[39m]       \u001b[38;5;66;03m# AA\u001b[39;00m\n\u001b[1;32m---> 52\u001b[0m ws\u001b[38;5;241m.\u001b[39mCells(i, \u001b[38;5;241m28\u001b[39m)\u001b[38;5;241m.\u001b[39mValue \u001b[38;5;241m=\u001b[39m info[\u001b[38;5;124m'\u001b[39m\u001b[38;5;124m일자\u001b[39m\u001b[38;5;124m'\u001b[39m]     \u001b[38;5;66;03m# AB\u001b[39;00m\n\u001b[0;32m     53\u001b[0m ws\u001b[38;5;241m.\u001b[39mCells(i, \u001b[38;5;241m29\u001b[39m)\u001b[38;5;241m.\u001b[39mValue \u001b[38;5;241m=\u001b[39m info[\u001b[38;5;124m'\u001b[39m\u001b[38;5;124m할인율\u001b[39m\u001b[38;5;124m'\u001b[39m]   \u001b[38;5;66;03m# AC\u001b[39;00m\n\u001b[0;32m     54\u001b[0m ws\u001b[38;5;241m.\u001b[39mCells(i, \u001b[38;5;241m30\u001b[39m)\u001b[38;5;241m.\u001b[39mValue \u001b[38;5;241m=\u001b[39m info[\u001b[38;5;124m'\u001b[39m\u001b[38;5;124m주차수\u001b[39m\u001b[38;5;124m'\u001b[39m]   \u001b[38;5;66;03m# AD\u001b[39;00m\n",
      "File \u001b[1;32mC:\\ProgramData\\anaconda3\\Lib\\site-packages\\win32com\\client\\dynamic.py:226\u001b[0m, in \u001b[0;36mCDispatch.__call__\u001b[1;34m(self, *args)\u001b[0m\n\u001b[0;32m    223\u001b[0m \u001b[38;5;28;01mif\u001b[39;00m invkind \u001b[38;5;129;01mis\u001b[39;00m \u001b[38;5;129;01mnot\u001b[39;00m \u001b[38;5;28;01mNone\u001b[39;00m:\n\u001b[0;32m    224\u001b[0m     allArgs \u001b[38;5;241m=\u001b[39m (dispid, LCID, invkind, \u001b[38;5;241m1\u001b[39m) \u001b[38;5;241m+\u001b[39m args\n\u001b[0;32m    225\u001b[0m     \u001b[38;5;28;01mreturn\u001b[39;00m \u001b[38;5;28mself\u001b[39m\u001b[38;5;241m.\u001b[39m_get_good_object_(\n\u001b[1;32m--> 226\u001b[0m         \u001b[38;5;28mself\u001b[39m\u001b[38;5;241m.\u001b[39m_oleobj_\u001b[38;5;241m.\u001b[39mInvoke(\u001b[38;5;241m*\u001b[39mallArgs), \u001b[38;5;28mself\u001b[39m\u001b[38;5;241m.\u001b[39m_olerepr_\u001b[38;5;241m.\u001b[39mdefaultDispatchName, \u001b[38;5;28;01mNone\u001b[39;00m\n\u001b[0;32m    227\u001b[0m     )\n\u001b[0;32m    228\u001b[0m \u001b[38;5;28;01mraise\u001b[39;00m \u001b[38;5;167;01mTypeError\u001b[39;00m(\u001b[38;5;124m\"\u001b[39m\u001b[38;5;124mThis dispatch object does not define a default method\u001b[39m\u001b[38;5;124m\"\u001b[39m)\n",
      "\u001b[1;31mcom_error\u001b[0m: (-2147418111, '피호출자가 호출을 거부했습니다.', None, None)"
     ]
    }
   ],
   "source": [
    "# ✅ 라이브러리 불러오기\n",
    "import win32com.client as win32\n",
    "\n",
    "# ✅ Excel 열려 있는 인스턴스에 연결\n",
    "excel = win32.GetActiveObject(\"Excel.Application\")\n",
    "wb = excel.ActiveWorkbook\n",
    "ws = wb.ActiveSheet\n",
    "\n",
    "# ✅ 데이터 범위 파악\n",
    "used_range = ws.UsedRange\n",
    "row_count = used_range.Rows.Count\n",
    "\n",
    "# ✅ 셀에서 LV1 ~ 주차수 정보 추출 함수\n",
    "def extract_column_values(row_index):\n",
    "    result = {\n",
    "        'LV1': None, 'LV2': None, 'LV3': None,\n",
    "        'N1': None, 'N2': None,\n",
    "        '일자': None, '할인율': None, '주차수': None\n",
    "    }\n",
    "\n",
    "    for col in range(7, 18):  # G(7) ~ Q(17)\n",
    "        val = ws.Cells(row_index, col).Value\n",
    "        if val is None:\n",
    "            continue\n",
    "        val_str = str(val)\n",
    "        if 'LV1' in val_str:\n",
    "            result['LV1'] = val_str\n",
    "        elif 'LV2' in val_str:\n",
    "            result['LV2'] = val_str\n",
    "        elif 'LV3' in val_str:\n",
    "            result['LV3'] = val_str\n",
    "        elif 'N1' in val_str:\n",
    "            result['N1'] = val_str\n",
    "        elif 'N2' in val_str:\n",
    "            result['N2'] = val_str\n",
    "        elif '일' in val_str and any(k in val_str for k in ['월', '일']):\n",
    "            result['일자'] = val_str\n",
    "        elif '할인' in val_str or '%' in val_str:\n",
    "            result['할인율'] = val_str\n",
    "        elif '주차' in val_str or '주' in val_str:\n",
    "            result['주차수'] = val_str\n",
    "    return result\n",
    "\n",
    "# ✅ 결과 적용: W~AD열\n",
    "for i in range(2, row_count + 1):  # 1행은 헤더로 제외\n",
    "    info = extract_column_values(i)\n",
    "    ws.Cells(i, 23).Value = info['LV1']      # W\n",
    "    ws.Cells(i, 24).Value = info['LV2']      # X\n",
    "    ws.Cells(i, 25).Value = info['LV3']      # Y\n",
    "    ws.Cells(i, 26).Value = info['N1']       # Z\n",
    "    ws.Cells(i, 27).Value = info['N2']       # AA\n",
    "    ws.Cells(i, 28).Value = info['일자']     # AB\n",
    "    ws.Cells(i, 29).Value = info['할인율']   # AC\n",
    "    ws.Cells(i, 30).Value = info['주차수']   # AD\n",
    "\n",
    "print(\"✅ W~AD열 데이터 자동 정리 완료!\")"
   ]
  },
  {
   "cell_type": "code",
   "execution_count": null,
   "id": "92ef5dbc-ac05-4288-839b-aa5c3bfcc8d8",
   "metadata": {},
   "outputs": [],
   "source": []
  },
  {
   "cell_type": "code",
   "execution_count": null,
   "id": "c0fe5405-67c5-4a77-915b-b4863a519cc5",
   "metadata": {},
   "outputs": [],
   "source": []
  },
  {
   "cell_type": "code",
   "execution_count": null,
   "id": "08c91968-80ba-4db0-a75e-104d12b9b48b",
   "metadata": {},
   "outputs": [],
   "source": []
  }
 ],
 "metadata": {
  "kernelspec": {
   "display_name": "Python 3 (ipykernel)",
   "language": "python",
   "name": "python3"
  },
  "language_info": {
   "codemirror_mode": {
    "name": "ipython",
    "version": 3
   },
   "file_extension": ".py",
   "mimetype": "text/x-python",
   "name": "python",
   "nbconvert_exporter": "python",
   "pygments_lexer": "ipython3",
   "version": "3.12.4"
  }
 },
 "nbformat": 4,
 "nbformat_minor": 5
}
