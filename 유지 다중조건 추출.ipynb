{
 "cells": [
  {
   "cell_type": "code",
   "execution_count": 4,
   "id": "2f78112b-fb39-45e2-be69-024fc9db2976",
   "metadata": {},
   "outputs": [
    {
     "name": "stdout",
     "output_type": "stream",
     "text": [
      "Note: you may need to restart the kernel to use updated packages.\n"
     ]
    },
    {
     "name": "stderr",
     "output_type": "stream",
     "text": [
      "WARNING: Ignoring invalid distribution ~andas (C:\\Users\\User\\AppData\\Roaming\\Python\\Python311\\site-packages)\n",
      "WARNING: Ignoring invalid distribution ~andas (C:\\Users\\User\\AppData\\Roaming\\Python\\Python311\\site-packages)\n",
      "WARNING: Skipping pandas as it is not installed.\n"
     ]
    }
   ],
   "source": [
    "pip uninstall pandas"
   ]
  },
  {
   "cell_type": "code",
   "execution_count": 5,
   "id": "abbf59f1-e143-4a75-a70a-4162b46a2191",
   "metadata": {},
   "outputs": [
    {
     "name": "stdout",
     "output_type": "stream",
     "text": [
      "Looking in indexes: https://pypi.org/simple/Note: you may need to restart the kernel to use updated packages.\n",
      "\n",
      "Collecting pandas\n",
      "  Using cached pandas-2.2.2-cp311-cp311-win_amd64.whl.metadata (19 kB)\n",
      "Requirement already satisfied: numpy>=1.23.2 in c:\\users\\user\\anaconda3\\lib\\site-packages (from pandas) (1.24.3)\n",
      "Requirement already satisfied: python-dateutil>=2.8.2 in c:\\users\\user\\anaconda3\\lib\\site-packages (from pandas) (2.8.2)\n",
      "Requirement already satisfied: pytz>=2020.1 in c:\\users\\user\\anaconda3\\lib\\site-packages (from pandas) (2024.1)\n",
      "Requirement already satisfied: tzdata>=2022.7 in c:\\users\\user\\anaconda3\\lib\\site-packages (from pandas) (2023.3)\n",
      "Requirement already satisfied: six>=1.5 in c:\\users\\user\\anaconda3\\lib\\site-packages (from python-dateutil>=2.8.2->pandas) (1.16.0)\n",
      "Using cached pandas-2.2.2-cp311-cp311-win_amd64.whl (11.6 MB)\n",
      "Installing collected packages: pandas\n",
      "Successfully installed pandas-2.1.4\n"
     ]
    },
    {
     "name": "stderr",
     "output_type": "stream",
     "text": [
      "WARNING: Ignoring invalid distribution ~andas (C:\\Users\\User\\AppData\\Roaming\\Python\\Python311\\site-packages)\n",
      "WARNING: Ignoring invalid distribution ~andas (C:\\Users\\User\\AppData\\Roaming\\Python\\Python311\\site-packages)\n",
      "WARNING: Ignoring invalid distribution ~andas (C:\\Users\\User\\AppData\\Roaming\\Python\\Python311\\site-packages)\n",
      "ERROR: pip's dependency resolver does not currently take into account all the packages that are installed. This behaviour is the source of the following dependency conflicts.\n",
      "pandas-profiling 3.2.0 requires visions[type_image_path]==0.7.4, but you have visions 0.7.6 which is incompatible.\n",
      "ydata-profiling 4.7.0 requires scipy<1.12,>=1.4.1, but you have scipy 1.12.0 which is incompatible.\n",
      "WARNING: Ignoring invalid distribution ~andas (C:\\Users\\User\\AppData\\Roaming\\Python\\Python311\\site-packages)\n",
      "WARNING: Ignoring invalid distribution ~andas (C:\\Users\\User\\AppData\\Roaming\\Python\\Python311\\site-packages)\n",
      "WARNING: Ignoring invalid distribution ~andas (C:\\Users\\User\\AppData\\Roaming\\Python\\Python311\\site-packages)\n"
     ]
    }
   ],
   "source": [
    "pip install pandas"
   ]
  },
  {
   "cell_type": "code",
   "execution_count": 15,
   "id": "9534f27e-6b7d-4b62-a8ed-c59481f64494",
   "metadata": {},
   "outputs": [],
   "source": [
    "# 새로운 가상 환경 생성 (예: env 이름으로)\n",
    "!python -m venv env"
   ]
  },
  {
   "cell_type": "code",
   "execution_count": 17,
   "id": "ff700663-f053-4b04-a42d-85d6dc7d750b",
   "metadata": {},
   "outputs": [
    {
     "ename": "SyntaxError",
     "evalue": "invalid syntax (978739531.py, line 3)",
     "output_type": "error",
     "traceback": [
      "\u001b[1;36m  Cell \u001b[1;32mIn[17], line 3\u001b[1;36m\u001b[0m\n\u001b[1;33m    .\\env\\Scripts\\activate\u001b[0m\n\u001b[1;37m    ^\u001b[0m\n\u001b[1;31mSyntaxError\u001b[0m\u001b[1;31m:\u001b[0m invalid syntax\n"
     ]
    }
   ],
   "source": [
    "# 가상 환경 활성화\n",
    "# Windows\n",
    ".\\env\\Scripts\\activate"
   ]
  },
  {
   "cell_type": "code",
   "execution_count": 18,
   "id": "71751997-dd1b-4b1b-a9d3-ddad940e69fd",
   "metadata": {},
   "outputs": [
    {
     "name": "stdout",
     "output_type": "stream",
     "text": [
      "^C\n",
      "Looking in indexes: https://pypi.org/simple/\n",
      "Collecting pandas\n",
      "  Using cached pandas-2.2.2-cp311-cp311-win_amd64.whl.metadata (19 kB)\n",
      "Requirement already satisfied: numpy>=1.23.2 in c:\\users\\user\\anaconda3\\lib\\site-packages (from pandas) (1.24.3)\n",
      "Requirement already satisfied: python-dateutil>=2.8.2 in c:\\users\\user\\anaconda3\\lib\\site-packages (from pandas) (2.8.2)\n",
      "Requirement already satisfied: pytz>=2020.1 in c:\\users\\user\\anaconda3\\lib\\site-packages (from pandas) (2024.1)\n",
      "Requirement already satisfied: tzdata>=2022.7 in c:\\users\\user\\anaconda3\\lib\\site-packages (from pandas) (2023.3)\n",
      "Requirement already satisfied: six>=1.5 in c:\\users\\user\\anaconda3\\lib\\site-packages (from python-dateutil>=2.8.2->pandas) (1.16.0)\n",
      "Using cached pandas-2.2.2-cp311-cp311-win_amd64.whl (11.6 MB)\n",
      "Installing collected packages: pandas\n",
      "Successfully installed pandas-2.1.4\n"
     ]
    },
    {
     "name": "stderr",
     "output_type": "stream",
     "text": [
      "WARNING: Ignoring invalid distribution ~andas (C:\\Users\\User\\AppData\\Roaming\\Python\\Python311\\site-packages)\n",
      "WARNING: Ignoring invalid distribution ~andas (C:\\Users\\User\\AppData\\Roaming\\Python\\Python311\\site-packages)\n",
      "WARNING: Ignoring invalid distribution ~andas (C:\\Users\\User\\AppData\\Roaming\\Python\\Python311\\site-packages)\n",
      "ERROR: pip's dependency resolver does not currently take into account all the packages that are installed. This behaviour is the source of the following dependency conflicts.\n",
      "pandas-profiling 3.2.0 requires visions[type_image_path]==0.7.4, but you have visions 0.7.6 which is incompatible.\n",
      "ydata-profiling 4.7.0 requires scipy<1.12,>=1.4.1, but you have scipy 1.12.0 which is incompatible.\n",
      "WARNING: Ignoring invalid distribution ~andas (C:\\Users\\User\\AppData\\Roaming\\Python\\Python311\\site-packages)\n",
      "WARNING: Ignoring invalid distribution ~andas (C:\\Users\\User\\AppData\\Roaming\\Python\\Python311\\site-packages)\n",
      "WARNING: Ignoring invalid distribution ~andas (C:\\Users\\User\\AppData\\Roaming\\Python\\Python311\\site-packages)\n"
     ]
    }
   ],
   "source": [
    "# Pandas 설치\n",
    "pip install pandas"
   ]
  },
  {
   "cell_type": "code",
   "execution_count": 19,
   "id": "bf91bdbb-55f4-4444-a5df-46f918fe75ed",
   "metadata": {},
   "outputs": [
    {
     "name": "stdout",
     "output_type": "stream",
     "text": [
      "^C\n",
      "Note: you may need to restart the kernel to use updated packages.\n"
     ]
    }
   ],
   "source": [
    "pip install pandas --upgrade"
   ]
  },
  {
   "cell_type": "code",
   "execution_count": null,
   "id": "96fa146c-650c-472f-b386-a7d25087da3a",
   "metadata": {},
   "outputs": [],
   "source": [
    "# Pandas 소스 코드 클론\n",
    "git clone https://github.com/pandas-dev/pandas.git\n",
    "cd pandas\n",
    "\n",
    "# C 확장 빌드\n",
    "python setup.py build_ext --inplace\n",
    "\n",
    "# Pandas 설치\n",
    "pip install ."
   ]
  },
  {
   "cell_type": "code",
   "execution_count": 22,
   "id": "857a0939-0bdf-459c-a21b-c6c331fe967d",
   "metadata": {},
   "outputs": [
    {
     "name": "stderr",
     "output_type": "stream",
     "text": [
      "WARNING: Ignoring invalid distribution ~andas (C:\\Users\\User\\AppData\\Roaming\\Python\\Python311\\site-packages)\n",
      "WARNING: Ignoring invalid distribution ~andas (C:\\Users\\User\\AppData\\Roaming\\Python\\Python311\\site-packages)\n",
      "WARNING: Ignoring invalid distribution ~andas (C:\\Users\\User\\AppData\\Roaming\\Python\\Python311\\site-packages)\n",
      "WARNING: Ignoring invalid distribution ~andas (C:\\Users\\User\\AppData\\Roaming\\Python\\Python311\\site-packages)\n",
      "WARNING: Ignoring invalid distribution ~andas (C:\\Users\\User\\AppData\\Roaming\\Python\\Python311\\site-packages)\n",
      "WARNING: Ignoring invalid distribution ~andas (C:\\Users\\User\\AppData\\Roaming\\Python\\Python311\\site-packages)\n"
     ]
    },
    {
     "name": "stdout",
     "output_type": "stream",
     "text": [
      "Looking in indexes: https://pypi.org/simple/\n",
      "Requirement already satisfied: notebook in c:\\users\\user\\anaconda3\\lib\\site-packages (7.0.8)\n",
      "Requirement already satisfied: jupyter-server<3,>=2.4.0 in c:\\users\\user\\anaconda3\\lib\\site-packages (from notebook) (2.10.0)\n",
      "Requirement already satisfied: jupyterlab-server<3,>=2.22.1 in c:\\users\\user\\anaconda3\\lib\\site-packages (from notebook) (2.25.1)\n",
      "Requirement already satisfied: jupyterlab<4.1,>=4.0.2 in c:\\users\\user\\anaconda3\\lib\\site-packages (from notebook) (4.0.11)\n",
      "Requirement already satisfied: notebook-shim<0.3,>=0.2 in c:\\users\\user\\anaconda3\\lib\\site-packages (from notebook) (0.2.3)\n",
      "Requirement already satisfied: tornado>=6.2.0 in c:\\users\\user\\anaconda3\\lib\\site-packages (from notebook) (6.3.3)\n",
      "Requirement already satisfied: anyio>=3.1.0 in c:\\users\\user\\anaconda3\\lib\\site-packages (from jupyter-server<3,>=2.4.0->notebook) (4.2.0)\n",
      "Requirement already satisfied: argon2-cffi in c:\\users\\user\\anaconda3\\lib\\site-packages (from jupyter-server<3,>=2.4.0->notebook) (21.3.0)\n",
      "Requirement already satisfied: jinja2 in c:\\users\\user\\anaconda3\\lib\\site-packages (from jupyter-server<3,>=2.4.0->notebook) (3.1.3)\n",
      "Requirement already satisfied: jupyter-client>=7.4.4 in c:\\users\\user\\anaconda3\\lib\\site-packages (from jupyter-server<3,>=2.4.0->notebook) (8.6.0)\n",
      "Requirement already satisfied: jupyter-core!=5.0.*,>=4.12 in c:\\users\\user\\anaconda3\\lib\\site-packages (from jupyter-server<3,>=2.4.0->notebook) (5.5.0)\n",
      "Requirement already satisfied: jupyter-events>=0.6.0 in c:\\users\\user\\anaconda3\\lib\\site-packages (from jupyter-server<3,>=2.4.0->notebook) (0.8.0)\n",
      "Requirement already satisfied: jupyter-server-terminals in c:\\users\\user\\anaconda3\\lib\\site-packages (from jupyter-server<3,>=2.4.0->notebook) (0.4.4)\n",
      "Requirement already satisfied: nbconvert>=6.4.4 in c:\\users\\user\\anaconda3\\lib\\site-packages (from jupyter-server<3,>=2.4.0->notebook) (7.10.0)\n",
      "Requirement already satisfied: nbformat>=5.3.0 in c:\\users\\user\\anaconda3\\lib\\site-packages (from jupyter-server<3,>=2.4.0->notebook) (5.9.2)\n",
      "Requirement already satisfied: overrides in c:\\users\\user\\anaconda3\\lib\\site-packages (from jupyter-server<3,>=2.4.0->notebook) (7.4.0)\n",
      "Requirement already satisfied: packaging in c:\\users\\user\\anaconda3\\lib\\site-packages (from jupyter-server<3,>=2.4.0->notebook) (23.2)\n",
      "Requirement already satisfied: prometheus-client in c:\\users\\user\\anaconda3\\lib\\site-packages (from jupyter-server<3,>=2.4.0->notebook) (0.14.1)\n",
      "Requirement already satisfied: pywinpty in c:\\users\\user\\anaconda3\\lib\\site-packages (from jupyter-server<3,>=2.4.0->notebook) (2.0.10)\n",
      "Requirement already satisfied: pyzmq>=24 in c:\\users\\user\\anaconda3\\lib\\site-packages (from jupyter-server<3,>=2.4.0->notebook) (25.1.2)\n",
      "Requirement already satisfied: send2trash>=1.8.2 in c:\\users\\user\\anaconda3\\lib\\site-packages (from jupyter-server<3,>=2.4.0->notebook) (1.8.2)\n",
      "Requirement already satisfied: terminado>=0.8.3 in c:\\users\\user\\anaconda3\\lib\\site-packages (from jupyter-server<3,>=2.4.0->notebook) (0.17.1)\n",
      "Requirement already satisfied: traitlets>=5.6.0 in c:\\users\\user\\anaconda3\\lib\\site-packages (from jupyter-server<3,>=2.4.0->notebook) (5.7.1)\n",
      "Requirement already satisfied: websocket-client in c:\\users\\user\\anaconda3\\lib\\site-packages (from jupyter-server<3,>=2.4.0->notebook) (0.58.0)\n",
      "Requirement already satisfied: async-lru>=1.0.0 in c:\\users\\user\\anaconda3\\lib\\site-packages (from jupyterlab<4.1,>=4.0.2->notebook) (2.0.4)\n",
      "Requirement already satisfied: ipykernel in c:\\users\\user\\anaconda3\\lib\\site-packages (from jupyterlab<4.1,>=4.0.2->notebook) (6.28.0)\n",
      "Requirement already satisfied: jupyter-lsp>=2.0.0 in c:\\users\\user\\anaconda3\\lib\\site-packages (from jupyterlab<4.1,>=4.0.2->notebook) (2.2.0)\n",
      "Requirement already satisfied: babel>=2.10 in c:\\users\\user\\anaconda3\\lib\\site-packages (from jupyterlab-server<3,>=2.22.1->notebook) (2.11.0)\n",
      "Requirement already satisfied: json5>=0.9.0 in c:\\users\\user\\anaconda3\\lib\\site-packages (from jupyterlab-server<3,>=2.22.1->notebook) (0.9.6)\n",
      "Requirement already satisfied: jsonschema>=4.18.0 in c:\\users\\user\\anaconda3\\lib\\site-packages (from jupyterlab-server<3,>=2.22.1->notebook) (4.19.2)\n",
      "Requirement already satisfied: requests>=2.31 in c:\\users\\user\\anaconda3\\lib\\site-packages (from jupyterlab-server<3,>=2.22.1->notebook) (2.31.0)\n",
      "Requirement already satisfied: idna>=2.8 in c:\\users\\user\\anaconda3\\lib\\site-packages (from anyio>=3.1.0->jupyter-server<3,>=2.4.0->notebook) (3.4)\n",
      "Requirement already satisfied: sniffio>=1.1 in c:\\users\\user\\anaconda3\\lib\\site-packages (from anyio>=3.1.0->jupyter-server<3,>=2.4.0->notebook) (1.3.0)\n",
      "Requirement already satisfied: pytz>=2015.7 in c:\\users\\user\\anaconda3\\lib\\site-packages (from babel>=2.10->jupyterlab-server<3,>=2.22.1->notebook) (2024.1)\n",
      "Requirement already satisfied: MarkupSafe>=2.0 in c:\\users\\user\\anaconda3\\lib\\site-packages (from jinja2->jupyter-server<3,>=2.4.0->notebook) (2.1.3)\n",
      "Requirement already satisfied: attrs>=22.2.0 in c:\\users\\user\\anaconda3\\lib\\site-packages (from jsonschema>=4.18.0->jupyterlab-server<3,>=2.22.1->notebook) (23.1.0)\n",
      "Requirement already satisfied: jsonschema-specifications>=2023.03.6 in c:\\users\\user\\anaconda3\\lib\\site-packages (from jsonschema>=4.18.0->jupyterlab-server<3,>=2.22.1->notebook) (2023.7.1)\n",
      "Requirement already satisfied: referencing>=0.28.4 in c:\\users\\user\\anaconda3\\lib\\site-packages (from jsonschema>=4.18.0->jupyterlab-server<3,>=2.22.1->notebook) (0.30.2)\n",
      "Requirement already satisfied: rpds-py>=0.7.1 in c:\\users\\user\\anaconda3\\lib\\site-packages (from jsonschema>=4.18.0->jupyterlab-server<3,>=2.22.1->notebook) (0.10.6)\n",
      "Requirement already satisfied: python-dateutil>=2.8.2 in c:\\users\\user\\anaconda3\\lib\\site-packages (from jupyter-client>=7.4.4->jupyter-server<3,>=2.4.0->notebook) (2.8.2)\n",
      "Requirement already satisfied: platformdirs>=2.5 in c:\\users\\user\\anaconda3\\lib\\site-packages (from jupyter-core!=5.0.*,>=4.12->jupyter-server<3,>=2.4.0->notebook) (3.10.0)\n",
      "Requirement already satisfied: pywin32>=300 in c:\\users\\user\\anaconda3\\lib\\site-packages (from jupyter-core!=5.0.*,>=4.12->jupyter-server<3,>=2.4.0->notebook) (305.1)\n",
      "Requirement already satisfied: python-json-logger>=2.0.4 in c:\\users\\user\\anaconda3\\lib\\site-packages (from jupyter-events>=0.6.0->jupyter-server<3,>=2.4.0->notebook) (2.0.7)\n",
      "Requirement already satisfied: pyyaml>=5.3 in c:\\users\\user\\anaconda3\\lib\\site-packages (from jupyter-events>=0.6.0->jupyter-server<3,>=2.4.0->notebook) (6.0.1)\n",
      "Requirement already satisfied: rfc3339-validator in c:\\users\\user\\anaconda3\\lib\\site-packages (from jupyter-events>=0.6.0->jupyter-server<3,>=2.4.0->notebook) (0.1.4)\n",
      "Requirement already satisfied: rfc3986-validator>=0.1.1 in c:\\users\\user\\anaconda3\\lib\\site-packages (from jupyter-events>=0.6.0->jupyter-server<3,>=2.4.0->notebook) (0.1.1)\n",
      "Requirement already satisfied: beautifulsoup4 in c:\\users\\user\\anaconda3\\lib\\site-packages (from nbconvert>=6.4.4->jupyter-server<3,>=2.4.0->notebook) (4.12.2)\n",
      "Requirement already satisfied: bleach!=5.0.0 in c:\\users\\user\\anaconda3\\lib\\site-packages (from nbconvert>=6.4.4->jupyter-server<3,>=2.4.0->notebook) (4.1.0)\n",
      "Requirement already satisfied: defusedxml in c:\\users\\user\\anaconda3\\lib\\site-packages (from nbconvert>=6.4.4->jupyter-server<3,>=2.4.0->notebook) (0.7.1)\n",
      "Requirement already satisfied: jupyterlab-pygments in c:\\users\\user\\anaconda3\\lib\\site-packages (from nbconvert>=6.4.4->jupyter-server<3,>=2.4.0->notebook) (0.1.2)\n",
      "Requirement already satisfied: mistune<4,>=2.0.3 in c:\\users\\user\\anaconda3\\lib\\site-packages (from nbconvert>=6.4.4->jupyter-server<3,>=2.4.0->notebook) (2.0.4)\n",
      "Requirement already satisfied: nbclient>=0.5.0 in c:\\users\\user\\anaconda3\\lib\\site-packages (from nbconvert>=6.4.4->jupyter-server<3,>=2.4.0->notebook) (0.8.0)\n",
      "Requirement already satisfied: pandocfilters>=1.4.1 in c:\\users\\user\\anaconda3\\lib\\site-packages (from nbconvert>=6.4.4->jupyter-server<3,>=2.4.0->notebook) (1.5.0)\n",
      "Requirement already satisfied: pygments>=2.4.1 in c:\\users\\user\\anaconda3\\lib\\site-packages (from nbconvert>=6.4.4->jupyter-server<3,>=2.4.0->notebook) (2.15.1)\n",
      "Requirement already satisfied: tinycss2 in c:\\users\\user\\anaconda3\\lib\\site-packages (from nbconvert>=6.4.4->jupyter-server<3,>=2.4.0->notebook) (1.2.1)\n",
      "Requirement already satisfied: fastjsonschema in c:\\users\\user\\anaconda3\\lib\\site-packages (from nbformat>=5.3.0->jupyter-server<3,>=2.4.0->notebook) (2.16.2)\n",
      "Requirement already satisfied: charset-normalizer<4,>=2 in c:\\users\\user\\anaconda3\\lib\\site-packages (from requests>=2.31->jupyterlab-server<3,>=2.22.1->notebook) (2.0.4)\n",
      "Requirement already satisfied: urllib3<3,>=1.21.1 in c:\\users\\user\\anaconda3\\lib\\site-packages (from requests>=2.31->jupyterlab-server<3,>=2.22.1->notebook) (2.0.7)\n",
      "Requirement already satisfied: certifi>=2017.4.17 in c:\\users\\user\\anaconda3\\lib\\site-packages (from requests>=2.31->jupyterlab-server<3,>=2.22.1->notebook) (2024.2.2)\n",
      "Requirement already satisfied: argon2-cffi-bindings in c:\\users\\user\\anaconda3\\lib\\site-packages (from argon2-cffi->jupyter-server<3,>=2.4.0->notebook) (21.2.0)\n",
      "Requirement already satisfied: comm>=0.1.1 in c:\\users\\user\\anaconda3\\lib\\site-packages (from ipykernel->jupyterlab<4.1,>=4.0.2->notebook) (0.2.1)\n",
      "Requirement already satisfied: debugpy>=1.6.5 in c:\\users\\user\\anaconda3\\lib\\site-packages (from ipykernel->jupyterlab<4.1,>=4.0.2->notebook) (1.6.7)\n",
      "Requirement already satisfied: ipython>=7.23.1 in c:\\users\\user\\anaconda3\\lib\\site-packages (from ipykernel->jupyterlab<4.1,>=4.0.2->notebook) (8.20.0)\n",
      "Requirement already satisfied: matplotlib-inline>=0.1 in c:\\users\\user\\anaconda3\\lib\\site-packages (from ipykernel->jupyterlab<4.1,>=4.0.2->notebook) (0.1.6)\n",
      "Requirement already satisfied: nest-asyncio in c:\\users\\user\\anaconda3\\lib\\site-packages (from ipykernel->jupyterlab<4.1,>=4.0.2->notebook) (1.6.0)\n",
      "Requirement already satisfied: psutil in c:\\users\\user\\anaconda3\\lib\\site-packages (from ipykernel->jupyterlab<4.1,>=4.0.2->notebook) (5.9.0)\n",
      "Requirement already satisfied: six in c:\\users\\user\\anaconda3\\lib\\site-packages (from websocket-client->jupyter-server<3,>=2.4.0->notebook) (1.16.0)\n",
      "Requirement already satisfied: webencodings in c:\\users\\user\\anaconda3\\lib\\site-packages (from bleach!=5.0.0->nbconvert>=6.4.4->jupyter-server<3,>=2.4.0->notebook) (0.5.1)\n",
      "Requirement already satisfied: decorator in c:\\users\\user\\anaconda3\\lib\\site-packages (from ipython>=7.23.1->ipykernel->jupyterlab<4.1,>=4.0.2->notebook) (5.1.1)\n",
      "Requirement already satisfied: jedi>=0.16 in c:\\users\\user\\anaconda3\\lib\\site-packages (from ipython>=7.23.1->ipykernel->jupyterlab<4.1,>=4.0.2->notebook) (0.18.1)\n",
      "Requirement already satisfied: prompt-toolkit<3.1.0,>=3.0.41 in c:\\users\\user\\anaconda3\\lib\\site-packages (from ipython>=7.23.1->ipykernel->jupyterlab<4.1,>=4.0.2->notebook) (3.0.43)\n",
      "Requirement already satisfied: stack-data in c:\\users\\user\\anaconda3\\lib\\site-packages (from ipython>=7.23.1->ipykernel->jupyterlab<4.1,>=4.0.2->notebook) (0.2.0)\n",
      "Requirement already satisfied: colorama in c:\\users\\user\\anaconda3\\lib\\site-packages (from ipython>=7.23.1->ipykernel->jupyterlab<4.1,>=4.0.2->notebook) (0.4.6)\n",
      "Collecting fqdn (from jsonschema[format-nongpl]>=4.18.0->jupyter-events>=0.6.0->jupyter-server<3,>=2.4.0->notebook)\n",
      "  Downloading fqdn-1.5.1-py3-none-any.whl.metadata (1.4 kB)\n",
      "Collecting isoduration (from jsonschema[format-nongpl]>=4.18.0->jupyter-events>=0.6.0->jupyter-server<3,>=2.4.0->notebook)\n",
      "  Downloading isoduration-20.11.0-py3-none-any.whl.metadata (5.7 kB)\n",
      "Requirement already satisfied: jsonpointer>1.13 in c:\\users\\user\\anaconda3\\lib\\site-packages (from jsonschema[format-nongpl]>=4.18.0->jupyter-events>=0.6.0->jupyter-server<3,>=2.4.0->notebook) (2.1)\n",
      "Collecting uri-template (from jsonschema[format-nongpl]>=4.18.0->jupyter-events>=0.6.0->jupyter-server<3,>=2.4.0->notebook)\n",
      "  Downloading uri_template-1.3.0-py3-none-any.whl.metadata (8.8 kB)\n",
      "Collecting webcolors>=1.11 (from jsonschema[format-nongpl]>=4.18.0->jupyter-events>=0.6.0->jupyter-server<3,>=2.4.0->notebook)\n",
      "  Downloading webcolors-1.13-py3-none-any.whl.metadata (2.6 kB)\n",
      "Requirement already satisfied: cffi>=1.0.1 in c:\\users\\user\\anaconda3\\lib\\site-packages (from argon2-cffi-bindings->argon2-cffi->jupyter-server<3,>=2.4.0->notebook) (1.16.0)\n",
      "Requirement already satisfied: soupsieve>1.2 in c:\\users\\user\\anaconda3\\lib\\site-packages (from beautifulsoup4->nbconvert>=6.4.4->jupyter-server<3,>=2.4.0->notebook) (2.5)\n",
      "Requirement already satisfied: pycparser in c:\\users\\user\\anaconda3\\lib\\site-packages (from cffi>=1.0.1->argon2-cffi-bindings->argon2-cffi->jupyter-server<3,>=2.4.0->notebook) (2.21)\n",
      "Requirement already satisfied: parso<0.9.0,>=0.8.0 in c:\\users\\user\\anaconda3\\lib\\site-packages (from jedi>=0.16->ipython>=7.23.1->ipykernel->jupyterlab<4.1,>=4.0.2->notebook) (0.8.3)\n",
      "Requirement already satisfied: wcwidth in c:\\users\\user\\anaconda3\\lib\\site-packages (from prompt-toolkit<3.1.0,>=3.0.41->ipython>=7.23.1->ipykernel->jupyterlab<4.1,>=4.0.2->notebook) (0.2.5)\n",
      "Requirement already satisfied: arrow>=0.15.0 in c:\\users\\user\\anaconda3\\lib\\site-packages (from isoduration->jsonschema[format-nongpl]>=4.18.0->jupyter-events>=0.6.0->jupyter-server<3,>=2.4.0->notebook) (1.2.3)\n",
      "Requirement already satisfied: executing in c:\\users\\user\\anaconda3\\lib\\site-packages (from stack-data->ipython>=7.23.1->ipykernel->jupyterlab<4.1,>=4.0.2->notebook) (0.8.3)\n",
      "Requirement already satisfied: asttokens in c:\\users\\user\\anaconda3\\lib\\site-packages (from stack-data->ipython>=7.23.1->ipykernel->jupyterlab<4.1,>=4.0.2->notebook) (2.0.5)\n",
      "Requirement already satisfied: pure-eval in c:\\users\\user\\anaconda3\\lib\\site-packages (from stack-data->ipython>=7.23.1->ipykernel->jupyterlab<4.1,>=4.0.2->notebook) (0.2.2)\n",
      "Downloading webcolors-1.13-py3-none-any.whl (14 kB)\n",
      "Downloading fqdn-1.5.1-py3-none-any.whl (9.1 kB)\n",
      "Downloading isoduration-20.11.0-py3-none-any.whl (11 kB)\n",
      "Downloading uri_template-1.3.0-py3-none-any.whl (11 kB)\n",
      "Installing collected packages: webcolors, uri-template, fqdn, isoduration\n",
      "Successfully installed fqdn-1.5.1 isoduration-20.11.0 uri-template-1.3.0 webcolors-1.13\n",
      "^C\n",
      "Note: you may need to restart the kernel to use updated packages.\n"
     ]
    }
   ],
   "source": [
    "pip install notebook"
   ]
  },
  {
   "cell_type": "code",
   "execution_count": 27,
   "id": "083f0a81-55f8-4209-b09b-304d34b9d458",
   "metadata": {},
   "outputs": [
    {
     "name": "stdout",
     "output_type": "stream",
     "text": [
      "Looking in indexes: https://pypi.org/simple/\n",
      "Requirement already satisfied: notebook in c:\\users\\user\\anaconda3\\lib\\site-packages (7.0.8)\n",
      "Requirement already satisfied: jupyter-server<3,>=2.4.0 in c:\\users\\user\\anaconda3\\lib\\site-packages (from notebook) (2.10.0)\n",
      "Requirement already satisfied: jupyterlab-server<3,>=2.22.1 in c:\\users\\user\\anaconda3\\lib\\site-packages (from notebook) (2.25.1)\n",
      "Requirement already satisfied: jupyterlab<4.1,>=4.0.2 in c:\\users\\user\\anaconda3\\lib\\site-packages (from notebook) (4.0.11)\n",
      "Requirement already satisfied: notebook-shim<0.3,>=0.2 in c:\\users\\user\\anaconda3\\lib\\site-packages (from notebook) (0.2.3)\n",
      "Requirement already satisfied: tornado>=6.2.0 in c:\\users\\user\\anaconda3\\lib\\site-packages (from notebook) (6.3.3)\n",
      "Requirement already satisfied: anyio>=3.1.0 in c:\\users\\user\\anaconda3\\lib\\site-packages (from jupyter-server<3,>=2.4.0->notebook) (4.2.0)\n",
      "Requirement already satisfied: argon2-cffi in c:\\users\\user\\anaconda3\\lib\\site-packages (from jupyter-server<3,>=2.4.0->notebook) (21.3.0)\n",
      "Requirement already satisfied: jinja2 in c:\\users\\user\\anaconda3\\lib\\site-packages (from jupyter-server<3,>=2.4.0->notebook) (3.1.3)\n",
      "Requirement already satisfied: jupyter-client>=7.4.4 in c:\\users\\user\\anaconda3\\lib\\site-packages (from jupyter-server<3,>=2.4.0->notebook) (8.6.0)\n",
      "Requirement already satisfied: jupyter-core!=5.0.*,>=4.12 in c:\\users\\user\\anaconda3\\lib\\site-packages (from jupyter-server<3,>=2.4.0->notebook) (5.5.0)\n",
      "Requirement already satisfied: jupyter-events>=0.6.0 in c:\\users\\user\\anaconda3\\lib\\site-packages (from jupyter-server<3,>=2.4.0->notebook) (0.8.0)\n",
      "Requirement already satisfied: jupyter-server-terminals in c:\\users\\user\\anaconda3\\lib\\site-packages (from jupyter-server<3,>=2.4.0->notebook) (0.4.4)\n",
      "Requirement already satisfied: nbconvert>=6.4.4 in c:\\users\\user\\anaconda3\\lib\\site-packages (from jupyter-server<3,>=2.4.0->notebook) (7.10.0)\n",
      "Requirement already satisfied: nbformat>=5.3.0 in c:\\users\\user\\anaconda3\\lib\\site-packages (from jupyter-server<3,>=2.4.0->notebook) (5.9.2)\n",
      "Requirement already satisfied: overrides in c:\\users\\user\\anaconda3\\lib\\site-packages (from jupyter-server<3,>=2.4.0->notebook) (7.4.0)\n",
      "Requirement already satisfied: packaging in c:\\users\\user\\anaconda3\\lib\\site-packages (from jupyter-server<3,>=2.4.0->notebook) (23.2)\n",
      "Requirement already satisfied: prometheus-client in c:\\users\\user\\anaconda3\\lib\\site-packages (from jupyter-server<3,>=2.4.0->notebook) (0.14.1)\n",
      "Requirement already satisfied: pywinpty in c:\\users\\user\\anaconda3\\lib\\site-packages (from jupyter-server<3,>=2.4.0->notebook) (2.0.10)\n",
      "Requirement already satisfied: pyzmq>=24 in c:\\users\\user\\anaconda3\\lib\\site-packages (from jupyter-server<3,>=2.4.0->notebook) (25.1.2)\n",
      "Requirement already satisfied: send2trash>=1.8.2 in c:\\users\\user\\anaconda3\\lib\\site-packages (from jupyter-server<3,>=2.4.0->notebook) (1.8.2)\n",
      "Requirement already satisfied: terminado>=0.8.3 in c:\\users\\user\\anaconda3\\lib\\site-packages (from jupyter-server<3,>=2.4.0->notebook) (0.17.1)\n",
      "Requirement already satisfied: traitlets>=5.6.0 in c:\\users\\user\\anaconda3\\lib\\site-packages (from jupyter-server<3,>=2.4.0->notebook) (5.7.1)\n",
      "Requirement already satisfied: websocket-client in c:\\users\\user\\anaconda3\\lib\\site-packages (from jupyter-server<3,>=2.4.0->notebook) (0.58.0)\n",
      "Requirement already satisfied: async-lru>=1.0.0 in c:\\users\\user\\anaconda3\\lib\\site-packages (from jupyterlab<4.1,>=4.0.2->notebook) (2.0.4)\n",
      "Requirement already satisfied: ipykernel in c:\\users\\user\\anaconda3\\lib\\site-packages (from jupyterlab<4.1,>=4.0.2->notebook) (6.28.0)\n",
      "Requirement already satisfied: jupyter-lsp>=2.0.0 in c:\\users\\user\\anaconda3\\lib\\site-packages (from jupyterlab<4.1,>=4.0.2->notebook) (2.2.0)\n",
      "Requirement already satisfied: babel>=2.10 in c:\\users\\user\\anaconda3\\lib\\site-packages (from jupyterlab-server<3,>=2.22.1->notebook) (2.11.0)\n",
      "Requirement already satisfied: json5>=0.9.0 in c:\\users\\user\\anaconda3\\lib\\site-packages (from jupyterlab-server<3,>=2.22.1->notebook) (0.9.6)\n",
      "Requirement already satisfied: jsonschema>=4.18.0 in c:\\users\\user\\anaconda3\\lib\\site-packages (from jupyterlab-server<3,>=2.22.1->notebook) (4.19.2)\n",
      "Requirement already satisfied: requests>=2.31 in c:\\users\\user\\anaconda3\\lib\\site-packages (from jupyterlab-server<3,>=2.22.1->notebook) (2.31.0)\n",
      "Requirement already satisfied: idna>=2.8 in c:\\users\\user\\anaconda3\\lib\\site-packages (from anyio>=3.1.0->jupyter-server<3,>=2.4.0->notebook) (3.4)\n",
      "Requirement already satisfied: sniffio>=1.1 in c:\\users\\user\\anaconda3\\lib\\site-packages (from anyio>=3.1.0->jupyter-server<3,>=2.4.0->notebook) (1.3.0)\n",
      "Requirement already satisfied: pytz>=2015.7 in c:\\users\\user\\anaconda3\\lib\\site-packages (from babel>=2.10->jupyterlab-server<3,>=2.22.1->notebook) (2024.1)\n",
      "Requirement already satisfied: MarkupSafe>=2.0 in c:\\users\\user\\anaconda3\\lib\\site-packages (from jinja2->jupyter-server<3,>=2.4.0->notebook) (2.1.3)\n",
      "Requirement already satisfied: attrs>=22.2.0 in c:\\users\\user\\anaconda3\\lib\\site-packages (from jsonschema>=4.18.0->jupyterlab-server<3,>=2.22.1->notebook) (23.1.0)\n",
      "Requirement already satisfied: jsonschema-specifications>=2023.03.6 in c:\\users\\user\\anaconda3\\lib\\site-packages (from jsonschema>=4.18.0->jupyterlab-server<3,>=2.22.1->notebook) (2023.7.1)\n",
      "Requirement already satisfied: referencing>=0.28.4 in c:\\users\\user\\anaconda3\\lib\\site-packages (from jsonschema>=4.18.0->jupyterlab-server<3,>=2.22.1->notebook) (0.30.2)\n",
      "Requirement already satisfied: rpds-py>=0.7.1 in c:\\users\\user\\anaconda3\\lib\\site-packages (from jsonschema>=4.18.0->jupyterlab-server<3,>=2.22.1->notebook) (0.10.6)\n",
      "Requirement already satisfied: python-dateutil>=2.8.2 in c:\\users\\user\\anaconda3\\lib\\site-packages (from jupyter-client>=7.4.4->jupyter-server<3,>=2.4.0->notebook) (2.8.2)\n",
      "Requirement already satisfied: platformdirs>=2.5 in c:\\users\\user\\anaconda3\\lib\\site-packages (from jupyter-core!=5.0.*,>=4.12->jupyter-server<3,>=2.4.0->notebook) (3.10.0)\n",
      "Requirement already satisfied: pywin32>=300 in c:\\users\\user\\anaconda3\\lib\\site-packages (from jupyter-core!=5.0.*,>=4.12->jupyter-server<3,>=2.4.0->notebook) (305.1)\n",
      "Requirement already satisfied: python-json-logger>=2.0.4 in c:\\users\\user\\anaconda3\\lib\\site-packages (from jupyter-events>=0.6.0->jupyter-server<3,>=2.4.0->notebook) (2.0.7)\n",
      "Requirement already satisfied: pyyaml>=5.3 in c:\\users\\user\\anaconda3\\lib\\site-packages (from jupyter-events>=0.6.0->jupyter-server<3,>=2.4.0->notebook) (6.0.1)\n",
      "Requirement already satisfied: rfc3339-validator in c:\\users\\user\\anaconda3\\lib\\site-packages (from jupyter-events>=0.6.0->jupyter-server<3,>=2.4.0->notebook) (0.1.4)\n",
      "Requirement already satisfied: rfc3986-validator>=0.1.1 in c:\\users\\user\\anaconda3\\lib\\site-packages (from jupyter-events>=0.6.0->jupyter-server<3,>=2.4.0->notebook) (0.1.1)\n",
      "Requirement already satisfied: beautifulsoup4 in c:\\users\\user\\anaconda3\\lib\\site-packages (from nbconvert>=6.4.4->jupyter-server<3,>=2.4.0->notebook) (4.12.2)\n",
      "Requirement already satisfied: bleach!=5.0.0 in c:\\users\\user\\anaconda3\\lib\\site-packages (from nbconvert>=6.4.4->jupyter-server<3,>=2.4.0->notebook) (4.1.0)\n",
      "Requirement already satisfied: defusedxml in c:\\users\\user\\anaconda3\\lib\\site-packages (from nbconvert>=6.4.4->jupyter-server<3,>=2.4.0->notebook) (0.7.1)\n",
      "Requirement already satisfied: jupyterlab-pygments in c:\\users\\user\\anaconda3\\lib\\site-packages (from nbconvert>=6.4.4->jupyter-server<3,>=2.4.0->notebook) (0.1.2)\n",
      "Requirement already satisfied: mistune<4,>=2.0.3 in c:\\users\\user\\anaconda3\\lib\\site-packages (from nbconvert>=6.4.4->jupyter-server<3,>=2.4.0->notebook) (2.0.4)\n",
      "Requirement already satisfied: nbclient>=0.5.0 in c:\\users\\user\\anaconda3\\lib\\site-packages (from nbconvert>=6.4.4->jupyter-server<3,>=2.4.0->notebook) (0.8.0)\n",
      "Requirement already satisfied: pandocfilters>=1.4.1 in c:\\users\\user\\anaconda3\\lib\\site-packages (from nbconvert>=6.4.4->jupyter-server<3,>=2.4.0->notebook) (1.5.0)\n",
      "Requirement already satisfied: pygments>=2.4.1 in c:\\users\\user\\anaconda3\\lib\\site-packages (from nbconvert>=6.4.4->jupyter-server<3,>=2.4.0->notebook) (2.15.1)\n",
      "Requirement already satisfied: tinycss2 in c:\\users\\user\\anaconda3\\lib\\site-packages (from nbconvert>=6.4.4->jupyter-server<3,>=2.4.0->notebook) (1.2.1)\n",
      "Requirement already satisfied: fastjsonschema in c:\\users\\user\\anaconda3\\lib\\site-packages (from nbformat>=5.3.0->jupyter-server<3,>=2.4.0->notebook) (2.16.2)\n",
      "Requirement already satisfied: charset-normalizer<4,>=2 in c:\\users\\user\\anaconda3\\lib\\site-packages (from requests>=2.31->jupyterlab-server<3,>=2.22.1->notebook) (2.0.4)\n",
      "Requirement already satisfied: urllib3<3,>=1.21.1 in c:\\users\\user\\anaconda3\\lib\\site-packages (from requests>=2.31->jupyterlab-server<3,>=2.22.1->notebook) (2.0.7)\n",
      "Requirement already satisfied: certifi>=2017.4.17 in c:\\users\\user\\anaconda3\\lib\\site-packages (from requests>=2.31->jupyterlab-server<3,>=2.22.1->notebook) (2024.2.2)\n",
      "Requirement already satisfied: argon2-cffi-bindings in c:\\users\\user\\anaconda3\\lib\\site-packages (from argon2-cffi->jupyter-server<3,>=2.4.0->notebook) (21.2.0)\n",
      "Requirement already satisfied: comm>=0.1.1 in c:\\users\\user\\anaconda3\\lib\\site-packages (from ipykernel->jupyterlab<4.1,>=4.0.2->notebook) (0.2.1)\n",
      "Requirement already satisfied: debugpy>=1.6.5 in c:\\users\\user\\anaconda3\\lib\\site-packages (from ipykernel->jupyterlab<4.1,>=4.0.2->notebook) (1.6.7)\n",
      "Requirement already satisfied: ipython>=7.23.1 in c:\\users\\user\\anaconda3\\lib\\site-packages (from ipykernel->jupyterlab<4.1,>=4.0.2->notebook) (8.20.0)\n",
      "Requirement already satisfied: matplotlib-inline>=0.1 in c:\\users\\user\\anaconda3\\lib\\site-packages (from ipykernel->jupyterlab<4.1,>=4.0.2->notebook) (0.1.6)\n",
      "Requirement already satisfied: nest-asyncio in c:\\users\\user\\anaconda3\\lib\\site-packages (from ipykernel->jupyterlab<4.1,>=4.0.2->notebook) (1.6.0)\n",
      "Requirement already satisfied: psutil in c:\\users\\user\\anaconda3\\lib\\site-packages (from ipykernel->jupyterlab<4.1,>=4.0.2->notebook) (5.9.0)\n",
      "Requirement already satisfied: six in c:\\users\\user\\anaconda3\\lib\\site-packages (from websocket-client->jupyter-server<3,>=2.4.0->notebook) (1.16.0)\n",
      "Requirement already satisfied: webencodings in c:\\users\\user\\anaconda3\\lib\\site-packages (from bleach!=5.0.0->nbconvert>=6.4.4->jupyter-server<3,>=2.4.0->notebook) (0.5.1)\n",
      "Requirement already satisfied: decorator in c:\\users\\user\\anaconda3\\lib\\site-packages (from ipython>=7.23.1->ipykernel->jupyterlab<4.1,>=4.0.2->notebook) (5.1.1)\n",
      "Requirement already satisfied: jedi>=0.16 in c:\\users\\user\\anaconda3\\lib\\site-packages (from ipython>=7.23.1->ipykernel->jupyterlab<4.1,>=4.0.2->notebook) (0.18.1)\n",
      "Requirement already satisfied: prompt-toolkit<3.1.0,>=3.0.41 in c:\\users\\user\\anaconda3\\lib\\site-packages (from ipython>=7.23.1->ipykernel->jupyterlab<4.1,>=4.0.2->notebook) (3.0.43)\n",
      "Requirement already satisfied: stack-data in c:\\users\\user\\anaconda3\\lib\\site-packages (from ipython>=7.23.1->ipykernel->jupyterlab<4.1,>=4.0.2->notebook) (0.2.0)\n",
      "Requirement already satisfied: colorama in c:\\users\\user\\anaconda3\\lib\\site-packages (from ipython>=7.23.1->ipykernel->jupyterlab<4.1,>=4.0.2->notebook) (0.4.6)\n",
      "Collecting fqdn (from jsonschema[format-nongpl]>=4.18.0->jupyter-events>=0.6.0->jupyter-server<3,>=2.4.0->notebook)\n",
      "  Using cached fqdn-1.5.1-py3-none-any.whl.metadata (1.4 kB)\n",
      "Collecting isoduration (from jsonschema[format-nongpl]>=4.18.0->jupyter-events>=0.6.0->jupyter-server<3,>=2.4.0->notebook)\n",
      "  Using cached isoduration-20.11.0-py3-none-any.whl.metadata (5.7 kB)\n",
      "Requirement already satisfied: jsonpointer>1.13 in c:\\users\\user\\anaconda3\\lib\\site-packages (from jsonschema[format-nongpl]>=4.18.0->jupyter-events>=0.6.0->jupyter-server<3,>=2.4.0->notebook) (2.1)\n",
      "Collecting uri-template (from jsonschema[format-nongpl]>=4.18.0->jupyter-events>=0.6.0->jupyter-server<3,>=2.4.0->notebook)\n",
      "  Using cached uri_template-1.3.0-py3-none-any.whl.metadata (8.8 kB)\n",
      "Collecting webcolors>=1.11 (from jsonschema[format-nongpl]>=4.18.0->jupyter-events>=0.6.0->jupyter-server<3,>=2.4.0->notebook)\n",
      "  Using cached webcolors-1.13-py3-none-any.whl.metadata (2.6 kB)\n",
      "Requirement already satisfied: cffi>=1.0.1 in c:\\users\\user\\anaconda3\\lib\\site-packages (from argon2-cffi-bindings->argon2-cffi->jupyter-server<3,>=2.4.0->notebook) (1.16.0)\n",
      "Requirement already satisfied: soupsieve>1.2 in c:\\users\\user\\anaconda3\\lib\\site-packages (from beautifulsoup4->nbconvert>=6.4.4->jupyter-server<3,>=2.4.0->notebook) (2.5)\n",
      "Requirement already satisfied: pycparser in c:\\users\\user\\anaconda3\\lib\\site-packages (from cffi>=1.0.1->argon2-cffi-bindings->argon2-cffi->jupyter-server<3,>=2.4.0->notebook) (2.21)\n",
      "Requirement already satisfied: parso<0.9.0,>=0.8.0 in c:\\users\\user\\anaconda3\\lib\\site-packages (from jedi>=0.16->ipython>=7.23.1->ipykernel->jupyterlab<4.1,>=4.0.2->notebook) (0.8.3)\n",
      "Requirement already satisfied: wcwidth in c:\\users\\user\\anaconda3\\lib\\site-packages (from prompt-toolkit<3.1.0,>=3.0.41->ipython>=7.23.1->ipykernel->jupyterlab<4.1,>=4.0.2->notebook) (0.2.5)\n",
      "Requirement already satisfied: arrow>=0.15.0 in c:\\users\\user\\anaconda3\\lib\\site-packages (from isoduration->jsonschema[format-nongpl]>=4.18.0->jupyter-events>=0.6.0->jupyter-server<3,>=2.4.0->notebook) (1.2.3)\n",
      "Requirement already satisfied: executing in c:\\users\\user\\anaconda3\\lib\\site-packages (from stack-data->ipython>=7.23.1->ipykernel->jupyterlab<4.1,>=4.0.2->notebook) (0.8.3)\n",
      "Requirement already satisfied: asttokens in c:\\users\\user\\anaconda3\\lib\\site-packages (from stack-data->ipython>=7.23.1->ipykernel->jupyterlab<4.1,>=4.0.2->notebook) (2.0.5)\n",
      "Requirement already satisfied: pure-eval in c:\\users\\user\\anaconda3\\lib\\site-packages (from stack-data->ipython>=7.23.1->ipykernel->jupyterlab<4.1,>=4.0.2->notebook) (0.2.2)\n",
      "Using cached webcolors-1.13-py3-none-any.whl (14 kB)\n",
      "Using cached fqdn-1.5.1-py3-none-any.whl (9.1 kB)\n",
      "Using cached isoduration-20.11.0-py3-none-any.whl (11 kB)\n",
      "Using cached uri_template-1.3.0-py3-none-any.whl (11 kB)\n",
      "Installing collected packages: webcolors, uri-template, fqdn, isoduration\n",
      "Successfully installed fqdn-1.5.1 isoduration-20.11.0 uri-template-1.3.0 webcolors-1.13\n"
     ]
    },
    {
     "name": "stderr",
     "output_type": "stream",
     "text": [
      "WARNING: Ignoring invalid distribution ~andas (C:\\Users\\User\\AppData\\Roaming\\Python\\Python311\\site-packages)\n",
      "WARNING: Ignoring invalid distribution ~andas (C:\\Users\\User\\AppData\\Roaming\\Python\\Python311\\site-packages)\n",
      "WARNING: Ignoring invalid distribution ~andas (C:\\Users\\User\\AppData\\Roaming\\Python\\Python311\\site-packages)\n",
      "WARNING: Ignoring invalid distribution ~andas (C:\\Users\\User\\AppData\\Roaming\\Python\\Python311\\site-packages)\n",
      "WARNING: Ignoring invalid distribution ~andas (C:\\Users\\User\\AppData\\Roaming\\Python\\Python311\\site-packages)\n",
      "WARNING: Ignoring invalid distribution ~andas (C:\\Users\\User\\AppData\\Roaming\\Python\\Python311\\site-packages)\n"
     ]
    },
    {
     "name": "stdout",
     "output_type": "stream",
     "text": [
      "Looking in indexes: https://pypi.org/simple/\n",
      "Collecting pandas\n",
      "  Using cached pandas-2.2.2-cp311-cp311-win_amd64.whl.metadata (19 kB)\n",
      "Requirement already satisfied: numpy>=1.23.2 in c:\\users\\user\\anaconda3\\lib\\site-packages (from pandas) (1.24.3)\n",
      "Requirement already satisfied: python-dateutil>=2.8.2 in c:\\users\\user\\anaconda3\\lib\\site-packages (from pandas) (2.8.2)\n",
      "Requirement already satisfied: pytz>=2020.1 in c:\\users\\user\\anaconda3\\lib\\site-packages (from pandas) (2024.1)\n",
      "Requirement already satisfied: tzdata>=2022.7 in c:\\users\\user\\anaconda3\\lib\\site-packages (from pandas) (2023.3)\n",
      "Requirement already satisfied: six>=1.5 in c:\\users\\user\\anaconda3\\lib\\site-packages (from python-dateutil>=2.8.2->pandas) (1.16.0)\n",
      "Using cached pandas-2.2.2-cp311-cp311-win_amd64.whl (11.6 MB)\n",
      "Installing collected packages: pandas\n",
      "Successfully installed pandas-2.1.4\n"
     ]
    },
    {
     "name": "stderr",
     "output_type": "stream",
     "text": [
      "WARNING: Ignoring invalid distribution ~andas (C:\\Users\\User\\AppData\\Roaming\\Python\\Python311\\site-packages)\n",
      "WARNING: Ignoring invalid distribution ~andas (C:\\Users\\User\\AppData\\Roaming\\Python\\Python311\\site-packages)\n",
      "WARNING: Ignoring invalid distribution ~andas (C:\\Users\\User\\AppData\\Roaming\\Python\\Python311\\site-packages)\n",
      "ERROR: pip's dependency resolver does not currently take into account all the packages that are installed. This behaviour is the source of the following dependency conflicts.\n",
      "pandas-profiling 3.2.0 requires visions[type_image_path]==0.7.4, but you have visions 0.7.6 which is incompatible.\n",
      "ydata-profiling 4.7.0 requires scipy<1.12,>=1.4.1, but you have scipy 1.12.0 which is incompatible.\n",
      "WARNING: Ignoring invalid distribution ~andas (C:\\Users\\User\\AppData\\Roaming\\Python\\Python311\\site-packages)\n",
      "WARNING: Ignoring invalid distribution ~andas (C:\\Users\\User\\AppData\\Roaming\\Python\\Python311\\site-packages)\n",
      "WARNING: Ignoring invalid distribution ~andas (C:\\Users\\User\\AppData\\Roaming\\Python\\Python311\\site-packages)\n"
     ]
    },
    {
     "name": "stdout",
     "output_type": "stream",
     "text": [
      "^C\n"
     ]
    }
   ],
   "source": [
    "!jupyter notebook"
   ]
  },
  {
   "cell_type": "code",
   "execution_count": 40,
   "id": "0ed92f6e-c11c-4e94-beb7-8e6808fbf9f0",
   "metadata": {},
   "outputs": [
    {
     "ename": "SyntaxError",
     "evalue": "invalid syntax (175168816.py, line 7)",
     "output_type": "error",
     "traceback": [
      "\u001b[1;36m  Cell \u001b[1;32mIn[40], line 7\u001b[1;36m\u001b[0m\n\u001b[1;33m    인코딩은 일반적으로 한국에서 많이 사용되는 cp949를 사용\u001b[0m\n\u001b[1;37m         ^\u001b[0m\n\u001b[1;31mSyntaxError\u001b[0m\u001b[1;31m:\u001b[0m invalid syntax\n"
     ]
    }
   ],
   "source": [
    "import pandas as pd\n",
    "\n",
    "# 파일 경로 설정\n",
    "file_path = 'D:\\\\시설\\\\유지\\\\24.3월유지가입자.cs'\n",
    "\n",
    "# CSV 파일 읽기 시도, \n",
    "인코딩은 일반적으로 한국에서 많이 사용되는 cp949를 사용\n",
    "try:\n",
    "    # 데이터프레임 로드 (헤더만 확인하므로 데이터 로드는 하지 않습니다)\n",
    "    df = pd.read_csv(file_path, encoding='cp949', nrows=0)  # nrows=0으로 설정해 데이터 로드 없이 열 이름만 로드\n",
    "except UnicodeDecodeError:\n",
    "    # cp949로 실패할 경우 utf-8 시도\n",
    "    df = pd.read_csv(file_path, encoding='utf-8', nrows=0)\n",
    "\n",
    "# 데이터 열 이름 출력\n",
    "print(\"열 이름:\", df.columns.tolist())\n"
   ]
  },
  {
   "cell_type": "code",
   "execution_count": 41,
   "id": "d4296617-0fff-49af-b19e-920e49528340",
   "metadata": {},
   "outputs": [
    {
     "ename": "ImportError",
     "evalue": "C extension: pandas.compat not built. If you want to import pandas from the source directory, you may need to run 'python setup.py build_ext' to build the C extensions first.",
     "output_type": "error",
     "traceback": [
      "\u001b[1;31m---------------------------------------------------------------------------\u001b[0m",
      "\u001b[1;31mModuleNotFoundError\u001b[0m                       Traceback (most recent call last)",
      "File \u001b[1;32m~\\AppData\\Roaming\\Python\\Python311\\site-packages\\pandas\\__init__.py:39\u001b[0m\n\u001b[0;32m     37\u001b[0m \u001b[38;5;28;01mtry\u001b[39;00m:\n\u001b[0;32m     38\u001b[0m     \u001b[38;5;66;03m# numpy compat\u001b[39;00m\n\u001b[1;32m---> 39\u001b[0m     \u001b[38;5;28;01mfrom\u001b[39;00m \u001b[38;5;21;01mpandas\u001b[39;00m\u001b[38;5;21;01m.\u001b[39;00m\u001b[38;5;21;01mcompat\u001b[39;00m \u001b[38;5;28;01mimport\u001b[39;00m (\n\u001b[0;32m     40\u001b[0m         is_numpy_dev \u001b[38;5;28;01mas\u001b[39;00m _is_numpy_dev,  \u001b[38;5;66;03m# pyright: ignore[reportUnusedImport] # noqa: F401\u001b[39;00m\n\u001b[0;32m     41\u001b[0m     )\n\u001b[0;32m     42\u001b[0m \u001b[38;5;28;01mexcept\u001b[39;00m \u001b[38;5;167;01mImportError\u001b[39;00m \u001b[38;5;28;01mas\u001b[39;00m _err:  \u001b[38;5;66;03m# pragma: no cover\u001b[39;00m\n",
      "\u001b[1;31mModuleNotFoundError\u001b[0m: No module named 'pandas.compat'",
      "\nThe above exception was the direct cause of the following exception:\n",
      "\u001b[1;31mImportError\u001b[0m                               Traceback (most recent call last)",
      "Cell \u001b[1;32mIn[41], line 1\u001b[0m\n\u001b[1;32m----> 1\u001b[0m \u001b[38;5;28;01mimport\u001b[39;00m \u001b[38;5;21;01mpandas\u001b[39;00m \u001b[38;5;28;01mas\u001b[39;00m \u001b[38;5;21;01mpd\u001b[39;00m\n\u001b[0;32m      3\u001b[0m \u001b[38;5;66;03m# Excel 파일 경로\u001b[39;00m\n\u001b[0;32m      4\u001b[0m file_path \u001b[38;5;241m=\u001b[39m \u001b[38;5;124m'\u001b[39m\u001b[38;5;124md:\u001b[39m\u001b[38;5;130;01m\\\\\u001b[39;00m\u001b[38;5;124m강북강원본부\u001b[39m\u001b[38;5;130;01m\\\\\u001b[39;00m\u001b[38;5;124m안심검증\u001b[39m\u001b[38;5;130;01m\\\\\u001b[39;00m\u001b[38;5;124m신규.xlsx\u001b[39m\u001b[38;5;124m'\u001b[39m\n",
      "File \u001b[1;32m~\\AppData\\Roaming\\Python\\Python311\\site-packages\\pandas\\__init__.py:44\u001b[0m\n\u001b[0;32m     42\u001b[0m \u001b[38;5;28;01mexcept\u001b[39;00m \u001b[38;5;167;01mImportError\u001b[39;00m \u001b[38;5;28;01mas\u001b[39;00m _err:  \u001b[38;5;66;03m# pragma: no cover\u001b[39;00m\n\u001b[0;32m     43\u001b[0m     _module \u001b[38;5;241m=\u001b[39m _err\u001b[38;5;241m.\u001b[39mname\n\u001b[1;32m---> 44\u001b[0m     \u001b[38;5;28;01mraise\u001b[39;00m \u001b[38;5;167;01mImportError\u001b[39;00m(\n\u001b[0;32m     45\u001b[0m         \u001b[38;5;124mf\u001b[39m\u001b[38;5;124m\"\u001b[39m\u001b[38;5;124mC extension: \u001b[39m\u001b[38;5;132;01m{\u001b[39;00m_module\u001b[38;5;132;01m}\u001b[39;00m\u001b[38;5;124m not built. If you want to import \u001b[39m\u001b[38;5;124m\"\u001b[39m\n\u001b[0;32m     46\u001b[0m         \u001b[38;5;124m\"\u001b[39m\u001b[38;5;124mpandas from the source directory, you may need to run \u001b[39m\u001b[38;5;124m\"\u001b[39m\n\u001b[0;32m     47\u001b[0m         \u001b[38;5;124m\"\u001b[39m\u001b[38;5;124m'\u001b[39m\u001b[38;5;124mpython setup.py build_ext\u001b[39m\u001b[38;5;124m'\u001b[39m\u001b[38;5;124m to build the C extensions first.\u001b[39m\u001b[38;5;124m\"\u001b[39m\n\u001b[0;32m     48\u001b[0m     ) \u001b[38;5;28;01mfrom\u001b[39;00m \u001b[38;5;21;01m_err\u001b[39;00m\n\u001b[0;32m     50\u001b[0m \u001b[38;5;28;01mfrom\u001b[39;00m \u001b[38;5;21;01mpandas\u001b[39;00m\u001b[38;5;21;01m.\u001b[39;00m\u001b[38;5;21;01m_config\u001b[39;00m \u001b[38;5;28;01mimport\u001b[39;00m (\n\u001b[0;32m     51\u001b[0m     get_option,\n\u001b[0;32m     52\u001b[0m     set_option,\n\u001b[1;32m   (...)\u001b[0m\n\u001b[0;32m     56\u001b[0m     options,\n\u001b[0;32m     57\u001b[0m )\n\u001b[0;32m     59\u001b[0m \u001b[38;5;66;03m# let init-time option registration happen\u001b[39;00m\n",
      "\u001b[1;31mImportError\u001b[0m: C extension: pandas.compat not built. If you want to import pandas from the source directory, you may need to run 'python setup.py build_ext' to build the C extensions first."
     ]
    }
   ],
   "source": [
    "import pandas as pd\n",
    "\n",
    "# Excel 파일 경로\n",
    "file_path = 'd:\\\\강북강원본부\\\\안심검증\\\\신규.xlsx'\n",
    "\n",
    "# Excel 파일 읽기\n",
    "data = pd.read_excel(file_path)\n",
    "\n",
    "# '영업지사명'으로 그룹화하고 각 그룹에서 '영업자명'이 중복되지 않는 '계약번호' 3건 선택\n",
    "sampled_data = data.groupby('영업지사명').apply(\n",
    "    lambda x: x.drop_duplicates('영업자명').sample(n=3) if len(x.drop_duplicates('영업자명')) >= 3 else x.drop_duplicates('영업자명')\n",
    ").reset_index(drop=True)\n",
    "\n",
    "# 결과 출력\n",
    "print(sampled_data)\n"
   ]
  },
  {
   "cell_type": "code",
   "execution_count": null,
   "id": "68bdafe2-fbe0-490e-b413-58e4bc0aa8db",
   "metadata": {},
   "outputs": [],
   "source": []
  },
  {
   "cell_type": "code",
   "execution_count": null,
   "id": "c271d0f5-f015-480d-9bbd-b23072451290",
   "metadata": {},
   "outputs": [],
   "source": []
  },
  {
   "cell_type": "code",
   "execution_count": 5,
   "id": "ed6b68a3-357d-4009-8d4a-51a1b3c74c8d",
   "metadata": {},
   "outputs": [
    {
     "ename": "ImportError",
     "evalue": "C extension: pandas.compat not built. If you want to import pandas from the source directory, you may need to run 'python setup.py build_ext' to build the C extensions first.",
     "output_type": "error",
     "traceback": [
      "\u001b[1;31m---------------------------------------------------------------------------\u001b[0m",
      "\u001b[1;31mModuleNotFoundError\u001b[0m                       Traceback (most recent call last)",
      "File \u001b[1;32m~\\AppData\\Roaming\\Python\\Python311\\site-packages\\pandas\\__init__.py:39\u001b[0m\n\u001b[0;32m     37\u001b[0m \u001b[38;5;28;01mtry\u001b[39;00m:\n\u001b[0;32m     38\u001b[0m     \u001b[38;5;66;03m# numpy compat\u001b[39;00m\n\u001b[1;32m---> 39\u001b[0m     \u001b[38;5;28;01mfrom\u001b[39;00m \u001b[38;5;21;01mpandas\u001b[39;00m\u001b[38;5;21;01m.\u001b[39;00m\u001b[38;5;21;01mcompat\u001b[39;00m \u001b[38;5;28;01mimport\u001b[39;00m (\n\u001b[0;32m     40\u001b[0m         is_numpy_dev \u001b[38;5;28;01mas\u001b[39;00m _is_numpy_dev,  \u001b[38;5;66;03m# pyright: ignore[reportUnusedImport] # noqa: F401\u001b[39;00m\n\u001b[0;32m     41\u001b[0m     )\n\u001b[0;32m     42\u001b[0m \u001b[38;5;28;01mexcept\u001b[39;00m \u001b[38;5;167;01mImportError\u001b[39;00m \u001b[38;5;28;01mas\u001b[39;00m _err:  \u001b[38;5;66;03m# pragma: no cover\u001b[39;00m\n",
      "\u001b[1;31mModuleNotFoundError\u001b[0m: No module named 'pandas.compat'",
      "\nThe above exception was the direct cause of the following exception:\n",
      "\u001b[1;31mImportError\u001b[0m                               Traceback (most recent call last)",
      "Cell \u001b[1;32mIn[5], line 1\u001b[0m\n\u001b[1;32m----> 1\u001b[0m \u001b[38;5;28;01mimport\u001b[39;00m \u001b[38;5;21;01mpandas\u001b[39;00m \u001b[38;5;28;01mas\u001b[39;00m \u001b[38;5;21;01mpd\u001b[39;00m\n\u001b[0;32m      3\u001b[0m \u001b[38;5;66;03m# 파일 경로 설정\u001b[39;00m\n\u001b[0;32m      4\u001b[0m file_path \u001b[38;5;241m=\u001b[39m \u001b[38;5;124m'\u001b[39m\u001b[38;5;124mD:\u001b[39m\u001b[38;5;130;01m\\\\\u001b[39;00m\u001b[38;5;124m시설\u001b[39m\u001b[38;5;130;01m\\\\\u001b[39;00m\u001b[38;5;124m유지\u001b[39m\u001b[38;5;130;01m\\\\\u001b[39;00m\u001b[38;5;124m24.3월유지가입자.cs\u001b[39m\u001b[38;5;124m'\u001b[39m\n",
      "File \u001b[1;32m~\\AppData\\Roaming\\Python\\Python311\\site-packages\\pandas\\__init__.py:44\u001b[0m\n\u001b[0;32m     42\u001b[0m \u001b[38;5;28;01mexcept\u001b[39;00m \u001b[38;5;167;01mImportError\u001b[39;00m \u001b[38;5;28;01mas\u001b[39;00m _err:  \u001b[38;5;66;03m# pragma: no cover\u001b[39;00m\n\u001b[0;32m     43\u001b[0m     _module \u001b[38;5;241m=\u001b[39m _err\u001b[38;5;241m.\u001b[39mname\n\u001b[1;32m---> 44\u001b[0m     \u001b[38;5;28;01mraise\u001b[39;00m \u001b[38;5;167;01mImportError\u001b[39;00m(\n\u001b[0;32m     45\u001b[0m         \u001b[38;5;124mf\u001b[39m\u001b[38;5;124m\"\u001b[39m\u001b[38;5;124mC extension: \u001b[39m\u001b[38;5;132;01m{\u001b[39;00m_module\u001b[38;5;132;01m}\u001b[39;00m\u001b[38;5;124m not built. If you want to import \u001b[39m\u001b[38;5;124m\"\u001b[39m\n\u001b[0;32m     46\u001b[0m         \u001b[38;5;124m\"\u001b[39m\u001b[38;5;124mpandas from the source directory, you may need to run \u001b[39m\u001b[38;5;124m\"\u001b[39m\n\u001b[0;32m     47\u001b[0m         \u001b[38;5;124m\"\u001b[39m\u001b[38;5;124m'\u001b[39m\u001b[38;5;124mpython setup.py build_ext\u001b[39m\u001b[38;5;124m'\u001b[39m\u001b[38;5;124m to build the C extensions first.\u001b[39m\u001b[38;5;124m\"\u001b[39m\n\u001b[0;32m     48\u001b[0m     ) \u001b[38;5;28;01mfrom\u001b[39;00m \u001b[38;5;21;01m_err\u001b[39;00m\n\u001b[0;32m     50\u001b[0m \u001b[38;5;28;01mfrom\u001b[39;00m \u001b[38;5;21;01mpandas\u001b[39;00m\u001b[38;5;21;01m.\u001b[39;00m\u001b[38;5;21;01m_config\u001b[39;00m \u001b[38;5;28;01mimport\u001b[39;00m (\n\u001b[0;32m     51\u001b[0m     get_option,\n\u001b[0;32m     52\u001b[0m     set_option,\n\u001b[1;32m   (...)\u001b[0m\n\u001b[0;32m     56\u001b[0m     options,\n\u001b[0;32m     57\u001b[0m )\n\u001b[0;32m     59\u001b[0m \u001b[38;5;66;03m# let init-time option registration happen\u001b[39;00m\n",
      "\u001b[1;31mImportError\u001b[0m: C extension: pandas.compat not built. If you want to import pandas from the source directory, you may need to run 'python setup.py build_ext' to build the C extensions first."
     ]
    }
   ],
   "source": [
    "import pandas as pd\n",
    "\n",
    "# 파일 경로 설정\n",
    "file_path = 'D:\\\\시설\\\\유지\\\\24.3월유지가입자.cs'\n",
    "new_file_path = 'D:\\\\시설\\\\유지\\\\24.3월유지가입자_조건5.csv'\n",
    "\n",
    "# CSV 파일을 읽습니다.\n",
    "try:\n",
    "    df = pd.read_csv(file_path, encoding='cp949', low_memory=False, header=0)\n",
    "except FileNotFoundError:\n",
    "    print(\"파일을 찾을 수 없습니다.\")\n",
    "    exit()\n",
    "\n",
    "# 데이터 열 확인\n",
    "print(\"열 이름:\", df.columns.tolist())\n",
    "\n",
    "# '계약번호' 열 데이터 타입 확인\n",
    "print(\"계약번호 열 데이터 타입:\", df['계약번호'].dtype)\n",
    "\n",
    "# 필터링 조건 설정\n",
    "conditions = df['계약번호'].astype(str) == '51474074'\n",
    "\n",
    "# 필터링된 데이터 추출\n",
    "filtered_df = df.loc[conditions, ['계약번호', '상호', 'KTT월정료(조정)', '설치주소', '영업구역정보']]\n",
    "\n",
    "# 결과 요약 및 출력\n",
    "if filtered_df.empty:\n",
    "    print(\"해당 계약번호를 찾을 수 없습니다.\")\n",
    "else:\n",
    "    print(\"해당 계약번호 데이터:\")\n",
    "    print(filtered_df)\n",
    "\n",
    "# 결과를 CSV 파일로 저장\n",
    "filtered_df.to_csv(new_file_path, index=False, encoding='utf-8-sig')\n",
    "print(f\"필터링된 데이터가 '{new_file_path}'에 저장되었습니다.\")\n"
   ]
  },
  {
   "cell_type": "code",
   "execution_count": null,
   "id": "e3dd49ad-2db1-4da7-990c-b6978d0171f8",
   "metadata": {},
   "outputs": [],
   "source": []
  }
 ],
 "metadata": {
  "kernelspec": {
   "display_name": "Python 3 (ipykernel)",
   "language": "python",
   "name": "python3"
  },
  "language_info": {
   "codemirror_mode": {
    "name": "ipython",
    "version": 3
   },
   "file_extension": ".py",
   "mimetype": "text/x-python",
   "name": "python",
   "nbconvert_exporter": "python",
   "pygments_lexer": "ipython3",
   "version": "3.12.3"
  }
 },
 "nbformat": 4,
 "nbformat_minor": 5
}
