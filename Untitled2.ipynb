{
 "cells": [
  {
   "cell_type": "code",
   "execution_count": null,
   "id": "42faae9e-96be-44c8-946b-d29e03e22951",
   "metadata": {},
   "outputs": [
    {
     "name": "stdout",
     "output_type": "stream",
     "text": [
      "E: 드라이브를 포맷 중입니다. 데이터가 영구적으로 삭제됩니다.\n"
     ]
    }
   ],
   "source": [
    "import os\n",
    "\n",
    "# 포맷할 드라이브 설정 (드라이브 문자는 실제 시스템에 맞게 변경)\n",
    "drives_to_format = ['E:', 'F:']\n",
    "\n",
    "def format_drive(drive):\n",
    "    # 시스템 명령어를 실행하여 해당 드라이브를 덮어쓰기 포맷\n",
    "    os.system(f'format {drive} /fs:NTFS /p:1 /v:DRIVE /y')\n",
    "\n",
    "for drive in drives_to_format:\n",
    "    print(f\"{drive} 드라이브를 포맷 중입니다. 데이터가 영구적으로 삭제됩니다.\")\n",
    "    format_drive(drive)\n",
    "    print(f\"{drive} 드라이브 포맷 완료.\")\n",
    "\n"
   ]
  },
  {
   "cell_type": "code",
   "execution_count": null,
   "id": "5c7ed525-9b94-4cc0-aff3-7c5898c17f4a",
   "metadata": {},
   "outputs": [],
   "source": []
  },
  {
   "cell_type": "code",
   "execution_count": null,
   "id": "48fcc6b2-4b81-4402-87ca-4b82cfde4073",
   "metadata": {},
   "outputs": [],
   "source": []
  }
 ],
 "metadata": {
  "kernelspec": {
   "display_name": "Python 3 (ipykernel)",
   "language": "python",
   "name": "python3"
  },
  "language_info": {
   "codemirror_mode": {
    "name": "ipython",
    "version": 3
   },
   "file_extension": ".py",
   "mimetype": "text/x-python",
   "name": "python",
   "nbconvert_exporter": "python",
   "pygments_lexer": "ipython3",
   "version": "3.12.4"
  }
 },
 "nbformat": 4,
 "nbformat_minor": 5
}
