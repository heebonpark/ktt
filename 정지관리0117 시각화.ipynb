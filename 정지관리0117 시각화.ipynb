{
 "cells": [
  {
   "cell_type": "code",
   "execution_count": null,
   "id": "80825e50-f0b5-4a66-aa2c-40fce5541aad",
   "metadata": {},
   "outputs": [],
   "source": [
    "import pandas as pd\n",
    "\n",
    "data = {\n",
    "    \"지사\": [\"의정부지사\", \"중앙지사\", \"고양지사\", \"남양주지사\", \"고양지사\", \"의정부지사\", \"고양지사\", \"고양지사\",\n",
    "           \"고양지사\", \"중앙지사\", \"고양지사\", \"의정부지사\", \"남양주지사\", \"중앙지사\", \"서대문지사\", \"중앙지사\",\n",
    "           \"강북지사\", \"남양주지사\", \"의정부지사\", \"중앙지사\", \"서대문지사\", \"서대문지사\", \"남양주지사\", \"강릉지사\",\n",
    "           \"강북지사\", \"중앙지사\", \"서대문지사\", \"중앙지사\", \"서대문지사\", \"강북지사\", \"강릉지사\"],\n",
    "    \"등록자\": [\"임경석\", \"김병조\", \"강경필\", \"조형근\", \"성형래\", \"정성록\", \"박민준\", \"유창준\", \"최우석\", \"오광훈\", \"김현교\",\n",
    "            \"김진회\", \"김성배\", \"이재용\", \"김용\", \"문성진\", \"성진수\", \"이한구\", \"차현갑\", \"최태식\", \"민유기\", \"안근영\",\n",
    "            \"이현배\", \"권문석\", \"김태규\", \"권대호\", \"서은석\", \"남기민\", \"이정도\", \"김의겸\", \"최정훈\"],\n",
    "    \"건수\": [19, 8, 5, 7, 11, 8, 8, 8, 6, 4, 6, 6, 6, 6, 5, 5, 5, 6, 5, 3, 3, 3, 3, 1, 3, 2, 2, 1, 1, 1, 1],\n",
    "    \"KTT월정료\": [1405858, 1022000, 750969, 726000, 704512, 514000, 478365, 474000, 468000, 422000, 384700, 382000, 359000, 344600, 285000, 268000,\n",
    "                  265000, 246337, 225000, 204000, 185000, 185000, 180000, 177000, 156000, 131586, 115000, 62335, 45455, 30000, 20446],\n",
    "    \"점유율\": [12.5, 9.1, 6.7, 6.5, 6.3, 4.6, 4.3, 4.2, 4.2, 3.8, 3.4, 3.4, 3.2, 3.1, 2.5, 2.4, 2.4, 2.2, 2.0, 1.8, 1.6, 1.6, 1.6, 1.6, 1.4, 1.2, 1.0, 0.6, 0.4, 0.3, 0.2]\n",
    "}\n",
    "\n",
    "df = pd.DataFrame(data)\n",
    "\n",
    "# 데이터 타입 확인\n",
    "print(df.info())\n",
    "\n",
    "# 데이터프레임 미리보기\n",
    "print(df.head())"
   ]
  },
  {
   "cell_type": "code",
   "execution_count": null,
   "id": "e6cdc706-429b-4fde-b1e1-949202084ad7",
   "metadata": {},
   "outputs": [],
   "source": [
    "import matplotlib.pyplot as plt\n",
    "import seaborn as sns\n",
    "\n",
    "# 한글 폰트 설정\n",
    "plt.rc('font', family='NanumBarunGothic')\n",
    "\n",
    "# 지사별 평균 점유율 계산\n",
    "mean_share_by_branch = df.groupby('지사')['점유율'].mean().reset_index()\n",
    "\n",
    "plt.figure(figsize=(12, 8))\n",
    "ax = sns.barplot(x='점유율', y='지사', data=mean_share_by_branch, palette='coolwarm', edgecolor='lightgrey', linewidth=0.5)\n",
    "plt.title('지사별 평균 점유율')\n",
    "plt.xlabel('평균 점유율')\n",
    "plt.ylabel('지사')\n",
    "\n",
    "# 각 막대에 값 표시\n",
    "for p in ax.patches:\n",
    "    width = p.get_width()\n",
    "    plt.text(width, p.get_y() + p.get_height() / 2. + 0.1, '{:.1f}%'.format(width), ha='left', va='center')\n",
    "\n",
    "plt.show()"
   ]
  },
  {
   "cell_type": "code",
   "execution_count": null,
   "id": "6502143f-1bd7-4078-9c7d-2c519773cf7d",
   "metadata": {},
   "outputs": [],
   "source": []
  },
  {
   "cell_type": "code",
   "execution_count": null,
   "id": "160fae7f-336f-4167-9269-b159f50db8f1",
   "metadata": {},
   "outputs": [],
   "source": []
  },
  {
   "cell_type": "code",
   "execution_count": null,
   "id": "18a08522-4e7e-4b3a-b7b5-bbdefa77c913",
   "metadata": {},
   "outputs": [],
   "source": []
  },
  {
   "cell_type": "code",
   "execution_count": null,
   "id": "2cbfff68-ae0e-4a69-b005-0e827dd15b7a",
   "metadata": {},
   "outputs": [],
   "source": []
  },
  {
   "cell_type": "code",
   "execution_count": null,
   "id": "b78ad285-ebbe-4b29-b534-da48da2eff01",
   "metadata": {},
   "outputs": [],
   "source": []
  }
 ],
 "metadata": {
  "kernelspec": {
   "display_name": "Python 3 (ipykernel)",
   "language": "python",
   "name": "python3"
  },
  "language_info": {
   "codemirror_mode": {
    "name": "ipython",
    "version": 3
   },
   "file_extension": ".py",
   "mimetype": "text/x-python",
   "name": "python",
   "nbconvert_exporter": "python",
   "pygments_lexer": "ipython3",
   "version": "3.12.4"
  }
 },
 "nbformat": 4,
 "nbformat_minor": 5
}
