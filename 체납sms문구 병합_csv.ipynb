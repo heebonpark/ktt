{
 "cells": [
  {
   "cell_type": "code",
   "execution_count": null,
   "id": "b2234154-bbaa-4f2e-bbb5-04daa79a1833",
   "metadata": {},
   "outputs": [],
   "source": [
    "import os\n",
    "import pandas as pd\n",
    "\n",
    "# CSV 파일들이 있는 디렉토리 경로\n",
    "directory = r\"D:\\체납\\11월체납활동\\본사sms발송내역\"\n",
    "\n",
    "# 폴더 내 모든 CSV 파일을 리스트로 가져오기\n",
    "csv_files = [file for file in os.listdir(directory) if file.endswith('.csv')]\n",
    "\n",
    "# 모든 CSV 파일을 읽어들이고, 하나의 DataFrame으로 병합\n",
    "df_list = []\n",
    "for file in csv_files:\n",
    "    file_path = os.path.join(directory, file)\n",
    "    # 인코딩 지정\n",
    "    df = pd.read_csv(file_path, encoding='cp949')  # 또는 encoding='euc-kr' 시도\n",
    "    df_list.append(df)\n",
    "\n",
    "# 모든 DataFrame을 하나로 병합\n",
    "merged_df = pd.concat(df_list, ignore_index=True)\n",
    "\n",
    "# 병합된 파일을 저장할 경로\n",
    "output_file = os.path.join(directory, \"merged_output.csv\")\n",
    "\n",
    "# 병합된 데이터 저장\n",
    "merged_df.to_csv(output_file, index=False, encoding='utf-8-sig')\n",
    "\n",
    "# 병합된 데이터 미리보기\n",
    "print(\"병합된 데이터의 상위 5개 행:\")\n",
    "print(merged_df.head())\n",
    "\n",
    "print(f\"\\n병합된 파일이 성공적으로 저장되었습니다. 저장된 파일 경로: {output_file}\")"
   ]
  }
 ],
 "metadata": {
  "kernelspec": {
   "display_name": "Python 3 (ipykernel)",
   "language": "python",
   "name": "python3"
  },
  "language_info": {
   "codemirror_mode": {
    "name": "ipython",
    "version": 3
   },
   "file_extension": ".py",
   "mimetype": "text/x-python",
   "name": "python",
   "nbconvert_exporter": "python",
   "pygments_lexer": "ipython3",
   "version": "3.12.4"
  }
 },
 "nbformat": 4,
 "nbformat_minor": 5
}
