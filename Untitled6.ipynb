{
 "cells": [
  {
   "cell_type": "code",
   "execution_count": 1,
   "id": "9f960899-16a3-4735-a72a-110720d18e94",
   "metadata": {},
   "outputs": [
    {
     "name": "stdout",
     "output_type": "stream",
     "text": [
      "Defaulting to user installation because normal site-packages is not writeable\n",
      "Requirement already satisfied: pandas in c:\\programdata\\anaconda3\\lib\\site-packages (2.2.2)\n",
      "Requirement already satisfied: openpyxl in c:\\programdata\\anaconda3\\lib\\site-packages (3.1.2)\n",
      "Requirement already satisfied: chardet in c:\\users\\user\\appdata\\roaming\\python\\python312\\site-packages (3.0.4)\n",
      "Requirement already satisfied: numpy>=1.26.0 in c:\\programdata\\anaconda3\\lib\\site-packages (from pandas) (1.26.4)\n",
      "Requirement already satisfied: python-dateutil>=2.8.2 in c:\\programdata\\anaconda3\\lib\\site-packages (from pandas) (2.9.0.post0)\n",
      "Requirement already satisfied: pytz>=2020.1 in c:\\programdata\\anaconda3\\lib\\site-packages (from pandas) (2024.1)\n",
      "Requirement already satisfied: tzdata>=2022.7 in c:\\programdata\\anaconda3\\lib\\site-packages (from pandas) (2023.3)\n",
      "Requirement already satisfied: et-xmlfile in c:\\programdata\\anaconda3\\lib\\site-packages (from openpyxl) (1.1.0)\n",
      "Requirement already satisfied: six>=1.5 in c:\\programdata\\anaconda3\\lib\\site-packages (from python-dateutil>=2.8.2->pandas) (1.16.0)\n",
      "Note: you may need to restart the kernel to use updated packages.\n"
     ]
    }
   ],
   "source": [
    "pip install pandas openpyxl chardet"
   ]
  },
  {
   "cell_type": "code",
   "execution_count": 21,
   "id": "0c20e0ed-c42c-40f2-9c63-c8d20e925801",
   "metadata": {},
   "outputs": [
    {
     "ename": "IndentationError",
     "evalue": "expected an indented block after 'for' statement on line 16 (1455716584.py, line 17)",
     "output_type": "error",
     "traceback": [
      "\u001b[1;36m  Cell \u001b[1;32mIn[21], line 17\u001b[1;36m\u001b[0m\n\u001b[1;33m    if col in df.columns:\u001b[0m\n\u001b[1;37m    ^\u001b[0m\n\u001b[1;31mIndentationError\u001b[0m\u001b[1;31m:\u001b[0m expected an indented block after 'for' statement on line 16\n"
     ]
    }
   ],
   "source": [
    "import pandas as pd\n",
    "\n",
    "# 🔹 파일 경로 (.cs 확장자이지만 CSV 형식)\n",
    "file_path = r\"D:\\ㅁ2024년 고ARPU 타겟고객 활동결과 및 해지방어 파이프라인 점검\\2025년 1Q\\본사확정 타겟_2025.02.07\\본사확정 타겟_2025.02.07_강북강원.cs\"\n",
    "\n",
    "# 🔹 저장할 엑셀 파일 경로 (.xlsx)\n",
    "excel_path = file_path.replace(\".cs\", \".xlsx\")\n",
    "\n",
    "# 🔹 날짜 형식을 변환할 컬럼\n",
    "date_cols = [\"계약종료일\", \"계약시작일\", \"최초서비스개시일\"]\n",
    "\n",
    "# 🔹 CSV 파일 읽기 (인코딩 무시)\n",
    "df = pd.read_csv(file_path, encoding_errors='ignore')\n",
    "\n",
    "# 🔹 날짜 컬럼 변환 (yyyy-mm-dd 형식)\n",
    "for col in date_cols:\n",
    "if col in df.columns:\n",
    "df[col] = pd.to_datetime(df[col], errors='coerce').dt.strftime('%Y-%m-%d')\n",
    "\n",
    "# 🔹 변환된 데이터 다시 저장 (CSV & Excel)\n",
    "df.to_csv(file_path, index=False, encoding='utf-8-sig')  # 원본 CSV 업데이트\n",
    "df.to_excel(excel_path, index=False, engine='openpyxl')  # 엑셀 파일 저장\n",
    "\n",
    "print(\"✅ 날짜 형식 변환 완료! 엑셀 파일 저장:\", excel_path)"
   ]
  },
  {
   "cell_type": "code",
   "execution_count": 31,
   "id": "82d4af5d-8371-4335-bc8f-274952be581b",
   "metadata": {},
   "outputs": [
    {
     "ename": "IndentationError",
     "evalue": "expected an indented block after 'if' statement on line 14 (641408773.py, line 15)",
     "output_type": "error",
     "traceback": [
      "\u001b[1;36m  Cell \u001b[1;32mIn[31], line 15\u001b[1;36m\u001b[0m\n\u001b[1;33m    print(f\"❌ 파일이 존재하지 않습니다. 경로를 확인하세요: {file_path}\")\u001b[0m\n\u001b[1;37m    ^\u001b[0m\n\u001b[1;31mIndentationError\u001b[0m\u001b[1;31m:\u001b[0m expected an indented block after 'if' statement on line 14\n"
     ]
    }
   ],
   "source": [
    "import pandas as pd\n",
    "import os\n",
    "\n",
    "# 🔹 파일 경로 (.cs 확장자이지만 CSV 형식)\n",
    "file_path = r\"D:\\ㅁ2024년 고ARPU 타겟고객 활동결과 및 해지방어 파이프라인 점검\\2025년 1Q\\본사확정 타겟_2025.02.07\\본사확정 타겟_2025.02.07_강북강원.cs\"\n",
    "\n",
    "# 🔹 저장할 엑셀 파일 경로 (.xlsx)\n",
    "excel_path = file_path.replace(\".cs\", \".xlsx\")\n",
    "\n",
    "# 🔹 날짜 형식을 변환할 컬럼\n",
    "date_cols = [\"계약종료일\", \"계약시작일\", \"최초서비스개시일\"]\n",
    "\n",
    "# 🔹 파일 존재 여부 확인\n",
    "if not os.path.exists(file_path):\n",
    "print(f\"❌ 파일이 존재하지 않습니다. 경로를 확인하세요: {file_path}\")\n",
    "else:\n",
    "try:\n",
    "# 🔹 CSV 파일 읽기 (인코딩 무시)\n",
    "df = pd.read_csv(file_path, encoding_errors='ignore')\n",
    "\n",
    "# 🔹 데이터 검증: 파일이 비어 있는지 확인\n",
    "if df.empty:\n",
    "print(\"⚠️ 파일이 비어 있습니다. 확인 후 다시 실행하세요.\")\n",
    "else:\n",
    "print(\"✅ 파일 읽기 성공!\")\n",
    "\n",
    "# 🔹 헤더 확인 및 날짜 변환\n",
    "for col in date_cols:\n",
    "if col in df.columns:\n",
    "print(f\"🔄 '{col}' 열을 날짜 형식으로 변환 중...\")\n",
    "# 날짜 변환 (오류 발생 시 NaT 처리)\n",
    "df[col] = pd.to_datetime(df[col], errors='coerce').dt.strftime('%Y-%m-%d')\n",
    "else:\n",
    "print(f\"⚠️ '{col}' 열이 파일에 없습니다. 건너뜁니다.\")\n",
    "\n",
    "# 🔹 변환된 데이터 저장 (CSV & Excel)\n",
    "df.to_csv(file_path, index=False, encoding='utf-8-sig')  # 원본 CSV 업데이트\n",
    "df.to_excel(excel_path, index=False, engine='openpyxl')  # 엑셀 파일 저장\n",
    "print(\"✅ 날짜 형식 변환 완료! 엑셀 파일 저장:\", excel_path)\n",
    "\n",
    "except Exception as e:\n",
    "print(f\"⚠️ 처리 중 오류가 발생했습니다: {e}\")"
   ]
  },
  {
   "cell_type": "code",
   "execution_count": 33,
   "id": "da4bc259-398d-44bd-9101-5fd6c4c0d8bf",
   "metadata": {},
   "outputs": [
    {
     "ename": "IndentationError",
     "evalue": "expected an indented block after 'if' statement on line 6 (2556564887.py, line 7)",
     "output_type": "error",
     "traceback": [
      "\u001b[1;36m  Cell \u001b[1;32mIn[33], line 7\u001b[1;36m\u001b[0m\n\u001b[1;33m    print(\"✅ 파일이 존재합니다!\")\u001b[0m\n\u001b[1;37m    ^\u001b[0m\n\u001b[1;31mIndentationError\u001b[0m\u001b[1;31m:\u001b[0m expected an indented block after 'if' statement on line 6\n"
     ]
    }
   ],
   "source": [
    "import os\n",
    "\n",
    "file_path = r\"D:\\ㅁ2024년 고ARPU 타겟고객 활동결과 및 해지방어 파이프라인 점검\\2025년 1Q\\본사확정 타겟_2025.02.07\\본사확정 타겟_2025.02.07_강북강원.cs\"\n",
    "\n",
    "# 경로 확인\n",
    "if os.path.exists(file_path):\n",
    "print(\"✅ 파일이 존재합니다!\")\n",
    "else:\n",
    "print(\"❌ 파일이 존재하지 않습니다. 경로를 확인하세요.\")"
   ]
  },
  {
   "cell_type": "code",
   "execution_count": 35,
   "id": "fb6fb4f1-4e18-4fc8-93f7-08083f7f2c7a",
   "metadata": {},
   "outputs": [
    {
     "ename": "IndentationError",
     "evalue": "expected an indented block after 'if' statement on line 14 (2528366677.py, line 15)",
     "output_type": "error",
     "traceback": [
      "\u001b[1;36m  Cell \u001b[1;32mIn[35], line 15\u001b[1;36m\u001b[0m\n\u001b[1;33m    print(f\"❌ 파일이 존재하지 않습니다. 경로를 확인하세요: {file_path}\")\u001b[0m\n\u001b[1;37m    ^\u001b[0m\n\u001b[1;31mIndentationError\u001b[0m\u001b[1;31m:\u001b[0m expected an indented block after 'if' statement on line 14\n"
     ]
    }
   ],
   "source": [
    "import pandas as pd\n",
    "import os\n",
    "\n",
    "# 🔹 파일 경로 (.cs 확장자이지만 CSV 형식)\n",
    "file_path = r\"D:\\ㅁ2024년 고ARPU 타겟고객 활동결과 및 해지방어 파이프라인 점검\\2025년 1Q\\본사확정 타겟_2025.02.07\\본사확정 타겟_2025.02.07_강북강원.cs\"\n",
    "\n",
    "# 🔹 저장할 엑셀 파일 경로 (.xlsx)\n",
    "excel_path = file_path.replace(\".cs\", \".xlsx\")\n",
    "\n",
    "# 🔹 날짜 형식을 변환할 컬럼\n",
    "date_cols = [\"계약종료일\", \"계약시작일\", \"최초서비스개시일\"]\n",
    "\n",
    "# 파일 존재 여부 확인\n",
    "if not os.path.exists(file_path):\n",
    "print(f\"❌ 파일이 존재하지 않습니다. 경로를 확인하세요: {file_path}\")\n",
    "else:\n",
    "try:\n",
    "# CSV 파일 읽기\n",
    "df = pd.read_csv(file_path, encoding_errors='ignore')\n",
    "\n",
    "# 데이터 검증\n",
    "if df.empty:\n",
    "print(\"⚠️ 파일이 비어 있습니다. 확인 후 다시 실행하세요.\")\n",
    "else:\n",
    "print(\"✅ 파일 읽기 성공!\")\n",
    "\n",
    "# 날짜 변환\n",
    "for col in date_cols:\n",
    "if col in df.columns:\n",
    "print(f\"🔄 '{col}' 열을 날짜 형식으로 변환 중...\")\n",
    "df[col] = pd.to_datetime(df[col], errors='coerce').dt.strftime('%Y-%m-%d')\n",
    "\n",
    "# 변환된 데이터 저장\n",
    "df.to_csv(file_path, index=False, encoding='utf-8-sig')\n",
    "df.to_excel(excel_path, index=False, engine='openpyxl')\n",
    "print(\"✅ 작업 완료! 파일이 저장되었습니다:\", excel_path)\n",
    "\n",
    "except Exception as e:\n",
    "print(f\"⚠️ 처리 중 오류가 발생했습니다: {e}\")"
   ]
  },
  {
   "cell_type": "code",
   "execution_count": 37,
   "id": "578e58bf-c2b0-432c-b7be-97a79def6584",
   "metadata": {},
   "outputs": [
    {
     "ename": "IndentationError",
     "evalue": "expected an indented block after 'if' statement on line 14 (1057131993.py, line 15)",
     "output_type": "error",
     "traceback": [
      "\u001b[1;36m  Cell \u001b[1;32mIn[37], line 15\u001b[1;36m\u001b[0m\n\u001b[1;33m    print(\"✅ 파일이 존재합니다!\")\u001b[0m\n\u001b[1;37m    ^\u001b[0m\n\u001b[1;31mIndentationError\u001b[0m\u001b[1;31m:\u001b[0m expected an indented block after 'if' statement on line 14\n"
     ]
    }
   ],
   "source": [
    "import pandas as pd\n",
    "import os\n",
    "\n",
    "# 🔹 파일 경로 (.cs 확장자이지만 CSV 형식)\n",
    "file_path = r\"D:\\ㅁ2024년 고ARPU 타겟고객 활동결과 및 해지방어 파이프라인 점검\\2025년 1Q\\본사확정 타겟_2025.02.07\\본사확정 타겟_2025.02.07_강북강원.cs\"\n",
    "\n",
    "# 🔹 저장할 엑셀 파일 경로 (.xlsx)\n",
    "excel_path = file_path.replace(\".cs\", \".xlsx\")\n",
    "\n",
    "# 🔹 날짜 형식을 변환할 컬럼\n",
    "date_cols = [\"계약종료일\", \"계약시작일\", \"최초서비스개시일\"]\n",
    "\n",
    "# 🔹 파일 존재 여부 확인\n",
    "if os.path.exists(file_path):\n",
    "print(\"✅ 파일이 존재합니다!\")\n",
    "\n",
    "try:\n",
    "# 🔹 CSV 파일 읽기 (인코딩 무시)\n",
    "df = pd.read_csv(file_path, encoding_errors='ignore')\n",
    "\n",
    "# 🔹 데이터 검증: 파일이 비어 있는지 확인\n",
    "if df.empty:\n",
    "print(\"⚠️ 파일이 비어 있습니다. 확인 후 다시 실행하세요.\")\n",
    "else:\n",
    "print(\"✅ 파일 읽기 성공!\")\n",
    "\n",
    "# 🔹 날짜 컬럼 변환 (yyyy-mm-dd 형식)\n",
    "for col in date_cols:\n",
    "if col in df.columns:\n",
    "print(f\"🔄 '{col}' 열을 날짜 형식으로 변환 중...\")\n",
    "# 날짜 변환 (오류 발생 시 NaT 처리)\n",
    "df[col] = pd.to_datetime(df[col], errors='coerce').dt.strftime('%Y-%m-%d')\n",
    "else:\n",
    "print(f\"⚠️ '{col}' 열이 파일에 없습니다. 건너뜁니다.\")\n",
    "\n",
    "# 🔹 변환된 데이터 저장\n",
    "df.to_csv(file_path, index=False, encoding='utf-8-sig')  # 원본 CSV 업데이트\n",
    "df.to_excel(excel_path, index=False, engine='openpyxl')  # 엑셀 파일 저장\n",
    "print(\"✅ 작업 완료! 파일이 저장되었습니다:\", excel_path)\n",
    "\n",
    "except Exception as e:\n",
    "print(f\"⚠️ 처리 중 오류가 발생했습니다: {e}\")\n",
    "\n",
    "else:\n",
    "print(f\"❌ 파일이 존재하지 않습니다. 경로를 확인하세요: {file_path}\")"
   ]
  },
  {
   "cell_type": "code",
   "execution_count": 39,
   "id": "eb051e10-1e05-4fcc-a65a-68cc557c62fd",
   "metadata": {},
   "outputs": [
    {
     "ename": "IndentationError",
     "evalue": "expected an indented block after 'if' statement on line 14 (2433612711.py, line 15)",
     "output_type": "error",
     "traceback": [
      "\u001b[1;36m  Cell \u001b[1;32mIn[39], line 15\u001b[1;36m\u001b[0m\n\u001b[1;33m    print(\"✅ 파일이 존재합니다!\")  # 파일이 존재할 경우 실행\u001b[0m\n\u001b[1;37m    ^\u001b[0m\n\u001b[1;31mIndentationError\u001b[0m\u001b[1;31m:\u001b[0m expected an indented block after 'if' statement on line 14\n"
     ]
    }
   ],
   "source": [
    "import pandas as pd\n",
    "import os\n",
    "\n",
    "# 🔹 파일 경로 (.cs 확장자이지만 CSV 형식)\n",
    "file_path = r\"D:\\ㅁ2024년 고ARPU 타겟고객 활동결과 및 해지방어 파이프라인 점검\\2025년 1Q\\본사확정 타겟_2025.02.07\\본사확정 타겟_2025.02.07_강북강원.cs\"\n",
    "\n",
    "# 🔹 저장할 엑셀 파일 경로 (.xlsx)\n",
    "excel_path = file_path.replace(\".cs\", \".xlsx\")\n",
    "\n",
    "# 🔹 날짜 형식을 변환할 컬럼\n",
    "date_cols = [\"계약종료일\", \"계약시작일\", \"최초서비스개시일\"]\n",
    "\n",
    "# 🔹 파일 존재 여부 확인\n",
    "if os.path.exists(file_path):\n",
    "print(\"✅ 파일이 존재합니다!\")  # 파일이 존재할 경우 실행\n",
    "\n",
    "try:\n",
    "# 🔹 CSV 파일 읽기 (인코딩 무시)\n",
    "df = pd.read_csv(file_path, encoding_errors='ignore')\n",
    "\n",
    "# 🔹 데이터 검증: 파일이 비어 있는지 확인\n",
    "if df.empty:\n",
    "print(\"⚠️ 파일이 비어 있습니다. 확인 후 다시 실행하세요.\")\n",
    "else:\n",
    "print(\"✅ 파일 읽기 성공!\")\n",
    "\n",
    "# 🔹 날짜 컬럼 변환 (yyyy-mm-dd 형식)\n",
    "for col in date_cols:\n",
    "if col in df.columns:\n",
    "print(f\"🔄 '{col}' 열을 날짜 형식으로 변환 중...\")\n",
    "# 날짜 변환 (오류 발생 시 NaT 처리)\n",
    "df[col] = pd.to_datetime(df[col], errors='coerce').dt.strftime('%Y-%m-%d')\n",
    "else:\n",
    "print(f\"⚠️ '{col}' 열이 파일에 없습니다. 건너뜁니다.\")\n",
    "\n",
    "# 🔹 변환된 데이터 저장\n",
    "df.to_csv(file_path, index=False, encoding='utf-8-sig')  # 원본 CSV 업데이트\n",
    "df.to_excel(excel_path, index=False, engine='openpyxl')  # 엑셀 파일 저장\n",
    "print(\"✅ 작업 완료! 파일이 저장되었습니다:\", excel_path)\n",
    "\n",
    "except Exception as e:\n",
    "print(f\"⚠️ 처리 중 오류가 발생했습니다: {e}\")\n",
    "\n",
    "else:\n",
    "print(f\"❌ 파일이 존재하지 않습니다. 경로를 확인하세요: {file_path}\")"
   ]
  },
  {
   "cell_type": "code",
   "execution_count": 41,
   "id": "593ae3d9-183a-4674-9551-277be57caa8a",
   "metadata": {},
   "outputs": [
    {
     "ename": "IndentationError",
     "evalue": "expected an indented block after 'if' statement on line 14 (2433612711.py, line 15)",
     "output_type": "error",
     "traceback": [
      "\u001b[1;36m  Cell \u001b[1;32mIn[41], line 15\u001b[1;36m\u001b[0m\n\u001b[1;33m    print(\"✅ 파일이 존재합니다!\")  # 파일이 존재할 경우 실행\u001b[0m\n\u001b[1;37m    ^\u001b[0m\n\u001b[1;31mIndentationError\u001b[0m\u001b[1;31m:\u001b[0m expected an indented block after 'if' statement on line 14\n"
     ]
    }
   ],
   "source": [
    "import pandas as pd\n",
    "import os\n",
    "\n",
    "# 🔹 파일 경로 (.cs 확장자이지만 CSV 형식)\n",
    "file_path = r\"D:\\ㅁ2024년 고ARPU 타겟고객 활동결과 및 해지방어 파이프라인 점검\\2025년 1Q\\본사확정 타겟_2025.02.07\\본사확정 타겟_2025.02.07_강북강원.cs\"\n",
    "\n",
    "# 🔹 저장할 엑셀 파일 경로 (.xlsx)\n",
    "excel_path = file_path.replace(\".cs\", \".xlsx\")\n",
    "\n",
    "# 🔹 날짜 형식을 변환할 컬럼\n",
    "date_cols = [\"계약종료일\", \"계약시작일\", \"최초서비스개시일\"]\n",
    "\n",
    "# 🔹 파일 존재 여부 확인\n",
    "if os.path.exists(file_path):\n",
    "print(\"✅ 파일이 존재합니다!\")  # 파일이 존재할 경우 실행\n",
    "\n",
    "try:\n",
    "# 🔹 CSV 파일 읽기 (인코딩 무시)\n",
    "df = pd.read_csv(file_path, encoding_errors='ignore')\n",
    "\n",
    "# 🔹 데이터 검증: 파일이 비어 있는지 확인\n",
    "if df.empty:\n",
    "print(\"⚠️ 파일이 비어 있습니다. 확인 후 다시 실행하세요.\")\n",
    "else:\n",
    "print(\"✅ 파일 읽기 성공!\")\n",
    "\n",
    "# 🔹 날짜 컬럼 변환 (yyyy-mm-dd 형식)\n",
    "for col in date_cols:\n",
    "if col in df.columns:\n",
    "print(f\"🔄 '{col}' 열을 날짜 형식으로 변환 중...\")\n",
    "# 날짜 변환 (오류 발생 시 NaT 처리)\n",
    "df[col] = pd.to_datetime(df[col], errors='coerce').dt.strftime('%Y-%m-%d')\n",
    "else:\n",
    "print(f\"⚠️ '{col}' 열이 파일에 없습니다. 건너뜁니다.\")\n",
    "\n",
    "# 🔹 변환된 데이터 저장\n",
    "df.to_csv(file_path, index=False, encoding='utf-8-sig')  # 원본 CSV 업데이트\n",
    "df.to_excel(excel_path, index=False, engine='openpyxl')  # 엑셀 파일 저장\n",
    "print(\"✅ 작업 완료! 파일이 저장되었습니다:\", excel_path)\n",
    "\n",
    "except Exception as e:\n",
    "print(f\"⚠️ 처리 중 오류가 발생했습니다: {e}\")\n",
    "\n",
    "else:\n",
    "print(f\"❌ 파일이 존재하지 않습니다. 경로를 확인하세요: {file_path}\")"
   ]
  },
  {
   "cell_type": "code",
   "execution_count": null,
   "id": "e3284889-b149-4bef-a5d0-8aee4c22f252",
   "metadata": {},
   "outputs": [],
   "source": []
  },
  {
   "cell_type": "code",
   "execution_count": null,
   "id": "76044d36-196e-46ca-803c-690e965bfc98",
   "metadata": {},
   "outputs": [],
   "source": []
  },
  {
   "cell_type": "code",
   "execution_count": null,
   "id": "c00c61d8-c88b-4096-9f25-c375817ca960",
   "metadata": {},
   "outputs": [],
   "source": []
  },
  {
   "cell_type": "code",
   "execution_count": null,
   "id": "8b912177-6de7-42d6-9721-1e683c8e38e8",
   "metadata": {},
   "outputs": [],
   "source": []
  },
  {
   "cell_type": "code",
   "execution_count": null,
   "id": "415ddff8-5e27-47cb-b8a3-4b122cffed52",
   "metadata": {},
   "outputs": [],
   "source": []
  }
 ],
 "metadata": {
  "kernelspec": {
   "display_name": "Python 3 (ipykernel)",
   "language": "python",
   "name": "python3"
  },
  "language_info": {
   "codemirror_mode": {
    "name": "ipython",
    "version": 3
   },
   "file_extension": ".py",
   "mimetype": "text/x-python",
   "name": "python",
   "nbconvert_exporter": "python",
   "pygments_lexer": "ipython3",
   "version": "3.12.4"
  }
 },
 "nbformat": 4,
 "nbformat_minor": 5
}
