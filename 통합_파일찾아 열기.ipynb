{
 "cells": [
  {
   "cell_type": "code",
   "execution_count": 1,
   "id": "c860f7da-0488-4c79-9eda-6cc774c47c86",
   "metadata": {},
   "outputs": [
    {
     "ename": "SyntaxError",
     "evalue": "invalid syntax (3852036582.py, line 1)",
     "output_type": "error",
     "traceback": [
      "\u001b[1;36m  Cell \u001b[1;32mIn[1], line 1\u001b[1;36m\u001b[0m\n\u001b[1;33m    pip install openpyxl\u001b[0m\n\u001b[1;37m        ^\u001b[0m\n\u001b[1;31mSyntaxError\u001b[0m\u001b[1;31m:\u001b[0m invalid syntax\n"
     ]
    }
   ],
   "source": [
    "!pip install openpyxl"
   ]
  },
  {
   "cell_type": "code",
   "execution_count": null,
   "id": "90199ebd-1c68-497d-80d2-9e610629c96a",
   "metadata": {},
   "outputs": [],
   "source": [
    "pip install pandas"
   ]
  },
  {
   "cell_type": "code",
   "execution_count": null,
   "id": "c51c5456-cb14-43d8-8721-0a21055d231d",
   "metadata": {},
   "outputs": [],
   "source": [
    "pip install pillow"
   ]
  },
  {
   "cell_type": "code",
   "execution_count": null,
   "id": "9d08d3e7-4811-49b2-a4b2-bb4f5761ba7e",
   "metadata": {},
   "outputs": [],
   "source": [
    "```\n",
    "\n",
    "---\n",
    "\n",
    "### 🔧 **설명**\n",
    "1. **파일 검색**:\n",
    "   - `search_files(keyword, folder_path=\"D:/\")`: D 드라이브에서 입력된 키워드로 `xlsx`, `xls`, `pdf`, `csv`, `jpg` 파일을 검색합니다.\n",
    "   - 파일 경로는 `glob.glob`의 재귀 검색(`**/`)을 통해 모든 하위 폴더를 포함합니다.\n",
    "\n",
    "2. **파일 목록 표시**:\n",
    "   - `display_files(files)`: 검색된 파일 목록을 화면에 번호와 함께 출력합니다.\n",
    "\n",
    "3. **파일 선택 및 열기**:\n",
    "   - `select_file(files)`: 사용자에게 열고 싶은 파일의 번호를 입력받아 선택합니다.\n",
    "   - 파일이 선택되면 `open_file(file)`이 호출되어 파일을 열게 됩니다.\n",
    "   \n",
    "4. **파일 열기**:\n",
    "   - **엑셀 파일**(`.xlsx`, `.xls`): `openpyxl`을 사용하여 파일을 엽니다.\n",
    "   - **PDF 파일**: `subprocess.run(['open', file])`로 기본 PDF 뷰어로 파일을 엽니다.\n",
    "   - **CSV 파일**: `pandas`의 `read_csv()`로 파일을 읽고 처음 5줄을 출력합니다.\n",
    "   - **JPG 파일**: `PIL.Image`의 `Image.open(file).show()`로 이미지를 엽니다.\n",
    "\n",
    "---\n",
    "\n",
    "### 📦 **필요한 라이브러리**\n",
    "```bash\n",
    "pip install openpyxl\n",
    "pip install pandas\n",
    "pip install pillow\n",
    "```\n",
    "\n",
    "- **openpyxl**: 엑셀 파일(`xlsx`, `xls`)을 읽고 열기 위함\n",
    "- **pandas**: CSV 파일을 열기 위함\n",
    "- **Pillow (PIL)**: JPG 파일을 열기 위함\n",
    "\n",
    "---\n",
    "\n",
    "### 📘 **사용 예시**\n",
    "1. **프로그램 실행**:\n",
    "   ```\n",
    "   🔍 검색할 키워드를 입력하세요: 보고서\n",
    "   ```\n",
    "\n",
    "2. **검색된 파일 목록**:\n",
    "   ```\n",
    "   🔍 검색된 파일 목록:\n",
    "   [1] D:/Documents/보고서_2024.xlsx\n",
    "   [2] D:/Data/월별_보고서.pdf\n",
    "   [3] D:/Images/보고서_2024.jpg\n",
    "   ```\n",
    "\n",
    "3. **파일 선택**:\n",
    "   ```\n",
    "   📘 열고 싶은 파일의 번호를 입력하세요 (종료하려면 0 입력): 2\n",
    "   ```\n",
    "\n",
    "4. **파일 열기**:\n",
    "   - `2`를 입력하면 `D:/Data/월별_보고서.pdf`가 기본 PDF 뷰어로 열립니다.\n",
    "\n",
    "---\n",
    "\n",
    "### 🚀 **확장 기능**\n",
    "- **파일 삭제 기능 추가**: 사용자가 파일을 삭제할 수 있도록 추가할 수 있습니다.\n",
    "- **여러 파일 열기**: 사용자가 여러 개의 파일을 한 번에 선택할 수 있도록 확장할 수 있습니다.\n",
    "- **파일 확장자 추가**: 필요에 따라 `png`, `docx`, `txt` 등 파일 확장자를 추가할 수 있습니다.\n"
   ]
  },
  {
   "cell_type": "code",
   "execution_count": 9,
   "id": "962161a0-83cc-4c79-90f8-67c663322066",
   "metadata": {},
   "outputs": [
    {
     "name": "stdin",
     "output_type": "stream",
     "text": [
      "🔍 검색할 키워드를 입력하세요:  김병현사업장 계약서.pdf\n"
     ]
    },
    {
     "name": "stdout",
     "output_type": "stream",
     "text": [
      "🔍 검색된 파일이 없습니다.\n"
     ]
    }
   ],
   "source": [
    "import os\n",
    "import glob\n",
    "import subprocess\n",
    "\n",
    "def search_files(keyword, folder_path=\"D:/\"):\n",
    "    \"\"\"\n",
    "    D 드라이브에서 특정 키워드가 포함된 파일을 검색합니다.\n",
    "    \"\"\"\n",
    "    file_patterns = [\n",
    "        os.path.join(folder_path, f\"**/*{keyword}*.xlsx\"),  # xlsx 파일\n",
    "        os.path.join(folder_path, f\"**/*{keyword}*.xls\"),   # xls 파일\n",
    "        os.path.join(folder_path, f\"**/*{keyword}*.pdf\"),   # pdf 파일\n",
    "        os.path.join(folder_path, f\"**/*{keyword}*.csv\"),   # csv 파일\n",
    "        os.path.join(folder_path, f\"**/*{keyword}*.jpg\")    # jpg 파일\n",
    "    ]\n",
    "    files_to_open = []\n",
    "    for pattern in file_patterns:\n",
    "        files_to_open.extend(glob.glob(pattern, recursive=True))\n",
    "    return files_to_open\n",
    "\n",
    "def display_files(files):\n",
    "    \"\"\"\n",
    "    검색된 파일 목록을 화면에 출력합니다.\n",
    "    \"\"\"\n",
    "    if not files:\n",
    "        print(\"🔍 검색된 파일이 없습니다.\")\n",
    "        return False\n",
    "   \n",
    "    print(\"\\n🔍 검색된 파일 목록:\")\n",
    "    for idx, file in enumerate(files):\n",
    "        print(f\"[{idx + 1}] {file}\")\n",
    "    return True\n",
    "\n",
    "def open_file(file):\n",
    "    \"\"\"\n",
    "    선택한 파일의 확장자에 따라 다른 프로그램으로 파일을 엽니다.\n",
    "    \"\"\"\n",
    "    file_extension = os.path.splitext(file)[1].lower()\n",
    "   \n",
    "    try:\n",
    "        if file_extension in ['.xlsx', '.xls']:  # Excel 파일\n",
    "            import openpyxl\n",
    "            wb = openpyxl.load_workbook(file)\n",
    "            print(f\"📂 엑셀 파일 {file}이 열렸습니다.\")\n",
    "        elif file_extension == '.pdf':  # PDF 파일\n",
    "            subprocess.run(['open', file], check=True)  # macOS에서 PDF 파일 열기\n",
    "            print(f\"📂 PDF 파일 {file}이 열렸습니다.\")\n",
    "        elif file_extension == '.csv':  # CSV 파일\n",
    "            import pandas as pd\n",
    "            df = pd.read_csv(file)\n",
    "            print(f\"📂 CSV 파일 {file}이 열렸습니다.\")\n",
    "            print(df.head())  # 첫 5줄을 출력\n",
    "        elif file_extension == '.jpg':  # JPG 파일\n",
    "            from PIL import Image\n",
    "            image = Image.open(file)\n",
    "            image.show()\n",
    "            print(f\"📂 JPG 파일 {file}이 열렸습니다.\")\n",
    "        else:\n",
    "            print(f\"❌ 지원되지 않는 파일 형식: {file_extension}\")\n",
    "    except ImportError as e:\n",
    "        print(f\"❌ 라이브러리가 설치되어 있지 않습니다: {e}\")\n",
    "    except Exception as e:\n",
    "        print(f\"❌ 파일 열기 오류: {e}\")\n",
    "\n",
    "def select_file(files):\n",
    "    \"\"\"\n",
    "    사용자가 열고 싶은 파일을 선택할 수 있도록 합니다.\n",
    "    \"\"\"\n",
    "    while True:\n",
    "        try:\n",
    "            file_num = int(input(\"\\n📘 열고 싶은 파일의 번호를 입력하세요 (종료하려면 0 입력): \"))\n",
    "            if file_num == 0:\n",
    "                print(\"🔴 프로그램이 종료되었습니다.\")\n",
    "                break\n",
    "            elif 1 <= file_num <= len(files):\n",
    "                file_to_open = files[file_num - 1]\n",
    "                print(f\"📂 선택된 파일: {file_to_open}\")\n",
    "                open_file(file_to_open)\n",
    "                break\n",
    "            else:\n",
    "                print(\"❌ 올바른 번호를 입력해주세요.\")\n",
    "        except ValueError:\n",
    "            print(\"❌ 숫자를 입력해주세요.\")\n",
    "\n",
    "def main():\n",
    "    keyword = input(\"🔍 검색할 키워드를 입력하세요: \")\n",
    "    files = search_files(keyword)\n",
    "   \n",
    "    if display_files(files):\n",
    "        select_file(files)\n",
    "\n",
    "if __name__ == \"__main__\":\n",
    "    main()\n"
   ]
  },
  {
   "cell_type": "code",
   "execution_count": null,
   "id": "bb794eb4-b3cd-4264-8ecd-3cc1e01740e1",
   "metadata": {},
   "outputs": [],
   "source": []
  },
  {
   "cell_type": "code",
   "execution_count": null,
   "id": "6e54d887-d29e-4f61-a964-eb31bb2b7f3c",
   "metadata": {},
   "outputs": [],
   "source": []
  },
  {
   "cell_type": "code",
   "execution_count": null,
   "id": "14c68b3b-c9f8-4cff-a813-86fb9641777d",
   "metadata": {},
   "outputs": [],
   "source": []
  }
 ],
 "metadata": {
  "kernelspec": {
   "display_name": "Python 3 (ipykernel)",
   "language": "python",
   "name": "python3"
  },
  "language_info": {
   "codemirror_mode": {
    "name": "ipython",
    "version": 3
   },
   "file_extension": ".py",
   "mimetype": "text/x-python",
   "name": "python",
   "nbconvert_exporter": "python",
   "pygments_lexer": "ipython3",
   "version": "3.12.4"
  }
 },
 "nbformat": 4,
 "nbformat_minor": 5
}
