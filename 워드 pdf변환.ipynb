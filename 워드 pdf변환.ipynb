{
 "cells": [
  {
   "cell_type": "code",
   "execution_count": 1,
   "id": "ca35ab8f-b6ee-4a5d-adcc-c3c65d2cf5f0",
   "metadata": {},
   "outputs": [
    {
     "name": "stdout",
     "output_type": "stream",
     "text": [
      "Defaulting to user installation because normal site-packages is not writeable\n",
      "Requirement already satisfied: pywin32 in c:\\programdata\\anaconda3\\lib\\site-packages (305.1)\n",
      "Note: you may need to restart the kernel to use updated packages.\n"
     ]
    }
   ],
   "source": [
    "pip install pywin32"
   ]
  },
  {
   "cell_type": "code",
   "execution_count": 17,
   "id": "5348347d-dd70-47c2-b876-5638fee2260d",
   "metadata": {},
   "outputs": [
    {
     "name": "stdout",
     "output_type": "stream",
     "text": [
      "오류 발생: (-2147352567, '예외가 발생했습니다.', (0, 'Microsoft Word', '이 파일은 읽기 전용이므로 저장할 수 없습니다.\\n변경 내용을 유지하려면 문서를 새 이름으로 저장하거나 다른 위치에 저장해야 합니다.', 'wdmain11.chm', 24635, -2147467259), None)\n"
     ]
    }
   ],
   "source": [
    "import win32com.client\n",
    "\n",
    "def save_open_word_to_pdf(output_path):\n",
    "    \"\"\"\n",
    "    열려 있는 Word 파일을 PDF로 변환하여 저장.\n",
    "   \n",
    "    Args:\n",
    "        output_path (str): PDF 파일로 저장할 경로.\n",
    "    \"\"\"\n",
    "    try:\n",
    "        # Word 애플리케이션 가져오기\n",
    "        word_app = win32com.client.Dispatch(\"Word.Application\")\n",
    "        word_app.Visible = True  # Word가 보이도록 설정 (옵션)\n",
    "       \n",
    "        # 열려 있는 Word 문서 가져오기\n",
    "        doc = word_app.ActiveDocument\n",
    "       \n",
    "        # PDF로 저장\n",
    "        doc.ExportAsFixedFormat(\n",
    "            OutputFileName=output_path,\n",
    "            ExportFormat=17,  # PDF 형식\n",
    "            OpenAfterExport=False,\n",
    "            OptimizeFor=0,    # 화면 최적화\n",
    "            CreateBookmarks=1,\n",
    "        )\n",
    "        print(f\"PDF 파일로 저장 완료: {output_path}\")\n",
    "    except Exception as e:\n",
    "        print(f\"오류 발생: {e}\")\n",
    "    finally:\n",
    "        # Word 애플리케이션 종료 (필요시)\n",
    "        word_app.Quit()\n",
    "\n",
    "# 실행 예제\n",
    "output_pdf_path = \"D:/강북강원본부/사업계획/20241230_강북강원본부_25년사업계획_최종_김종석.pdf\"  # 저장할 PDF 경로 지정\n",
    "save_open_word_to_pdf(output_pdf_path)"
   ]
  },
  {
   "cell_type": "code",
   "execution_count": null,
   "id": "8ec8d0b2-6afb-4414-b9cf-e0b4bec1cc5c",
   "metadata": {},
   "outputs": [],
   "source": []
  },
  {
   "cell_type": "code",
   "execution_count": null,
   "id": "8bb849dc-5eab-47f6-b519-14ed33437524",
   "metadata": {},
   "outputs": [],
   "source": []
  },
  {
   "cell_type": "code",
   "execution_count": null,
   "id": "97c82f14-6558-4fe4-ba51-ae056301c72b",
   "metadata": {},
   "outputs": [],
   "source": []
  },
  {
   "cell_type": "code",
   "execution_count": null,
   "id": "a6002ee6-cf5f-4e85-8824-e76155bdeb86",
   "metadata": {},
   "outputs": [],
   "source": []
  },
  {
   "cell_type": "code",
   "execution_count": null,
   "id": "77f896d4-8b25-4421-827d-25848f0e498d",
   "metadata": {},
   "outputs": [],
   "source": []
  },
  {
   "cell_type": "code",
   "execution_count": null,
   "id": "251024cc-359a-4835-a059-4093681812d5",
   "metadata": {},
   "outputs": [],
   "source": []
  }
 ],
 "metadata": {
  "kernelspec": {
   "display_name": "Python 3 (ipykernel)",
   "language": "python",
   "name": "python3"
  },
  "language_info": {
   "codemirror_mode": {
    "name": "ipython",
    "version": 3
   },
   "file_extension": ".py",
   "mimetype": "text/x-python",
   "name": "python",
   "nbconvert_exporter": "python",
   "pygments_lexer": "ipython3",
   "version": "3.12.4"
  }
 },
 "nbformat": 4,
 "nbformat_minor": 5
}
