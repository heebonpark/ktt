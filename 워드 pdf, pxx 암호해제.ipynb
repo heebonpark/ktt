{
 "cells": [
  {
   "cell_type": "markdown",
   "id": "93819d75-1cc3-45b4-a499-224db5d41e92",
   "metadata": {},
   "source": [
    "### 워드파일 pdf 압축"
   ]
  },
  {
   "cell_type": "code",
   "execution_count": null,
   "id": "7bbe8289-dbf8-4e1f-8aea-44b21431b32d",
   "metadata": {},
   "outputs": [],
   "source": [
    "pip install pywin32"
   ]
  },
  {
   "cell_type": "code",
   "execution_count": 69,
   "id": "651afb79-a2f6-49f7-a137-c5da73cefe24",
   "metadata": {},
   "outputs": [
    {
     "name": "stdout",
     "output_type": "stream",
     "text": [
      "Defaulting to user installation because normal site-packages is not writeable\n",
      "Requirement already satisfied: psutil in c:\\programdata\\anaconda3\\lib\\site-packages (5.9.0)\n",
      "Note: you may need to restart the kernel to use updated packages.\n"
     ]
    }
   ],
   "source": [
    "pip install psutil"
   ]
  },
  {
   "cell_type": "code",
   "execution_count": null,
   "id": "8ac732cf-bff1-4b18-84cc-df88beba7ceb",
   "metadata": {},
   "outputs": [],
   "source": []
  },
  {
   "cell_type": "code",
   "execution_count": null,
   "id": "3b2cf84f-fb67-45aa-a5bf-7f3851b7b749",
   "metadata": {},
   "outputs": [],
   "source": []
  },
  {
   "cell_type": "code",
   "execution_count": null,
   "id": "72c1e4e8-acf4-443b-a719-19d4fb9875ae",
   "metadata": {},
   "outputs": [],
   "source": []
  },
  {
   "cell_type": "code",
   "execution_count": 67,
   "id": "d99595c3-1b06-4813-83b6-f638b15ada98",
   "metadata": {},
   "outputs": [
    {
     "name": "stdout",
     "output_type": "stream",
     "text": [
      "열려 있는 PDF 파일이 .pxx 확장자로 저장되었습니다: D:/강북강원본부/20240930_장재혁_사외채널 인수인계/사외채널 인수인계/2024년 파트너 제도/파트너 제도\\.'25년_파트너 업무위탁 계약서 및 부속합의서(A)_241227 개정(Ver 1) (2).pxx\n"
     ]
    }
   ],
   "source": [
    "# 성공\n",
    "import os\n",
    "import shutil\n",
    "\n",
    "# 열려 있는 PDF 파일 경로 지정 (수동으로 지정 필요)\n",
    "open_pdf_path = r\"D:/강북강원본부/20240930_장재혁_사외채널 인수인계/사외채널 인수인계/2. 파트너 등록/.'25년_파트너 업무위탁 계약서 및 부속합의서(A)_241227 개정(Ver 1) (2).pdf\"  # 열려 있는 PDF 파일 경로\n",
    "\n",
    "\n",
    "output_folder = r\"D:/강북강원본부/20240930_장재혁_사외채널 인수인계/사외채널 인수인계/2024년 파트너 제도/파트너 제도\"  # 저장 경로\n",
    "\n",
    "# 출력 폴더 생성\n",
    "if not os.path.exists(output_folder):\n",
    "    os.makedirs(output_folder, exist_ok=True)\n",
    "\n",
    "# 파일 이름 및 확장자 처리\n",
    "base_name = os.path.splitext(os.path.basename(open_pdf_path))[0]\n",
    "pxx_path = os.path.join(output_folder, f\"{base_name}.pxx\")\n",
    "\n",
    "try:\n",
    "    # 파일이 열려 있는 상태에서도 복사 가능\n",
    "    shutil.copyfile(open_pdf_path, pxx_path)\n",
    "    print(f\"열려 있는 PDF 파일이 .pxx 확장자로 저장되었습니다: {pxx_path}\")\n",
    "except PermissionError:\n",
    "    print(f\"파일이 열려 있어 복사할 수 없습니다: {open_pdf_path}\")\n",
    "except FileNotFoundError:\n",
    "    print(f\"지정된 파일이 존재하지 않습니다: {open_pdf_path}\")\n",
    "except Exception as e:\n",
    "    print(f\"예기치 않은 오류 발생: {e}\")\n"
   ]
  },
  {
   "cell_type": "code",
   "execution_count": 71,
   "id": "b2a75c54-2b57-44f2-a4fd-9afc2f15e8f8",
   "metadata": {},
   "outputs": [
    {
     "name": "stdout",
     "output_type": "stream",
     "text": [
      "열려 있는 PDF 파일: [\"D:\\\\강북강원본부\\\\20240930_장재혁_사외채널 인수인계\\\\사외채널 인수인계\\\\2. 파트너 등록\\\\'25년_파트너 업무위탁 계약서 및 부속합의서(A)_241227 개정(Ver 1) (2).pdf\"]\n",
      "PDF 파일이 .pxx로 저장되었습니다: D:/강북강원본부/20240930_장재혁_사외채널 인수인계/사외채널 인수인계/2024년 파트너 제도/파트너 제도\\'25년_파트너 업무위탁 계약서 및 부속합의서(A)_241227 개정(Ver 1) (2).pxx\n"
     ]
    }
   ],
   "source": [
    "import psutil\n",
    "import os\n",
    "import shutil\n",
    "\n",
    "# 저장 경로 설정\n",
    "output_folder = \"D:/강북강원본부/20240930_장재혁_사외채널 인수인계/사외채널 인수인계/2024년 파트너 제도/파트너 제도\"  # .pxx 저장 폴더\n",
    "if not os.path.exists(output_folder):\n",
    "    os.makedirs(output_folder, exist_ok=True)\n",
    "\n",
    "def find_open_pdf_files():\n",
    "    \"\"\"열려 있는 PDF 파일 경로 찾기\"\"\"\n",
    "    pdf_files = []\n",
    "    for proc in psutil.process_iter(['pid', 'name', 'open_files']):\n",
    "        try:\n",
    "            if proc.info['open_files'] and 'Acrobat' in proc.info['name']:\n",
    "                for file in proc.info['open_files']:\n",
    "                    if file.path.endswith(\".pdf\"):\n",
    "                        pdf_files.append(file.path)\n",
    "        except (psutil.AccessDenied, psutil.NoSuchProcess):\n",
    "            pass\n",
    "    return pdf_files\n",
    "\n",
    "def convert_pdf_to_pxx(pdf_files):\n",
    "    \"\"\"PDF 파일을 .pxx로 저장\"\"\"\n",
    "    for pdf_path in pdf_files:\n",
    "        base_name = os.path.splitext(os.path.basename(pdf_path))[0]\n",
    "        pxx_path = os.path.join(output_folder, f\"{base_name}.pxx\")\n",
    "        try:\n",
    "            shutil.copyfile(pdf_path, pxx_path)\n",
    "            print(f\"PDF 파일이 .pxx로 저장되었습니다: {pxx_path}\")\n",
    "        except Exception as e:\n",
    "            print(f\"오류 발생 ({pdf_path}): {e}\")\n",
    "\n",
    "# 실행\n",
    "pdf_files = find_open_pdf_files()\n",
    "if pdf_files:\n",
    "    print(f\"열려 있는 PDF 파일: {pdf_files}\")\n",
    "    convert_pdf_to_pxx(pdf_files)\n",
    "else:\n",
    "    print(\"열려 있는 PDF 파일이 없습니다.\")"
   ]
  },
  {
   "cell_type": "code",
   "execution_count": null,
   "id": "daebf655-c6d3-4ff5-a573-59eaf090e4ce",
   "metadata": {},
   "outputs": [],
   "source": []
  },
  {
   "cell_type": "code",
   "execution_count": 73,
   "id": "37250088-bfd5-4944-bae1-de32b2736df4",
   "metadata": {},
   "outputs": [
    {
     "name": "stdout",
     "output_type": "stream",
     "text": [
      "열려 있는 PDF 파일: ['C:\\\\Users\\\\User\\\\Downloads\\\\고지점령 소통미팅_20250117(최종).pdf']\n",
      "PDF 파일이 .pxx로 저장되었습니다: D:/강북강원본부/고지점령\\고지점령 소통미팅_20250117(최종).pxx\n"
     ]
    }
   ],
   "source": [
    "import psutil\n",
    "import os\n",
    "import shutil\n",
    "\n",
    "# 저장 경로 설정\n",
    "output_folder = \"D:/강북강원본부/고지점령\"  # .pxx 저장 폴더\n",
    "if not os.path.exists(output_folder):\n",
    "    os.makedirs(output_folder, exist_ok=True)\n",
    "\n",
    "def find_open_pdf_files():\n",
    "    \"\"\"열려 있는 PDF 파일 경로 찾기\"\"\"\n",
    "    pdf_files = []\n",
    "    for proc in psutil.process_iter(['pid', 'name', 'open_files']):\n",
    "        try:\n",
    "            if proc.info['open_files'] and 'Acrobat' in proc.info['name']:\n",
    "                for file in proc.info['open_files']:\n",
    "                    if file.path.endswith(\".pdf\"):\n",
    "                        pdf_files.append(file.path)\n",
    "        except (psutil.AccessDenied, psutil.NoSuchProcess):\n",
    "            pass\n",
    "    return pdf_files\n",
    "\n",
    "def convert_pdf_to_pxx(pdf_files):\n",
    "    \"\"\"PDF 파일을 .pxx로 저장\"\"\"\n",
    "    for pdf_path in pdf_files:\n",
    "        base_name = os.path.splitext(os.path.basename(pdf_path))[0]\n",
    "        pxx_path = os.path.join(output_folder, f\"{base_name}.pxx\")\n",
    "        try:\n",
    "            shutil.copyfile(pdf_path, pxx_path)\n",
    "            print(f\"PDF 파일이 .pxx로 저장되었습니다: {pxx_path}\")\n",
    "        except Exception as e:\n",
    "            print(f\"오류 발생 ({pdf_path}): {e}\")\n",
    "\n",
    "# 실행\n",
    "pdf_files = find_open_pdf_files()\n",
    "if pdf_files:\n",
    "    print(f\"열려 있는 PDF 파일: {pdf_files}\")\n",
    "    convert_pdf_to_pxx(pdf_files)\n",
    "else:\n",
    "    print(\"열려 있는 PDF 파일이 없습니다.\")"
   ]
  },
  {
   "cell_type": "code",
   "execution_count": 81,
   "id": "6243bd2b-a7a3-47ac-899d-71b3634ed6d0",
   "metadata": {},
   "outputs": [
    {
     "name": "stdout",
     "output_type": "stream",
     "text": [
      "열려 있는 PDF 파일: ['C:\\\\Users\\\\User\\\\AppData\\\\Local\\\\Temp\\\\a265e296-bf47-43bd-a879-db65a3a4bdd9_파트너 등록 승인 요청서.zip.dd9\\\\파트너 등록 승인 요청서\\\\5. 사업자등록증._건승정보통신.pdf', 'C:\\\\Users\\\\User\\\\Downloads\\\\[KT그룹사보안문서]20250120_EV-safer_열화상감시서비스_KT강북강원본부 공유.pdf']\n",
      "PDF 파일이 .pxx로 저장되었습니다: D:/시설/정지\\5. 사업자등록증._건승정보통신.pxx\n",
      "PDF 파일이 .pxx로 저장되었습니다: D:/시설/정지\\[KT그룹사보안문서]20250120_EV-safer_열화상감시서비스_KT강북강원본부 공유.pxx\n"
     ]
    }
   ],
   "source": [
    "import psutil\n",
    "import os\n",
    "import shutil\n",
    "\n",
    "# 저장 경로 설정\n",
    "output_folder = \"D:/시설/정지\"  # .pxx 저장 폴더\n",
    "if not os.path.exists(output_folder):\n",
    "    os.makedirs(output_folder, exist_ok=True)\n",
    "\n",
    "def find_open_pdf_files():\n",
    "    \"\"\"열려 있는 PDF 파일 경로 찾기\"\"\"\n",
    "    pdf_files = []\n",
    "    for proc in psutil.process_iter(['pid', 'name', 'open_files']):\n",
    "        try:\n",
    "            if proc.info['open_files'] and 'Acrobat' in proc.info['name']:\n",
    "                for file in proc.info['open_files']:\n",
    "                    if file.path.endswith(\".pdf\"):\n",
    "                        pdf_files.append(file.path)\n",
    "        except (psutil.AccessDenied, psutil.NoSuchProcess):\n",
    "            pass\n",
    "    return pdf_files\n",
    "\n",
    "def convert_pdf_to_pxx(pdf_files):\n",
    "    \"\"\"PDF 파일을 .pxx로 저장\"\"\"\n",
    "    for pdf_path in pdf_files:\n",
    "        base_name = os.path.splitext(os.path.basename(pdf_path))[0]\n",
    "        pxx_path = os.path.join(output_folder, f\"{base_name}.pxx\")\n",
    "        try:\n",
    "            shutil.copyfile(pdf_path, pxx_path)\n",
    "            print(f\"PDF 파일이 .pxx로 저장되었습니다: {pxx_path}\")\n",
    "        except Exception as e:\n",
    "            print(f\"오류 발생 ({pdf_path}): {e}\")\n",
    "\n",
    "# 실행\n",
    "pdf_files = find_open_pdf_files()\n",
    "if pdf_files:\n",
    "    print(f\"열려 있는 PDF 파일: {pdf_files}\")\n",
    "    convert_pdf_to_pxx(pdf_files)\n",
    "else:\n",
    "    print(\"열려 있는 PDF 파일이 없습니다.\")"
   ]
  },
  {
   "cell_type": "code",
   "execution_count": 83,
   "id": "76dde9b7-f09c-499d-ac3c-87818b7bdf17",
   "metadata": {},
   "outputs": [
    {
     "name": "stdout",
     "output_type": "stream",
     "text": [
      "열려 있는 PDF 파일: ['D:\\\\강북강원본부\\\\20240930_장재혁_사외채널 인수인계\\\\사외채널 인수인계\\\\2. 파트너 등록\\\\파트너 등록\\\\2025년\\\\의정부\\\\6. 통장사본._건승정보통신.pdf', 'D:\\\\강북강원본부\\\\20240930_장재혁_사외채널 인수인계\\\\사외채널 인수인계\\\\2. 파트너 등록\\\\파트너 등록\\\\2025년\\\\의정부\\\\1. 파트너 업무위탁 계약서._건승정보통신.pdf']\n",
      "PDF 파일이 .pxx로 저장되었습니다: D:/강북강원본부/20240930_장재혁_사외채널 인수인계/사외채널 인수인계/2. 파트너 등록/파트너 등록/2025년/의정부\\6. 통장사본._건승정보통신.pxx\n",
      "PDF 파일이 .pxx로 저장되었습니다: D:/강북강원본부/20240930_장재혁_사외채널 인수인계/사외채널 인수인계/2. 파트너 등록/파트너 등록/2025년/의정부\\1. 파트너 업무위탁 계약서._건승정보통신.pxx\n"
     ]
    }
   ],
   "source": [
    "import psutil\n",
    "import os\n",
    "import shutil\n",
    "\n",
    "# 저장 경로 설정\n",
    "output_folder = \"D:/강북강원본부/20240930_장재혁_사외채널 인수인계/사외채널 인수인계/2. 파트너 등록/파트너 등록/2025년/의정부\"  # .pxx 저장 폴더\n",
    "\n",
    "if not os.path.exists(output_folder):\n",
    "    os.makedirs(output_folder, exist_ok=True)\n",
    "\n",
    "def find_open_pdf_files():\n",
    "    \"\"\"열려 있는 PDF 파일 경로 찾기\"\"\"\n",
    "    pdf_files = []\n",
    "    for proc in psutil.process_iter(['pid', 'name', 'open_files']):\n",
    "        try:\n",
    "            if proc.info['open_files'] and 'Acrobat' in proc.info['name']:\n",
    "                for file in proc.info['open_files']:\n",
    "                    if file.path.endswith(\".pdf\"):\n",
    "                        pdf_files.append(file.path)\n",
    "        except (psutil.AccessDenied, psutil.NoSuchProcess):\n",
    "            pass\n",
    "    return pdf_files\n",
    "\n",
    "def convert_pdf_to_pxx(pdf_files):\n",
    "    \"\"\"PDF 파일을 .pxx로 저장\"\"\"\n",
    "    for pdf_path in pdf_files:\n",
    "        base_name = os.path.splitext(os.path.basename(pdf_path))[0]\n",
    "        pxx_path = os.path.join(output_folder, f\"{base_name}.pxx\")\n",
    "        try:\n",
    "            shutil.copyfile(pdf_path, pxx_path)\n",
    "            print(f\"PDF 파일이 .pxx로 저장되었습니다: {pxx_path}\")\n",
    "        except Exception as e:\n",
    "            print(f\"오류 발생 ({pdf_path}): {e}\")\n",
    "\n",
    "# 실행\n",
    "pdf_files = find_open_pdf_files()\n",
    "if pdf_files:\n",
    "    print(f\"열려 있는 PDF 파일: {pdf_files}\")\n",
    "    convert_pdf_to_pxx(pdf_files)\n",
    "else:\n",
    "    print(\"열려 있는 PDF 파일이 없습니다.\")"
   ]
  },
  {
   "cell_type": "code",
   "execution_count": null,
   "id": "0b529e3a-ba6b-4015-b54f-2f30d1a98b5f",
   "metadata": {},
   "outputs": [],
   "source": []
  },
  {
   "cell_type": "code",
   "execution_count": null,
   "id": "35ca831a-90c4-4fbc-83fe-4ddddba468ed",
   "metadata": {},
   "outputs": [],
   "source": []
  },
  {
   "cell_type": "code",
   "execution_count": null,
   "id": "6d076127-2209-4fc7-ad5a-81f14d5d3b6b",
   "metadata": {},
   "outputs": [],
   "source": []
  }
 ],
 "metadata": {
  "kernelspec": {
   "display_name": "Python 3 (ipykernel)",
   "language": "python",
   "name": "python3"
  },
  "language_info": {
   "codemirror_mode": {
    "name": "ipython",
    "version": 3
   },
   "file_extension": ".py",
   "mimetype": "text/x-python",
   "name": "python",
   "nbconvert_exporter": "python",
   "pygments_lexer": "ipython3",
   "version": "3.12.4"
  }
 },
 "nbformat": 4,
 "nbformat_minor": 5
}
