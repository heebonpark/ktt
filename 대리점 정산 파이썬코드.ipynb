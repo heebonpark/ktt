{
 "cells": [
  {
   "cell_type": "code",
   "execution_count": 1,
   "id": "2f6bc27a-fa9a-49fa-8122-8647d15575e6",
   "metadata": {},
   "outputs": [
    {
     "ename": "ImportError",
     "evalue": "C extension: pandas.compat not built. If you want to import pandas from the source directory, you may need to run 'python setup.py build_ext' to build the C extensions first.",
     "output_type": "error",
     "traceback": [
      "\u001b[1;31m---------------------------------------------------------------------------\u001b[0m",
      "\u001b[1;31mModuleNotFoundError\u001b[0m                       Traceback (most recent call last)",
      "File \u001b[1;32m~\\AppData\\Roaming\\Python\\Python311\\site-packages\\pandas\\__init__.py:39\u001b[0m\n\u001b[0;32m     37\u001b[0m \u001b[38;5;28;01mtry\u001b[39;00m:\n\u001b[0;32m     38\u001b[0m     \u001b[38;5;66;03m# numpy compat\u001b[39;00m\n\u001b[1;32m---> 39\u001b[0m     \u001b[38;5;28;01mfrom\u001b[39;00m \u001b[38;5;21;01mpandas\u001b[39;00m\u001b[38;5;21;01m.\u001b[39;00m\u001b[38;5;21;01mcompat\u001b[39;00m \u001b[38;5;28;01mimport\u001b[39;00m (\n\u001b[0;32m     40\u001b[0m         is_numpy_dev \u001b[38;5;28;01mas\u001b[39;00m _is_numpy_dev,  \u001b[38;5;66;03m# pyright: ignore[reportUnusedImport] # noqa: F401\u001b[39;00m\n\u001b[0;32m     41\u001b[0m     )\n\u001b[0;32m     42\u001b[0m \u001b[38;5;28;01mexcept\u001b[39;00m \u001b[38;5;167;01mImportError\u001b[39;00m \u001b[38;5;28;01mas\u001b[39;00m _err:  \u001b[38;5;66;03m# pragma: no cover\u001b[39;00m\n",
      "\u001b[1;31mModuleNotFoundError\u001b[0m: No module named 'pandas.compat'",
      "\nThe above exception was the direct cause of the following exception:\n",
      "\u001b[1;31mImportError\u001b[0m                               Traceback (most recent call last)",
      "Cell \u001b[1;32mIn[1], line 2\u001b[0m\n\u001b[0;32m      1\u001b[0m \u001b[38;5;28;01mimport\u001b[39;00m \u001b[38;5;21;01mos\u001b[39;00m\n\u001b[1;32m----> 2\u001b[0m \u001b[38;5;28;01mimport\u001b[39;00m \u001b[38;5;21;01mpandas\u001b[39;00m \u001b[38;5;28;01mas\u001b[39;00m \u001b[38;5;21;01mpd\u001b[39;00m\n\u001b[0;32m      3\u001b[0m \u001b[38;5;28;01mfrom\u001b[39;00m \u001b[38;5;21;01mopenpyxl\u001b[39;00m \u001b[38;5;28;01mimport\u001b[39;00m load_workbook\n\u001b[0;32m      4\u001b[0m \u001b[38;5;28;01mimport\u001b[39;00m \u001b[38;5;21;01msmtplib\u001b[39;00m\n",
      "File \u001b[1;32m~\\AppData\\Roaming\\Python\\Python311\\site-packages\\pandas\\__init__.py:44\u001b[0m\n\u001b[0;32m     42\u001b[0m \u001b[38;5;28;01mexcept\u001b[39;00m \u001b[38;5;167;01mImportError\u001b[39;00m \u001b[38;5;28;01mas\u001b[39;00m _err:  \u001b[38;5;66;03m# pragma: no cover\u001b[39;00m\n\u001b[0;32m     43\u001b[0m     _module \u001b[38;5;241m=\u001b[39m _err\u001b[38;5;241m.\u001b[39mname\n\u001b[1;32m---> 44\u001b[0m     \u001b[38;5;28;01mraise\u001b[39;00m \u001b[38;5;167;01mImportError\u001b[39;00m(\n\u001b[0;32m     45\u001b[0m         \u001b[38;5;124mf\u001b[39m\u001b[38;5;124m\"\u001b[39m\u001b[38;5;124mC extension: \u001b[39m\u001b[38;5;132;01m{\u001b[39;00m_module\u001b[38;5;132;01m}\u001b[39;00m\u001b[38;5;124m not built. If you want to import \u001b[39m\u001b[38;5;124m\"\u001b[39m\n\u001b[0;32m     46\u001b[0m         \u001b[38;5;124m\"\u001b[39m\u001b[38;5;124mpandas from the source directory, you may need to run \u001b[39m\u001b[38;5;124m\"\u001b[39m\n\u001b[0;32m     47\u001b[0m         \u001b[38;5;124m\"\u001b[39m\u001b[38;5;124m'\u001b[39m\u001b[38;5;124mpython setup.py build_ext\u001b[39m\u001b[38;5;124m'\u001b[39m\u001b[38;5;124m to build the C extensions first.\u001b[39m\u001b[38;5;124m\"\u001b[39m\n\u001b[0;32m     48\u001b[0m     ) \u001b[38;5;28;01mfrom\u001b[39;00m \u001b[38;5;21;01m_err\u001b[39;00m\n\u001b[0;32m     50\u001b[0m \u001b[38;5;28;01mfrom\u001b[39;00m \u001b[38;5;21;01mpandas\u001b[39;00m\u001b[38;5;21;01m.\u001b[39;00m\u001b[38;5;21;01m_config\u001b[39;00m \u001b[38;5;28;01mimport\u001b[39;00m (\n\u001b[0;32m     51\u001b[0m     get_option,\n\u001b[0;32m     52\u001b[0m     set_option,\n\u001b[1;32m   (...)\u001b[0m\n\u001b[0;32m     56\u001b[0m     options,\n\u001b[0;32m     57\u001b[0m )\n\u001b[0;32m     59\u001b[0m \u001b[38;5;66;03m# let init-time option registration happen\u001b[39;00m\n",
      "\u001b[1;31mImportError\u001b[0m: C extension: pandas.compat not built. If you want to import pandas from the source directory, you may need to run 'python setup.py build_ext' to build the C extensions first."
     ]
    }
   ],
   "source": [
    "import os\n",
    "import pandas as pd\n",
    "from openpyxl import load_workbook\n",
    "import smtplib\n",
    "from email.mime.multipart import MIMEMultipart\n",
    "from email.mime.text import MIMEText\n",
    "from email.mime.base import MIMEBase\n",
    "from email import encoders\n",
    "\n",
    "# 기본 설정\n",
    "email_dict = {\n",
    "    \"(주)미래넷\": \"bough38@naver.com\",\n",
    "    \"구정례\": \"bough38@naver.com\",\n",
    "    \"케이티텔보안네트워크\": \"bough38@naver.com\",\n",
    "    \"애드라인\": \"bough38@naver.com\",\n",
    "    \"아이티인프라\": \"bough38@naver.com\"\n",
    "}\n",
    "base_folder_path = \"D:\\\\대리점자동화연습\\\\4월정산채널전달\"\n",
    "\n",
    "# 폴더 생성\n",
    "if not os.path.exists(base_folder_path):\n",
    "    os.makedirs(base_folder_path)\n",
    "\n",
    "# 파일 로드 및 처리\n",
    "def process_and_send_emails(file_name, sheet_name, email_address):\n",
    "    file_path = os.path.join(base_folder_path, file_name)\n",
    "    wb = load_workbook(file_path)\n",
    "    ws = wb[sheet_name]\n",
    "    data = pd.DataFrame(ws.values)\n",
    "    data.columns = data.iloc[0]  # 첫 행을 헤더로 설정\n",
    "    data = data[1:]  # 데이터 부분만 추출\n",
    "    html_content = data.to_html(index=False)  # HTML 형식으로 변환\n",
    "\n",
    "    # 이메일 본문 생성\n",
    "    email_body = f\"안녕하세요, kt텔레캅 사외채널 담당자 장재혁입니다. 4월 정산실적을 하 아래와 같이 송부드리니 5월 6일까지 세금계산서 발행 요청드리며, 검토 후 특이사항 있으실 경우 연락주시기 바랍니다.<br><br>감사합니다.<br>담당자 올림.\"\n",
    "\n",
    "    # 이메일 발송\n",
    "    send_email(email_address, \"4월 정산실적_\" + sheet_name, email_body, html_content)\n",
    "\n",
    "def send_email(to_email, subject, body, html_content):\n",
    "    msg = MIMEMultipart()\n",
    "    msg['From'] = 'your_email@example.com'\n",
    "    msg['To'] = to_email\n",
    "    msg['Subject'] = subject\n",
    "    msg.attach(MIMEText(body, 'html'))\n",
    "    msg.attach(MIMEText(html_content, 'html'))  # HTML 내용 첨부\n",
    "\n",
    "    # SMTP 서버를 통해 이메일 발송\n",
    "    server = smtplib.SMTP('smtp.example.com', 587)\n",
    "    server.starttls()\n",
    "    server.login('your_email@example.com', 'your_password')\n",
    "    server.send_message(msg)\n",
    "    server.quit()\n",
    "\n",
    "# 각 시트별 이메일 발송\n",
    "sheets = [\"표(요약)\", \"신규상세\", \"해지상세\"]\n",
    "files = ['대리점 4월 표(요약).xlsx', '대리점 4월 신규상세.xlsx', '대리점 4월 해지상세.xlsx']\n",
    "for sheet, file in zip(sheets, files):\n",
    "    for dealer, email in email_dict.items():\n",
    "        process_and_send_emails(file, sheet, email)\n",
    "\n",
    "print(\"프로세스가 성공적으로 완료되었습니다.\")\n"
   ]
  },
  {
   "cell_type": "code",
   "execution_count": 2,
   "id": "d29a741b-9c64-4494-b0c6-1f1d79e8bf04",
   "metadata": {},
   "outputs": [
    {
     "ename": "SyntaxError",
     "evalue": "invalid syntax (4019600276.py, line 1)",
     "output_type": "error",
     "traceback": [
      "\u001b[1;36m  Cell \u001b[1;32mIn[2], line 1\u001b[1;36m\u001b[0m\n\u001b[1;33m    mport subprocess\u001b[0m\n\u001b[1;37m          ^\u001b[0m\n\u001b[1;31mSyntaxError\u001b[0m\u001b[1;31m:\u001b[0m invalid syntax\n"
     ]
    }
   ],
   "source": [
    "mport subprocess\n",
    "import sys\n",
    "\n",
    "def create_and_activate_virtualenv(env_name):\n",
    "    \"\"\"가상 환경을 생성하고 활성화하는 함수\"\"\"\n",
    "    subprocess.run([sys.executable, \"-m\", \"venv\", env_name], check=True)\n",
    "    # Windows 환경일 경우\n",
    "    activate_script = f\"{env_name}\\\\Scripts\\\\activate_this.py\"\n",
    "    # Linux or MacOS 환경일 경우\n",
    "    # activate_script = f\"{env_name}/bin/activate_this.py\"\n",
    "    exec(open(activate_script).read(), dict(__file__=activate_script))\n",
    "\n",
    "def install_packages():\n",
    "    \"\"\"필요한 패키지를 설치하는 함수\"\"\"\n",
    "    subprocess.run([sys.executable, \"-m\", \"pip\", \"install\", \"pandas\"], check=True)\n",
    "\n",
    "def test_pandas():\n",
    "    \"\"\"pandas가 제대로 설치되었는지 테스트하는 함수\"\"\"\n",
    "    try:\n",
    "        import pandas as pd\n",
    "        print(pd.__version__)\n",
    "        return True\n",
    "    except ImportError as e:\n",
    "        print(f\"Error: {e}\")\n",
    "        return False\n",
    "\n",
    "def main():\n",
    "    env_name = \"pandas_test_env\"\n",
    "    create_and_activate_virtualenv(env_name)\n",
    "    install_packages()\n",
    "    if test_pandas():\n",
    "        print(\"Pandas 설치가 성공적으로 완료되었습니다.\")\n",
    "    else:\n",
    "        print(\"Pandas 설치에 실패했습니다.\")\n",
    "\n",
    "if __name__ == \"__main__\":\n",
    "    main()"
   ]
  },
  {
   "cell_type": "code",
   "execution_count": null,
   "id": "4a86e2d3-ecd9-48df-94af-953a75e32b10",
   "metadata": {},
   "outputs": [],
   "source": []
  }
 ],
 "metadata": {
  "kernelspec": {
   "display_name": "Python 3 (ipykernel)",
   "language": "python",
   "name": "python3"
  },
  "language_info": {
   "codemirror_mode": {
    "name": "ipython",
    "version": 3
   },
   "file_extension": ".py",
   "mimetype": "text/x-python",
   "name": "python",
   "nbconvert_exporter": "python",
   "pygments_lexer": "ipython3",
   "version": "3.11.5"
  }
 },
 "nbformat": 4,
 "nbformat_minor": 5
}
