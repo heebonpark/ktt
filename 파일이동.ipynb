{
 "cells": [
  {
   "cell_type": "code",
   "execution_count": 2,
   "id": "e6eac3da-df6f-4719-8592-1a60713fc06f",
   "metadata": {},
   "outputs": [
    {
     "name": "stdout",
     "output_type": "stream",
     "text": [
      "C:/Users/User/Downloads/(20240522)붙임.무인매장검증양식_5.28일까지(고양지사).xlsx 파일이 D:/시설/무인매장 검증/5월달 개시건 검증/(20240522)붙임.무인매장검증양식_5.28일까지(고양지사).xlsx로 이동되었습니다.\n"
     ]
    }
   ],
   "source": [
    "import shutil\n",
    "import os\n",
    "\n",
    "# 원본 파일 또는 폴더 경로\n",
    "source = \"C:/Users/User/Downloads/(20240522)붙임.무인매장검증양식_5.28일까지(고양지사).xlsx\"\n",
    "\n",
    "# 대상 디렉토리 경로\n",
    "destination = \"D:/시설/무인매장 검증/5월달 개시건 검증/(20240522)붙임.무인매장검증양식_5.28일까지(고양지사).xlsx\"\n",
    "\n",
    "# 파일이나 폴더 이동\n",
    "shutil.move(source, destination)\n",
    "\n",
    "print(f\"{source} 파일이 {destination}로 이동되었습니다.\")\n"
   ]
  },
  {
   "cell_type": "code",
   "execution_count": null,
   "id": "e1a48a96-6a19-470f-812a-255b856380db",
   "metadata": {},
   "outputs": [],
   "source": []
  },
  {
   "cell_type": "code",
   "execution_count": null,
   "id": "8e8c7783-51da-4dcf-91d5-c5c63684f2f5",
   "metadata": {},
   "outputs": [],
   "source": [
    "import shutil\n",
    "import os\n",
    "\n",
    "# 원본 파일 또는 폴더 경로\n",
    "source = \"C:/Users/User/Downloads/화면 기록 2024-05-24 오후 1.08.54.mov\"\n",
    "\n",
    "# 대상 디렉토리 경로\n",
    "destination = \"D:/대리점자동화연습/결과보고/화면 기록 2024-05-24 오후 1.08.54.mov\"\n",
    "\n",
    "# 파일이나 폴더 이동\n",
    "shutil.move(source, destination)\n",
    "\n",
    "print(f\"{source} 파일이 {destination}로 이동되었습니다.\")"
   ]
  },
  {
   "cell_type": "code",
   "execution_count": null,
   "id": "d72537fc-f3c9-45d5-a8df-aab9accfa1e3",
   "metadata": {},
   "outputs": [],
   "source": []
  },
  {
   "cell_type": "code",
   "execution_count": null,
   "id": "b9f342cb-35c0-47ed-bc35-a83bc6f5590d",
   "metadata": {},
   "outputs": [],
   "source": []
  }
 ],
 "metadata": {
  "kernelspec": {
   "display_name": "Python 3 (ipykernel)",
   "language": "python",
   "name": "python3"
  },
  "language_info": {
   "codemirror_mode": {
    "name": "ipython",
    "version": 3
   },
   "file_extension": ".py",
   "mimetype": "text/x-python",
   "name": "python",
   "nbconvert_exporter": "python",
   "pygments_lexer": "ipython3",
   "version": "3.12.3"
  }
 },
 "nbformat": 4,
 "nbformat_minor": 5
}
