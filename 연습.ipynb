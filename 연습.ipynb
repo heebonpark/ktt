{
 "cells": [
  {
   "cell_type": "code",
   "execution_count": 2,
   "id": "3119d00e",
   "metadata": {},
   "outputs": [
    {
     "ename": "AttributeError",
     "evalue": "partially initialized module 'pandas' has no attribute 'core' (most likely due to a circular import)",
     "output_type": "error",
     "traceback": [
      "\u001b[1;31m---------------------------------------------------------------------------\u001b[0m",
      "\u001b[1;31mAttributeError\u001b[0m                            Traceback (most recent call last)",
      "Cell \u001b[1;32mIn[2], line 1\u001b[0m\n\u001b[1;32m----> 1\u001b[0m \u001b[38;5;28;01mimport\u001b[39;00m \u001b[38;5;21;01mpandas\u001b[39;00m \u001b[38;5;28;01mas\u001b[39;00m \u001b[38;5;21;01mpd\u001b[39;00m\n\u001b[0;32m      2\u001b[0m \u001b[38;5;28;01mimport\u001b[39;00m \u001b[38;5;21;01mglob\u001b[39;00m\n\u001b[0;32m      4\u001b[0m \u001b[38;5;66;03m# 모든 지원하는 파일 형식의 파일 목록 가져오기\u001b[39;00m\n",
      "File \u001b[1;32m~\\anaconda3\\Lib\\site-packages\\pandas\\__init__.py:138\u001b[0m\n\u001b[0;32m    120\u001b[0m \u001b[38;5;28;01mfrom\u001b[39;00m \u001b[38;5;21;01mpandas\u001b[39;00m\u001b[38;5;21;01m.\u001b[39;00m\u001b[38;5;21;01mcore\u001b[39;00m\u001b[38;5;21;01m.\u001b[39;00m\u001b[38;5;21;01mreshape\u001b[39;00m\u001b[38;5;21;01m.\u001b[39;00m\u001b[38;5;21;01mapi\u001b[39;00m \u001b[38;5;28;01mimport\u001b[39;00m (\n\u001b[0;32m    121\u001b[0m     concat,\n\u001b[0;32m    122\u001b[0m     lreshape,\n\u001b[1;32m   (...)\u001b[0m\n\u001b[0;32m    134\u001b[0m     qcut,\n\u001b[0;32m    135\u001b[0m )\n\u001b[0;32m    137\u001b[0m \u001b[38;5;28;01mfrom\u001b[39;00m \u001b[38;5;21;01mpandas\u001b[39;00m \u001b[38;5;28;01mimport\u001b[39;00m api, arrays, errors, io, plotting, tseries\n\u001b[1;32m--> 138\u001b[0m \u001b[38;5;28;01mfrom\u001b[39;00m \u001b[38;5;21;01mpandas\u001b[39;00m \u001b[38;5;28;01mimport\u001b[39;00m testing\n\u001b[0;32m    139\u001b[0m \u001b[38;5;28;01mfrom\u001b[39;00m \u001b[38;5;21;01mpandas\u001b[39;00m\u001b[38;5;21;01m.\u001b[39;00m\u001b[38;5;21;01mutil\u001b[39;00m\u001b[38;5;21;01m.\u001b[39;00m\u001b[38;5;21;01m_print_versions\u001b[39;00m \u001b[38;5;28;01mimport\u001b[39;00m show_versions\n\u001b[0;32m    141\u001b[0m \u001b[38;5;28;01mfrom\u001b[39;00m \u001b[38;5;21;01mpandas\u001b[39;00m\u001b[38;5;21;01m.\u001b[39;00m\u001b[38;5;21;01mio\u001b[39;00m\u001b[38;5;21;01m.\u001b[39;00m\u001b[38;5;21;01mapi\u001b[39;00m \u001b[38;5;28;01mimport\u001b[39;00m (\n\u001b[0;32m    142\u001b[0m     \u001b[38;5;66;03m# excel\u001b[39;00m\n\u001b[0;32m    143\u001b[0m     ExcelFile,\n\u001b[1;32m   (...)\u001b[0m\n\u001b[0;32m    171\u001b[0m     read_spss,\n\u001b[0;32m    172\u001b[0m )\n",
      "File \u001b[1;32m~\\anaconda3\\Lib\\site-packages\\pandas\\testing.py:6\u001b[0m\n\u001b[0;32m      1\u001b[0m \u001b[38;5;124;03m\"\"\"\u001b[39;00m\n\u001b[0;32m      2\u001b[0m \u001b[38;5;124;03mPublic testing utility functions.\u001b[39;00m\n\u001b[0;32m      3\u001b[0m \u001b[38;5;124;03m\"\"\"\u001b[39;00m\n\u001b[1;32m----> 6\u001b[0m \u001b[38;5;28;01mfrom\u001b[39;00m \u001b[38;5;21;01mpandas\u001b[39;00m\u001b[38;5;21;01m.\u001b[39;00m\u001b[38;5;21;01m_testing\u001b[39;00m \u001b[38;5;28;01mimport\u001b[39;00m (\n\u001b[0;32m      7\u001b[0m     assert_extension_array_equal,\n\u001b[0;32m      8\u001b[0m     assert_frame_equal,\n\u001b[0;32m      9\u001b[0m     assert_index_equal,\n\u001b[0;32m     10\u001b[0m     assert_series_equal,\n\u001b[0;32m     11\u001b[0m )\n\u001b[0;32m     13\u001b[0m __all__ \u001b[38;5;241m=\u001b[39m [\n\u001b[0;32m     14\u001b[0m     \u001b[38;5;124m\"\u001b[39m\u001b[38;5;124massert_extension_array_equal\u001b[39m\u001b[38;5;124m\"\u001b[39m,\n\u001b[0;32m     15\u001b[0m     \u001b[38;5;124m\"\u001b[39m\u001b[38;5;124massert_frame_equal\u001b[39m\u001b[38;5;124m\"\u001b[39m,\n\u001b[0;32m     16\u001b[0m     \u001b[38;5;124m\"\u001b[39m\u001b[38;5;124massert_series_equal\u001b[39m\u001b[38;5;124m\"\u001b[39m,\n\u001b[0;32m     17\u001b[0m     \u001b[38;5;124m\"\u001b[39m\u001b[38;5;124massert_index_equal\u001b[39m\u001b[38;5;124m\"\u001b[39m,\n\u001b[0;32m     18\u001b[0m ]\n",
      "File \u001b[1;32m~\\anaconda3\\Lib\\site-packages\\pandas\\_testing\\__init__.py:914\u001b[0m\n\u001b[0;32m    909\u001b[0m     \u001b[38;5;28;01mimport\u001b[39;00m \u001b[38;5;21;01mpytest\u001b[39;00m\n\u001b[0;32m    911\u001b[0m     \u001b[38;5;28;01mreturn\u001b[39;00m pytest\u001b[38;5;241m.\u001b[39mraises(expected_exception, match\u001b[38;5;241m=\u001b[39m\u001b[38;5;28;01mNone\u001b[39;00m)\n\u001b[1;32m--> 914\u001b[0m cython_table \u001b[38;5;241m=\u001b[39m pd\u001b[38;5;241m.\u001b[39mcore\u001b[38;5;241m.\u001b[39mcommon\u001b[38;5;241m.\u001b[39m_cython_table\u001b[38;5;241m.\u001b[39mitems()\n\u001b[0;32m    917\u001b[0m \u001b[38;5;28;01mdef\u001b[39;00m \u001b[38;5;21mget_cython_table_params\u001b[39m(ndframe, func_names_and_expected):\n\u001b[0;32m    918\u001b[0m \u001b[38;5;250m    \u001b[39m\u001b[38;5;124;03m\"\"\"\u001b[39;00m\n\u001b[0;32m    919\u001b[0m \u001b[38;5;124;03m    Combine frame, functions from com._cython_table\u001b[39;00m\n\u001b[0;32m    920\u001b[0m \u001b[38;5;124;03m    keys and expected result.\u001b[39;00m\n\u001b[1;32m   (...)\u001b[0m\n\u001b[0;32m    932\u001b[0m \u001b[38;5;124;03m        List of three items (DataFrame, function, expected result)\u001b[39;00m\n\u001b[0;32m    933\u001b[0m \u001b[38;5;124;03m    \"\"\"\u001b[39;00m\n",
      "\u001b[1;31mAttributeError\u001b[0m: partially initialized module 'pandas' has no attribute 'core' (most likely due to a circular import)"
     ]
    }
   ],
   "source": [
    "import pandas as pd\n",
    "import glob\n",
    "\n",
    "# 모든 지원하는 파일 형식의 파일 목록 가져오기\n",
    "all_files = glob.glob('D:\\\\SP 인당생산성 분석\\\\월신규모음_2023부터 2024 2월까지\\\\*.{csv,txt,xls,xlsx}', recursive=True)\n",
    "\n",
    "# 데이터프레임 리스트 초기화\n",
    "dfs = []\n",
    "\n",
    "# 모든 파일 읽기\n",
    "for filename in all_files:\n",
    "    try:\n",
    "        if filename.endswith('.csv'):\n",
    "            df = pd.read_csv(filename, encoding='cp949')\n",
    "        elif filename.endswith('.txt'):\n",
    "            df = pd.read_csv(filename, delimiter='\\t', encoding='cp949')\n",
    "        elif filename.endswith(('.xls', '.xlsx')):\n",
    "            df = pd.read_excel(filename, encoding='cp949')\n",
    "        else:\n",
    "            print(f\"파일 {filename}의 형식은 지원하지 않습니다.\")\n",
    "            continue\n",
    "        dfs.append(df)\n",
    "    except Exception as e:\n",
    "        print(f\"파일 {filename}을 읽는데 에러가 발생했습니다. 에러 메시지: {e}\")\n",
    "        continue\n",
    "\n",
    "# 모든 데이터프레임을 하나로 합치기\n",
    "merged_df = pd.concat(dfs, ignore_index=True)\n",
    "\n",
    "# 결과를 새 CSV 파일로 저장\n",
    "merged_df.to_csv('D:\\\\SP 인당생산성 분석\\\\월신규모음_2023부터 2024 2월까지\\\\merged.csv', index=False, encoding='cp949')"
   ]
  },
  {
   "cell_type": "code",
   "execution_count": 3,
   "id": "d969c701",
   "metadata": {},
   "outputs": [
    {
     "name": "stdout",
     "output_type": "stream",
     "text": [
      "^C\n",
      "Note: you may need to restart the kernel to use updated packages.\n"
     ]
    }
   ],
   "source": [
    "pip uninstall pandas"
   ]
  },
  {
   "cell_type": "code",
   "execution_count": 8,
   "id": "78f3c726",
   "metadata": {},
   "outputs": [
    {
     "ename": "SyntaxError",
     "evalue": "unterminated string literal (detected at line 7) (958081898.py, line 7)",
     "output_type": "error",
     "traceback": [
      "\u001b[1;36m  Cell \u001b[1;32mIn[8], line 7\u001b[1;36m\u001b[0m\n\u001b[1;33m    '폴더 경로 설정\u001b[0m\n\u001b[1;37m    ^\u001b[0m\n\u001b[1;31mSyntaxError\u001b[0m\u001b[1;31m:\u001b[0m unterminated string literal (detected at line 7)\n"
     ]
    }
   ],
   "source": [
    "Sub PrintPDFs()\n",
    "\n",
    "    Dim MyFolder As String\n",
    "    Dim MyFile As String\n",
    "    Dim ShellString As String\n",
    "    \n",
    "    '폴더 경로 설정\n",
    "    MyFolder = \"D:\\매출계약서_스캔본 - 복사본\"\n",
    "    \n",
    "    '폴더 내의 첫 번째 PDF 파일 이름 가져오기\n",
    "    MyFile = Dir(MyFolder & \"\\*.pdf\")\n",
    "    \n",
    "    '모든 PDF 파일에 대해\n",
    "    Do While MyFile <> \"\"\n",
    "        'Shell 명령어로 PDF 파일을 프린트\n",
    "        ShellString = \"C:\\Program Files (x86)\\Adobe\\Acrobat Reader DC\\Reader\\AcroRd32.exe /h /p \" & MyFolder & \"\\\" & MyFile\n",
    "        Call Shell(ShellString, vbHide)\n",
    "        \n",
    "        '다음 PDF 파일 이름 가져오기\n",
    "        MyFile = Dir\n",
    "    Loop\n",
    "\n",
    "End Sub\n",
    "\n",
    "\n"
   ]
  },
  {
   "cell_type": "code",
   "execution_count": 9,
   "id": "f1e82b7e",
   "metadata": {},
   "outputs": [
    {
     "ename": "ModuleNotFoundError",
     "evalue": "No module named 'PyPDF2'",
     "output_type": "error",
     "traceback": [
      "\u001b[1;31m---------------------------------------------------------------------------\u001b[0m",
      "\u001b[1;31mModuleNotFoundError\u001b[0m                       Traceback (most recent call last)",
      "Cell \u001b[1;32mIn[9], line 2\u001b[0m\n\u001b[0;32m      1\u001b[0m \u001b[38;5;28;01mimport\u001b[39;00m \u001b[38;5;21;01mos\u001b[39;00m\n\u001b[1;32m----> 2\u001b[0m \u001b[38;5;28;01mfrom\u001b[39;00m \u001b[38;5;21;01mPyPDF2\u001b[39;00m \u001b[38;5;28;01mimport\u001b[39;00m PdfFileReader\n\u001b[0;32m      4\u001b[0m \u001b[38;5;28;01mdef\u001b[39;00m \u001b[38;5;21mprint_pdf_files_in_folder\u001b[39m(folder_path):\n\u001b[0;32m      5\u001b[0m     \u001b[38;5;66;03m# 폴더 내의 모든 파일 목록 가져오기\u001b[39;00m\n\u001b[0;32m      6\u001b[0m     files_in_folder \u001b[38;5;241m=\u001b[39m os\u001b[38;5;241m.\u001b[39mlistdir(folder_path)\n",
      "\u001b[1;31mModuleNotFoundError\u001b[0m: No module named 'PyPDF2'"
     ]
    }
   ],
   "source": [
    "import os\n",
    "from PyPDF2 import PdfFileReader\n",
    "\n",
    "def print_pdf_files_in_folder(folder_path):\n",
    "    # 폴더 내의 모든 파일 목록 가져오기\n",
    "    files_in_folder = os.listdir(folder_path)\n",
    "    \n",
    "    # PDF 파일만 선택\n",
    "    pdf_files = [file for file in files_in_folder if file.endswith('.pdf')]\n",
    "    \n",
    "    # PDF 파일을 이름 순으로 정렬\n",
    "    pdf_files.sort()\n",
    "    \n",
    "    # 각 PDF 파일 출력\n",
    "    for pdf_file in pdf_files:\n",
    "        pdf_path = os.path.join(folder_path, pdf_file)\n",
    "        pdf = PdfFileReader(pdf_path)\n",
    "        for page in range(pdf.getNumPages()):\n",
    "            print(pdf.getPage(page).extractText())\n",
    "\n",
    "# 폴더 경로 설정\n",
    "folder_path = \"D:\\매출계약서_스캔본-복사본\"\n",
    "print_pdf_files_in_folder(folder_path)\n"
   ]
  },
  {
   "cell_type": "code",
   "execution_count": 16,
   "id": "e22366c9",
   "metadata": {},
   "outputs": [
    {
     "name": "stdout",
     "output_type": "stream",
     "text": [
      "파일 출력 중: 매출 83_연세대학교 표준계약서.pdf\n"
     ]
    },
    {
     "ename": "DeprecationError",
     "evalue": "PdfFileReader is deprecated and was removed in PyPDF2 3.0.0. Use PdfReader instead.",
     "output_type": "error",
     "traceback": [
      "\u001b[1;31m---------------------------------------------------------------------------\u001b[0m",
      "\u001b[1;31mDeprecationError\u001b[0m                          Traceback (most recent call last)",
      "Cell \u001b[1;32mIn[16], line 14\u001b[0m\n\u001b[0;32m     12\u001b[0m \u001b[38;5;28;01mfor\u001b[39;00m f \u001b[38;5;129;01min\u001b[39;00m sorted_files:\n\u001b[0;32m     13\u001b[0m     \u001b[38;5;28mprint\u001b[39m(\u001b[38;5;124mf\u001b[39m\u001b[38;5;124m\"\u001b[39m\u001b[38;5;124m파일 출력 중: \u001b[39m\u001b[38;5;132;01m{\u001b[39;00mf\u001b[38;5;132;01m}\u001b[39;00m\u001b[38;5;124m\"\u001b[39m)\n\u001b[1;32m---> 14\u001b[0m     pdf_reader \u001b[38;5;241m=\u001b[39m PyPDF2\u001b[38;5;241m.\u001b[39mPdfFileReader(\u001b[38;5;124mf\u001b[39m\u001b[38;5;124m\"\u001b[39m\u001b[38;5;124mD:\u001b[39m\u001b[38;5;130;01m\\\\\u001b[39;00m\u001b[38;5;124m매출계약서_스캔본 - 복사본\u001b[39m\u001b[38;5;130;01m\\\\\u001b[39;00m\u001b[38;5;132;01m{\u001b[39;00mf\u001b[38;5;132;01m}\u001b[39;00m\u001b[38;5;124m\"\u001b[39m)\n\u001b[0;32m     15\u001b[0m     \u001b[38;5;28;01mfor\u001b[39;00m page_num \u001b[38;5;129;01min\u001b[39;00m \u001b[38;5;28mrange\u001b[39m(pdf_reader\u001b[38;5;241m.\u001b[39mnumPages):\n\u001b[0;32m     16\u001b[0m         pdf_writer \u001b[38;5;241m=\u001b[39m PyPDF2\u001b[38;5;241m.\u001b[39mPdfFileWriter()\n",
      "File \u001b[1;32m~\\anaconda3\\Lib\\site-packages\\PyPDF2\\_reader.py:1974\u001b[0m, in \u001b[0;36mPdfFileReader.__init__\u001b[1;34m(self, *args, **kwargs)\u001b[0m\n\u001b[0;32m   1973\u001b[0m \u001b[38;5;28;01mdef\u001b[39;00m \u001b[38;5;21m__init__\u001b[39m(\u001b[38;5;28mself\u001b[39m, \u001b[38;5;241m*\u001b[39margs: Any, \u001b[38;5;241m*\u001b[39m\u001b[38;5;241m*\u001b[39mkwargs: Any) \u001b[38;5;241m-\u001b[39m\u001b[38;5;241m>\u001b[39m \u001b[38;5;28;01mNone\u001b[39;00m:\n\u001b[1;32m-> 1974\u001b[0m     deprecation_with_replacement(\u001b[38;5;124m\"\u001b[39m\u001b[38;5;124mPdfFileReader\u001b[39m\u001b[38;5;124m\"\u001b[39m, \u001b[38;5;124m\"\u001b[39m\u001b[38;5;124mPdfReader\u001b[39m\u001b[38;5;124m\"\u001b[39m, \u001b[38;5;124m\"\u001b[39m\u001b[38;5;124m3.0.0\u001b[39m\u001b[38;5;124m\"\u001b[39m)\n\u001b[0;32m   1975\u001b[0m     \u001b[38;5;28;01mif\u001b[39;00m \u001b[38;5;124m\"\u001b[39m\u001b[38;5;124mstrict\u001b[39m\u001b[38;5;124m\"\u001b[39m \u001b[38;5;129;01mnot\u001b[39;00m \u001b[38;5;129;01min\u001b[39;00m kwargs \u001b[38;5;129;01mand\u001b[39;00m \u001b[38;5;28mlen\u001b[39m(args) \u001b[38;5;241m<\u001b[39m \u001b[38;5;241m2\u001b[39m:\n\u001b[0;32m   1976\u001b[0m         kwargs[\u001b[38;5;124m\"\u001b[39m\u001b[38;5;124mstrict\u001b[39m\u001b[38;5;124m\"\u001b[39m] \u001b[38;5;241m=\u001b[39m \u001b[38;5;28;01mTrue\u001b[39;00m  \u001b[38;5;66;03m# maintain the default\u001b[39;00m\n",
      "File \u001b[1;32m~\\anaconda3\\Lib\\site-packages\\PyPDF2\\_utils.py:369\u001b[0m, in \u001b[0;36mdeprecation_with_replacement\u001b[1;34m(old_name, new_name, removed_in)\u001b[0m\n\u001b[0;32m    363\u001b[0m \u001b[38;5;28;01mdef\u001b[39;00m \u001b[38;5;21mdeprecation_with_replacement\u001b[39m(\n\u001b[0;32m    364\u001b[0m     old_name: \u001b[38;5;28mstr\u001b[39m, new_name: \u001b[38;5;28mstr\u001b[39m, removed_in: \u001b[38;5;28mstr\u001b[39m \u001b[38;5;241m=\u001b[39m \u001b[38;5;124m\"\u001b[39m\u001b[38;5;124m3.0.0\u001b[39m\u001b[38;5;124m\"\u001b[39m\n\u001b[0;32m    365\u001b[0m ) \u001b[38;5;241m-\u001b[39m\u001b[38;5;241m>\u001b[39m \u001b[38;5;28;01mNone\u001b[39;00m:\n\u001b[0;32m    366\u001b[0m \u001b[38;5;250m    \u001b[39m\u001b[38;5;124;03m\"\"\"\u001b[39;00m\n\u001b[0;32m    367\u001b[0m \u001b[38;5;124;03m    Raise an exception that a feature was already removed, but has a replacement.\u001b[39;00m\n\u001b[0;32m    368\u001b[0m \u001b[38;5;124;03m    \"\"\"\u001b[39;00m\n\u001b[1;32m--> 369\u001b[0m     deprecation(DEPR_MSG_HAPPENED\u001b[38;5;241m.\u001b[39mformat(old_name, removed_in, new_name))\n",
      "File \u001b[1;32m~\\anaconda3\\Lib\\site-packages\\PyPDF2\\_utils.py:351\u001b[0m, in \u001b[0;36mdeprecation\u001b[1;34m(msg)\u001b[0m\n\u001b[0;32m    350\u001b[0m \u001b[38;5;28;01mdef\u001b[39;00m \u001b[38;5;21mdeprecation\u001b[39m(msg: \u001b[38;5;28mstr\u001b[39m) \u001b[38;5;241m-\u001b[39m\u001b[38;5;241m>\u001b[39m \u001b[38;5;28;01mNone\u001b[39;00m:\n\u001b[1;32m--> 351\u001b[0m     \u001b[38;5;28;01mraise\u001b[39;00m DeprecationError(msg)\n",
      "\u001b[1;31mDeprecationError\u001b[0m: PdfFileReader is deprecated and was removed in PyPDF2 3.0.0. Use PdfReader instead."
     ]
    }
   ],
   "source": [
    "import os\n",
    "import PyPDF2\n",
    "\n",
    "# D:\\매출관리 폴더의 모든 PDF 파일 목록 가져오기\n",
    "files = os.listdir(\"D:\\\\매출계약서_스캔본 - 복사본\\\\\")\n",
    "pdf_files = [f for f in files if f.endswith(\".pdf\")]\n",
    "\n",
    "# 알파벳/숫자 순서대로 정렬하기\n",
    "sorted_files = sorted(pdf_files)\n",
    "\n",
    "# 프린터에 출력하기\n",
    "for f in sorted_files:\n",
    "    print(f\"파일 출력 중: {f}\")\n",
    "    pdf_reader = PyPDF2.PdfFileReader(f\"D:\\\\매출계약서_스캔본 - 복사본\\\\{f}\")\n",
    "    for page_num in range(pdf_reader.numPages):\n",
    "        pdf_writer = PyPDF2.PdfFileWriter()\n",
    "        pdf_writer.addPage(pdf_reader.getPage(page_num))\n",
    "        with open(f\"D:\\\\매출계약서_스캔본 - 복사본\\\\{f}_출력.pdf\", \"wb\") as output_file:\n",
    "            pdf_writer.write(output_file)\n",
    "\n",
    "print(\"모든 파일 출력 완료!\")\n",
    "\n",
    "\n"
   ]
  },
  {
   "cell_type": "code",
   "execution_count": 12,
   "id": "45f247f4",
   "metadata": {},
   "outputs": [
    {
     "name": "stdout",
     "output_type": "stream",
     "text": [
      "Collecting PyPDF2Note: you may need to restart the kernel to use updated packages.\n",
      "\n",
      "  Obtaining dependency information for PyPDF2 from https://files.pythonhosted.org/packages/8e/5e/c86a5643653825d3c913719e788e41386bee415c2b87b4f955432f2de6b2/pypdf2-3.0.1-py3-none-any.whl.metadata\n",
      "  Downloading pypdf2-3.0.1-py3-none-any.whl.metadata (6.8 kB)\n",
      "Downloading pypdf2-3.0.1-py3-none-any.whl (232 kB)\n",
      "   ---------------------------------------- 0.0/232.6 kB ? eta -:--:--\n",
      "   -------------------------------------- - 225.3/232.6 kB 4.6 MB/s eta 0:00:01\n",
      "   ---------------------------------------- 232.6/232.6 kB 2.8 MB/s eta 0:00:00\n",
      "Installing collected packages: PyPDF2\n",
      "Successfully installed PyPDF2-3.0.1\n"
     ]
    }
   ],
   "source": [
    "pip install PyPDF2\n"
   ]
  },
  {
   "cell_type": "code",
   "execution_count": 17,
   "id": "ea360a41",
   "metadata": {},
   "outputs": [
    {
     "name": "stdout",
     "output_type": "stream",
     "text": [
      "파일 출력 중: 매출 83_연세대학교 표준계약서.pdf\n",
      "파일 출력 중: 매출 84_연세대학교 무학2학사 출입통제 공사.pdf\n",
      "파일 출력 중: 매출 85_건국대학교 생환대 부속동 101호외 6개소 통합방범설치공사.pdf\n",
      "모든 파일 출력 완료!\n"
     ]
    }
   ],
   "source": [
    "import os\n",
    "from PyPDF2 import PdfReader, PdfWriter\n",
    "\n",
    "# D:\\매출관리 폴더의 모든 PDF 파일 목록 가져오기\n",
    "files = os.listdir(\"D:\\\\매출계약서_스캔본 - 복사본\\\\\")\n",
    "pdf_files = [f for f in files if f.endswith(\".pdf\")]\n",
    "\n",
    "# 알파벳/숫자 순서대로 정렬하기\n",
    "sorted_files = sorted(pdf_files)\n",
    "\n",
    "# 프린터에 출력하기\n",
    "for f in sorted_files:\n",
    "    print(f\"파일 출력 중: {f}\")\n",
    "    pdf_reader = PdfReader(f\"D:\\\\매출계약서_스캔본 - 복사본\\\\{f}\")\n",
    "    for page in pdf_reader.pages:\n",
    "        pdf_writer = PdfWriter()\n",
    "        pdf_writer.add_page(page)\n",
    "        with open(f\"D:\\\\매출계약서_스캔본 - 복사본\\\\{f}_출력.pdf\", \"wb\") as output_file:\n",
    "            pdf_writer.write(output_file)\n",
    "\n",
    "print(\"모든 파일 출력 완료!\")"
   ]
  },
  {
   "cell_type": "code",
   "execution_count": 18,
   "id": "5211b306",
   "metadata": {},
   "outputs": [],
   "source": [
    "import os\n",
    "import time\n",
    "\n",
    "# PDF 파일들이 있는 폴더 경로\n",
    "folder_path = \"D:\\\\매출계약서_스캔본 - 복사본\\\\\"\n",
    "\n",
    "# PDF 파일들을 가져옵니다.\n",
    "pdf_files = [f for f in os.listdir(folder_path) if f.endswith(\".pdf\")]\n",
    "\n",
    "# 각 PDF 파일에 대해 인쇄 명령을 실행합니다.\n",
    "for pdf_file in pdf_files:\n",
    "    # 파일의 전체 경로를 만듭니다.\n",
    "    file_path = os.path.join(folder_path, pdf_file)\n",
    "    \n",
    "    # Microsoft Edge를 사용하여 PDF 파일을 인쇄하는 명령을 실행합니다.\n",
    "    os.system(f'start msedge --print-to-pdf \"{file_path}\"')\n",
    "    \n",
    "    # 파일이 인쇄될 때까지 충분한 시간을 기다립니다.\n",
    "    # 이 값을 인쇄에 필요한 시간에 따라 조절할 수 있습니다.\n",
    "    time.sleep(10)\n"
   ]
  },
  {
   "cell_type": "code",
   "execution_count": 19,
   "id": "409b38d3",
   "metadata": {},
   "outputs": [
    {
     "ename": "SyntaxError",
     "evalue": "incomplete input (2773733500.py, line 26)",
     "output_type": "error",
     "traceback": [
      "\u001b[1;36m  Cell \u001b[1;32mIn[19], line 26\u001b[1;36m\u001b[0m\n\u001b[1;33m    printed_files.append(pdf\u001b[0m\n\u001b[1;37m                            ^\u001b[0m\n\u001b[1;31mSyntaxError\u001b[0m\u001b[1;31m:\u001b[0m incomplete input\n"
     ]
    }
   ],
   "source": [
    "import os\n",
    "import subprocess\n",
    "\n",
    "def print_pdf_files(folder_path):\n",
    "    # PDF 파일들이 있는 폴더 경로\n",
    "    # folder_path = \"D:\\\\매출계약서_스캔본 - 복사본\\\\\"\n",
    "\n",
    "    # PDF 파일들을 가져옵니다.\n",
    "    pdf_files = [f for f in os.listdir(folder_path) if f.endswith(\".pdf\")]\n",
    "\n",
    "    # 인쇄된 파일들을 저장할 리스트\n",
    "    printed_files = []\n",
    "\n",
    "    # 각 PDF 파일에 대해 인쇄 명령을 실행합니다.\n",
    "    for pdf_file in pdf_files:\n",
    "        # 파일의 전체 경로를 만듭니다.\n",
    "        file_path = os.path.join(folder_path, pdf_file)\n",
    "\n",
    "        # Microsoft Edge를 사용하여 PDF 파일을 인쇄하는 명령을 실행합니다.\n",
    "        command = f'start msedge --print-to-default \"{file_path}\"'\n",
    "        result = subprocess.run(command, shell=True)\n",
    "\n",
    "        # 인쇄 명령이 성공적으로 실행되었다면,\n",
    "        # 인쇄된 파일 리스트에 파일을 추가합니다.\n",
    "        if result.returncode == 0:\n",
    "            printed_files.append(pdf\n"
   ]
  },
  {
   "cell_type": "code",
   "execution_count": 20,
   "id": "396cb4cd",
   "metadata": {},
   "outputs": [
    {
     "ename": "KeyboardInterrupt",
     "evalue": "",
     "output_type": "error",
     "traceback": [
      "\u001b[1;31m---------------------------------------------------------------------------\u001b[0m",
      "\u001b[1;31mKeyboardInterrupt\u001b[0m                         Traceback (most recent call last)",
      "Cell \u001b[1;32mIn[20], line 30\u001b[0m\n\u001b[0;32m     28\u001b[0m \u001b[38;5;66;03m# 사용 예시:\u001b[39;00m\n\u001b[0;32m     29\u001b[0m folder_path \u001b[38;5;241m=\u001b[39m \u001b[38;5;124m\"\u001b[39m\u001b[38;5;124mD:\u001b[39m\u001b[38;5;130;01m\\\\\u001b[39;00m\u001b[38;5;124m매출계약서_스캔본 - 복사본\u001b[39m\u001b[38;5;130;01m\\\\\u001b[39;00m\u001b[38;5;124m\"\u001b[39m\n\u001b[1;32m---> 30\u001b[0m printed_files \u001b[38;5;241m=\u001b[39m print_pdf_files(folder_path)\n\u001b[0;32m     32\u001b[0m \u001b[38;5;28;01mfor\u001b[39;00m file \u001b[38;5;129;01min\u001b[39;00m printed_files:\n\u001b[0;32m     33\u001b[0m     \u001b[38;5;28mprint\u001b[39m(\u001b[38;5;124mf\u001b[39m\u001b[38;5;124m\"\u001b[39m\u001b[38;5;124mPrinted file: \u001b[39m\u001b[38;5;132;01m{\u001b[39;00mfile\u001b[38;5;132;01m}\u001b[39;00m\u001b[38;5;124m\"\u001b[39m)\n",
      "Cell \u001b[1;32mIn[20], line 18\u001b[0m, in \u001b[0;36mprint_pdf_files\u001b[1;34m(folder_path)\u001b[0m\n\u001b[0;32m     16\u001b[0m \u001b[38;5;66;03m# Microsoft Edge를 사용하여 PDF 파일을 인쇄하는 명령을 실행합니다.\u001b[39;00m\n\u001b[0;32m     17\u001b[0m command \u001b[38;5;241m=\u001b[39m \u001b[38;5;124mf\u001b[39m\u001b[38;5;124m'\u001b[39m\u001b[38;5;124mstart msedge --print-to-default \u001b[39m\u001b[38;5;124m\"\u001b[39m\u001b[38;5;132;01m{\u001b[39;00mfile_path\u001b[38;5;132;01m}\u001b[39;00m\u001b[38;5;124m\"\u001b[39m\u001b[38;5;124m'\u001b[39m\n\u001b[1;32m---> 18\u001b[0m result \u001b[38;5;241m=\u001b[39m subprocess\u001b[38;5;241m.\u001b[39mrun(command, shell\u001b[38;5;241m=\u001b[39m\u001b[38;5;28;01mTrue\u001b[39;00m)\n\u001b[0;32m     20\u001b[0m \u001b[38;5;66;03m# 인쇄 명령이 성공적으로 실행되었다면,\u001b[39;00m\n\u001b[0;32m     21\u001b[0m \u001b[38;5;66;03m# 인쇄된 파일 리스트에 파일을 추가합니다.\u001b[39;00m\n\u001b[0;32m     22\u001b[0m \u001b[38;5;28;01mif\u001b[39;00m result\u001b[38;5;241m.\u001b[39mreturncode \u001b[38;5;241m==\u001b[39m \u001b[38;5;241m0\u001b[39m:\n",
      "File \u001b[1;32m~\\anaconda3\\Lib\\subprocess.py:550\u001b[0m, in \u001b[0;36mrun\u001b[1;34m(input, capture_output, timeout, check, *popenargs, **kwargs)\u001b[0m\n\u001b[0;32m    548\u001b[0m \u001b[38;5;28;01mwith\u001b[39;00m Popen(\u001b[38;5;241m*\u001b[39mpopenargs, \u001b[38;5;241m*\u001b[39m\u001b[38;5;241m*\u001b[39mkwargs) \u001b[38;5;28;01mas\u001b[39;00m process:\n\u001b[0;32m    549\u001b[0m     \u001b[38;5;28;01mtry\u001b[39;00m:\n\u001b[1;32m--> 550\u001b[0m         stdout, stderr \u001b[38;5;241m=\u001b[39m process\u001b[38;5;241m.\u001b[39mcommunicate(\u001b[38;5;28minput\u001b[39m, timeout\u001b[38;5;241m=\u001b[39mtimeout)\n\u001b[0;32m    551\u001b[0m     \u001b[38;5;28;01mexcept\u001b[39;00m TimeoutExpired \u001b[38;5;28;01mas\u001b[39;00m exc:\n\u001b[0;32m    552\u001b[0m         process\u001b[38;5;241m.\u001b[39mkill()\n",
      "File \u001b[1;32m~\\anaconda3\\Lib\\subprocess.py:1201\u001b[0m, in \u001b[0;36mPopen.communicate\u001b[1;34m(self, input, timeout)\u001b[0m\n\u001b[0;32m   1199\u001b[0m         stderr \u001b[38;5;241m=\u001b[39m \u001b[38;5;28mself\u001b[39m\u001b[38;5;241m.\u001b[39mstderr\u001b[38;5;241m.\u001b[39mread()\n\u001b[0;32m   1200\u001b[0m         \u001b[38;5;28mself\u001b[39m\u001b[38;5;241m.\u001b[39mstderr\u001b[38;5;241m.\u001b[39mclose()\n\u001b[1;32m-> 1201\u001b[0m     \u001b[38;5;28mself\u001b[39m\u001b[38;5;241m.\u001b[39mwait()\n\u001b[0;32m   1202\u001b[0m \u001b[38;5;28;01melse\u001b[39;00m:\n\u001b[0;32m   1203\u001b[0m     \u001b[38;5;28;01mif\u001b[39;00m timeout \u001b[38;5;129;01mis\u001b[39;00m \u001b[38;5;129;01mnot\u001b[39;00m \u001b[38;5;28;01mNone\u001b[39;00m:\n",
      "File \u001b[1;32m~\\anaconda3\\Lib\\subprocess.py:1264\u001b[0m, in \u001b[0;36mPopen.wait\u001b[1;34m(self, timeout)\u001b[0m\n\u001b[0;32m   1262\u001b[0m     endtime \u001b[38;5;241m=\u001b[39m _time() \u001b[38;5;241m+\u001b[39m timeout\n\u001b[0;32m   1263\u001b[0m \u001b[38;5;28;01mtry\u001b[39;00m:\n\u001b[1;32m-> 1264\u001b[0m     \u001b[38;5;28;01mreturn\u001b[39;00m \u001b[38;5;28mself\u001b[39m\u001b[38;5;241m.\u001b[39m_wait(timeout\u001b[38;5;241m=\u001b[39mtimeout)\n\u001b[0;32m   1265\u001b[0m \u001b[38;5;28;01mexcept\u001b[39;00m \u001b[38;5;167;01mKeyboardInterrupt\u001b[39;00m:\n\u001b[0;32m   1266\u001b[0m     \u001b[38;5;66;03m# https://bugs.python.org/issue25942\u001b[39;00m\n\u001b[0;32m   1267\u001b[0m     \u001b[38;5;66;03m# The first keyboard interrupt waits briefly for the child to\u001b[39;00m\n\u001b[0;32m   1268\u001b[0m     \u001b[38;5;66;03m# exit under the common assumption that it also received the ^C\u001b[39;00m\n\u001b[0;32m   1269\u001b[0m     \u001b[38;5;66;03m# generated SIGINT and will exit rapidly.\u001b[39;00m\n\u001b[0;32m   1270\u001b[0m     \u001b[38;5;28;01mif\u001b[39;00m timeout \u001b[38;5;129;01mis\u001b[39;00m \u001b[38;5;129;01mnot\u001b[39;00m \u001b[38;5;28;01mNone\u001b[39;00m:\n",
      "File \u001b[1;32m~\\anaconda3\\Lib\\subprocess.py:1588\u001b[0m, in \u001b[0;36mPopen._wait\u001b[1;34m(self, timeout)\u001b[0m\n\u001b[0;32m   1585\u001b[0m     timeout_millis \u001b[38;5;241m=\u001b[39m \u001b[38;5;28mint\u001b[39m(timeout \u001b[38;5;241m*\u001b[39m \u001b[38;5;241m1000\u001b[39m)\n\u001b[0;32m   1586\u001b[0m \u001b[38;5;28;01mif\u001b[39;00m \u001b[38;5;28mself\u001b[39m\u001b[38;5;241m.\u001b[39mreturncode \u001b[38;5;129;01mis\u001b[39;00m \u001b[38;5;28;01mNone\u001b[39;00m:\n\u001b[0;32m   1587\u001b[0m     \u001b[38;5;66;03m# API note: Returns immediately if timeout_millis == 0.\u001b[39;00m\n\u001b[1;32m-> 1588\u001b[0m     result \u001b[38;5;241m=\u001b[39m _winapi\u001b[38;5;241m.\u001b[39mWaitForSingleObject(\u001b[38;5;28mself\u001b[39m\u001b[38;5;241m.\u001b[39m_handle,\n\u001b[0;32m   1589\u001b[0m                                          timeout_millis)\n\u001b[0;32m   1590\u001b[0m     \u001b[38;5;28;01mif\u001b[39;00m result \u001b[38;5;241m==\u001b[39m _winapi\u001b[38;5;241m.\u001b[39mWAIT_TIMEOUT:\n\u001b[0;32m   1591\u001b[0m         \u001b[38;5;28;01mraise\u001b[39;00m TimeoutExpired(\u001b[38;5;28mself\u001b[39m\u001b[38;5;241m.\u001b[39margs, timeout)\n",
      "\u001b[1;31mKeyboardInterrupt\u001b[0m: "
     ]
    }
   ],
   "source": [
    "import os\n",
    "import subprocess\n",
    "\n",
    "def print_pdf_files(folder_path):\n",
    "    # PDF 파일들을 가져옵니다.\n",
    "    pdf_files = [f for f in os.listdir(folder_path) if f.endswith(\".pdf\")]\n",
    "\n",
    "    # 인쇄된 파일들을 저장할 리스트\n",
    "    printed_files = []\n",
    "\n",
    "    # 각 PDF 파일에 대해 인쇄 명령을 실행합니다.\n",
    "    for pdf_file in pdf_files:\n",
    "        # 파일의 전체 경로를 만듭니다.\n",
    "        file_path = os.path.join(folder_path, pdf_file)\n",
    "\n",
    "        # Microsoft Edge를 사용하여 PDF 파일을 인쇄하는 명령을 실행합니다.\n",
    "        command = f'start msedge --print-to-default \"{file_path}\"'\n",
    "        result = subprocess.run(command, shell=True)\n",
    "\n",
    "        # 인쇄 명령이 성공적으로 실행되었다면,\n",
    "        # 인쇄된 파일 리스트에 파일을 추가합니다.\n",
    "        if result.returncode == 0:\n",
    "            printed_files.append(pdf_file)\n",
    "\n",
    "    # 인쇄된 파일의 리스트를 반환합니다.\n",
    "    return printed_files\n",
    "\n",
    "# 사용 예시:\n",
    "folder_path = \"D:\\\\매출계약서_스캔본 - 복사본\\\\\"\n",
    "printed_files = print_pdf_files(folder_path)\n",
    "\n",
    "for file in printed_files:\n",
    "    print(f\"Printed file: {file}\")\n"
   ]
  },
  {
   "cell_type": "code",
   "execution_count": 23,
   "id": "a9bcf316",
   "metadata": {},
   "outputs": [
    {
     "name": "stdout",
     "output_type": "stream",
     "text": [
      "Printed file: 매출 83_연세대학교 표준계약서.pdf\n",
      "Printed file: 매출 84_연세대학교 무학2학사 출입통제 공사.pdf\n",
      "Printed file: 매출 85_건국대학교 생환대 부속동 101호외 6개소 통합방범설치공사.pdf\n"
     ]
    }
   ],
   "source": [
    "import os\n",
    "import subprocess\n",
    "\n",
    "def print_pdf_files(folder_path):\n",
    "    # PDF 파일들을 가져옵니다.\n",
    "    pdf_files = [f for f in os.listdir(folder_path) if f.endswith(\".pdf\")]\n",
    "\n",
    "    # 인쇄된 파일들을 저장할 리스트\n",
    "    printed_files = []\n",
    "\n",
    "    # 각 PDF 파일에 대해 인쇄 명령을 실행합니다.\n",
    "    for pdf_file in pdf_files:\n",
    "        # 파일의 전체 경로를 만듭니다.\n",
    "        file_path = os.path.join(folder_path, pdf_file)\n",
    "\n",
    "        # Microsoft Edge를 사용하여 PDF 파일을 인쇄하는 명령을 실행합니다.\n",
    "        command = f'start msedge --print-to-default \"{file_path}\"'\n",
    "        result = subprocess.run(command, shell=True)\n",
    "\n",
    "        # 인쇄 명령이 성공적으로 실행되었다면,\n",
    "        # 인쇄된 파일 리스트에 파일을 추가합니다.\n",
    "        if result.returncode == 0:\n",
    "            printed_files.append(pdf_file)\n",
    "\n",
    "    # 인쇄된 파일의 리스트를 반환합니다.\n",
    "    return printed_files\n",
    "\n",
    "# 사용 예시:\n",
    "folder_path = \"D:\\\\매출계약서_스캔본 - 복사본\\\\\"\n",
    "printed_files = print_pdf_files(folder_path)\n",
    "\n",
    "for file in printed_files:\n",
    "    print(f\"Printed file: {file}\")\n"
   ]
  },
  {
   "cell_type": "code",
   "execution_count": 22,
   "id": "da311897",
   "metadata": {},
   "outputs": [
    {
     "ename": "IndentationError",
     "evalue": "unexpected indent (2823029863.py, line 8)",
     "output_type": "error",
     "traceback": [
      "\u001b[1;36m  Cell \u001b[1;32mIn[22], line 8\u001b[1;36m\u001b[0m\n\u001b[1;33m    _path = os.path.join_path,_file)\u001b[0m\n\u001b[1;37m    ^\u001b[0m\n\u001b[1;31mIndentationError\u001b[0m\u001b[1;31m:\u001b[0m unexpected indent\n"
     ]
    }
   ],
   "source": [
    "import os\n",
    "\n",
    "def print_pdf(folder_path):\n",
    "    # PDF 파일들을 가져옵니다.\n",
    " pdf_files = [f for f in os(folder) if f(\".\")]\n",
    "\n",
    "    # 각 PDF 파일해 인 명을 실행합니다    for pdf in pdf_files        # 파일 전체 경로를 만니다.\n",
    "       _path = os.path.join_path,_file)\n",
    "\n",
    " # 파일을 인쇄합니다.\n",
    ".startfile(file, \"print# 사용 예시:\n",
    "_path = \":\\\\매출계약_스본 - 복사본\"\n",
    "_pdf_files_path)\n"
   ]
  },
  {
   "cell_type": "code",
   "execution_count": 25,
   "id": "9dc55cd5",
   "metadata": {},
   "outputs": [
    {
     "name": "stdout",
     "output_type": "stream",
     "text": [
      "Printed file: 매출 101_금호두산아파트 인력경비.pdf\n",
      "Printed file: 매출 102_건국대학교 CCTV 추가 설변공사.pdf\n",
      "Printed file: 매출 103_연세대학교 호실방범4개소 및 영상보안2개소 설치공사.pdf\n",
      "Printed file: 매출 103_연세대학교 호실방범4개소 및 영상보안2개소 설치공사_발주서.pdf\n",
      "Printed file: 매출 104_연세대학교 어린이생활지도연구원 CCTV 설치공사.pdf\n",
      "Printed file: 매출 105_건국대학교 영상보안 모바일 모니터링 공사.pdf\n",
      "Printed file: 매출 106_동덕여자대학교 외곽 CCTV 신설 구축공사.pdf\n",
      "Printed file: 매출 107_동덕여자대학교 본교 출입통제 장치 추가 설치공사.pdf\n",
      "Printed file: 매출 108_연세대학교 신학관 모니터링 PC구매외 1종.pdf\n",
      "Printed file: 매출 109_(주)청방 구내통신공사.pdf\n",
      "Printed file: 매출 109_연세대학교 신학관 모니터링 PC구매외 1종_요청서.pdf\n",
      "Printed file: 매출 113_연세대학교 어린이생활지도연구원 10개소 통합방범 설치공사.pdf\n",
      "Printed file: 매출 115_창동태영데시앙아파트 인력경비_회의록.pdf\n",
      "Printed file: 매출 117~118 연세대학교 대우관 CCTV설치공사 및 15개소 통합방범설치공사.pdf\n",
      "Printed file: 매출 119~120_건국대학교 중장비동3층 옥상문외 10개소 통합방범설치공사 외 네트워트 장비1차 분리공사.pdf\n",
      "Printed file: 매출 119~120건국대학교 중장비동3층 옥상문외 10개소 통합방범 설치공사 및 네트워크 장비 1차 분리 발주서.pdf\n",
      "Printed file: 매출 121_건국대학교 국제학사 CCTV 설치공사.pdf\n",
      "Printed file: 매출 121_건국대학교 국제학사 CCTV 설치공사_발주서.pdf\n",
      "Printed file: 매출 122_연세대학교 첨단관 실험동물 연구센터 CCTV 추가 설치공사.pdf\n",
      "Printed file: 매출 123_동덕여자대학교 학생증(스마트카드) 구매.pdf\n",
      "Printed file: 매출 126_파주힐스테이트2차 인력경비.pdf\n",
      "Printed file: 매출 127_홍익대학교 제3기숙사 인력경비.pdf\n",
      "Printed file: 매출 128_연세대학교 경영관 영상보안 시스템 경비 계약.pdf\n",
      "Printed file: 매출 129_연세대학교 연희관 315호 명예교수실외 6개소 통합방범설치공사 발주서.pdf\n",
      "Printed file: 매출 129_연세대학교 연희관 315호 명예교수실외 6개소 통합방범설치공사.pdf\n",
      "Printed file: 매출 130_건국대학교 네트워크 장비2차 분리공사요청 공문.pdf\n",
      "Printed file: 매출 131_연세대학교 구동문 CCTV 이전 설치공사.pdf\n",
      "Printed file: 매출 132_연세대학교 삼성관외 10개소 통합방범시스템 및 섬단관 공동기기원 CCTV 설치공사.pdf\n",
      "Printed file: 매출 132_연세대학교 삼성관외 10개소 통합방범시스템 및 첨단관 공동기기원 CCTV 설치공사_발주서.pdf\n",
      "Printed file: 매출 133_건국대학교 네트워크 장비3차 분리공사요청 공문.pdf\n",
      "Printed file: 매출 134_연세대힉교 첨단관 CCTV 교체 및 출입통제 이전 설치 공사.pdf\n",
      "Printed file: 매출 135_건국대학교 네트워크 장비4차 분리공사요청 공문.pdf\n",
      "Printed file: 매출 136_하안주공9단지 제비용 물품 구매.pdf\n",
      "Printed file: 매출 137_구리도시공사 전산실 이전 구축 공사.pdf\n",
      "Printed file: 매출 141_신금호두산위브아파트 CCTV 시스템 설치공사 계약.pdf\n",
      "Printed file: 매출 153_원흥동일스위트 아파트 cctv구축공사.pdf\n",
      "Printed file: 매출 159_원흥동일스위트 아파트 인력경비.pdf\n",
      "Printed file: 매출 83_연세대학교 표준계약서.pdf\n",
      "Printed file: 매출 84_연세대학교 무학2학사 출입통제 공사.pdf\n",
      "Printed file: 매출 85_건국대학교 생환대 부속동 101호외 6개소 통합방범설치공사.pdf\n",
      "Printed file: 매출 86_건국대학교 변경계약서(10차).pdf\n",
      "Printed file: 매출 87_부영그린2단지 2019년 기계경비용역 계약.pdf\n",
      "Printed file: 매출 88_건국대학교 변경계약서(10차).pdf\n",
      "Printed file: 매출 88_건국대학교 학생회관 스피드게이트 고도화 설치공사 요청 공문.pdf\n",
      "Printed file: 매출 89_부영그린2단지 2019년 기계경비용역 계약.pdf\n",
      "Printed file: 매출 90_연세대학교 CCTV 유지보수 공사.pdf\n",
      "Printed file: 매출 91_홍대3기숙사  CCTV 구축공사.pdf\n",
      "Printed file: 매출 92-1_연세대학교 호실방범 7개소 설치공사 요청 발주서.pdf\n",
      "Printed file: 매출 92_연세대학교 호실방범 7개소 설치공사.pdf\n",
      "Printed file: 매출 93_프리미어아울렛 이천점 유아휴게실 출입통제 시스템 구축.pdf\n",
      "Printed file: 매출 94_면목한신아파트 인력경비.pdf\n",
      "Printed file: 매출 95_명지대학교 인문캠퍼스 본관외4개동 CCTV 구축공사.pdf\n",
      "Printed file: 매출 96_GS건설 DMC에코자이 추가설치공사.pdf\n",
      "Printed file: 매출 97_연세대학교 공학원 영상보안장비 유지보수 공사.pdf\n",
      "Printed file: 매출 98_연세대학교 윤동주 기념관 CCTV 방범시스템 설치공사.pdf\n",
      "Printed file: 매출 99_홍익대학교 인문사회관 A,B동 CCTV 구축공사.pdf\n"
     ]
    }
   ],
   "source": [
    "import os\n",
    "import subprocess\n",
    "\n",
    "def print_pdf_files(folder_path):\n",
    "    # PDF 파일들을 가져옵니다.\n",
    "    pdf_files = [f for f in os.listdir(folder_path) if f.endswith(\".pdf\")]\n",
    "\n",
    "    # 인쇄된 파일들을 저장할 리스트\n",
    "    printed_files = []\n",
    "\n",
    "    # 각 PDF 파일에 대해 인쇄 명령을 실행합니다.\n",
    "    for pdf_file in pdf_files:\n",
    "        # 파일의 전체 경로를 만듭니다.\n",
    "        file_path = os.path.join(folder_path, pdf_file)\n",
    "\n",
    "        # Microsoft Edge를 사용하여 PDF 파일을 인쇄하는 명령을 실행합니다.\n",
    "        command = f'start msedge --print-to-default \"{file_path}\"'\n",
    "        result = subprocess.run(command, shell=True)\n",
    "\n",
    "        # 인쇄 명령이 성공적으로 실행되었다면,\n",
    "        # 인쇄된 파일 리스트에 파일을 추가합니다.\n",
    "        if result.returncode == 0:\n",
    "            printed_files.append(pdf_file)\n",
    "\n",
    "    # 인쇄된 파일의 리스트를 반환합니다.\n",
    "    return printed_files\n",
    "\n",
    "# 사용 예시:\n",
    "folder_path = \"D:\\\\매출계약서_스캔본\\\\\"\n",
    "printed_files = print_pdf_files(folder_path)\n",
    "\n",
    "for file in printed_files:\n",
    "    print(f\"Printed file: {file}\")"
   ]
  },
  {
   "cell_type": "code",
   "execution_count": 26,
   "id": "febb9b5d",
   "metadata": {},
   "outputs": [
    {
     "name": "stdout",
     "output_type": "stream",
     "text": [
      "Requirement already satisfied: PyPDF2 in c:\\users\\user\\anaconda3\\lib\\site-packages (3.0.1)Note: you may need to restart the kernel to use updated packages.\n",
      "\n"
     ]
    }
   ],
   "source": [
    "pip install PyPDF2"
   ]
  },
  {
   "cell_type": "code",
   "execution_count": 27,
   "id": "11435d76",
   "metadata": {},
   "outputs": [
    {
     "ename": "FileNotFoundError",
     "evalue": "[Errno 2] No such file or directory: 'your_pdf_file.pdf'",
     "output_type": "error",
     "traceback": [
      "\u001b[1;31m---------------------------------------------------------------------------\u001b[0m",
      "\u001b[1;31mFileNotFoundError\u001b[0m                         Traceback (most recent call last)",
      "Cell \u001b[1;32mIn[27], line 17\u001b[0m\n\u001b[0;32m     13\u001b[0m             \u001b[38;5;28;01mreturn\u001b[39;00m \u001b[38;5;124mf\u001b[39m\u001b[38;5;124m\"\u001b[39m\u001b[38;5;124m'\u001b[39m\u001b[38;5;132;01m{\u001b[39;00mtext_to_search\u001b[38;5;132;01m}\u001b[39;00m\u001b[38;5;124m'\u001b[39m\u001b[38;5;124m라는 텍스트를 \u001b[39m\u001b[38;5;132;01m{\u001b[39;00mpage_num\u001b[38;5;241m+\u001b[39m\u001b[38;5;241m1\u001b[39m\u001b[38;5;132;01m}\u001b[39;00m\u001b[38;5;124m 페이지에서 찾았습니다.\u001b[39m\u001b[38;5;124m\"\u001b[39m\n\u001b[0;32m     15\u001b[0m     \u001b[38;5;28;01mreturn\u001b[39;00m \u001b[38;5;124mf\u001b[39m\u001b[38;5;124m\"\u001b[39m\u001b[38;5;124m'\u001b[39m\u001b[38;5;132;01m{\u001b[39;00mtext_to_search\u001b[38;5;132;01m}\u001b[39;00m\u001b[38;5;124m'\u001b[39m\u001b[38;5;124m라는 텍스트를 PDF 파일에서 찾지 못했습니다.\u001b[39m\u001b[38;5;124m\"\u001b[39m\n\u001b[1;32m---> 17\u001b[0m \u001b[38;5;28mprint\u001b[39m(find_text_in_pdf(\u001b[38;5;124m'\u001b[39m\u001b[38;5;124myour_pdf_file.pdf\u001b[39m\u001b[38;5;124m'\u001b[39m, \u001b[38;5;124m'\u001b[39m\u001b[38;5;124m태화전기\u001b[39m\u001b[38;5;124m'\u001b[39m))\n",
      "Cell \u001b[1;32mIn[27], line 4\u001b[0m, in \u001b[0;36mfind_text_in_pdf\u001b[1;34m(file_name, text_to_search)\u001b[0m\n\u001b[0;32m      3\u001b[0m \u001b[38;5;28;01mdef\u001b[39;00m \u001b[38;5;21mfind_text_in_pdf\u001b[39m(file_name, text_to_search):\n\u001b[1;32m----> 4\u001b[0m     pdf_file_obj \u001b[38;5;241m=\u001b[39m \u001b[38;5;28mopen\u001b[39m(file_name, \u001b[38;5;124m'\u001b[39m\u001b[38;5;124mrb\u001b[39m\u001b[38;5;124m'\u001b[39m)\n\u001b[0;32m      5\u001b[0m     pdf_reader \u001b[38;5;241m=\u001b[39m PyPDF2\u001b[38;5;241m.\u001b[39mPdfFileReader(pdf_file_obj)\n\u001b[0;32m      6\u001b[0m     pages_text \u001b[38;5;241m=\u001b[39m {}\n",
      "File \u001b[1;32m~\\anaconda3\\Lib\\site-packages\\IPython\\core\\interactiveshell.py:286\u001b[0m, in \u001b[0;36m_modified_open\u001b[1;34m(file, *args, **kwargs)\u001b[0m\n\u001b[0;32m    279\u001b[0m \u001b[38;5;28;01mif\u001b[39;00m file \u001b[38;5;129;01min\u001b[39;00m {\u001b[38;5;241m0\u001b[39m, \u001b[38;5;241m1\u001b[39m, \u001b[38;5;241m2\u001b[39m}:\n\u001b[0;32m    280\u001b[0m     \u001b[38;5;28;01mraise\u001b[39;00m \u001b[38;5;167;01mValueError\u001b[39;00m(\n\u001b[0;32m    281\u001b[0m         \u001b[38;5;124mf\u001b[39m\u001b[38;5;124m\"\u001b[39m\u001b[38;5;124mIPython won\u001b[39m\u001b[38;5;124m'\u001b[39m\u001b[38;5;124mt let you open fd=\u001b[39m\u001b[38;5;132;01m{\u001b[39;00mfile\u001b[38;5;132;01m}\u001b[39;00m\u001b[38;5;124m by default \u001b[39m\u001b[38;5;124m\"\u001b[39m\n\u001b[0;32m    282\u001b[0m         \u001b[38;5;124m\"\u001b[39m\u001b[38;5;124mas it is likely to crash IPython. If you know what you are doing, \u001b[39m\u001b[38;5;124m\"\u001b[39m\n\u001b[0;32m    283\u001b[0m         \u001b[38;5;124m\"\u001b[39m\u001b[38;5;124myou can use builtins\u001b[39m\u001b[38;5;124m'\u001b[39m\u001b[38;5;124m open.\u001b[39m\u001b[38;5;124m\"\u001b[39m\n\u001b[0;32m    284\u001b[0m     )\n\u001b[1;32m--> 286\u001b[0m \u001b[38;5;28;01mreturn\u001b[39;00m io_open(file, \u001b[38;5;241m*\u001b[39margs, \u001b[38;5;241m*\u001b[39m\u001b[38;5;241m*\u001b[39mkwargs)\n",
      "\u001b[1;31mFileNotFoundError\u001b[0m: [Errno 2] No such file or directory: 'your_pdf_file.pdf'"
     ]
    }
   ],
   "source": [
    "import PyPDF2\n",
    "\n",
    "def find_text_in_pdf(file_name, text_to_search):\n",
    "    pdf_file_obj = open(file_name, 'rb')\n",
    "    pdf_reader = PyPDF2.PdfFileReader(pdf_file_obj)\n",
    "    pages_text = {}\n",
    "\n",
    "    for page_num in range(pdf_reader.numPages):\n",
    "        page_obj = pdf_reader.getPage(page_num)\n",
    "        page_text = page_obj.extractText()\n",
    "        pages_text[page_num] = page_text\n",
    "        if text_to_search in page_text:\n",
    "            return f\"'{text_to_search}'라는 텍스트를 {page_num+1} 페이지에서 찾았습니다.\"\n",
    "\n",
    "    return f\"'{text_to_search}'라는 텍스트를 PDF 파일에서 찾지 못했습니다.\"\n",
    "\n",
    "print(find_text_in_pdf('your_pdf_file.pdf', '태화전기'))\n"
   ]
  },
  {
   "cell_type": "code",
   "execution_count": 29,
   "id": "b44d67f9",
   "metadata": {},
   "outputs": [
    {
     "ename": "AttributeError",
     "evalue": "partially initialized module 'pandas' has no attribute 'core' (most likely due to a circular import)",
     "output_type": "error",
     "traceback": [
      "\u001b[1;31m---------------------------------------------------------------------------\u001b[0m",
      "\u001b[1;31mAttributeError\u001b[0m                            Traceback (most recent call last)",
      "Cell \u001b[1;32mIn[29], line 1\u001b[0m\n\u001b[1;32m----> 1\u001b[0m \u001b[38;5;28;01mimport\u001b[39;00m \u001b[38;5;21;01mpandas\u001b[39;00m \u001b[38;5;28;01mas\u001b[39;00m \u001b[38;5;21;01mpd\u001b[39;00m\n\u001b[0;32m      3\u001b[0m \u001b[38;5;66;03m# 데이터를 딕셔너리 형태로 준비\u001b[39;00m\n\u001b[0;32m      4\u001b[0m data \u001b[38;5;241m=\u001b[39m {\n\u001b[0;32m      5\u001b[0m     \u001b[38;5;124m\"\u001b[39m\u001b[38;5;124m중앙지사\u001b[39m\u001b[38;5;124m\"\u001b[39m: [\u001b[38;5;28;01mNone\u001b[39;00m, \u001b[38;5;28;01mNone\u001b[39;00m],\n\u001b[0;32m      6\u001b[0m     \u001b[38;5;124m\"\u001b[39m\u001b[38;5;124m강북지사\u001b[39m\u001b[38;5;124m\"\u001b[39m: [\u001b[38;5;28;01mNone\u001b[39;00m, \u001b[38;5;28;01mNone\u001b[39;00m],\n\u001b[1;32m   (...)\u001b[0m\n\u001b[0;32m     11\u001b[0m     \u001b[38;5;124m\"\u001b[39m\u001b[38;5;124m원주지사\u001b[39m\u001b[38;5;124m\"\u001b[39m: [\u001b[38;5;28;01mNone\u001b[39;00m, \u001b[38;5;28;01mNone\u001b[39;00m]\n\u001b[0;32m     12\u001b[0m }\n",
      "File \u001b[1;32m~\\anaconda3\\Lib\\site-packages\\pandas\\__init__.py:138\u001b[0m\n\u001b[0;32m    120\u001b[0m \u001b[38;5;28;01mfrom\u001b[39;00m \u001b[38;5;21;01mpandas\u001b[39;00m\u001b[38;5;21;01m.\u001b[39;00m\u001b[38;5;21;01mcore\u001b[39;00m\u001b[38;5;21;01m.\u001b[39;00m\u001b[38;5;21;01mreshape\u001b[39;00m\u001b[38;5;21;01m.\u001b[39;00m\u001b[38;5;21;01mapi\u001b[39;00m \u001b[38;5;28;01mimport\u001b[39;00m (\n\u001b[0;32m    121\u001b[0m     concat,\n\u001b[0;32m    122\u001b[0m     lreshape,\n\u001b[1;32m   (...)\u001b[0m\n\u001b[0;32m    134\u001b[0m     qcut,\n\u001b[0;32m    135\u001b[0m )\n\u001b[0;32m    137\u001b[0m \u001b[38;5;28;01mfrom\u001b[39;00m \u001b[38;5;21;01mpandas\u001b[39;00m \u001b[38;5;28;01mimport\u001b[39;00m api, arrays, errors, io, plotting, tseries\n\u001b[1;32m--> 138\u001b[0m \u001b[38;5;28;01mfrom\u001b[39;00m \u001b[38;5;21;01mpandas\u001b[39;00m \u001b[38;5;28;01mimport\u001b[39;00m testing\n\u001b[0;32m    139\u001b[0m \u001b[38;5;28;01mfrom\u001b[39;00m \u001b[38;5;21;01mpandas\u001b[39;00m\u001b[38;5;21;01m.\u001b[39;00m\u001b[38;5;21;01mutil\u001b[39;00m\u001b[38;5;21;01m.\u001b[39;00m\u001b[38;5;21;01m_print_versions\u001b[39;00m \u001b[38;5;28;01mimport\u001b[39;00m show_versions\n\u001b[0;32m    141\u001b[0m \u001b[38;5;28;01mfrom\u001b[39;00m \u001b[38;5;21;01mpandas\u001b[39;00m\u001b[38;5;21;01m.\u001b[39;00m\u001b[38;5;21;01mio\u001b[39;00m\u001b[38;5;21;01m.\u001b[39;00m\u001b[38;5;21;01mapi\u001b[39;00m \u001b[38;5;28;01mimport\u001b[39;00m (\n\u001b[0;32m    142\u001b[0m     \u001b[38;5;66;03m# excel\u001b[39;00m\n\u001b[0;32m    143\u001b[0m     ExcelFile,\n\u001b[1;32m   (...)\u001b[0m\n\u001b[0;32m    171\u001b[0m     read_spss,\n\u001b[0;32m    172\u001b[0m )\n",
      "File \u001b[1;32m~\\anaconda3\\Lib\\site-packages\\pandas\\testing.py:6\u001b[0m\n\u001b[0;32m      1\u001b[0m \u001b[38;5;124;03m\"\"\"\u001b[39;00m\n\u001b[0;32m      2\u001b[0m \u001b[38;5;124;03mPublic testing utility functions.\u001b[39;00m\n\u001b[0;32m      3\u001b[0m \u001b[38;5;124;03m\"\"\"\u001b[39;00m\n\u001b[1;32m----> 6\u001b[0m \u001b[38;5;28;01mfrom\u001b[39;00m \u001b[38;5;21;01mpandas\u001b[39;00m\u001b[38;5;21;01m.\u001b[39;00m\u001b[38;5;21;01m_testing\u001b[39;00m \u001b[38;5;28;01mimport\u001b[39;00m (\n\u001b[0;32m      7\u001b[0m     assert_extension_array_equal,\n\u001b[0;32m      8\u001b[0m     assert_frame_equal,\n\u001b[0;32m      9\u001b[0m     assert_index_equal,\n\u001b[0;32m     10\u001b[0m     assert_series_equal,\n\u001b[0;32m     11\u001b[0m )\n\u001b[0;32m     13\u001b[0m __all__ \u001b[38;5;241m=\u001b[39m [\n\u001b[0;32m     14\u001b[0m     \u001b[38;5;124m\"\u001b[39m\u001b[38;5;124massert_extension_array_equal\u001b[39m\u001b[38;5;124m\"\u001b[39m,\n\u001b[0;32m     15\u001b[0m     \u001b[38;5;124m\"\u001b[39m\u001b[38;5;124massert_frame_equal\u001b[39m\u001b[38;5;124m\"\u001b[39m,\n\u001b[0;32m     16\u001b[0m     \u001b[38;5;124m\"\u001b[39m\u001b[38;5;124massert_series_equal\u001b[39m\u001b[38;5;124m\"\u001b[39m,\n\u001b[0;32m     17\u001b[0m     \u001b[38;5;124m\"\u001b[39m\u001b[38;5;124massert_index_equal\u001b[39m\u001b[38;5;124m\"\u001b[39m,\n\u001b[0;32m     18\u001b[0m ]\n",
      "File \u001b[1;32m~\\anaconda3\\Lib\\site-packages\\pandas\\_testing\\__init__.py:914\u001b[0m\n\u001b[0;32m    909\u001b[0m     \u001b[38;5;28;01mimport\u001b[39;00m \u001b[38;5;21;01mpytest\u001b[39;00m\n\u001b[0;32m    911\u001b[0m     \u001b[38;5;28;01mreturn\u001b[39;00m pytest\u001b[38;5;241m.\u001b[39mraises(expected_exception, match\u001b[38;5;241m=\u001b[39m\u001b[38;5;28;01mNone\u001b[39;00m)\n\u001b[1;32m--> 914\u001b[0m cython_table \u001b[38;5;241m=\u001b[39m pd\u001b[38;5;241m.\u001b[39mcore\u001b[38;5;241m.\u001b[39mcommon\u001b[38;5;241m.\u001b[39m_cython_table\u001b[38;5;241m.\u001b[39mitems()\n\u001b[0;32m    917\u001b[0m \u001b[38;5;28;01mdef\u001b[39;00m \u001b[38;5;21mget_cython_table_params\u001b[39m(ndframe, func_names_and_expected):\n\u001b[0;32m    918\u001b[0m \u001b[38;5;250m    \u001b[39m\u001b[38;5;124;03m\"\"\"\u001b[39;00m\n\u001b[0;32m    919\u001b[0m \u001b[38;5;124;03m    Combine frame, functions from com._cython_table\u001b[39;00m\n\u001b[0;32m    920\u001b[0m \u001b[38;5;124;03m    keys and expected result.\u001b[39;00m\n\u001b[1;32m   (...)\u001b[0m\n\u001b[0;32m    932\u001b[0m \u001b[38;5;124;03m        List of three items (DataFrame, function, expected result)\u001b[39;00m\n\u001b[0;32m    933\u001b[0m \u001b[38;5;124;03m    \"\"\"\u001b[39;00m\n",
      "\u001b[1;31mAttributeError\u001b[0m: partially initialized module 'pandas' has no attribute 'core' (most likely due to a circular import)"
     ]
    }
   ],
   "source": [
    "import pandas as pd\n",
    "\n",
    "# 데이터를 딕셔너리 형태로 준비\n",
    "data = {\n",
    "    \"중앙지사\": [None, None],\n",
    "    \"강북지사\": [None, None],\n",
    "    \"서대문지사\": [None, None],\n",
    "    \"의정부지사\": [None, None],\n",
    "    \"남양주지사\": [None, None],\n",
    "    \"강릉지사\": [None, None],\n",
    "    \"원주지사\": [None, None]\n",
    "}\n",
    "\n",
    "# 행 내용을 인덱스로 하는 DataFrame 생성\n",
    "df = pd.DataFrame(data, index=[\"인원\", \"리텐션값\"])\n",
    "\n",
    "# 엑셀 파일로 저장\n",
    "file_path = r\"D:\\자동저장 엑셀.xlsx\"\n",
    "with pd.ExcelWriter(file_path, engine='openpyxl') as writer:\n",
    "    df.to_excel(writer)\n",
    "\n",
    "print(f\"'{file_path}'에 파일이 성공적으로 저장되었습니다.\")\n"
   ]
  },
  {
   "cell_type": "code",
   "execution_count": 30,
   "id": "2bf5a502",
   "metadata": {},
   "outputs": [
    {
     "name": "stdout",
     "output_type": "stream",
     "text": [
      "Requirement already satisfied: pandas in c:\\users\\user\\anaconda3\\lib\\site-packages (2.0.3)\n",
      "Requirement already satisfied: openpyxl in c:\\users\\user\\anaconda3\\lib\\site-packages (3.0.10)\n",
      "Requirement already satisfied: python-dateutil>=2.8.2 in c:\\users\\user\\anaconda3\\lib\\site-packages (from pandas) (2.8.2)\n",
      "Requirement already satisfied: pytz>=2020.1 in c:\\users\\user\\anaconda3\\lib\\site-packages (from pandas) (2023.3.post1)\n",
      "Requirement already satisfied: tzdata>=2022.1 in c:\\users\\user\\anaconda3\\lib\\site-packages (from pandas) (2023.3)\n",
      "Requirement already satisfied: numpy>=1.21.0 in c:\\users\\user\\anaconda3\\lib\\site-packages (from pandas) (1.24.3)\n",
      "Requirement already satisfied: et_xmlfile in c:\\users\\user\\anaconda3\\lib\\site-packages (from openpyxl) (1.1.0)\n",
      "Requirement already satisfied: six>=1.5 in c:\\users\\user\\anaconda3\\lib\\site-packages (from python-dateutil>=2.8.2->pandas) (1.16.0)\n",
      "Note: you may need to restart the kernel to use updated packages.\n"
     ]
    }
   ],
   "source": [
    "pip install pandas openpyxl\n"
   ]
  },
  {
   "cell_type": "code",
   "execution_count": 33,
   "id": "183984f3",
   "metadata": {},
   "outputs": [
    {
     "name": "stdout",
     "output_type": "stream",
     "text": [
      "Requirement already satisfied: pip in c:\\users\\user\\anaconda3\\lib\\site-packages (23.2.1)\n",
      "Collecting pip\n",
      "  Obtaining dependency information for pip from https://files.pythonhosted.org/packages/8a/6a/19e9fe04fca059ccf770861c7d5721ab4c2aebc539889e97c7977528a53b/pip-24.0-py3-none-any.whl.metadata\n",
      "  Downloading pip-24.0-py3-none-any.whl.metadata (3.6 kB)\n",
      "Downloading pip-24.0-py3-none-any.whl (2.1 MB)\n",
      "   ---------------------------------------- 0.0/2.1 MB ? eta -:--:--\n",
      "   ------ --------------------------------- 0.3/2.1 MB 5.3 MB/s eta 0:00:01\n",
      "   ------------ --------------------------- 0.6/2.1 MB 5.1 MB/s eta 0:00:01\n",
      "   --------------- ------------------------ 0.8/2.1 MB 4.6 MB/s eta 0:00:01\n",
      "   ------------------- -------------------- 1.0/2.1 MB 4.9 MB/s eta 0:00:01\n",
      "   ----------------------- ---------------- 1.2/2.1 MB 4.7 MB/s eta 0:00:01\n",
      "   --------------------------- ------------ 1.5/2.1 MB 4.6 MB/s eta 0:00:01\n",
      "   -------------------------------- ------- 1.7/2.1 MB 4.7 MB/s eta 0:00:01\n",
      "   ----------------------------------- ---- 1.9/2.1 MB 4.7 MB/s eta 0:00:01\n",
      "   ---------------------------------------  2.1/2.1 MB 4.6 MB/s eta 0:00:01\n",
      "   ---------------------------------------- 2.1/2.1 MB 4.2 MB/s eta 0:00:00\n",
      "Installing collected packages: pip\n",
      "  Attempting uninstall: pip\n",
      "    Found existing installation: pip 23.2.1\n",
      "    Uninstalling pip-23.2.1:\n",
      "      Successfully uninstalled pip-23.2.1\n",
      "Successfully installed pip-24.0\n",
      "Note: you may need to restart the kernel to use updated packages.\n"
     ]
    }
   ],
   "source": [
    "pip install --upgrade pip\n"
   ]
  },
  {
   "cell_type": "code",
   "execution_count": 34,
   "id": "5d16f518",
   "metadata": {},
   "outputs": [
    {
     "name": "stdout",
     "output_type": "stream",
     "text": [
      "Found existing installation: pandas 2.0.3"
     ]
    },
    {
     "name": "stderr",
     "output_type": "stream",
     "text": [
      "ERROR: Exception:\n",
      "Traceback (most recent call last):\n",
      "  File \"C:\\Users\\User\\anaconda3\\Lib\\shutil.py\", line 825, in move\n",
      "    os.rename(src, real_dst)\n",
      "PermissionError: [WinError 5] 액세스가 거부되었습니다: 'c:\\\\users\\\\user\\\\anaconda3\\\\lib\\\\site-packages\\\\pandas\\\\' -> 'C:\\\\Users\\\\User\\\\anaconda3\\\\Lib\\\\site-packages\\\\~andas'\n",
      "\n",
      "During handling of the above exception, another exception occurred:\n",
      "\n",
      "Traceback (most recent call last):\n",
      "  File \"C:\\Users\\User\\anaconda3\\Lib\\site-packages\\pip\\_internal\\cli\\base_command.py\", line 180, in exc_logging_wrapper\n",
      "    status = run_func(*args)\n",
      "             ^^^^^^^^^^^^^^^\n",
      "  File \"C:\\Users\\User\\anaconda3\\Lib\\site-packages\\pip\\_internal\\commands\\uninstall.py\", line 105, in run\n",
      "    uninstall_pathset = req.uninstall(\n",
      "                        ^^^^^^^^^^^^^^\n",
      "  File \"C:\\Users\\User\\anaconda3\\Lib\\site-packages\\pip\\_internal\\req\\req_install.py\", line 727, in uninstall\n",
      "    uninstalled_pathset.remove(auto_confirm, verbose)\n",
      "  File \"C:\\Users\\User\\anaconda3\\Lib\\site-packages\\pip\\_internal\\req\\req_uninstall.py\", line 380, in remove\n",
      "    moved.stash(path)\n",
      "  File \"C:\\Users\\User\\anaconda3\\Lib\\site-packages\\pip\\_internal\\req\\req_uninstall.py\", line 271, in stash\n",
      "    renames(path, new_path)\n",
      "  File \"C:\\Users\\User\\anaconda3\\Lib\\site-packages\\pip\\_internal\\utils\\misc.py\", line 358, in renames\n",
      "    shutil.move(old, new)\n",
      "  File \"C:\\Users\\User\\anaconda3\\Lib\\shutil.py\", line 843, in move\n",
      "    rmtree(src)\n",
      "  File \"C:\\Users\\User\\anaconda3\\Lib\\shutil.py\", line 759, in rmtree\n",
      "    return _rmtree_unsafe(path, onerror)\n",
      "           ^^^^^^^^^^^^^^^^^^^^^^^^^^^^^\n",
      "  File \"C:\\Users\\User\\anaconda3\\Lib\\shutil.py\", line 617, in _rmtree_unsafe\n",
      "    _rmtree_unsafe(fullname, onerror)\n",
      "  File \"C:\\Users\\User\\anaconda3\\Lib\\shutil.py\", line 622, in _rmtree_unsafe\n",
      "    onerror(os.unlink, fullname, sys.exc_info())\n",
      "  File \"C:\\Users\\User\\anaconda3\\Lib\\shutil.py\", line 620, in _rmtree_unsafe\n",
      "    os.unlink(fullname)\n",
      "PermissionError: [WinError 5] 액세스가 거부되었습니다: 'c:\\\\users\\\\user\\\\anaconda3\\\\lib\\\\site-packages\\\\pandas\\\\_libs\\\\algos.cp311-win_amd64.pyd'\n"
     ]
    },
    {
     "name": "stdout",
     "output_type": "stream",
     "text": [
      "\n",
      "Uninstalling pandas-2.0.3:\n",
      "Collecting pandas\n",
      "  Downloading pandas-2.2.1-cp311-cp311-win_amd64.whl.metadata (19 kB)\n",
      "Requirement already satisfied: numpy<2,>=1.23.2 in c:\\users\\user\\anaconda3\\lib\\site-packages (from pandas) (1.24.3)\n",
      "Requirement already satisfied: python-dateutil>=2.8.2 in c:\\users\\user\\anaconda3\\lib\\site-packages (from pandas) (2.8.2)\n",
      "Requirement already satisfied: pytz>=2020.1 in c:\\users\\user\\anaconda3\\lib\\site-packages (from pandas) (2023.3.post1)\n",
      "Requirement already satisfied: tzdata>=2022.7 in c:\\users\\user\\anaconda3\\lib\\site-packages (from pandas) (2023.3)\n",
      "Requirement already satisfied: six>=1.5 in c:\\users\\user\\anaconda3\\lib\\site-packages (from python-dateutil>=2.8.2->pandas) (1.16.0)\n",
      "Downloading pandas-2.2.1-cp311-cp311-win_amd64.whl (11.6 MB)\n",
      "   ---------------------------------------- 0.0/11.6 MB ? eta -:--:--\n",
      "    --------------------------------------- 0.2/11.6 MB 6.3 MB/s eta 0:00:02\n",
      "   - -------------------------------------- 0.5/11.6 MB 4.7 MB/s eta 0:00:03\n",
      "   -- ------------------------------------- 0.7/11.6 MB 4.9 MB/s eta 0:00:03\n",
      "   --- ------------------------------------ 0.9/11.6 MB 4.6 MB/s eta 0:00:03\n",
      "   --- ------------------------------------ 1.1/11.6 MB 4.7 MB/s eta 0:00:03\n",
      "   ---- ----------------------------------- 1.4/11.6 MB 4.8 MB/s eta 0:00:03\n",
      "   ----- ---------------------------------- 1.6/11.6 MB 4.5 MB/s eta 0:00:03\n",
      "   ------ --------------------------------- 1.8/11.6 MB 4.6 MB/s eta 0:00:03\n",
      "   ------ --------------------------------- 2.0/11.6 MB 4.6 MB/s eta 0:00:03\n",
      "   ------- -------------------------------- 2.2/11.6 MB 4.5 MB/s eta 0:00:03\n",
      "   -------- ------------------------------- 2.5/11.6 MB 4.6 MB/s eta 0:00:02\n",
      "   --------- ------------------------------ 2.7/11.6 MB 4.5 MB/s eta 0:00:02\n",
      "   ---------- ----------------------------- 3.0/11.6 MB 4.6 MB/s eta 0:00:02\n",
      "   ----------- ---------------------------- 3.2/11.6 MB 4.5 MB/s eta 0:00:02\n",
      "   ----------- ---------------------------- 3.5/11.6 MB 4.6 MB/s eta 0:00:02\n",
      "   ------------- -------------------------- 3.8/11.6 MB 4.6 MB/s eta 0:00:02\n",
      "   ------------- -------------------------- 4.0/11.6 MB 4.6 MB/s eta 0:00:02\n",
      "   -------------- ------------------------- 4.2/11.6 MB 4.6 MB/s eta 0:00:02\n",
      "   --------------- ------------------------ 4.5/11.6 MB 4.6 MB/s eta 0:00:02\n",
      "   ---------------- ----------------------- 4.7/11.6 MB 4.6 MB/s eta 0:00:02\n",
      "   ---------------- ----------------------- 4.9/11.6 MB 4.6 MB/s eta 0:00:02\n",
      "   ----------------- ---------------------- 5.2/11.6 MB 4.6 MB/s eta 0:00:02\n",
      "   ------------------- -------------------- 5.6/11.6 MB 4.6 MB/s eta 0:00:02\n",
      "   -------------------- ------------------- 6.1/11.6 MB 4.6 MB/s eta 0:00:02\n",
      "   --------------------- ------------------ 6.2/11.6 MB 4.6 MB/s eta 0:00:02\n",
      "   ---------------------- ----------------- 6.4/11.6 MB 4.5 MB/s eta 0:00:02\n",
      "   ---------------------- ----------------- 6.6/11.6 MB 4.5 MB/s eta 0:00:02\n",
      "   ----------------------- ---------------- 6.8/11.6 MB 4.5 MB/s eta 0:00:02\n",
      "   ----------------------- ---------------- 6.9/11.6 MB 4.4 MB/s eta 0:00:02\n",
      "   ------------------------ --------------- 7.0/11.6 MB 4.4 MB/s eta 0:00:02\n",
      "   ------------------------ --------------- 7.1/11.6 MB 4.3 MB/s eta 0:00:02\n",
      "   ------------------------- -------------- 7.3/11.6 MB 4.3 MB/s eta 0:00:02\n",
      "   ------------------------- -------------- 7.5/11.6 MB 4.2 MB/s eta 0:00:01\n",
      "   -------------------------- ------------- 7.6/11.6 MB 4.2 MB/s eta 0:00:01\n",
      "   -------------------------- ------------- 7.8/11.6 MB 4.1 MB/s eta 0:00:01\n",
      "   --------------------------- ------------ 7.9/11.6 MB 4.0 MB/s eta 0:00:01\n",
      "   --------------------------- ------------ 8.1/11.6 MB 4.0 MB/s eta 0:00:01\n",
      "   ---------------------------- ----------- 8.2/11.6 MB 4.0 MB/s eta 0:00:01\n",
      "   ----------------------------- ---------- 8.4/11.6 MB 4.0 MB/s eta 0:00:01\n",
      "   ----------------------------- ---------- 8.5/11.6 MB 3.9 MB/s eta 0:00:01\n",
      "   ------------------------------ --------- 8.7/11.6 MB 4.0 MB/s eta 0:00:01\n",
      "   ------------------------------ --------- 9.0/11.6 MB 3.9 MB/s eta 0:00:01\n",
      "   -------------------------------- ------- 9.3/11.6 MB 3.9 MB/s eta 0:00:01\n",
      "   -------------------------------- ------- 9.6/11.6 MB 3.9 MB/s eta 0:00:01\n",
      "   --------------------------------- ------ 9.7/11.6 MB 3.9 MB/s eta 0:00:01\n",
      "   ---------------------------------- ----- 9.9/11.6 MB 3.9 MB/s eta 0:00:01\n",
      "   ----------------------------------- ---- 10.2/11.6 MB 3.9 MB/s eta 0:00:01\n",
      "   ------------------------------------ --- 10.5/11.6 MB 3.9 MB/s eta 0:00:01\n",
      "   ------------------------------------ --- 10.7/11.6 MB 3.9 MB/s eta 0:00:01\n",
      "   -------------------------------------- - 11.0/11.6 MB 3.9 MB/s eta 0:00:01\n",
      "   ---------------------------------------  11.4/11.6 MB 3.9 MB/s eta 0:00:01\n",
      "   ---------------------------------------  11.6/11.6 MB 3.9 MB/s eta 0:00:01\n",
      "   ---------------------------------------  11.6/11.6 MB 3.9 MB/s eta 0:00:01\n",
      "   ---------------------------------------  11.6/11.6 MB 3.9 MB/s eta 0:00:01\n",
      "   ---------------------------------------- 11.6/11.6 MB 3.7 MB/s eta 0:00:00\n",
      "Installing collected packages: pandas\n"
     ]
    },
    {
     "name": "stderr",
     "output_type": "stream",
     "text": [
      "WARNING: Ignoring invalid distribution ~andas (C:\\Users\\User\\anaconda3\\Lib\\site-packages)\n",
      "WARNING: Ignoring invalid distribution ~andas (C:\\Users\\User\\anaconda3\\Lib\\site-packages)\n",
      "ERROR: Could not install packages due to an OSError: [WinError 5] 액세스가 거부되었습니다: 'C:\\\\Users\\\\User\\\\anaconda3\\\\Lib\\\\site-packages\\\\pandas\\\\_libs\\\\algos.cp311-win_amd64.pyd'\n",
      "Consider using the `--user` option or check the permissions.\n",
      "\n"
     ]
    }
   ],
   "source": [
    "# 패키지를 제거하기 위한 코드\n",
    "import sys\n",
    "!{sys.executable} -m pip uninstall pandas -y\n",
    "\n",
    "# 패키지를 설치하기 위한 코드\n",
    "!{sys.executable} -m pip install pandas\n"
   ]
  },
  {
   "cell_type": "code",
   "execution_count": 37,
   "id": "a9ccd032",
   "metadata": {},
   "outputs": [
    {
     "ename": "SyntaxError",
     "evalue": "unterminated string literal (detected at line 9) (1633877845.py, line 9)",
     "output_type": "error",
     "traceback": [
      "\u001b[1;36m  Cell \u001b[1;32mIn[37], line 9\u001b[1;36m\u001b[0m\n\u001b[1;33m    ' 원본 파일 경로를 입력합니다.\u001b[0m\n\u001b[1;37m    ^\u001b[0m\n\u001b[1;31mSyntaxError\u001b[0m\u001b[1;31m:\u001b[0m unterminated string literal (detected at line 9)\n"
     ]
    }
   ],
   "source": [
    "Sub CopySelectedColumnsToNewSheet()\n",
    "    Dim sourceFilePath As String\n",
    "    Dim targetSheetName As String\n",
    "    Dim targetWorkbook As Workbook\n",
    "    Dim sourceSheet As Worksheet\n",
    "    Dim targetSheet As Worksheet\n",
    "    Dim lastRow As Long\n",
    "   \n",
    "    ' 원본 파일 경로를 입력합니다.\n",
    "    sourceFilePath = \"D:\\시설\\유지모음\\24.2월유지가입자.xlsx\"\n",
    "   \n",
    "    ' 새로운 시트의 이름을 지정합니다.\n",
    "    targetSheetName = \"Sheet1\"\n",
    "   \n",
    "    ' 새로운 워크북을 생성합니다.\n",
    "    Set targetWorkbook = Workbooks.Add\n",
    "   \n",
    "    ' 원본 파일을 열어서 데이터를 가져옵니다.\n",
    "    Workbooks.Open sourceFilePath\n",
    "   \n",
    "    ' 원본 파일의 첫 번째 시트를 선택합니다.\n",
    "    Set sourceSheet = ActiveWorkbook.Sheets(1)\n",
    "   \n",
    "    ' 새로운 워크북의 첫 번째 시트를 선택합니다.\n",
    "    Set targetSheet = targetWorkbook.Sheets(1)\n",
    "   \n",
    "    ' 원본 시트에서 마지막 행을 찾습니다.\n",
    "    lastRow = sourceSheet.Cells(sourceSheet.Rows.Count, \"A\").End(xlUp).Row\n",
    "   \n",
    "    ' 필요한 열의 데이터를 복사합니다.\n",
    "    sourceSheet.Range(\"B:B, D:D, E:E, F:F, CD:CD,  G:G, I:I, V:V, AA:AA, FH:FH, FI:FI, DQ:DQ, AO:AO, AP:AP, AU:AU, AW:AW, DU:DU, EB:EB, EC:EC, EM:EM, ES:ES\").Copy targetSheet.Range(\"A1\")\n",
    "   \n",
    "    ' 새로운 시트의 이름을 변경합니다.\n",
    "    targetSheet.Name = targetSheetName\n",
    "   \n",
    "    ' 원본 파일을 닫습니다.\n",
    "    ActiveWorkbook.Close SaveChanges:=False\n",
    "   \n",
    "    ' 새로운 워크북을 저장합니다.\n",
    "    targetWorkbook.SaveAs \"D:\\시설\\유지모음\\24.2월유지가입자 조건요약.xlsx\" ' 파일의 경로와 파일명을 지정합니다.\n",
    "   \n",
    "    ' 새로운 워크북을 닫습니다.\n",
    "    targetWorkbook.Close SaveChanges:=True\n",
    "   \n",
    "    MsgBox \"특정 열의 데이터를 새로운 시트 파일로 가져왔습니다.\", vbInformation\n",
    "End Sub"
   ]
  },
  {
   "cell_type": "code",
   "execution_count": null,
   "id": "edec693a",
   "metadata": {},
   "outputs": [],
   "source": []
  },
  {
   "cell_type": "code",
   "execution_count": 38,
   "id": "7205ef57",
   "metadata": {},
   "outputs": [
    {
     "ename": "BadZipFile",
     "evalue": "File is not a zip file",
     "output_type": "error",
     "traceback": [
      "\u001b[1;31m---------------------------------------------------------------------------\u001b[0m",
      "\u001b[1;31mBadZipFile\u001b[0m                                Traceback (most recent call last)",
      "Cell \u001b[1;32mIn[38], line 9\u001b[0m\n\u001b[0;32m      6\u001b[0m target_file_path \u001b[38;5;241m=\u001b[39m \u001b[38;5;124m\"\u001b[39m\u001b[38;5;124mD:\u001b[39m\u001b[38;5;130;01m\\\\\u001b[39;00m\u001b[38;5;124m시설\u001b[39m\u001b[38;5;130;01m\\\\\u001b[39;00m\u001b[38;5;124m유지모음\u001b[39m\u001b[38;5;130;01m\\\\\u001b[39;00m\u001b[38;5;124m24.2월유지가입자 조건요약.xlsx\u001b[39m\u001b[38;5;124m\"\u001b[39m\n\u001b[0;32m      8\u001b[0m \u001b[38;5;66;03m# 원본 워크북을 로드합니다.\u001b[39;00m\n\u001b[1;32m----> 9\u001b[0m source_wb \u001b[38;5;241m=\u001b[39m openpyxl\u001b[38;5;241m.\u001b[39mload_workbook(source_file_path)\n\u001b[0;32m     10\u001b[0m source_sheet \u001b[38;5;241m=\u001b[39m source_wb\u001b[38;5;241m.\u001b[39mactive  \u001b[38;5;66;03m# 첫 번째 시트를 선택합니다.\u001b[39;00m\n\u001b[0;32m     12\u001b[0m \u001b[38;5;66;03m# 새로운 워크북을 생성하고 첫 번째 시트를 선택합니다.\u001b[39;00m\n",
      "File \u001b[1;32m~\\anaconda3\\Lib\\site-packages\\openpyxl\\reader\\excel.py:315\u001b[0m, in \u001b[0;36mload_workbook\u001b[1;34m(filename, read_only, keep_vba, data_only, keep_links)\u001b[0m\n\u001b[0;32m    288\u001b[0m \u001b[38;5;28;01mdef\u001b[39;00m \u001b[38;5;21mload_workbook\u001b[39m(filename, read_only\u001b[38;5;241m=\u001b[39m\u001b[38;5;28;01mFalse\u001b[39;00m, keep_vba\u001b[38;5;241m=\u001b[39mKEEP_VBA,\n\u001b[0;32m    289\u001b[0m                   data_only\u001b[38;5;241m=\u001b[39m\u001b[38;5;28;01mFalse\u001b[39;00m, keep_links\u001b[38;5;241m=\u001b[39m\u001b[38;5;28;01mTrue\u001b[39;00m):\n\u001b[0;32m    290\u001b[0m \u001b[38;5;250m    \u001b[39m\u001b[38;5;124;03m\"\"\"Open the given filename and return the workbook\u001b[39;00m\n\u001b[0;32m    291\u001b[0m \n\u001b[0;32m    292\u001b[0m \u001b[38;5;124;03m    :param filename: the path to open or a file-like object\u001b[39;00m\n\u001b[1;32m   (...)\u001b[0m\n\u001b[0;32m    313\u001b[0m \n\u001b[0;32m    314\u001b[0m \u001b[38;5;124;03m    \"\"\"\u001b[39;00m\n\u001b[1;32m--> 315\u001b[0m     reader \u001b[38;5;241m=\u001b[39m ExcelReader(filename, read_only, keep_vba,\n\u001b[0;32m    316\u001b[0m                         data_only, keep_links)\n\u001b[0;32m    317\u001b[0m     reader\u001b[38;5;241m.\u001b[39mread()\n\u001b[0;32m    318\u001b[0m     \u001b[38;5;28;01mreturn\u001b[39;00m reader\u001b[38;5;241m.\u001b[39mwb\n",
      "File \u001b[1;32m~\\anaconda3\\Lib\\site-packages\\openpyxl\\reader\\excel.py:124\u001b[0m, in \u001b[0;36mExcelReader.__init__\u001b[1;34m(self, fn, read_only, keep_vba, data_only, keep_links)\u001b[0m\n\u001b[0;32m    122\u001b[0m \u001b[38;5;28;01mdef\u001b[39;00m \u001b[38;5;21m__init__\u001b[39m(\u001b[38;5;28mself\u001b[39m,  fn, read_only\u001b[38;5;241m=\u001b[39m\u001b[38;5;28;01mFalse\u001b[39;00m, keep_vba\u001b[38;5;241m=\u001b[39mKEEP_VBA,\n\u001b[0;32m    123\u001b[0m               data_only\u001b[38;5;241m=\u001b[39m\u001b[38;5;28;01mFalse\u001b[39;00m, keep_links\u001b[38;5;241m=\u001b[39m\u001b[38;5;28;01mTrue\u001b[39;00m):\n\u001b[1;32m--> 124\u001b[0m     \u001b[38;5;28mself\u001b[39m\u001b[38;5;241m.\u001b[39marchive \u001b[38;5;241m=\u001b[39m _validate_archive(fn)\n\u001b[0;32m    125\u001b[0m     \u001b[38;5;28mself\u001b[39m\u001b[38;5;241m.\u001b[39mvalid_files \u001b[38;5;241m=\u001b[39m \u001b[38;5;28mself\u001b[39m\u001b[38;5;241m.\u001b[39marchive\u001b[38;5;241m.\u001b[39mnamelist()\n\u001b[0;32m    126\u001b[0m     \u001b[38;5;28mself\u001b[39m\u001b[38;5;241m.\u001b[39mread_only \u001b[38;5;241m=\u001b[39m read_only\n",
      "File \u001b[1;32m~\\anaconda3\\Lib\\site-packages\\openpyxl\\reader\\excel.py:96\u001b[0m, in \u001b[0;36m_validate_archive\u001b[1;34m(filename)\u001b[0m\n\u001b[0;32m     89\u001b[0m             msg \u001b[38;5;241m=\u001b[39m (\u001b[38;5;124m'\u001b[39m\u001b[38;5;124mopenpyxl does not support \u001b[39m\u001b[38;5;132;01m%s\u001b[39;00m\u001b[38;5;124m file format, \u001b[39m\u001b[38;5;124m'\u001b[39m\n\u001b[0;32m     90\u001b[0m                    \u001b[38;5;124m'\u001b[39m\u001b[38;5;124mplease check you can open \u001b[39m\u001b[38;5;124m'\u001b[39m\n\u001b[0;32m     91\u001b[0m                    \u001b[38;5;124m'\u001b[39m\u001b[38;5;124mit with Excel first. \u001b[39m\u001b[38;5;124m'\u001b[39m\n\u001b[0;32m     92\u001b[0m                    \u001b[38;5;124m'\u001b[39m\u001b[38;5;124mSupported formats are: \u001b[39m\u001b[38;5;132;01m%s\u001b[39;00m\u001b[38;5;124m'\u001b[39m) \u001b[38;5;241m%\u001b[39m (file_format,\n\u001b[0;32m     93\u001b[0m                                                    \u001b[38;5;124m'\u001b[39m\u001b[38;5;124m,\u001b[39m\u001b[38;5;124m'\u001b[39m\u001b[38;5;241m.\u001b[39mjoin(SUPPORTED_FORMATS))\n\u001b[0;32m     94\u001b[0m         \u001b[38;5;28;01mraise\u001b[39;00m InvalidFileException(msg)\n\u001b[1;32m---> 96\u001b[0m archive \u001b[38;5;241m=\u001b[39m ZipFile(filename, \u001b[38;5;124m'\u001b[39m\u001b[38;5;124mr\u001b[39m\u001b[38;5;124m'\u001b[39m)\n\u001b[0;32m     97\u001b[0m \u001b[38;5;28;01mreturn\u001b[39;00m archive\n",
      "File \u001b[1;32m~\\anaconda3\\Lib\\zipfile.py:1302\u001b[0m, in \u001b[0;36mZipFile.__init__\u001b[1;34m(self, file, mode, compression, allowZip64, compresslevel, strict_timestamps, metadata_encoding)\u001b[0m\n\u001b[0;32m   1300\u001b[0m \u001b[38;5;28;01mtry\u001b[39;00m:\n\u001b[0;32m   1301\u001b[0m     \u001b[38;5;28;01mif\u001b[39;00m mode \u001b[38;5;241m==\u001b[39m \u001b[38;5;124m'\u001b[39m\u001b[38;5;124mr\u001b[39m\u001b[38;5;124m'\u001b[39m:\n\u001b[1;32m-> 1302\u001b[0m         \u001b[38;5;28mself\u001b[39m\u001b[38;5;241m.\u001b[39m_RealGetContents()\n\u001b[0;32m   1303\u001b[0m     \u001b[38;5;28;01melif\u001b[39;00m mode \u001b[38;5;129;01min\u001b[39;00m (\u001b[38;5;124m'\u001b[39m\u001b[38;5;124mw\u001b[39m\u001b[38;5;124m'\u001b[39m, \u001b[38;5;124m'\u001b[39m\u001b[38;5;124mx\u001b[39m\u001b[38;5;124m'\u001b[39m):\n\u001b[0;32m   1304\u001b[0m         \u001b[38;5;66;03m# set the modified flag so central directory gets written\u001b[39;00m\n\u001b[0;32m   1305\u001b[0m         \u001b[38;5;66;03m# even if no files are added to the archive\u001b[39;00m\n\u001b[0;32m   1306\u001b[0m         \u001b[38;5;28mself\u001b[39m\u001b[38;5;241m.\u001b[39m_didModify \u001b[38;5;241m=\u001b[39m \u001b[38;5;28;01mTrue\u001b[39;00m\n",
      "File \u001b[1;32m~\\anaconda3\\Lib\\zipfile.py:1369\u001b[0m, in \u001b[0;36mZipFile._RealGetContents\u001b[1;34m(self)\u001b[0m\n\u001b[0;32m   1367\u001b[0m     \u001b[38;5;28;01mraise\u001b[39;00m BadZipFile(\u001b[38;5;124m\"\u001b[39m\u001b[38;5;124mFile is not a zip file\u001b[39m\u001b[38;5;124m\"\u001b[39m)\n\u001b[0;32m   1368\u001b[0m \u001b[38;5;28;01mif\u001b[39;00m \u001b[38;5;129;01mnot\u001b[39;00m endrec:\n\u001b[1;32m-> 1369\u001b[0m     \u001b[38;5;28;01mraise\u001b[39;00m BadZipFile(\u001b[38;5;124m\"\u001b[39m\u001b[38;5;124mFile is not a zip file\u001b[39m\u001b[38;5;124m\"\u001b[39m)\n\u001b[0;32m   1370\u001b[0m \u001b[38;5;28;01mif\u001b[39;00m \u001b[38;5;28mself\u001b[39m\u001b[38;5;241m.\u001b[39mdebug \u001b[38;5;241m>\u001b[39m \u001b[38;5;241m1\u001b[39m:\n\u001b[0;32m   1371\u001b[0m     \u001b[38;5;28mprint\u001b[39m(endrec)\n",
      "\u001b[1;31mBadZipFile\u001b[0m: File is not a zip file"
     ]
    }
   ],
   "source": [
    "import openpyxl\n",
    "from openpyxl import Workbook\n",
    "\n",
    "# 원본 파일 경로와 타겟 파일 경로를 지정합니다.\n",
    "source_file_path = \"D:\\\\시설\\\\유지모음\\\\24.2월유지가입자.xlsx\"\n",
    "target_file_path = \"D:\\\\시설\\\\유지모음\\\\24.2월유지가입자 조건요약.xlsx\"\n",
    "\n",
    "# 원본 워크북을 로드합니다.\n",
    "source_wb = openpyxl.load_workbook(source_file_path)\n",
    "source_sheet = source_wb.active  # 첫 번째 시트를 선택합니다.\n",
    "\n",
    "# 새로운 워크북을 생성하고 첫 번째 시트를 선택합니다.\n",
    "target_wb = Workbook()\n",
    "target_sheet = target_wb.active\n",
    "target_sheet.title = \"Sheet1\"  # 새로운 시트의 이름을 지정합니다.\n",
    "\n",
    "# 필요한 열의 데이터를 복사합니다.\n",
    "columns_to_copy = [\"B\", \"D\", \"E\", \"F\", \"CD\", \"G\", \"I\", \"V\", \"AA\", \"FH\", \"FI\", \"DQ\", \"AO\", \"AP\", \"AU\", \"AW\", \"DU\", \"EB\", \"EC\", \"EM\", \"ES\"]\n",
    "target_column = 1\n",
    "\n",
    "for col in columns_to_copy:\n",
    "    for row in range(1, source_sheet.max_row + 1):\n",
    "        source_cell = f\"{col}{row}\"\n",
    "        target_cell = target_sheet.cell(row=row, column=target_column)\n",
    "        target_cell.value = source_sheet[source_cell].value\n",
    "    target_column += 1\n",
    "\n",
    "# 새로운 워크북을 저장하고 닫습니다.\n",
    "target_wb.save(target_file_path)\n",
    "target_wb.close()\n",
    "\n",
    "# 원본 워크북을 닫습니다.\n",
    "source_wb.close()\n",
    "\n",
    "print(\"특정 열의 데이터를 새로운 시트 파일로 가져왔습니다.\")\n"
   ]
  },
  {
   "cell_type": "code",
   "execution_count": 39,
   "id": "b30bc359",
   "metadata": {},
   "outputs": [
    {
     "ename": "ImportError",
     "evalue": "cannot import name 'SparseDtype' from 'pandas.core.dtypes.dtypes' (C:\\Users\\User\\anaconda3\\Lib\\site-packages\\pandas\\core\\dtypes\\dtypes.py)",
     "output_type": "error",
     "traceback": [
      "\u001b[1;31m---------------------------------------------------------------------------\u001b[0m",
      "\u001b[1;31mImportError\u001b[0m                               Traceback (most recent call last)",
      "Cell \u001b[1;32mIn[39], line 1\u001b[0m\n\u001b[1;32m----> 1\u001b[0m \u001b[38;5;28;01mimport\u001b[39;00m \u001b[38;5;21;01mpandas\u001b[39;00m \u001b[38;5;28;01mas\u001b[39;00m \u001b[38;5;21;01mpd\u001b[39;00m\n\u001b[0;32m      3\u001b[0m \u001b[38;5;66;03m# 원본 파일 경로\u001b[39;00m\n\u001b[0;32m      4\u001b[0m source_file_path \u001b[38;5;241m=\u001b[39m \u001b[38;5;124m\"\u001b[39m\u001b[38;5;124mD:\u001b[39m\u001b[38;5;130;01m\\\\\u001b[39;00m\u001b[38;5;124m시설\u001b[39m\u001b[38;5;130;01m\\\\\u001b[39;00m\u001b[38;5;124m23.12월유지가입자.xlsx\u001b[39m\u001b[38;5;124m\"\u001b[39m\n",
      "File \u001b[1;32m~\\anaconda3\\Lib\\site-packages\\pandas\\__init__.py:127\u001b[0m\n\u001b[0;32m    116\u001b[0m \u001b[38;5;28;01mfrom\u001b[39;00m \u001b[38;5;21;01mpandas\u001b[39;00m\u001b[38;5;21;01m.\u001b[39;00m\u001b[38;5;21;01mtseries\u001b[39;00m \u001b[38;5;28;01mimport\u001b[39;00m offsets\n\u001b[0;32m    118\u001b[0m \u001b[38;5;28;01mfrom\u001b[39;00m \u001b[38;5;21;01mpandas\u001b[39;00m\u001b[38;5;21;01m.\u001b[39;00m\u001b[38;5;21;01mcore\u001b[39;00m\u001b[38;5;21;01m.\u001b[39;00m\u001b[38;5;21;01mcomputation\u001b[39;00m\u001b[38;5;21;01m.\u001b[39;00m\u001b[38;5;21;01mapi\u001b[39;00m \u001b[38;5;28;01mimport\u001b[39;00m \u001b[38;5;28meval\u001b[39m\n\u001b[0;32m    120\u001b[0m \u001b[38;5;28;01mfrom\u001b[39;00m \u001b[38;5;21;01mpandas\u001b[39;00m\u001b[38;5;21;01m.\u001b[39;00m\u001b[38;5;21;01mcore\u001b[39;00m\u001b[38;5;21;01m.\u001b[39;00m\u001b[38;5;21;01mreshape\u001b[39;00m\u001b[38;5;21;01m.\u001b[39;00m\u001b[38;5;21;01mapi\u001b[39;00m \u001b[38;5;28;01mimport\u001b[39;00m (\n\u001b[0;32m    121\u001b[0m     concat,\n\u001b[0;32m    122\u001b[0m     lreshape,\n\u001b[0;32m    123\u001b[0m     melt,\n\u001b[0;32m    124\u001b[0m     wide_to_long,\n\u001b[0;32m    125\u001b[0m     merge,\n\u001b[0;32m    126\u001b[0m     merge_asof,\n\u001b[1;32m--> 127\u001b[0m     merge_ordered,\n\u001b[0;32m    128\u001b[0m     crosstab,\n\u001b[0;32m    129\u001b[0m     pivot,\n\u001b[0;32m    130\u001b[0m     pivot_table,\n\u001b[0;32m    131\u001b[0m     get_dummies,\n\u001b[0;32m    132\u001b[0m     from_dummies,\n\u001b[0;32m    133\u001b[0m     cut,\n\u001b[0;32m    134\u001b[0m     qcut,\n\u001b[0;32m    135\u001b[0m )\n\u001b[0;32m    137\u001b[0m \u001b[38;5;28;01mfrom\u001b[39;00m \u001b[38;5;21;01mpandas\u001b[39;00m \u001b[38;5;28;01mimport\u001b[39;00m api, arrays, errors, io, plotting, tseries\n\u001b[0;32m    138\u001b[0m \u001b[38;5;28;01mfrom\u001b[39;00m \u001b[38;5;21;01mpandas\u001b[39;00m \u001b[38;5;28;01mimport\u001b[39;00m testing\n",
      "\u001b[1;31mImportError\u001b[0m: cannot import name 'SparseDtype' from 'pandas.core.dtypes.dtypes' (C:\\Users\\User\\anaconda3\\Lib\\site-packages\\pandas\\core\\dtypes\\dtypes.py)"
     ]
    }
   ],
   "source": [
    "import pandas as pd\n",
    "\n",
    "# 원본 파일 경로\n",
    "source_file_path = \"D:\\\\시설\\\\23.12월유지가입자.xlsx\"\n",
    "\n",
    "# 새로운 파일 경로\n",
    "new_file_path = \"D:\\\\시설\\\\23.12월유지가입자 조건요약.xlsx\"\n",
    "\n",
    "# 원본 Excel 파일 읽기\n",
    "df = pd.read_excel(source_file_path, sheet_name=0) # 첫 번째 시트를 읽습니다.\n",
    "\n",
    "# 필요한 열만 선택하여 새로운 DataFrame 생성\n",
    "columns_to_copy = [\"B\", \"D\", \"E\", \"F\", \"CD\", \"G\", \"I\", \"V\", \"AA\", \"FH\", \"FI\", \"DQ\", \"AO\", \"AP\", \"AU\", \"AW\", \"DU\", \"EB\", \"EC\", \"EM\", \"ES\"]\n",
    "new_df = df[columns_to_copy]\n",
    "\n",
    "# 새로운 Excel 파일로 저장\n",
    "new_df.to_excel(new_file_path, index=False) # 인덱스는 저장하지 않습니다.\n",
    "\n",
    "print(\"특정 열의 데이터를 새로운 시트 파일로 가져왔습니다.\")\n"
   ]
  },
  {
   "cell_type": "code",
   "execution_count": 40,
   "id": "5dfb3298",
   "metadata": {},
   "outputs": [
    {
     "name": "stdout",
     "output_type": "stream",
     "text": [
      "Collecting pandasNote: you may need to restart the kernel to use updated packages.\n",
      "\n",
      "  Using cached pandas-2.2.1-cp311-cp311-win_amd64.whl.metadata (19 kB)\n",
      "Requirement already satisfied: numpy<2,>=1.23.2 in c:\\users\\user\\anaconda3\\lib\\site-packages (from pandas) (1.24.3)\n",
      "Requirement already satisfied: python-dateutil>=2.8.2 in c:\\users\\user\\anaconda3\\lib\\site-packages (from pandas) (2.8.2)\n",
      "Requirement already satisfied: pytz>=2020.1 in c:\\users\\user\\anaconda3\\lib\\site-packages (from pandas) (2023.3.post1)\n",
      "Requirement already satisfied: tzdata>=2022.7 in c:\\users\\user\\anaconda3\\lib\\site-packages (from pandas) (2023.3)\n",
      "Requirement already satisfied: six>=1.5 in c:\\users\\user\\anaconda3\\lib\\site-packages (from python-dateutil>=2.8.2->pandas) (1.16.0)\n",
      "Using cached pandas-2.2.1-cp311-cp311-win_amd64.whl (11.6 MB)\n",
      "Installing collected packages: pandas\n"
     ]
    },
    {
     "name": "stderr",
     "output_type": "stream",
     "text": [
      "WARNING: Ignoring invalid distribution ~andas (C:\\Users\\User\\anaconda3\\Lib\\site-packages)\n",
      "WARNING: Ignoring invalid distribution ~andas (C:\\Users\\User\\anaconda3\\Lib\\site-packages)\n",
      "ERROR: Could not install packages due to an OSError: [WinError 5] 액세스가 거부되었습니다: 'C:\\\\Users\\\\User\\\\anaconda3\\\\Lib\\\\site-packages\\\\pandas\\\\_libs\\\\algos.cp311-win_amd64.pyd'\n",
      "Consider using the `--user` option or check the permissions.\n",
      "\n"
     ]
    }
   ],
   "source": [
    "pip install pandas\n"
   ]
  },
  {
   "cell_type": "code",
   "execution_count": 41,
   "id": "c4ef707d",
   "metadata": {},
   "outputs": [
    {
     "name": "stdout",
     "output_type": "stream",
     "text": [
      "Collecting pandas\n",
      "  Using cached pandas-2.2.1-cp311-cp311-win_amd64.whl.metadata (19 kB)\n",
      "Requirement already satisfied: numpy<2,>=1.23.2 in c:\\users\\user\\anaconda3\\lib\\site-packages (from pandas) (1.24.3)\n",
      "Requirement already satisfied: python-dateutil>=2.8.2 in c:\\users\\user\\anaconda3\\lib\\site-packages (from pandas) (2.8.2)\n",
      "Requirement already satisfied: pytz>=2020.1 in c:\\users\\user\\anaconda3\\lib\\site-packages (from pandas) (2023.3.post1)\n",
      "Requirement already satisfied: tzdata>=2022.7 in c:\\users\\user\\anaconda3\\lib\\site-packages (from pandas) (2023.3)\n",
      "Requirement already satisfied: six>=1.5 in c:\\users\\user\\anaconda3\\lib\\site-packages (from python-dateutil>=2.8.2->pandas) (1.16.0)\n",
      "Using cached pandas-2.2.1-cp311-cp311-win_amd64.whl (11.6 MB)\n",
      "Installing collected packages: pandas\n",
      "Successfully installed pandas-2.2.1\n",
      "Note: you may need to restart the kernel to use updated packages.\n"
     ]
    },
    {
     "name": "stderr",
     "output_type": "stream",
     "text": [
      "WARNING: Ignoring invalid distribution ~andas (C:\\Users\\User\\anaconda3\\Lib\\site-packages)\n",
      "WARNING: Ignoring invalid distribution ~andas (C:\\Users\\User\\anaconda3\\Lib\\site-packages)\n",
      "ERROR: pip's dependency resolver does not currently take into account all the packages that are installed. This behaviour is the source of the following dependency conflicts.\n",
      "ydata-profiling 4.6.5 requires pydantic>=2, but you have pydantic 1.8.2 which is incompatible.\n",
      "ydata-profiling 4.6.5 requires visions[type_image_path]==0.7.5, but you have visions 0.7.4 which is incompatible.\n"
     ]
    }
   ],
   "source": [
    "pip install pandas --user\n"
   ]
  },
  {
   "cell_type": "code",
   "execution_count": 42,
   "id": "058dd074",
   "metadata": {},
   "outputs": [
    {
     "ename": "ImportError",
     "evalue": "cannot import name 'SparseDtype' from 'pandas.core.dtypes.dtypes' (C:\\Users\\User\\anaconda3\\Lib\\site-packages\\pandas\\core\\dtypes\\dtypes.py)",
     "output_type": "error",
     "traceback": [
      "\u001b[1;31m---------------------------------------------------------------------------\u001b[0m",
      "\u001b[1;31mImportError\u001b[0m                               Traceback (most recent call last)",
      "Cell \u001b[1;32mIn[42], line 1\u001b[0m\n\u001b[1;32m----> 1\u001b[0m \u001b[38;5;28;01mimport\u001b[39;00m \u001b[38;5;21;01mpandas\u001b[39;00m \u001b[38;5;28;01mas\u001b[39;00m \u001b[38;5;21;01mpd\u001b[39;00m\n\u001b[0;32m      3\u001b[0m \u001b[38;5;66;03m# 데이터를 딕셔너리 형태로 준비\u001b[39;00m\n\u001b[0;32m      4\u001b[0m data \u001b[38;5;241m=\u001b[39m {\n\u001b[0;32m      5\u001b[0m     \u001b[38;5;124m\"\u001b[39m\u001b[38;5;124m중앙지사\u001b[39m\u001b[38;5;124m\"\u001b[39m: [\u001b[38;5;28;01mNone\u001b[39;00m, \u001b[38;5;28;01mNone\u001b[39;00m],\n\u001b[0;32m      6\u001b[0m     \u001b[38;5;124m\"\u001b[39m\u001b[38;5;124m강북지사\u001b[39m\u001b[38;5;124m\"\u001b[39m: [\u001b[38;5;28;01mNone\u001b[39;00m, \u001b[38;5;28;01mNone\u001b[39;00m],\n\u001b[1;32m   (...)\u001b[0m\n\u001b[0;32m     11\u001b[0m     \u001b[38;5;124m\"\u001b[39m\u001b[38;5;124m원주지사\u001b[39m\u001b[38;5;124m\"\u001b[39m: [\u001b[38;5;28;01mNone\u001b[39;00m, \u001b[38;5;28;01mNone\u001b[39;00m]\n\u001b[0;32m     12\u001b[0m }\n",
      "File \u001b[1;32m~\\anaconda3\\Lib\\site-packages\\pandas\\__init__.py:127\u001b[0m\n\u001b[0;32m    116\u001b[0m \u001b[38;5;28;01mfrom\u001b[39;00m \u001b[38;5;21;01mpandas\u001b[39;00m\u001b[38;5;21;01m.\u001b[39;00m\u001b[38;5;21;01mtseries\u001b[39;00m \u001b[38;5;28;01mimport\u001b[39;00m offsets\n\u001b[0;32m    118\u001b[0m \u001b[38;5;28;01mfrom\u001b[39;00m \u001b[38;5;21;01mpandas\u001b[39;00m\u001b[38;5;21;01m.\u001b[39;00m\u001b[38;5;21;01mcore\u001b[39;00m\u001b[38;5;21;01m.\u001b[39;00m\u001b[38;5;21;01mcomputation\u001b[39;00m\u001b[38;5;21;01m.\u001b[39;00m\u001b[38;5;21;01mapi\u001b[39;00m \u001b[38;5;28;01mimport\u001b[39;00m \u001b[38;5;28meval\u001b[39m\n\u001b[0;32m    120\u001b[0m \u001b[38;5;28;01mfrom\u001b[39;00m \u001b[38;5;21;01mpandas\u001b[39;00m\u001b[38;5;21;01m.\u001b[39;00m\u001b[38;5;21;01mcore\u001b[39;00m\u001b[38;5;21;01m.\u001b[39;00m\u001b[38;5;21;01mreshape\u001b[39;00m\u001b[38;5;21;01m.\u001b[39;00m\u001b[38;5;21;01mapi\u001b[39;00m \u001b[38;5;28;01mimport\u001b[39;00m (\n\u001b[0;32m    121\u001b[0m     concat,\n\u001b[0;32m    122\u001b[0m     lreshape,\n\u001b[0;32m    123\u001b[0m     melt,\n\u001b[0;32m    124\u001b[0m     wide_to_long,\n\u001b[0;32m    125\u001b[0m     merge,\n\u001b[0;32m    126\u001b[0m     merge_asof,\n\u001b[1;32m--> 127\u001b[0m     merge_ordered,\n\u001b[0;32m    128\u001b[0m     crosstab,\n\u001b[0;32m    129\u001b[0m     pivot,\n\u001b[0;32m    130\u001b[0m     pivot_table,\n\u001b[0;32m    131\u001b[0m     get_dummies,\n\u001b[0;32m    132\u001b[0m     from_dummies,\n\u001b[0;32m    133\u001b[0m     cut,\n\u001b[0;32m    134\u001b[0m     qcut,\n\u001b[0;32m    135\u001b[0m )\n\u001b[0;32m    137\u001b[0m \u001b[38;5;28;01mfrom\u001b[39;00m \u001b[38;5;21;01mpandas\u001b[39;00m \u001b[38;5;28;01mimport\u001b[39;00m api, arrays, errors, io, plotting, tseries\n\u001b[0;32m    138\u001b[0m \u001b[38;5;28;01mfrom\u001b[39;00m \u001b[38;5;21;01mpandas\u001b[39;00m \u001b[38;5;28;01mimport\u001b[39;00m testing\n",
      "\u001b[1;31mImportError\u001b[0m: cannot import name 'SparseDtype' from 'pandas.core.dtypes.dtypes' (C:\\Users\\User\\anaconda3\\Lib\\site-packages\\pandas\\core\\dtypes\\dtypes.py)"
     ]
    }
   ],
   "source": [
    "import pandas as pd\n",
    "\n",
    "# 데이터를 딕셔너리 형태로 준비\n",
    "data = {\n",
    "    \"중앙지사\": [None, None],\n",
    "    \"강북지사\": [None, None],\n",
    "    \"서대문지사\": [None, None],\n",
    "    \"의정부지사\": [None, None],\n",
    "    \"남양주지사\": [None, None],\n",
    "    \"강릉지사\": [None, None],\n",
    "    \"원주지사\": [None, None]\n",
    "}\n",
    "\n",
    "# 행 내용을 인덱스로 하는 DataFrame 생성\n",
    "df = pd.DataFrame(data, index=[\"인원\", \"리텐션값\"])\n",
    "\n",
    "# 엑셀 파일로 저장\n",
    "file_path = r\"D:\\자동저장 엑셀.xlsx\"\n",
    "with pd.ExcelWriter(file_path, engine='openpyxl') as writer:\n",
    "    df.to_excel(writer)\n",
    "\n",
    "print(f\"'{file_path}'에 파일이 성공적으로 저장되었습니다.\")\n",
    "\n"
   ]
  },
  {
   "cell_type": "code",
   "execution_count": 46,
   "id": "c318cb95",
   "metadata": {},
   "outputs": [
    {
     "ename": "ImportError",
     "evalue": "cannot import name 'SparseDtype' from 'pandas.core.dtypes.dtypes' (C:\\Users\\User\\anaconda3\\Lib\\site-packages\\pandas\\core\\dtypes\\dtypes.py)",
     "output_type": "error",
     "traceback": [
      "\u001b[1;31m---------------------------------------------------------------------------\u001b[0m",
      "\u001b[1;31mImportError\u001b[0m                               Traceback (most recent call last)",
      "Cell \u001b[1;32mIn[46], line 1\u001b[0m\n\u001b[1;32m----> 1\u001b[0m \u001b[38;5;28;01mimport\u001b[39;00m \u001b[38;5;21;01mpandas\u001b[39;00m \u001b[38;5;28;01mas\u001b[39;00m \u001b[38;5;21;01mpd\u001b[39;00m\n\u001b[0;32m      3\u001b[0m \u001b[38;5;66;03m# 데이터를 딕셔너리 형태로 준비\u001b[39;00m\n\u001b[0;32m      4\u001b[0m data \u001b[38;5;241m=\u001b[39m {\n\u001b[0;32m      5\u001b[0m     \u001b[38;5;124m\"\u001b[39m\u001b[38;5;124m중앙지사\u001b[39m\u001b[38;5;124m\"\u001b[39m: [\u001b[38;5;28;01mNone\u001b[39;00m, \u001b[38;5;28;01mNone\u001b[39;00m],\n\u001b[0;32m      6\u001b[0m     \u001b[38;5;124m\"\u001b[39m\u001b[38;5;124m강북지사\u001b[39m\u001b[38;5;124m\"\u001b[39m: [\u001b[38;5;28;01mNone\u001b[39;00m, \u001b[38;5;28;01mNone\u001b[39;00m],\n\u001b[1;32m   (...)\u001b[0m\n\u001b[0;32m     11\u001b[0m     \u001b[38;5;124m\"\u001b[39m\u001b[38;5;124m원주지사\u001b[39m\u001b[38;5;124m\"\u001b[39m: [\u001b[38;5;28;01mNone\u001b[39;00m, \u001b[38;5;28;01mNone\u001b[39;00m]\n\u001b[0;32m     12\u001b[0m }\n",
      "File \u001b[1;32m~\\anaconda3\\Lib\\site-packages\\pandas\\__init__.py:127\u001b[0m\n\u001b[0;32m    116\u001b[0m \u001b[38;5;28;01mfrom\u001b[39;00m \u001b[38;5;21;01mpandas\u001b[39;00m\u001b[38;5;21;01m.\u001b[39;00m\u001b[38;5;21;01mtseries\u001b[39;00m \u001b[38;5;28;01mimport\u001b[39;00m offsets\n\u001b[0;32m    118\u001b[0m \u001b[38;5;28;01mfrom\u001b[39;00m \u001b[38;5;21;01mpandas\u001b[39;00m\u001b[38;5;21;01m.\u001b[39;00m\u001b[38;5;21;01mcore\u001b[39;00m\u001b[38;5;21;01m.\u001b[39;00m\u001b[38;5;21;01mcomputation\u001b[39;00m\u001b[38;5;21;01m.\u001b[39;00m\u001b[38;5;21;01mapi\u001b[39;00m \u001b[38;5;28;01mimport\u001b[39;00m \u001b[38;5;28meval\u001b[39m\n\u001b[0;32m    120\u001b[0m \u001b[38;5;28;01mfrom\u001b[39;00m \u001b[38;5;21;01mpandas\u001b[39;00m\u001b[38;5;21;01m.\u001b[39;00m\u001b[38;5;21;01mcore\u001b[39;00m\u001b[38;5;21;01m.\u001b[39;00m\u001b[38;5;21;01mreshape\u001b[39;00m\u001b[38;5;21;01m.\u001b[39;00m\u001b[38;5;21;01mapi\u001b[39;00m \u001b[38;5;28;01mimport\u001b[39;00m (\n\u001b[0;32m    121\u001b[0m     concat,\n\u001b[0;32m    122\u001b[0m     lreshape,\n\u001b[0;32m    123\u001b[0m     melt,\n\u001b[0;32m    124\u001b[0m     wide_to_long,\n\u001b[0;32m    125\u001b[0m     merge,\n\u001b[0;32m    126\u001b[0m     merge_asof,\n\u001b[1;32m--> 127\u001b[0m     merge_ordered,\n\u001b[0;32m    128\u001b[0m     crosstab,\n\u001b[0;32m    129\u001b[0m     pivot,\n\u001b[0;32m    130\u001b[0m     pivot_table,\n\u001b[0;32m    131\u001b[0m     get_dummies,\n\u001b[0;32m    132\u001b[0m     from_dummies,\n\u001b[0;32m    133\u001b[0m     cut,\n\u001b[0;32m    134\u001b[0m     qcut,\n\u001b[0;32m    135\u001b[0m )\n\u001b[0;32m    137\u001b[0m \u001b[38;5;28;01mfrom\u001b[39;00m \u001b[38;5;21;01mpandas\u001b[39;00m \u001b[38;5;28;01mimport\u001b[39;00m api, arrays, errors, io, plotting, tseries\n\u001b[0;32m    138\u001b[0m \u001b[38;5;28;01mfrom\u001b[39;00m \u001b[38;5;21;01mpandas\u001b[39;00m \u001b[38;5;28;01mimport\u001b[39;00m testing\n",
      "\u001b[1;31mImportError\u001b[0m: cannot import name 'SparseDtype' from 'pandas.core.dtypes.dtypes' (C:\\Users\\User\\anaconda3\\Lib\\site-packages\\pandas\\core\\dtypes\\dtypes.py)"
     ]
    }
   ],
   "source": [
    "import pandas as pd\n",
    "\n",
    "# 데이터를 딕셔너리 형태로 준비\n",
    "data = {\n",
    "    \"중앙지사\": [None, None],\n",
    "    \"강북지사\": [None, None],\n",
    "    \"서대문지사\": [None, None],\n",
    "    \"의정부지사\": [None, None],\n",
    "    \"남양주지사\": [None, None],\n",
    "    \"강릉지사\": [None, None],\n",
    "    \"원주지사\": [None, None]\n",
    "}\n",
    "\n",
    "# 행 내용을 인덱스로 하는 DataFrame 생성\n",
    "df = pd.DataFrame(data, index=[\"인원\", \"리텐션값\"])\n",
    "\n",
    "# 엑셀 파일로 저장\n",
    "file_path = r\"D:\\자동저장 엑셀.xlsx\"\n",
    "try:\n",
    "    with pd.ExcelWriter(file_path, engine='openpyxl') as writer:\n",
    "        df.to_excel(writer)\n",
    "    print(f\"'{file_path}'에 파일이 성공적으로 저장되었습니다.\")\n",
    "except Exception as e:\n",
    "    print(f\"파일 저장 중 오류가 발생했습니다: {e}\")"
   ]
  },
  {
   "cell_type": "code",
   "execution_count": 49,
   "id": "93904a29",
   "metadata": {},
   "outputs": [
    {
     "name": "stdout",
     "output_type": "stream",
     "text": [
      "^C\n",
      "Note: you may need to restart the kernel to use updated packages.\n"
     ]
    }
   ],
   "source": [
    "pip install --upgrade pandas"
   ]
  },
  {
   "cell_type": "code",
   "execution_count": 52,
   "id": "3bdd53e5",
   "metadata": {},
   "outputs": [
    {
     "name": "stdout",
     "output_type": "stream",
     "text": [
      "^C\n",
      "Note: you may need to restart the kernel to use updated packages.\n"
     ]
    }
   ],
   "source": [
    "pip uninstall pandas"
   ]
  },
  {
   "cell_type": "code",
   "execution_count": null,
   "id": "0697ff7d",
   "metadata": {},
   "outputs": [],
   "source": [
    "import pandas as pd\n",
    "\n",
    "# usecols를 사용하여 필요한 열만 지정\n",
    "df = pd.read_excel('example.xlsx', usecols=['A', 'C', 'E'])\n"
   ]
  },
  {
   "cell_type": "code",
   "execution_count": 54,
   "id": "525d3bb2",
   "metadata": {},
   "outputs": [
    {
     "ename": "ImportError",
     "evalue": "cannot import name 'SparseDtype' from 'pandas.core.dtypes.dtypes' (C:\\Users\\User\\anaconda3\\Lib\\site-packages\\pandas\\core\\dtypes\\dtypes.py)",
     "output_type": "error",
     "traceback": [
      "\u001b[1;31m---------------------------------------------------------------------------\u001b[0m",
      "\u001b[1;31mImportError\u001b[0m                               Traceback (most recent call last)",
      "Cell \u001b[1;32mIn[54], line 1\u001b[0m\n\u001b[1;32m----> 1\u001b[0m \u001b[38;5;28;01mimport\u001b[39;00m \u001b[38;5;21;01mpandas\u001b[39;00m \u001b[38;5;28;01mas\u001b[39;00m \u001b[38;5;21;01mpd\u001b[39;00m\n\u001b[0;32m      3\u001b[0m filepath \u001b[38;5;241m=\u001b[39m \u001b[38;5;124m'\u001b[39m\u001b[38;5;124mD:\u001b[39m\u001b[38;5;130;01m\\\\\u001b[39;00m\u001b[38;5;124m시설\u001b[39m\u001b[38;5;130;01m\\\\\u001b[39;00m\u001b[38;5;124m유지모음\u001b[39m\u001b[38;5;130;01m\\\\\u001b[39;00m\u001b[38;5;124m24.2월유지가입자.xlsx\u001b[39m\u001b[38;5;124m'\u001b[39m\n\u001b[0;32m      5\u001b[0m \u001b[38;5;66;03m# 엑셀 파일을 CSV로 변환\u001b[39;00m\n",
      "File \u001b[1;32m~\\anaconda3\\Lib\\site-packages\\pandas\\__init__.py:127\u001b[0m\n\u001b[0;32m    116\u001b[0m \u001b[38;5;28;01mfrom\u001b[39;00m \u001b[38;5;21;01mpandas\u001b[39;00m\u001b[38;5;21;01m.\u001b[39;00m\u001b[38;5;21;01mtseries\u001b[39;00m \u001b[38;5;28;01mimport\u001b[39;00m offsets\n\u001b[0;32m    118\u001b[0m \u001b[38;5;28;01mfrom\u001b[39;00m \u001b[38;5;21;01mpandas\u001b[39;00m\u001b[38;5;21;01m.\u001b[39;00m\u001b[38;5;21;01mcore\u001b[39;00m\u001b[38;5;21;01m.\u001b[39;00m\u001b[38;5;21;01mcomputation\u001b[39;00m\u001b[38;5;21;01m.\u001b[39;00m\u001b[38;5;21;01mapi\u001b[39;00m \u001b[38;5;28;01mimport\u001b[39;00m \u001b[38;5;28meval\u001b[39m\n\u001b[0;32m    120\u001b[0m \u001b[38;5;28;01mfrom\u001b[39;00m \u001b[38;5;21;01mpandas\u001b[39;00m\u001b[38;5;21;01m.\u001b[39;00m\u001b[38;5;21;01mcore\u001b[39;00m\u001b[38;5;21;01m.\u001b[39;00m\u001b[38;5;21;01mreshape\u001b[39;00m\u001b[38;5;21;01m.\u001b[39;00m\u001b[38;5;21;01mapi\u001b[39;00m \u001b[38;5;28;01mimport\u001b[39;00m (\n\u001b[0;32m    121\u001b[0m     concat,\n\u001b[0;32m    122\u001b[0m     lreshape,\n\u001b[0;32m    123\u001b[0m     melt,\n\u001b[0;32m    124\u001b[0m     wide_to_long,\n\u001b[0;32m    125\u001b[0m     merge,\n\u001b[0;32m    126\u001b[0m     merge_asof,\n\u001b[1;32m--> 127\u001b[0m     merge_ordered,\n\u001b[0;32m    128\u001b[0m     crosstab,\n\u001b[0;32m    129\u001b[0m     pivot,\n\u001b[0;32m    130\u001b[0m     pivot_table,\n\u001b[0;32m    131\u001b[0m     get_dummies,\n\u001b[0;32m    132\u001b[0m     from_dummies,\n\u001b[0;32m    133\u001b[0m     cut,\n\u001b[0;32m    134\u001b[0m     qcut,\n\u001b[0;32m    135\u001b[0m )\n\u001b[0;32m    137\u001b[0m \u001b[38;5;28;01mfrom\u001b[39;00m \u001b[38;5;21;01mpandas\u001b[39;00m \u001b[38;5;28;01mimport\u001b[39;00m api, arrays, errors, io, plotting, tseries\n\u001b[0;32m    138\u001b[0m \u001b[38;5;28;01mfrom\u001b[39;00m \u001b[38;5;21;01mpandas\u001b[39;00m \u001b[38;5;28;01mimport\u001b[39;00m testing\n",
      "\u001b[1;31mImportError\u001b[0m: cannot import name 'SparseDtype' from 'pandas.core.dtypes.dtypes' (C:\\Users\\User\\anaconda3\\Lib\\site-packages\\pandas\\core\\dtypes\\dtypes.py)"
     ]
    }
   ],
   "source": [
    "import pandas as pd\n",
    "\n",
    "filepath = 'D:\\\\시설\\\\유지모음\\\\24.2월유지가입자.xlsx'\n",
    "\n",
    "# 엑셀 파일을 CSV로 변환\n",
    "df = pd.read_excel(filepath)\n",
    "df.to_csv('24.2월유지가입자.csv', index=False)\n",
    "\n",
    "# CSV 파일 불러오기\n",
    "df = pd.read_csv('24.2월유지가입자.csv')"
   ]
  },
  {
   "cell_type": "code",
   "execution_count": 57,
   "id": "83284b79",
   "metadata": {},
   "outputs": [
    {
     "name": "stdout",
     "output_type": "stream",
     "text": [
      "^C\n",
      "Note: you may need to restart the kernel to use updated packages.\n"
     ]
    }
   ],
   "source": [
    "pip uninstall pandas\n"
   ]
  },
  {
   "cell_type": "code",
   "execution_count": 59,
   "id": "e432aeaa",
   "metadata": {},
   "outputs": [
    {
     "data": {
      "image/png": "[encoded data removed]",
      "text/plain": [
       "<Figure size 1000x600 with 1 Axes>"
      ]
     },
     "metadata": {},
     "output_type": "display_data"
    }
   ],
   "source": [
    "import matplotlib.pyplot as plt\n",
    "\n",
    "# 데이터\n",
    "categories = ['A', 'B', 'C', 'D']\n",
    "values = [23, 45, 56, 78]\n",
    "\n",
    "# 색상\n",
    "colors = ['#4E79A7', '#4E79A7', '#F28E2B', '#4E79A7']  # C 데이터에 강조 색상 적용\n",
    "\n",
    "plt.figure(figsize=(10, 6))\n",
    "\n",
    "# 막대그래프 그리기\n",
    "plt.bar(categories, values, color=colors)\n",
    "\n",
    "# 제목 및 라벨 추가\n",
    "plt.title('Category Wise Value')\n",
    "plt.xlabel('Category')\n",
    "plt.ylabel('Value')\n",
    "\n",
    "plt.show()\n"
   ]
  },
  {
   "cell_type": "code",
   "execution_count": 60,
   "id": "37402b6c",
   "metadata": {},
   "outputs": [
    {
     "name": "stdout",
     "output_type": "stream",
     "text": [
      "Requirement already satisfied: pandas in c:\\users\\user\\appdata\\roaming\\python\\python311\\site-packages (2.2.1)Note: you may need to restart the kernel to use updated packages.\n",
      "\n",
      "Requirement already satisfied: openpyxl in c:\\users\\user\\anaconda3\\lib\\site-packages (3.0.10)\n",
      "Requirement already satisfied: numpy<2,>=1.23.2 in c:\\users\\user\\anaconda3\\lib\\site-packages (from pandas) (1.24.3)\n",
      "Requirement already satisfied: python-dateutil>=2.8.2 in c:\\users\\user\\anaconda3\\lib\\site-packages (from pandas) (2.8.2)\n",
      "Requirement already satisfied: pytz>=2020.1 in c:\\users\\user\\anaconda3\\lib\\site-packages (from pandas) (2023.3.post1)\n",
      "Requirement already satisfied: tzdata>=2022.7 in c:\\users\\user\\anaconda3\\lib\\site-packages (from pandas) (2023.3)\n",
      "Requirement already satisfied: et_xmlfile in c:\\users\\user\\anaconda3\\lib\\site-packages (from openpyxl) (1.1.0)\n",
      "Requirement already satisfied: six>=1.5 in c:\\users\\user\\anaconda3\\lib\\site-packages (from python-dateutil>=2.8.2->pandas) (1.16.0)\n"
     ]
    }
   ],
   "source": [
    "pip install pandas openpyxl\n"
   ]
  },
  {
   "cell_type": "code",
   "execution_count": 64,
   "id": "dbd8d3c8",
   "metadata": {},
   "outputs": [
    {
     "ename": "ImportError",
     "evalue": "cannot import name 'SparseDtype' from 'pandas.core.dtypes.dtypes' (C:\\Users\\User\\anaconda3\\Lib\\site-packages\\pandas\\core\\dtypes\\dtypes.py)",
     "output_type": "error",
     "traceback": [
      "\u001b[1;31m---------------------------------------------------------------------------\u001b[0m",
      "\u001b[1;31mImportError\u001b[0m                               Traceback (most recent call last)",
      "Cell \u001b[1;32mIn[64], line 1\u001b[0m\n\u001b[1;32m----> 1\u001b[0m \u001b[38;5;28;01mimport\u001b[39;00m \u001b[38;5;21;01mpandas\u001b[39;00m \u001b[38;5;28;01mas\u001b[39;00m \u001b[38;5;21;01mpd\u001b[39;00m\n\u001b[0;32m      3\u001b[0m \u001b[38;5;28;01mdef\u001b[39;00m \u001b[38;5;21msave_and_merge_columns_as_csv_improved\u001b[39m():\n\u001b[0;32m      4\u001b[0m     \u001b[38;5;66;03m# 원본 파일 경로와 CSV 저장 경로 설정\u001b[39;00m\n\u001b[0;32m      5\u001b[0m     source_file_path \u001b[38;5;241m=\u001b[39m \u001b[38;5;124m\"\u001b[39m\u001b[38;5;124mD:\u001b[39m\u001b[38;5;130;01m\\\\\u001b[39;00m\u001b[38;5;124m시설\u001b[39m\u001b[38;5;130;01m\\\\\u001b[39;00m\u001b[38;5;124m유지모음\u001b[39m\u001b[38;5;130;01m\\\\\u001b[39;00m\u001b[38;5;124m24.2월유지가입자.xlsx\u001b[39m\u001b[38;5;124m\"\u001b[39m\n",
      "File \u001b[1;32m~\\anaconda3\\Lib\\site-packages\\pandas\\__init__.py:127\u001b[0m\n\u001b[0;32m    116\u001b[0m \u001b[38;5;28;01mfrom\u001b[39;00m \u001b[38;5;21;01mpandas\u001b[39;00m\u001b[38;5;21;01m.\u001b[39;00m\u001b[38;5;21;01mtseries\u001b[39;00m \u001b[38;5;28;01mimport\u001b[39;00m offsets\n\u001b[0;32m    118\u001b[0m \u001b[38;5;28;01mfrom\u001b[39;00m \u001b[38;5;21;01mpandas\u001b[39;00m\u001b[38;5;21;01m.\u001b[39;00m\u001b[38;5;21;01mcore\u001b[39;00m\u001b[38;5;21;01m.\u001b[39;00m\u001b[38;5;21;01mcomputation\u001b[39;00m\u001b[38;5;21;01m.\u001b[39;00m\u001b[38;5;21;01mapi\u001b[39;00m \u001b[38;5;28;01mimport\u001b[39;00m \u001b[38;5;28meval\u001b[39m\n\u001b[0;32m    120\u001b[0m \u001b[38;5;28;01mfrom\u001b[39;00m \u001b[38;5;21;01mpandas\u001b[39;00m\u001b[38;5;21;01m.\u001b[39;00m\u001b[38;5;21;01mcore\u001b[39;00m\u001b[38;5;21;01m.\u001b[39;00m\u001b[38;5;21;01mreshape\u001b[39;00m\u001b[38;5;21;01m.\u001b[39;00m\u001b[38;5;21;01mapi\u001b[39;00m \u001b[38;5;28;01mimport\u001b[39;00m (\n\u001b[0;32m    121\u001b[0m     concat,\n\u001b[0;32m    122\u001b[0m     lreshape,\n\u001b[0;32m    123\u001b[0m     melt,\n\u001b[0;32m    124\u001b[0m     wide_to_long,\n\u001b[0;32m    125\u001b[0m     merge,\n\u001b[0;32m    126\u001b[0m     merge_asof,\n\u001b[1;32m--> 127\u001b[0m     merge_ordered,\n\u001b[0;32m    128\u001b[0m     crosstab,\n\u001b[0;32m    129\u001b[0m     pivot,\n\u001b[0;32m    130\u001b[0m     pivot_table,\n\u001b[0;32m    131\u001b[0m     get_dummies,\n\u001b[0;32m    132\u001b[0m     from_dummies,\n\u001b[0;32m    133\u001b[0m     cut,\n\u001b[0;32m    134\u001b[0m     qcut,\n\u001b[0;32m    135\u001b[0m )\n\u001b[0;32m    137\u001b[0m \u001b[38;5;28;01mfrom\u001b[39;00m \u001b[38;5;21;01mpandas\u001b[39;00m \u001b[38;5;28;01mimport\u001b[39;00m api, arrays, errors, io, plotting, tseries\n\u001b[0;32m    138\u001b[0m \u001b[38;5;28;01mfrom\u001b[39;00m \u001b[38;5;21;01mpandas\u001b[39;00m \u001b[38;5;28;01mimport\u001b[39;00m testing\n",
      "\u001b[1;31mImportError\u001b[0m: cannot import name 'SparseDtype' from 'pandas.core.dtypes.dtypes' (C:\\Users\\User\\anaconda3\\Lib\\site-packages\\pandas\\core\\dtypes\\dtypes.py)"
     ]
    }
   ],
   "source": [
    "import pandas as pd\n",
    "\n",
    "def save_and_merge_columns_as_csv_improved():\n",
    "    # 원본 파일 경로와 CSV 저장 경로 설정\n",
    "    source_file_path = \"D:\\\\시설\\\\유지모음\\\\24.2월유지가입자.xlsx\"\n",
    "    csv_file_path = \"D:\\\\시설\\\\유지모음\\\\2402_MergedColumns.csv\"\n",
    "    \n",
    "    # 복사할 열 목록\n",
    "    column_list = ['B', 'D', 'E', 'F', 'CD', 'G', 'I', 'V', 'AA', 'FH', 'FI', 'DQ', 'AO', 'AP', 'AU', 'AW', 'DU', 'EB', 'EC', 'EM', 'ES']\n",
    "    \n",
    "    # 원본 Excel 파일 읽기\n",
    "    df = pd.read_excel(source_file_path, usecols=column_list)\n",
    "    \n",
    "    # CSV 파일로 저장\n",
    "    df.to_csv(csv_file_path, index=False)\n",
    "    \n",
    "    print(\"열 데이터를 하나의 CSV 파일로 병합했습니다.\")\n",
    "\n",
    "# 함수 실행ge_columns_as_csv_improved()\n"
   ]
  },
  {
   "cell_type": "code",
   "execution_count": 63,
   "id": "fd3f482f",
   "metadata": {},
   "outputs": [
    {
     "name": "stdout",
     "output_type": "stream",
     "text": [
      "Collecting package metadata (current_repodata.json): ...working... done\n",
      "Note: you may need to restart the kernel to use updated packages.\n"
     ]
    },
    {
     "name": "stderr",
     "output_type": "stream",
     "text": [
      "\n",
      "PackagesNotFoundError: The following packages are not available from current channels:\n",
      "\n",
      "  - activate\n",
      "  - 유지모음\n",
      "  - pandasconda\n",
      "\n",
      "Current channels:\n",
      "\n",
      "  - https://repo.anaconda.com/pkgs/main/win-64\n",
      "  - https://repo.anaconda.com/pkgs/main/noarch\n",
      "  - https://repo.anaconda.com/pkgs/r/win-64\n",
      "  - https://repo.anaconda.com/pkgs/r/noarch\n",
      "  - https://repo.anaconda.com/pkgs/msys2/win-64\n",
      "  - https://repo.anaconda.com/pkgs/msys2/noarch\n",
      "\n",
      "To search for alternate channels that may provide the conda package you're\n",
      "looking for, navigate to\n",
      "\n",
      "    https://anaconda.org\n",
      "\n",
      "and use the search bar at the top of the page.\n",
      "\n",
      "\n"
     ]
    },
    {
     "name": "stdout",
     "output_type": "stream",
     "text": [
      "\n",
      "Solving environment: ...working... unsuccessful attempt using repodata from current_repodata.json, retrying with next repodata source.\n",
      "Collecting package metadata (repodata.json): ...working... done\n",
      "Solving environment: ...working... failed\n"
     ]
    }
   ],
   "source": [
    "conda create -n 유지모음 python=3.8 pandasconda activate 유지모음\n"
   ]
  },
  {
   "cell_type": "code",
   "execution_count": 74,
   "id": "b17d94d6",
   "metadata": {},
   "outputs": [
    {
     "ename": "ImportError",
     "evalue": "cannot import name 'SparseDtype' from 'pandas.core.dtypes.dtypes' (C:\\Users\\User\\anaconda3\\Lib\\site-packages\\pandas\\core\\dtypes\\dtypes.py)",
     "output_type": "error",
     "traceback": [
      "\u001b[1;31m---------------------------------------------------------------------------\u001b[0m",
      "\u001b[1;31mImportError\u001b[0m                               Traceback (most recent call last)",
      "Cell \u001b[1;32mIn[74], line 11\u001b[0m\n\u001b[0;32m      8\u001b[0m output_file(\u001b[38;5;124m\"\u001b[39m\u001b[38;5;124mlines.html\u001b[39m\u001b[38;5;124m\"\u001b[39m)\n\u001b[0;32m     10\u001b[0m \u001b[38;5;66;03m# 그래프 객체 생성\u001b[39;00m\n\u001b[1;32m---> 11\u001b[0m p \u001b[38;5;241m=\u001b[39m figure(title\u001b[38;5;241m=\u001b[39m\u001b[38;5;124m\"\u001b[39m\u001b[38;5;124msimple line example\u001b[39m\u001b[38;5;124m\"\u001b[39m, x_axis_label\u001b[38;5;241m=\u001b[39m\u001b[38;5;124m'\u001b[39m\u001b[38;5;124mx\u001b[39m\u001b[38;5;124m'\u001b[39m, y_axis_label\u001b[38;5;241m=\u001b[39m\u001b[38;5;124m'\u001b[39m\u001b[38;5;124my\u001b[39m\u001b[38;5;124m'\u001b[39m)\n\u001b[0;32m     13\u001b[0m \u001b[38;5;66;03m# 선 추가\u001b[39;00m\n\u001b[0;32m     14\u001b[0m p\u001b[38;5;241m.\u001b[39mline(x, y, legend_label\u001b[38;5;241m=\u001b[39m\u001b[38;5;124m\"\u001b[39m\u001b[38;5;124mTemp.\u001b[39m\u001b[38;5;124m\"\u001b[39m, line_width\u001b[38;5;241m=\u001b[39m\u001b[38;5;241m2\u001b[39m)\n",
      "File \u001b[1;32m~\\anaconda3\\Lib\\site-packages\\bokeh\\plotting\\_figure.py:187\u001b[0m, in \u001b[0;36mfigure.__init__\u001b[1;34m(self, *arg, **kw)\u001b[0m\n\u001b[0;32m    186\u001b[0m \u001b[38;5;28;01mdef\u001b[39;00m \u001b[38;5;21m__init__\u001b[39m(\u001b[38;5;28mself\u001b[39m, \u001b[38;5;241m*\u001b[39marg, \u001b[38;5;241m*\u001b[39m\u001b[38;5;241m*\u001b[39mkw) \u001b[38;5;241m-\u001b[39m\u001b[38;5;241m>\u001b[39m \u001b[38;5;28;01mNone\u001b[39;00m:\n\u001b[1;32m--> 187\u001b[0m     opts \u001b[38;5;241m=\u001b[39m FigureOptions(kw)\n\u001b[0;32m    189\u001b[0m     names \u001b[38;5;241m=\u001b[39m \u001b[38;5;28mself\u001b[39m\u001b[38;5;241m.\u001b[39mproperties()\n\u001b[0;32m    190\u001b[0m     \u001b[38;5;28;01mfor\u001b[39;00m name \u001b[38;5;129;01min\u001b[39;00m kw\u001b[38;5;241m.\u001b[39mkeys():\n",
      "File \u001b[1;32m~\\anaconda3\\Lib\\site-packages\\bokeh\\util\\options.py:75\u001b[0m, in \u001b[0;36mOptions.__init__\u001b[1;34m(self, kw)\u001b[0m\n\u001b[0;32m     72\u001b[0m     \u001b[38;5;28;01mif\u001b[39;00m k \u001b[38;5;129;01min\u001b[39;00m kw:\n\u001b[0;32m     73\u001b[0m         props[k] \u001b[38;5;241m=\u001b[39m kw\u001b[38;5;241m.\u001b[39mpop(k)\n\u001b[1;32m---> 75\u001b[0m \u001b[38;5;28msuper\u001b[39m()\u001b[38;5;241m.\u001b[39m\u001b[38;5;21m__init__\u001b[39m(\u001b[38;5;241m*\u001b[39m\u001b[38;5;241m*\u001b[39mprops)\n",
      "File \u001b[1;32m~\\anaconda3\\Lib\\site-packages\\bokeh\\core\\has_props.py:295\u001b[0m, in \u001b[0;36mHasProps.__init__\u001b[1;34m(self, **properties)\u001b[0m\n\u001b[0;32m    293\u001b[0m     \u001b[38;5;28;01mif\u001b[39;00m value \u001b[38;5;129;01mis\u001b[39;00m Undefined \u001b[38;5;129;01mor\u001b[39;00m value \u001b[38;5;129;01mis\u001b[39;00m Intrinsic:\n\u001b[0;32m    294\u001b[0m         \u001b[38;5;28;01mcontinue\u001b[39;00m\n\u001b[1;32m--> 295\u001b[0m     \u001b[38;5;28msetattr\u001b[39m(\u001b[38;5;28mself\u001b[39m, name, value)\n\u001b[0;32m    297\u001b[0m initialized \u001b[38;5;241m=\u001b[39m \u001b[38;5;28mset\u001b[39m(properties\u001b[38;5;241m.\u001b[39mkeys())\n\u001b[0;32m    298\u001b[0m \u001b[38;5;28;01mfor\u001b[39;00m name \u001b[38;5;129;01min\u001b[39;00m \u001b[38;5;28mself\u001b[39m\u001b[38;5;241m.\u001b[39mproperties(_with_props\u001b[38;5;241m=\u001b[39m\u001b[38;5;28;01mTrue\u001b[39;00m): \u001b[38;5;66;03m# avoid set[] for deterministic behavior\u001b[39;00m\n",
      "File \u001b[1;32m~\\anaconda3\\Lib\\site-packages\\bokeh\\core\\has_props.py:327\u001b[0m, in \u001b[0;36mHasProps.__setattr__\u001b[1;34m(self, name, value)\u001b[0m\n\u001b[0;32m    325\u001b[0m properties \u001b[38;5;241m=\u001b[39m \u001b[38;5;28mself\u001b[39m\u001b[38;5;241m.\u001b[39mproperties(_with_props\u001b[38;5;241m=\u001b[39m\u001b[38;5;28;01mTrue\u001b[39;00m)\n\u001b[0;32m    326\u001b[0m \u001b[38;5;28;01mif\u001b[39;00m name \u001b[38;5;129;01min\u001b[39;00m properties:\n\u001b[1;32m--> 327\u001b[0m     \u001b[38;5;28;01mreturn\u001b[39;00m \u001b[38;5;28msuper\u001b[39m()\u001b[38;5;241m.\u001b[39m\u001b[38;5;21m__setattr__\u001b[39m(name, value)\n\u001b[0;32m    329\u001b[0m descriptor \u001b[38;5;241m=\u001b[39m \u001b[38;5;28mgetattr\u001b[39m(\u001b[38;5;28mself\u001b[39m\u001b[38;5;241m.\u001b[39m\u001b[38;5;18m__class__\u001b[39m, name, \u001b[38;5;28;01mNone\u001b[39;00m)\n\u001b[0;32m    330\u001b[0m \u001b[38;5;28;01mif\u001b[39;00m \u001b[38;5;28misinstance\u001b[39m(descriptor, \u001b[38;5;28mproperty\u001b[39m): \u001b[38;5;66;03m# Python property\u001b[39;00m\n",
      "File \u001b[1;32m~\\anaconda3\\Lib\\site-packages\\bokeh\\core\\property\\descriptors.py:334\u001b[0m, in \u001b[0;36mPropertyDescriptor.__set__\u001b[1;34m(self, obj, value, setter)\u001b[0m\n\u001b[0;32m    332\u001b[0m value \u001b[38;5;241m=\u001b[39m \u001b[38;5;28mself\u001b[39m\u001b[38;5;241m.\u001b[39mproperty\u001b[38;5;241m.\u001b[39mprepare_value(obj, \u001b[38;5;28mself\u001b[39m\u001b[38;5;241m.\u001b[39mname, value)\n\u001b[0;32m    333\u001b[0m old \u001b[38;5;241m=\u001b[39m \u001b[38;5;28mself\u001b[39m\u001b[38;5;241m.\u001b[39m_get(obj)\n\u001b[1;32m--> 334\u001b[0m \u001b[38;5;28mself\u001b[39m\u001b[38;5;241m.\u001b[39m_set(obj, old, value, setter\u001b[38;5;241m=\u001b[39msetter)\n",
      "File \u001b[1;32m~\\anaconda3\\Lib\\site-packages\\bokeh\\core\\property\\descriptors.py:606\u001b[0m, in \u001b[0;36mPropertyDescriptor._set\u001b[1;34m(self, obj, old, value, hint, setter)\u001b[0m\n\u001b[0;32m    601\u001b[0m     \u001b[38;5;28;01mraise\u001b[39;00m \u001b[38;5;167;01mRuntimeError\u001b[39;00m(\u001b[38;5;124m\"\u001b[39m\u001b[38;5;124minternal error attempting to set Undefined value\u001b[39m\u001b[38;5;124m\"\u001b[39m)\n\u001b[0;32m    603\u001b[0m \u001b[38;5;66;03m# Normally we want a \"no-op\" if the new value and old value are identical\u001b[39;00m\n\u001b[0;32m    604\u001b[0m \u001b[38;5;66;03m# but some hinted events are in-place. This check will allow those cases\u001b[39;00m\n\u001b[0;32m    605\u001b[0m \u001b[38;5;66;03m# to continue on to the notification machinery\u001b[39;00m\n\u001b[1;32m--> 606\u001b[0m \u001b[38;5;28;01mif\u001b[39;00m \u001b[38;5;28mself\u001b[39m\u001b[38;5;241m.\u001b[39mproperty\u001b[38;5;241m.\u001b[39mmatches(value, old) \u001b[38;5;129;01mand\u001b[39;00m (hint \u001b[38;5;129;01mis\u001b[39;00m \u001b[38;5;28;01mNone\u001b[39;00m):\n\u001b[0;32m    607\u001b[0m     \u001b[38;5;28;01mreturn\u001b[39;00m\n\u001b[0;32m    609\u001b[0m was_set \u001b[38;5;241m=\u001b[39m \u001b[38;5;28mself\u001b[39m\u001b[38;5;241m.\u001b[39mname \u001b[38;5;129;01min\u001b[39;00m obj\u001b[38;5;241m.\u001b[39m_property_values\n",
      "File \u001b[1;32m~\\anaconda3\\Lib\\site-packages\\bokeh\\core\\property\\bases.py:250\u001b[0m, in \u001b[0;36mProperty.matches\u001b[1;34m(self, new, old)\u001b[0m\n\u001b[0;32m    238\u001b[0m \u001b[38;5;250m\u001b[39m\u001b[38;5;124;03m\"\"\" Whether two parameters match values.\u001b[39;00m\n\u001b[0;32m    239\u001b[0m \n\u001b[0;32m    240\u001b[0m \u001b[38;5;124;03mIf either ``new`` or ``old`` is a NumPy array or Pandas Series or Index,\u001b[39;00m\n\u001b[1;32m   (...)\u001b[0m\n\u001b[0;32m    247\u001b[0m \n\u001b[0;32m    248\u001b[0m \u001b[38;5;124;03m\"\"\"\u001b[39;00m\n\u001b[0;32m    249\u001b[0m \u001b[38;5;28;01mimport\u001b[39;00m \u001b[38;5;21;01mnumpy\u001b[39;00m \u001b[38;5;28;01mas\u001b[39;00m \u001b[38;5;21;01mnp\u001b[39;00m\n\u001b[1;32m--> 250\u001b[0m \u001b[38;5;28;01mimport\u001b[39;00m \u001b[38;5;21;01mpandas\u001b[39;00m \u001b[38;5;28;01mas\u001b[39;00m \u001b[38;5;21;01mpd\u001b[39;00m\n\u001b[0;32m    252\u001b[0m \u001b[38;5;28;01mif\u001b[39;00m \u001b[38;5;28misinstance\u001b[39m(new, np\u001b[38;5;241m.\u001b[39mndarray) \u001b[38;5;129;01mor\u001b[39;00m \u001b[38;5;28misinstance\u001b[39m(old, np\u001b[38;5;241m.\u001b[39mndarray):\n\u001b[0;32m    253\u001b[0m     \u001b[38;5;28;01mreturn\u001b[39;00m np\u001b[38;5;241m.\u001b[39marray_equal(new, old)\n",
      "File \u001b[1;32m~\\anaconda3\\Lib\\site-packages\\pandas\\__init__.py:127\u001b[0m\n\u001b[0;32m    116\u001b[0m \u001b[38;5;28;01mfrom\u001b[39;00m \u001b[38;5;21;01mpandas\u001b[39;00m\u001b[38;5;21;01m.\u001b[39;00m\u001b[38;5;21;01mtseries\u001b[39;00m \u001b[38;5;28;01mimport\u001b[39;00m offsets\n\u001b[0;32m    118\u001b[0m \u001b[38;5;28;01mfrom\u001b[39;00m \u001b[38;5;21;01mpandas\u001b[39;00m\u001b[38;5;21;01m.\u001b[39;00m\u001b[38;5;21;01mcore\u001b[39;00m\u001b[38;5;21;01m.\u001b[39;00m\u001b[38;5;21;01mcomputation\u001b[39;00m\u001b[38;5;21;01m.\u001b[39;00m\u001b[38;5;21;01mapi\u001b[39;00m \u001b[38;5;28;01mimport\u001b[39;00m \u001b[38;5;28meval\u001b[39m\n\u001b[0;32m    120\u001b[0m \u001b[38;5;28;01mfrom\u001b[39;00m \u001b[38;5;21;01mpandas\u001b[39;00m\u001b[38;5;21;01m.\u001b[39;00m\u001b[38;5;21;01mcore\u001b[39;00m\u001b[38;5;21;01m.\u001b[39;00m\u001b[38;5;21;01mreshape\u001b[39;00m\u001b[38;5;21;01m.\u001b[39;00m\u001b[38;5;21;01mapi\u001b[39;00m \u001b[38;5;28;01mimport\u001b[39;00m (\n\u001b[0;32m    121\u001b[0m     concat,\n\u001b[0;32m    122\u001b[0m     lreshape,\n\u001b[0;32m    123\u001b[0m     melt,\n\u001b[0;32m    124\u001b[0m     wide_to_long,\n\u001b[0;32m    125\u001b[0m     merge,\n\u001b[0;32m    126\u001b[0m     merge_asof,\n\u001b[1;32m--> 127\u001b[0m     merge_ordered,\n\u001b[0;32m    128\u001b[0m     crosstab,\n\u001b[0;32m    129\u001b[0m     pivot,\n\u001b[0;32m    130\u001b[0m     pivot_table,\n\u001b[0;32m    131\u001b[0m     get_dummies,\n\u001b[0;32m    132\u001b[0m     from_dummies,\n\u001b[0;32m    133\u001b[0m     cut,\n\u001b[0;32m    134\u001b[0m     qcut,\n\u001b[0;32m    135\u001b[0m )\n\u001b[0;32m    137\u001b[0m \u001b[38;5;28;01mfrom\u001b[39;00m \u001b[38;5;21;01mpandas\u001b[39;00m \u001b[38;5;28;01mimport\u001b[39;00m api, arrays, errors, io, plotting, tseries\n\u001b[0;32m    138\u001b[0m \u001b[38;5;28;01mfrom\u001b[39;00m \u001b[38;5;21;01mpandas\u001b[39;00m \u001b[38;5;28;01mimport\u001b[39;00m testing\n",
      "\u001b[1;31mImportError\u001b[0m: cannot import name 'SparseDtype' from 'pandas.core.dtypes.dtypes' (C:\\Users\\User\\anaconda3\\Lib\\site-packages\\pandas\\core\\dtypes\\dtypes.py)"
     ]
    }
   ],
   "source": [
    "from bokeh.plotting import figure, show, output_file\n",
    "\n",
    "# 데이터\n",
    "x = [1, 2, 3, 4, 5]\n",
    "y = [6, 7, 2, 4, 5]\n",
    "\n",
    "# 출력 파일 설정\n",
    "output_file(\"lines.html\")\n",
    "\n",
    "# 그래프 객체 생성\n",
    "p = figure(title=\"simple line example\", x_axis_label='x', y_axis_label='y')\n",
    "\n",
    "# 선 추가\n",
    "p.line(x, y, legend_label=\"Temp.\", line_width=2)\n",
    "\n",
    "# 그래프 표시\n",
    "show(p)\n",
    "\n"
   ]
  },
  {
   "cell_type": "code",
   "execution_count": 76,
   "id": "9ff660a5",
   "metadata": {},
   "outputs": [
    {
     "name": "stdout",
     "output_type": "stream",
     "text": [
      "Requirement already satisfied: pandas in c:\\users\\user\\appdata\\roaming\\python\\python311\\site-packages (2.2.1)\n",
      "Requirement already satisfied: numpy<2,>=1.23.2 in c:\\users\\user\\anaconda3\\lib\\site-packages (from pandas) (1.24.3)\n",
      "Requirement already satisfied: python-dateutil>=2.8.2 in c:\\users\\user\\anaconda3\\lib\\site-packages (from pandas) (2.8.2)\n",
      "Requirement already satisfied: pytz>=2020.1 in c:\\users\\user\\anaconda3\\lib\\site-packages (from pandas) (2023.3.post1)\n",
      "Requirement already satisfied: tzdata>=2022.7 in c:\\users\\user\\anaconda3\\lib\\site-packages (from pandas) (2023.3)\n",
      "Requirement already satisfied: six>=1.5 in c:\\users\\user\\anaconda3\\lib\\site-packages (from python-dateutil>=2.8.2->pandas) (1.16.0)\n",
      "Note: you may need to restart the kernel to use updated packages.\n"
     ]
    }
   ],
   "source": [
    "pip install pandas\n"
   ]
  },
  {
   "cell_type": "code",
   "execution_count": 2,
   "id": "92bb9dd0",
   "metadata": {},
   "outputs": [],
   "source": [
    "import os\n",
    "\n",
    "# 파일 경로 설정\n",
    "filepath_유지 = 'D:\\\\dbtest\\\\0228_유지'\n",
    "\n",
    "# 추출하고자 하는 항목 리스트\n",
    "keywords = ['서비스상태(대)', '서비스상태(중)', '서비스(대)', '서비스(중)', '서비스(소)']\n",
    "\n",
    "# 결과를 담을 리스트\n",
    "extracted = []\n",
    "\n",
    "# 파일 또는 디렉토리 탐색\n",
    "for root, dirs, files in os.walk(filepath_유지):\n",
    "    for file in files:\n",
    "        # 파일명에서 키워드 추출\n",
    "        for keyword in keywords:\n",
    "            if keyword in file:\n",
    "                extracted.append(os.path.join(root, file))\n",
    "                # 10건만 추출\n",
    "                if len(extracted) == 10:\n",
    "                    break\n",
    "        if len(extracted) == 10:\n",
    "            break\n",
    "    if len(extracted) == 10:\n",
    "        break\n",
    "\n",
    "# 추출된 경로 출력\n",
    "for path in extracted:\n",
    "    print(path)\n"
   ]
  },
  {
   "cell_type": "code",
   "execution_count": 82,
   "id": "97d28e9b",
   "metadata": {},
   "outputs": [
    {
     "name": "stdout",
     "output_type": "stream",
     "text": [
      "Requirement already satisfied: pandas in c:\\users\\user\\appdata\\roaming\\python\\python311\\site-packages (2.2.1)\n",
      "Collecting xlrd==1.2.0\n",
      "  Downloading xlrd-1.2.0-py2.py3-none-any.whl.metadata (1.3 kB)\n",
      "Requirement already satisfied: numpy<2,>=1.23.2 in c:\\users\\user\\anaconda3\\lib\\site-packages (from pandas) (1.24.3)\n",
      "Requirement already satisfied: python-dateutil>=2.8.2 in c:\\users\\user\\anaconda3\\lib\\site-packages (from pandas) (2.8.2)\n",
      "Requirement already satisfied: pytz>=2020.1 in c:\\users\\user\\anaconda3\\lib\\site-packages (from pandas) (2023.3.post1)\n",
      "Requirement already satisfied: tzdata>=2022.7 in c:\\users\\user\\anaconda3\\lib\\site-packages (from pandas) (2023.3)\n",
      "Requirement already satisfied: six>=1.5 in c:\\users\\user\\anaconda3\\lib\\site-packages (from python-dateutil>=2.8.2->pandas) (1.16.0)\n",
      "Downloading xlrd-1.2.0-py2.py3-none-any.whl (103 kB)\n",
      "   ---------------------------------------- 0.0/103.3 kB ? eta -:--:--\n",
      "   ---------------------------------------- 103.3/103.3 kB 3.0 MB/s eta 0:00:00\n",
      "Installing collected packages: xlrd\n",
      "  Attempting uninstall: xlrd\n",
      "    Found existing installation: xlrd 2.0.1\n",
      "    Uninstalling xlrd-2.0.1:\n",
      "      Successfully uninstalled xlrd-2.0.1\n",
      "Successfully installed xlrd-1.2.0\n",
      "Note: you may need to restart the kernel to use updated packages.\n"
     ]
    }
   ],
   "source": [
    "pip install pandas xlrd==1.2.0\n"
   ]
  },
  {
   "cell_type": "code",
   "execution_count": 6,
   "id": "2c996527",
   "metadata": {},
   "outputs": [
    {
     "name": "stderr",
     "output_type": "stream",
     "text": [
      "C:\\Users\\User\\AppData\\Roaming\\Python\\Python311\\site-packages\\pandas\\core\\arrays\\masked.py:60: UserWarning: Pandas requires version '1.3.6' or newer of 'bottleneck' (version '1.3.5' currently installed).\n",
      "  from pandas.core import (\n"
     ]
    },
    {
     "name": "stdout",
     "output_type": "stream",
     "text": [
      "파일을 불러오는 중 오류가 발생했습니다: Excel file format cannot be determined, you must specify an engine manually.\n"
     ]
    }
   ],
   "source": [
    "import pandas as pd\n",
    "\n",
    "# 파일 경로 설정\n",
    "file_path = 'D:\\\\dbtest\\\\0311_해지.xls'\n",
    "\n",
    "# xlrd를 사용하여 Excel 파일 읽기\n",
    "try:\n",
    "    data = pd.read_excel(file_path)\n",
    "    # 상위 10건의 데이터 출력\n",
    "    print(data.head(10))\n",
    "except Exception as e:\n",
    "    print(\"파일을 불러오는 중 오류가 발생했습니다:\", e)\n"
   ]
  },
  {
   "cell_type": "code",
   "execution_count": 7,
   "id": "2a8f670e",
   "metadata": {},
   "outputs": [
    {
     "ename": "ImportError",
     "evalue": "Pandas requires version '3.1.0' or newer of 'openpyxl' (version '3.0.10' currently installed).",
     "output_type": "error",
     "traceback": [
      "\u001b[1;31m---------------------------------------------------------------------------\u001b[0m",
      "\u001b[1;31mImportError\u001b[0m                               Traceback (most recent call last)",
      "Cell \u001b[1;32mIn[7], line 7\u001b[0m\n\u001b[0;32m      4\u001b[0m file_path \u001b[38;5;241m=\u001b[39m \u001b[38;5;124m'\u001b[39m\u001b[38;5;124mD:\u001b[39m\u001b[38;5;130;01m\\\\\u001b[39;00m\u001b[38;5;124mdbtest\u001b[39m\u001b[38;5;130;01m\\\\\u001b[39;00m\u001b[38;5;124m0311_해지.xlsx\u001b[39m\u001b[38;5;124m'\u001b[39m  \u001b[38;5;66;03m# 파일 확장자 확인 후 적절히 수정\u001b[39;00m\n\u001b[0;32m      6\u001b[0m \u001b[38;5;66;03m# Excel 파일 불러오기 (openpyxl 엔진 사용)\u001b[39;00m\n\u001b[1;32m----> 7\u001b[0m df \u001b[38;5;241m=\u001b[39m pd\u001b[38;5;241m.\u001b[39mread_excel(file_path, engine\u001b[38;5;241m=\u001b[39m\u001b[38;5;124m'\u001b[39m\u001b[38;5;124mopenpyxl\u001b[39m\u001b[38;5;124m'\u001b[39m)\n\u001b[0;32m      9\u001b[0m \u001b[38;5;66;03m# 데이터 확인\u001b[39;00m\n\u001b[0;32m     10\u001b[0m \u001b[38;5;28mprint\u001b[39m(df\u001b[38;5;241m.\u001b[39mhead())\n",
      "File \u001b[1;32m~\\AppData\\Roaming\\Python\\Python311\\site-packages\\pandas\\io\\excel\\_base.py:495\u001b[0m, in \u001b[0;36mread_excel\u001b[1;34m(io, sheet_name, header, names, index_col, usecols, dtype, engine, converters, true_values, false_values, skiprows, nrows, na_values, keep_default_na, na_filter, verbose, parse_dates, date_parser, date_format, thousands, decimal, comment, skipfooter, storage_options, dtype_backend, engine_kwargs)\u001b[0m\n\u001b[0;32m    493\u001b[0m \u001b[38;5;28;01mif\u001b[39;00m \u001b[38;5;129;01mnot\u001b[39;00m \u001b[38;5;28misinstance\u001b[39m(io, ExcelFile):\n\u001b[0;32m    494\u001b[0m     should_close \u001b[38;5;241m=\u001b[39m \u001b[38;5;28;01mTrue\u001b[39;00m\n\u001b[1;32m--> 495\u001b[0m     io \u001b[38;5;241m=\u001b[39m ExcelFile(\n\u001b[0;32m    496\u001b[0m         io,\n\u001b[0;32m    497\u001b[0m         storage_options\u001b[38;5;241m=\u001b[39mstorage_options,\n\u001b[0;32m    498\u001b[0m         engine\u001b[38;5;241m=\u001b[39mengine,\n\u001b[0;32m    499\u001b[0m         engine_kwargs\u001b[38;5;241m=\u001b[39mengine_kwargs,\n\u001b[0;32m    500\u001b[0m     )\n\u001b[0;32m    501\u001b[0m \u001b[38;5;28;01melif\u001b[39;00m engine \u001b[38;5;129;01mand\u001b[39;00m engine \u001b[38;5;241m!=\u001b[39m io\u001b[38;5;241m.\u001b[39mengine:\n\u001b[0;32m    502\u001b[0m     \u001b[38;5;28;01mraise\u001b[39;00m \u001b[38;5;167;01mValueError\u001b[39;00m(\n\u001b[0;32m    503\u001b[0m         \u001b[38;5;124m\"\u001b[39m\u001b[38;5;124mEngine should not be specified when passing \u001b[39m\u001b[38;5;124m\"\u001b[39m\n\u001b[0;32m    504\u001b[0m         \u001b[38;5;124m\"\u001b[39m\u001b[38;5;124man ExcelFile - ExcelFile already has the engine set\u001b[39m\u001b[38;5;124m\"\u001b[39m\n\u001b[0;32m    505\u001b[0m     )\n",
      "File \u001b[1;32m~\\AppData\\Roaming\\Python\\Python311\\site-packages\\pandas\\io\\excel\\_base.py:1567\u001b[0m, in \u001b[0;36mExcelFile.__init__\u001b[1;34m(self, path_or_buffer, engine, storage_options, engine_kwargs)\u001b[0m\n\u001b[0;32m   1564\u001b[0m \u001b[38;5;28mself\u001b[39m\u001b[38;5;241m.\u001b[39mengine \u001b[38;5;241m=\u001b[39m engine\n\u001b[0;32m   1565\u001b[0m \u001b[38;5;28mself\u001b[39m\u001b[38;5;241m.\u001b[39mstorage_options \u001b[38;5;241m=\u001b[39m storage_options\n\u001b[1;32m-> 1567\u001b[0m \u001b[38;5;28mself\u001b[39m\u001b[38;5;241m.\u001b[39m_reader \u001b[38;5;241m=\u001b[39m \u001b[38;5;28mself\u001b[39m\u001b[38;5;241m.\u001b[39m_engines[engine](\n\u001b[0;32m   1568\u001b[0m     \u001b[38;5;28mself\u001b[39m\u001b[38;5;241m.\u001b[39m_io,\n\u001b[0;32m   1569\u001b[0m     storage_options\u001b[38;5;241m=\u001b[39mstorage_options,\n\u001b[0;32m   1570\u001b[0m     engine_kwargs\u001b[38;5;241m=\u001b[39mengine_kwargs,\n\u001b[0;32m   1571\u001b[0m )\n",
      "File \u001b[1;32m~\\AppData\\Roaming\\Python\\Python311\\site-packages\\pandas\\io\\excel\\_openpyxl.py:552\u001b[0m, in \u001b[0;36mOpenpyxlReader.__init__\u001b[1;34m(self, filepath_or_buffer, storage_options, engine_kwargs)\u001b[0m\n\u001b[0;32m    534\u001b[0m \u001b[38;5;129m@doc\u001b[39m(storage_options\u001b[38;5;241m=\u001b[39m_shared_docs[\u001b[38;5;124m\"\u001b[39m\u001b[38;5;124mstorage_options\u001b[39m\u001b[38;5;124m\"\u001b[39m])\n\u001b[0;32m    535\u001b[0m \u001b[38;5;28;01mdef\u001b[39;00m \u001b[38;5;21m__init__\u001b[39m(\n\u001b[0;32m    536\u001b[0m     \u001b[38;5;28mself\u001b[39m,\n\u001b[1;32m   (...)\u001b[0m\n\u001b[0;32m    539\u001b[0m     engine_kwargs: \u001b[38;5;28mdict\u001b[39m \u001b[38;5;241m|\u001b[39m \u001b[38;5;28;01mNone\u001b[39;00m \u001b[38;5;241m=\u001b[39m \u001b[38;5;28;01mNone\u001b[39;00m,\n\u001b[0;32m    540\u001b[0m ) \u001b[38;5;241m-\u001b[39m\u001b[38;5;241m>\u001b[39m \u001b[38;5;28;01mNone\u001b[39;00m:\n\u001b[0;32m    541\u001b[0m \u001b[38;5;250m    \u001b[39m\u001b[38;5;124;03m\"\"\"\u001b[39;00m\n\u001b[0;32m    542\u001b[0m \u001b[38;5;124;03m    Reader using openpyxl engine.\u001b[39;00m\n\u001b[0;32m    543\u001b[0m \n\u001b[1;32m   (...)\u001b[0m\n\u001b[0;32m    550\u001b[0m \u001b[38;5;124;03m        Arbitrary keyword arguments passed to excel engine.\u001b[39;00m\n\u001b[0;32m    551\u001b[0m \u001b[38;5;124;03m    \"\"\"\u001b[39;00m\n\u001b[1;32m--> 552\u001b[0m     import_optional_dependency(\u001b[38;5;124m\"\u001b[39m\u001b[38;5;124mopenpyxl\u001b[39m\u001b[38;5;124m\"\u001b[39m)\n\u001b[0;32m    553\u001b[0m     \u001b[38;5;28msuper\u001b[39m()\u001b[38;5;241m.\u001b[39m\u001b[38;5;21m__init__\u001b[39m(\n\u001b[0;32m    554\u001b[0m         filepath_or_buffer,\n\u001b[0;32m    555\u001b[0m         storage_options\u001b[38;5;241m=\u001b[39mstorage_options,\n\u001b[0;32m    556\u001b[0m         engine_kwargs\u001b[38;5;241m=\u001b[39mengine_kwargs,\n\u001b[0;32m    557\u001b[0m     )\n",
      "File \u001b[1;32m~\\AppData\\Roaming\\Python\\Python311\\site-packages\\pandas\\compat\\_optional.py:164\u001b[0m, in \u001b[0;36mimport_optional_dependency\u001b[1;34m(name, extra, errors, min_version)\u001b[0m\n\u001b[0;32m    162\u001b[0m     \u001b[38;5;28;01mreturn\u001b[39;00m \u001b[38;5;28;01mNone\u001b[39;00m\n\u001b[0;32m    163\u001b[0m \u001b[38;5;28;01melif\u001b[39;00m errors \u001b[38;5;241m==\u001b[39m \u001b[38;5;124m\"\u001b[39m\u001b[38;5;124mraise\u001b[39m\u001b[38;5;124m\"\u001b[39m:\n\u001b[1;32m--> 164\u001b[0m     \u001b[38;5;28;01mraise\u001b[39;00m \u001b[38;5;167;01mImportError\u001b[39;00m(msg)\n\u001b[0;32m    165\u001b[0m \u001b[38;5;28;01melse\u001b[39;00m:\n\u001b[0;32m    166\u001b[0m     \u001b[38;5;28;01mreturn\u001b[39;00m \u001b[38;5;28;01mNone\u001b[39;00m\n",
      "\u001b[1;31mImportError\u001b[0m: Pandas requires version '3.1.0' or newer of 'openpyxl' (version '3.0.10' currently installed)."
     ]
    }
   ],
   "source": [
    "import pandas as pd\n",
    "\n",
    "# 파일 경로 설정\n",
    "file_path = 'D:\\\\dbtest\\\\0311_해지.xlsx'  # 파일 확장자 확인 후 적절히 수정\n",
    "\n",
    "# Excel 파일 불러오기 (openpyxl 엔진 사용)\n",
    "df = pd.read_excel(file_path, engine='openpyxl')\n",
    "\n",
    "# 데이터 확인\n",
    "print(df.head())\n"
   ]
  }
 ],
 "metadata": {
  "kernelspec": {
   "display_name": "Python 3 (ipykernel)",
   "language": "python",
   "name": "python3"
  },
  "language_info": {
   "codemirror_mode": {
    "name": "ipython",
    "version": 3
   },
   "file_extension": ".py",
   "mimetype": "text/x-python",
   "name": "python",
   "nbconvert_exporter": "python",
   "pygments_lexer": "ipython3",
   "version": "3.11.5"
  }
 },
 "nbformat": 4,
 "nbformat_minor": 5
}
