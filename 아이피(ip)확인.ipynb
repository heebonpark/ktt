{
 "cells": [
  {
   "cell_type": "code",
   "execution_count": 1,
   "id": "95f6f3b7-3cff-4a61-acff-fd22e319da33",
   "metadata": {},
   "outputs": [
    {
     "name": "stdout",
     "output_type": "stream",
     "text": [
      "Host Name: 세은아빠\n",
      "IP Address: 10.13.1.205\n"
     ]
    }
   ],
   "source": [
    "import socket\n",
    "\n",
    "# 호스트 이름과 IP 주소 확인\n",
    "hostname = socket.gethostname()\n",
    "ip_address = socket.gethostbyname(hostname)\n",
    "\n",
    "# 결과 출력\n",
    "print(f\"Host Name: {hostname}\")\n",
    "print(f\"IP Address: {ip_address}\")"
   ]
  },
  {
   "cell_type": "code",
   "execution_count": null,
   "id": "252b9ae8-0e6f-4029-b15c-8342094adcb5",
   "metadata": {},
   "outputs": [],
   "source": []
  },
  {
   "cell_type": "code",
   "execution_count": 2,
   "id": "cc8ac9bc-b59c-477c-9135-35ec94672f6a",
   "metadata": {},
   "outputs": [
    {
     "name": "stdout",
     "output_type": "stream",
     "text": [
      "Looking in indexes: https://pypi.org/simple/\n",
      "Requirement already satisfied: psutil in c:\\users\\user\\appdata\\roaming\\python\\python312\\site-packages (5.9.8)\n"
     ]
    }
   ],
   "source": [
    "!pip install psutil"
   ]
  },
  {
   "cell_type": "code",
   "execution_count": 4,
   "id": "82697b25-e44b-4ae7-a562-21418cf32e61",
   "metadata": {},
   "outputs": [
    {
     "name": "stdout",
     "output_type": "stream",
     "text": [
      "Hostname: 세은아빠\n",
      "Local IP Address: 10.13.1.205\n",
      "\n",
      "네트워크 인터페이스 정보:\n",
      "\n",
      "Interface: 로컬 영역 연결* 3\n",
      "  MAC Address: 00-FF-E2-89-33-6E\n",
      "  IP Address : 169.254.50.77\n",
      "  Netmask    : 255.255.0.0\n",
      "  Broadcast  : None\n",
      "\n",
      "Interface: 이더넷\n",
      "  MAC Address: B4-A9-FC-28-B7-F5\n",
      "  IP Address : 10.13.1.205\n",
      "  Netmask    : 255.255.255.0\n",
      "  Broadcast  : None\n",
      "\n",
      "Interface: 이더넷 4\n",
      "  MAC Address: 00-FF-A5-B3-28-85\n",
      "  IP Address : 169.254.98.189\n",
      "  Netmask    : 255.255.0.0\n",
      "  Broadcast  : None\n",
      "\n",
      "Interface: Loopback Pseudo-Interface 1\n",
      "  IP Address : 127.0.0.1\n",
      "  Netmask    : 255.0.0.0\n",
      "  Broadcast  : None\n",
      "\n",
      "기본 게이트웨이: {'이더넷': snicstats(isup=True, duplex=<NicDuplex.NIC_DUPLEX_FULL: 2>, speed=1000, mtu=1500, flags=''), '로컬 영역 연결* 3': snicstats(isup=False, duplex=<NicDuplex.NIC_DUPLEX_FULL: 2>, speed=100, mtu=1500, flags=''), '이더넷 4': snicstats(isup=False, duplex=<NicDuplex.NIC_DUPLEX_FULL: 2>, speed=1000, mtu=1500, flags=''), 'Loopback Pseudo-Interface 1': snicstats(isup=True, duplex=<NicDuplex.NIC_DUPLEX_FULL: 2>, speed=1073, mtu=1500, flags='')}\n"
     ]
    }
   ],
   "source": [
    "import socket\n",
    "import psutil\n",
    "\n",
    "# 호스트 이름과 IP 주소 확인\n",
    "hostname = socket.gethostname()\n",
    "local_ip = socket.gethostbyname(hostname)\n",
    "\n",
    "# 네트워크 인터페이스 정보 가져오기\n",
    "net_info = psutil.net_if_addrs()\n",
    "net_stats = psutil.net_if_stats()\n",
    "default_gateways = psutil.net_if_stats()\n",
    "\n",
    "# 호스트 이름 및 로컬 IP 주소 출력\n",
    "print(f\"Hostname: {hostname}\")\n",
    "print(f\"Local IP Address: {local_ip}\\n\")\n",
    "\n",
    "# 네트워크 인터페이스 정보 출력\n",
    "print(\"네트워크 인터페이스 정보:\")\n",
    "for interface, addrs in net_info.items():\n",
    "    print(f\"\\nInterface: {interface}\")\n",
    "    for addr in addrs:\n",
    "        if addr.family == socket.AF_INET:\n",
    "            print(f\"  IP Address : {addr.address}\")\n",
    "            print(f\"  Netmask    : {addr.netmask}\")\n",
    "            print(f\"  Broadcast  : {addr.broadcast}\")\n",
    "        elif addr.family == psutil.AF_LINK:  # Windows에서 MAC 주소 확인\n",
    "            print(f\"  MAC Address: {addr.address}\")\n",
    "\n",
    "# 기본 게이트웨이 정보\n",
    "gateways = psutil.net_if_addrs()\n",
    "print(f\"\\n기본 게이트웨이: {psutil.net_if_stats()}\")"
   ]
  },
  {
   "cell_type": "code",
   "execution_count": null,
   "id": "eb8f20e5-91c4-4dcf-8b51-d3b7f82f4ce2",
   "metadata": {},
   "outputs": [],
   "source": []
  },
  {
   "cell_type": "code",
   "execution_count": null,
   "id": "1a47b880-e825-4320-b1ee-d40ac892274e",
   "metadata": {},
   "outputs": [],
   "source": []
  },
  {
   "cell_type": "code",
   "execution_count": null,
   "id": "403fd493-b28a-43ba-b040-6a2f72b2a1d6",
   "metadata": {},
   "outputs": [],
   "source": []
  }
 ],
 "metadata": {
  "kernelspec": {
   "display_name": "Python 3 (ipykernel)",
   "language": "python",
   "name": "python3"
  },
  "language_info": {
   "codemirror_mode": {
    "name": "ipython",
    "version": 3
   },
   "file_extension": ".py",
   "mimetype": "text/x-python",
   "name": "python",
   "nbconvert_exporter": "python",
   "pygments_lexer": "ipython3",
   "version": "3.12.3"
  }
 },
 "nbformat": 4,
 "nbformat_minor": 5
}
