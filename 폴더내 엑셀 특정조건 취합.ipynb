{
 "cells": [
  {
   "cell_type": "code",
   "execution_count": 6,
   "id": "8a0cabef-9be0-47fe-8781-f4304e395a76",
   "metadata": {},
   "outputs": [
    {
     "ename": "IndentationError",
     "evalue": "expected an indented block after 'for' statement on line 15 (3589567764.py, line 16)",
     "output_type": "error",
     "traceback": [
      "\u001b[1;36m  Cell \u001b[1;32mIn[6], line 16\u001b[1;36m\u001b[0m\n\u001b[1;33m    if file_name.endswith(\".xlsx\") or file_name.endswith(\".xls\"):  # 엑셀 파일만 필터링\u001b[0m\n\u001b[1;37m    ^\u001b[0m\n\u001b[1;31mIndentationError\u001b[0m\u001b[1;31m:\u001b[0m expected an indented block after 'for' statement on line 15\n"
     ]
    }
   ],
   "source": [
    "import os\n",
    "import pandas as pd\n",
    "\n",
    "# 폴더 경로 설정\n",
    "folder_path = \"D:/강북강원본부/20240930_장재혁_사외채널 인수인계/사외채널 인수인계/3. 대리점, 파트너 정산/일일영업실적/모음\"\n",
    "output_file = \"D:/강북강원본부/20240930_장재혁_사외채널 인수인계/사외채널 인수인계/3. 대리점, 파트너 정산/일일영업실적/통합_일일영업실적.xlsx\"\n",
    "\n",
    "# 통합할 데이터 리스트\n",
    "merged_data = []\n",
    "\n",
    "# 대상 열 목록\n",
    "columns_to_extract = [\"조건 열\", \"계약번호\", \"상호\", \"시설구분\", \"요금구분\"]\n",
    "\n",
    "# 폴더 내 모든 엑셀 파일 검색\n",
    "for file_name in os.listdir(folder_path):\n",
    "if file_name.endswith(\".xlsx\") or file_name.endswith(\".xls\"):  # 엑셀 파일만 필터링\n",
    "file_path = os.path.join(folder_path, file_name)\n",
    "\n",
    "try:\n",
    "# 신규data 시트 읽기\n",
    "df = pd.read_excel(file_path, sheet_name=\"신규data\", dtype=str)\n",
    "\n",
    "# 필요한 열만 선택 (존재하는 경우에만)\n",
    "df_selected = df[[col for col in columns_to_extract if col in df.columns]]\n",
    "\n",
    "# 데이터 추가\n",
    "if not df_selected.empty:\n",
    "merged_data.append(df_selected)\n",
    "\n",
    "except Exception as e:\n",
    "print(f\"⚠️ 파일 {file_name} 처리 중 오류 발생: {e}\")\n",
    "\n",
    "# 모든 데이터를 하나의 DataFrame으로 합치기\n",
    "if merged_data:\n",
    "final_df = pd.concat(merged_data, ignore_index=True)\n",
    "\n",
    "# 엑셀 파일로 저장\n",
    "final_df.to_excel(output_file, index=False)\n",
    "print(f\"✅ 통합 파일이 생성되었습니다: {output_file}\")\n",
    "else:\n",
    "print(\"⚠️ 처리할 데이터가 없습니다.\")"
   ]
  },
  {
   "cell_type": "code",
   "execution_count": 12,
   "id": "883849cb-c076-49e3-8ccf-b74d3b46d371",
   "metadata": {},
   "outputs": [
    {
     "ename": "IndentationError",
     "evalue": "expected an indented block after 'for' statement on line 15 (2268122554.py, line 16)",
     "output_type": "error",
     "traceback": [
      "\u001b[1;36m  Cell \u001b[1;32mIn[12], line 16\u001b[1;36m\u001b[0m\n\u001b[1;33m    if file_name.endswith(\".xlsx\") or file_name.endswith(\".xls\"):  # 엑셀 파일만 필터링\u001b[0m\n\u001b[1;37m    ^\u001b[0m\n\u001b[1;31mIndentationError\u001b[0m\u001b[1;31m:\u001b[0m expected an indented block after 'for' statement on line 15\n"
     ]
    }
   ],
   "source": [
    "import os\n",
    "import pandas as pd\n",
    "\n",
    "# 폴더 경로 설정\n",
    "folder_path = \"D:/강북강원본부/20240930_장재혁_사외채널 인수인계/사외채널 인수인계/3. 대리점, 파트너 정산/일일영업실적/모음\"\n",
    "output_file = \"D:/강북강원본부/20240930_장재혁_사외채널 인수인계/사외채널 인수인계/3. 대리점, 파트너 정산/일일영업실적/통합_일일영업실적.xlsx\"\n",
    "\n",
    "# 통합할 데이터 리스트\n",
    "merged_data = []\n",
    "\n",
    "# 대상 열 목록\n",
    "columns_to_extract = [\"계약번호\", \"상호\", \"시설구분\", \"요금구분\"]\n",
    "\n",
    "# 폴더 내 모든 엑셀 파일 검색\n",
    "for file_name in os.listdir(folder_path):\n",
    "if file_name.endswith(\".xlsx\") or file_name.endswith(\".xls\"):  # 엑셀 파일만 필터링\n",
    "file_path = os.path.join(folder_path, file_name)\n",
    "\n",
    "try:\n",
    "# 신규data 시트 읽기\n",
    "df = pd.read_excel(file_path, sheet_name=\"신규data\", dtype=str)\n",
    "\n",
    "# 필요한 열만 선택 (존재하는 경우에만)\n",
    "df_selected = df[[col for col in columns_to_extract if col in df.columns]]\n",
    "\n",
    "# 데이터 추가\n",
    "if not df_selected.empty:\n",
    "merged_data.append(df_selected)\n",
    "\n",
    "except Exception as e:\n",
    "print(f\"⚠️ 파일 {file_name} 처리 중 오류 발생: {e}\")\n",
    "\n",
    "# 모든 데이터를 하나의 DataFrame으로 합치기\n",
    "if merged_data:\n",
    "final_df = pd.concat(merged_data, ignore_index=True)\n",
    "\n",
    "# 엑셀 파일로 저장\n",
    "final_df.to_excel(output_file, index=False)\n",
    "print(f\"✅ 통합 파일이 생성되었습니다: {output_file}\")\n",
    "else:\n",
    "print(\"⚠️ 처리할 데이터가 없습니다.\")"
   ]
  },
  {
   "cell_type": "code",
   "execution_count": null,
   "id": "dc3aaa2a-4a31-42b4-a0f1-71619934d02e",
   "metadata": {},
   "outputs": [],
   "source": []
  },
  {
   "cell_type": "code",
   "execution_count": null,
   "id": "e303ef92-a3bc-414c-959c-bc8038efd5f5",
   "metadata": {},
   "outputs": [],
   "source": []
  },
  {
   "cell_type": "code",
   "execution_count": null,
   "id": "325ecbdf-f324-4932-9f2b-6b1296c5f257",
   "metadata": {},
   "outputs": [],
   "source": []
  },
  {
   "cell_type": "code",
   "execution_count": null,
   "id": "698ad862-1963-46c2-ba92-0015b9ca607c",
   "metadata": {},
   "outputs": [],
   "source": []
  },
  {
   "cell_type": "code",
   "execution_count": null,
   "id": "e76d6115-b3e1-4037-bf7d-10cb48a1a60a",
   "metadata": {},
   "outputs": [],
   "source": []
  }
 ],
 "metadata": {
  "kernelspec": {
   "display_name": "Python 3 (ipykernel)",
   "language": "python",
   "name": "python3"
  },
  "language_info": {
   "codemirror_mode": {
    "name": "ipython",
    "version": 3
   },
   "file_extension": ".py",
   "mimetype": "text/x-python",
   "name": "python",
   "nbconvert_exporter": "python",
   "pygments_lexer": "ipython3",
   "version": "3.12.4"
  }
 },
 "nbformat": 4,
 "nbformat_minor": 5
}
