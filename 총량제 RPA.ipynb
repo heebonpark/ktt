{
 "cells": [
  {
   "cell_type": "code",
   "execution_count": 1,
   "id": "70d90012-c420-47e5-b140-fae51bd04c54",
   "metadata": {},
   "outputs": [
    {
     "name": "stdout",
     "output_type": "stream",
     "text": [
      "Defaulting to user installation because normal site-packages is not writeable\n",
      "Requirement already satisfied: pyautogui in c:\\users\\user\\appdata\\roaming\\python\\python312\\site-packages (0.9.54)\n",
      "Collecting opencv-python\n",
      "  Downloading opencv_python-4.10.0.84-cp37-abi3-win_amd64.whl.metadata (20 kB)\n",
      "Requirement already satisfied: pillow in c:\\programdata\\anaconda3\\lib\\site-packages (10.3.0)\n",
      "Requirement already satisfied: pymsgbox in c:\\users\\user\\appdata\\roaming\\python\\python312\\site-packages (from pyautogui) (1.0.9)\n",
      "Requirement already satisfied: pytweening>=1.0.4 in c:\\users\\user\\appdata\\roaming\\python\\python312\\site-packages (from pyautogui) (1.2.0)\n",
      "Requirement already satisfied: pyscreeze>=0.1.21 in c:\\users\\user\\appdata\\roaming\\python\\python312\\site-packages (from pyautogui) (1.0.1)\n",
      "Requirement already satisfied: pygetwindow>=0.0.5 in c:\\users\\user\\appdata\\roaming\\python\\python312\\site-packages (from pyautogui) (0.0.9)\n",
      "Requirement already satisfied: mouseinfo in c:\\users\\user\\appdata\\roaming\\python\\python312\\site-packages (from pyautogui) (0.1.3)\n",
      "Requirement already satisfied: numpy>=1.21.2 in c:\\programdata\\anaconda3\\lib\\site-packages (from opencv-python) (1.26.4)\n",
      "Requirement already satisfied: pyrect in c:\\users\\user\\appdata\\roaming\\python\\python312\\site-packages (from pygetwindow>=0.0.5->pyautogui) (0.2.0)\n",
      "Requirement already satisfied: pyperclip in c:\\users\\user\\appdata\\roaming\\python\\python312\\site-packages (from mouseinfo->pyautogui) (1.9.0)\n",
      "Downloading opencv_python-4.10.0.84-cp37-abi3-win_amd64.whl (38.8 MB)\n",
      "   ---------------------------------------- 0.0/38.8 MB ? eta -:--:--\n",
      "   ---------------------------------------- 0.0/38.8 MB ? eta -:--:--\n",
      "   ---------------------------------------- 0.4/38.8 MB 6.1 MB/s eta 0:00:07\n",
      "   - -------------------------------------- 1.2/38.8 MB 11.1 MB/s eta 0:00:04\n",
      "   -- ------------------------------------- 2.4/38.8 MB 13.8 MB/s eta 0:00:03\n",
      "   --- ------------------------------------ 3.6/38.8 MB 16.4 MB/s eta 0:00:03\n",
      "   ---- ----------------------------------- 4.2/38.8 MB 16.7 MB/s eta 0:00:03\n",
      "   ---- ----------------------------------- 4.2/38.8 MB 16.7 MB/s eta 0:00:03\n",
      "   ---- ----------------------------------- 4.6/38.8 MB 13.3 MB/s eta 0:00:03\n",
      "   ----- ---------------------------------- 5.7/38.8 MB 14.1 MB/s eta 0:00:03\n",
      "   ------- -------------------------------- 6.9/38.8 MB 15.3 MB/s eta 0:00:03\n",
      "   -------- ------------------------------- 8.1/38.8 MB 16.1 MB/s eta 0:00:02\n",
      "   --------- ------------------------------ 9.2/38.8 MB 16.7 MB/s eta 0:00:02\n",
      "   ---------- ----------------------------- 10.1/38.8 MB 17.4 MB/s eta 0:00:02\n",
      "   ----------- ---------------------------- 11.2/38.8 MB 19.3 MB/s eta 0:00:02\n",
      "   ------------ --------------------------- 12.4/38.8 MB 19.3 MB/s eta 0:00:02\n",
      "   ------------ --------------------------- 12.6/38.8 MB 19.9 MB/s eta 0:00:02\n",
      "   ------------ --------------------------- 12.6/38.8 MB 19.9 MB/s eta 0:00:02\n",
      "   ------------- -------------------------- 13.3/38.8 MB 16.0 MB/s eta 0:00:02\n",
      "   -------------- ------------------------- 14.4/38.8 MB 18.7 MB/s eta 0:00:02\n",
      "   ---------------- ----------------------- 15.6/38.8 MB 18.7 MB/s eta 0:00:02\n",
      "   ----------------- ---------------------- 16.8/38.8 MB 18.7 MB/s eta 0:00:02\n",
      "   ------------------ --------------------- 18.0/38.8 MB 18.7 MB/s eta 0:00:02\n",
      "   ------------------- -------------------- 19.2/38.8 MB 18.7 MB/s eta 0:00:02\n",
      "   -------------------- ------------------- 20.3/38.8 MB 18.7 MB/s eta 0:00:01\n",
      "   --------------------- ------------------ 21.3/38.8 MB 18.2 MB/s eta 0:00:01\n",
      "   ---------------------- ----------------- 21.9/38.8 MB 17.7 MB/s eta 0:00:01\n",
      "   ----------------------- ---------------- 22.9/38.8 MB 21.8 MB/s eta 0:00:01\n",
      "   ------------------------ --------------- 24.1/38.8 MB 21.8 MB/s eta 0:00:01\n",
      "   ------------------------- -------------- 25.2/38.8 MB 21.1 MB/s eta 0:00:01\n",
      "   --------------------------- ------------ 26.4/38.8 MB 21.1 MB/s eta 0:00:01\n",
      "   ---------------------------- ----------- 27.6/38.8 MB 21.8 MB/s eta 0:00:01\n",
      "   ----------------------------- ---------- 28.3/38.8 MB 21.1 MB/s eta 0:00:01\n",
      "   ----------------------------- ---------- 28.7/38.8 MB 19.8 MB/s eta 0:00:01\n",
      "   ------------------------------ --------- 29.9/38.8 MB 19.3 MB/s eta 0:00:01\n",
      "   ------------------------------- -------- 31.1/38.8 MB 19.3 MB/s eta 0:00:01\n",
      "   --------------------------------- ------ 32.2/38.8 MB 21.1 MB/s eta 0:00:01\n",
      "   ---------------------------------- ----- 33.4/38.8 MB 21.1 MB/s eta 0:00:01\n",
      "   ----------------------------------- ---- 34.6/38.8 MB 21.1 MB/s eta 0:00:01\n",
      "   ------------------------------------ --- 35.7/38.8 MB 20.5 MB/s eta 0:00:01\n",
      "   ------------------------------------- -- 36.8/38.8 MB 20.5 MB/s eta 0:00:01\n",
      "   ---------------------------------------  38.0/38.8 MB 21.1 MB/s eta 0:00:01\n",
      "   ---------------------------------------  38.8/38.8 MB 23.4 MB/s eta 0:00:01\n",
      "   ---------------------------------------  38.8/38.8 MB 23.4 MB/s eta 0:00:01\n",
      "   ---------------------------------------- 38.8/38.8 MB 19.8 MB/s eta 0:00:00\n",
      "Installing collected packages: opencv-python\n",
      "Successfully installed opencv-python-4.10.0.84\n",
      "Note: you may need to restart the kernel to use updated packages.\n"
     ]
    }
   ],
   "source": [
    "pip install pyautogui opencv-python pillow"
   ]
  },
  {
   "cell_type": "code",
   "execution_count": null,
   "id": "1b2b0b51-e189-49aa-af97-0d76edc8f41f",
   "metadata": {},
   "outputs": [],
   "source": []
  },
  {
   "cell_type": "code",
   "execution_count": null,
   "id": "a2484fa8-3873-40bd-889b-c1b2de8155f6",
   "metadata": {},
   "outputs": [],
   "source": []
  },
  {
   "cell_type": "code",
   "execution_count": null,
   "id": "1054a94b-04af-49b8-99c3-9eb310d362ae",
   "metadata": {},
   "outputs": [],
   "source": []
  },
  {
   "cell_type": "code",
   "execution_count": null,
   "id": "8064bc35-cc8f-4450-abb5-18c99838cb3d",
   "metadata": {},
   "outputs": [],
   "source": []
  },
  {
   "cell_type": "code",
   "execution_count": null,
   "id": "65732a35-3297-4656-b21a-9bb2250c962a",
   "metadata": {},
   "outputs": [],
   "source": []
  },
  {
   "cell_type": "code",
   "execution_count": null,
   "id": "a1b0d681-d5ea-499e-bc09-801af5334411",
   "metadata": {},
   "outputs": [],
   "source": []
  },
  {
   "cell_type": "code",
   "execution_count": null,
   "id": "322dac8b-3a58-4a33-87a3-df2515205c8d",
   "metadata": {},
   "outputs": [],
   "source": []
  }
 ],
 "metadata": {
  "kernelspec": {
   "display_name": "Python 3 (ipykernel)",
   "language": "python",
   "name": "python3"
  },
  "language_info": {
   "codemirror_mode": {
    "name": "ipython",
    "version": 3
   },
   "file_extension": ".py",
   "mimetype": "text/x-python",
   "name": "python",
   "nbconvert_exporter": "python",
   "pygments_lexer": "ipython3",
   "version": "3.12.4"
  }
 },
 "nbformat": 4,
 "nbformat_minor": 5
}
