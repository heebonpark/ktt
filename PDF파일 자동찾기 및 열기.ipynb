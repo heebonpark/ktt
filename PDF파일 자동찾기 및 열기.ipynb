{
 "cells": [
  {
   "cell_type": "code",
   "execution_count": 4,
   "id": "11c85a6f-8989-4737-bf9e-5e225ba158b5",
   "metadata": {},
   "outputs": [
    {
     "name": "stdin",
     "output_type": "stream",
     "text": [
      "파일 키워드를 입력하세요:  5월 안심검증 결과\n"
     ]
    },
    {
     "name": "stdout",
     "output_type": "stream",
     "text": [
      "파일 'D:/강북강원본부/안심검증\\5월\\5월 안심검증 결과.pdf'이(가) 열렸습니다.\n"
     ]
    }
   ],
   "source": [
    "import os\n",
    "import webbrowser\n",
    "\n",
    "def open_pdf(keyword, path):\n",
    "    # 주어진 경로와 하위 폴더에서 파일 탐색\n",
    "    for root, dirs, files in os.walk(path):\n",
    "        for file in files:\n",
    "            # 파일 이름에 키워드가 포함되어 있고 PDF 파일인 경우\n",
    "            if keyword in file and file.endswith('.pdf'):\n",
    "                # 파일의 전체 경로 생성\n",
    "                full_path = os.path.join(root, file)\n",
    "                # 파일 열기\n",
    "                webbrowser.open(full_path)\n",
    "                return f\"파일 '{full_path}'이(가) 열렸습니다.\"\n",
    "    return \"해당 키워드를 포함하는 PDF 파일을 찾을 수 없습니다.\"\n",
    "\n",
    "# 사용자 입력\n",
    "keyword = input(\"파일 키워드를 입력하세요: \")\n",
    "path = \"D:/강북강원본부/안심검증\"\n",
    "print(open_pdf(keyword, path))\n"
   ]
  },
  {
   "cell_type": "code",
   "execution_count": 14,
   "id": "6ac234d7-95c3-4069-9c5e-0af12c4bf7ea",
   "metadata": {},
   "outputs": [
    {
     "name": "stdin",
     "output_type": "stream",
     "text": [
      "파일 키워드를 입력하세요:  51919450\n"
     ]
    },
    {
     "name": "stdout",
     "output_type": "stream",
     "text": [
      "해당 키워드를 포함하는 PDF 파일을 찾을 수 없습니다.\n"
     ]
    }
   ],
   "source": [
    "import os\n",
    "import webbrowser\n",
    "\n",
    "def open_pdf(keyword, path):\n",
    "    # 주어진 경로와 하위 폴더에서 파일 탐색\n",
    "    for root, dirs, files in os.walk(path):\n",
    "        for file in files:\n",
    "            # 파일 이름에 키워드가 포함되어 있고 PDF 파일인 경우\n",
    "            if keyword in file and file.endswith('.pdf'):\n",
    "                # 파일의 전체 경로 생성\n",
    "                full_path = os.path.join(root, file)\n",
    "                # 파일 열기\n",
    "                webbrowser.open(full_path)\n",
    "                return f\"파일 '{full_path}'이(가) 열렸습니다.\"\n",
    "    return \"해당 키워드를 포함하는 PDF 파일을 찾을 수 없습니다.\"\n",
    "\n",
    "# 사용자 입력\n",
    "keyword = input(\"파일 키워드를 입력하세요: \")\n",
    "path = \"D:/\"\n",
    "print(open_pdf(keyword, path))\n"
   ]
  },
  {
   "cell_type": "code",
   "execution_count": null,
   "id": "dc0016e4-1ac9-401f-a3b4-2d446a7cdf9e",
   "metadata": {},
   "outputs": [],
   "source": [
    "50380843\n"
   ]
  },
  {
   "cell_type": "code",
   "execution_count": 15,
   "id": "c8ed2327-71f2-4e99-9c3a-312c7aee8503",
   "metadata": {},
   "outputs": [
    {
     "name": "stdin",
     "output_type": "stream",
     "text": [
      "파일 키워드를 입력하세요:  51919450\n"
     ]
    },
    {
     "name": "stdout",
     "output_type": "stream",
     "text": [
      "해당 키워드를 포함하는 PDF 파일을 찾을 수 없습니다.\n"
     ]
    }
   ],
   "source": [
    "import os\n",
    "import webbrowser\n",
    "\n",
    "def open_pdf(keyword, path):\n",
    "    # 주어진 경로와 하위 폴더에서 파일 탐색\n",
    "    for root, dirs, files in os.walk(path):\n",
    "        for file in files:\n",
    "            # 파일 이름에 키워드가 포함되어 있고 PDF 파일인 경우\n",
    "            if keyword in file and file.endswith('.pdf'):\n",
    "                # 파일의 전체 경로 생성\n",
    "                full_path = os.path.join(root, file)\n",
    "                # 파일 열기\n",
    "                webbrowser.open(full_path)\n",
    "                return f\"파일 '{full_path}'이(가) 열렸습니다.\"\n",
    "    return \"해당 키워드를 포함하는 PDF 파일을 찾을 수 없습니다.\"\n",
    "\n",
    "# 사용자 입력\n",
    "keyword = input(\"파일 키워드를 입력하세요: \")\n",
    "# path = \"c:/\"\n",
    "path = \"D:/강북강원본부/안심검증/5월/설변_5월마감 안심검증_6.7추출\"\n",
    "\n",
    "print(open_pdf(keyword, path))"
   ]
  },
  {
   "cell_type": "code",
   "execution_count": null,
   "id": "bd452659-f9d7-4b1a-9f80-4b315dc025d7",
   "metadata": {},
   "outputs": [],
   "source": []
  },
  {
   "cell_type": "code",
   "execution_count": null,
   "id": "d123e7f5-4f1a-40f9-beda-e27b9eb1a87f",
   "metadata": {},
   "outputs": [],
   "source": []
  },
  {
   "cell_type": "code",
   "execution_count": null,
   "id": "178e7f3d-de1c-4ccc-b0c8-41754440fd43",
   "metadata": {},
   "outputs": [],
   "source": []
  }
 ],
 "metadata": {
  "kernelspec": {
   "display_name": "Python 3 (ipykernel)",
   "language": "python",
   "name": "python3"
  },
  "language_info": {
   "codemirror_mode": {
    "name": "ipython",
    "version": 3
   },
   "file_extension": ".py",
   "mimetype": "text/x-python",
   "name": "python",
   "nbconvert_exporter": "python",
   "pygments_lexer": "ipython3",
   "version": "3.12.3"
  }
 },
 "nbformat": 4,
 "nbformat_minor": 5
}
