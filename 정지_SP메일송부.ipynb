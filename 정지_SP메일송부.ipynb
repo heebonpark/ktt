{
 "cells": [
  {
   "cell_type": "code",
   "execution_count": 1,
   "id": "1c769b86-e04f-47d5-9f90-0ab646df016e",
   "metadata": {},
   "outputs": [
    {
     "name": "stdout",
     "output_type": "stream",
     "text": [
      "Defaulting to user installation because normal site-packages is not writeable\n",
      "Requirement already satisfied: gspread in c:\\users\\user\\appdata\\roaming\\python\\python312\\site-packages (6.1.4)\n",
      "Requirement already satisfied: oauth2client in c:\\users\\user\\appdata\\roaming\\python\\python312\\site-packages (4.1.3)\n",
      "Note: you may need to restart the kernel to use updated packages.\n"
     ]
    },
    {
     "name": "stderr",
     "output_type": "stream",
     "text": [
      "ERROR: Could not find a version that satisfies the requirement smtplib (from versions: none)\n",
      "ERROR: No matching distribution found for smtplib\n"
     ]
    }
   ],
   "source": [
    "pip install gspread oauth2client smtplib"
   ]
  },
  {
   "cell_type": "code",
   "execution_count": null,
   "id": "4c0dccbe-ded4-42e3-b407-2778edd01c9d",
   "metadata": {},
   "outputs": [],
   "source": []
  },
  {
   "cell_type": "code",
   "execution_count": 11,
   "id": "1d95f06f-c5ca-4b47-8411-988fe2920bdb",
   "metadata": {},
   "outputs": [
    {
     "ename": "FileNotFoundError",
     "evalue": "[Errno 2] No such file or directory: '/content/drive/MyDrive/Key/credentials.json'",
     "output_type": "error",
     "traceback": [
      "\u001b[1;31m---------------------------------------------------------------------------\u001b[0m",
      "\u001b[1;31mFileNotFoundError\u001b[0m                         Traceback (most recent call last)",
      "Cell \u001b[1;32mIn[11], line 129\u001b[0m\n\u001b[0;32m    117\u001b[0m         send_email(\n\u001b[0;32m    118\u001b[0m             smtp_server,\n\u001b[0;32m    119\u001b[0m             port,\n\u001b[1;32m   (...)\u001b[0m\n\u001b[0;32m    125\u001b[0m             cc\u001b[38;5;241m=\u001b[39mcc_email\n\u001b[0;32m    126\u001b[0m         )\n\u001b[0;32m    128\u001b[0m \u001b[38;5;28;01mif\u001b[39;00m \u001b[38;5;18m__name__\u001b[39m \u001b[38;5;241m==\u001b[39m \u001b[38;5;124m\"\u001b[39m\u001b[38;5;124m__main__\u001b[39m\u001b[38;5;124m\"\u001b[39m:\n\u001b[1;32m--> 129\u001b[0m     main()\n",
      "Cell \u001b[1;32mIn[11], line 65\u001b[0m, in \u001b[0;36mmain\u001b[1;34m()\u001b[0m\n\u001b[0;32m     62\u001b[0m filter_sheet_name \u001b[38;5;241m=\u001b[39m \u001b[38;5;124m\"\u001b[39m\u001b[38;5;124m장기설변\u001b[39m\u001b[38;5;124m\"\u001b[39m  \u001b[38;5;66;03m# 장기설변 시트 이름\u001b[39;00m\n\u001b[0;32m     63\u001b[0m mail_sheet_name \u001b[38;5;241m=\u001b[39m \u001b[38;5;124m\"\u001b[39m\u001b[38;5;124m메일관리\u001b[39m\u001b[38;5;124m\"\u001b[39m  \u001b[38;5;66;03m# 메일관리 시트 이름\u001b[39;00m\n\u001b[1;32m---> 65\u001b[0m client \u001b[38;5;241m=\u001b[39m authenticate_google_sheets(credentials_file)\n\u001b[0;32m     67\u001b[0m \u001b[38;5;66;03m# 시트 데이터 로드\u001b[39;00m\n\u001b[0;32m     68\u001b[0m db_data \u001b[38;5;241m=\u001b[39m load_sheet_data(client, spreadsheet_id, db_sheet_name)\n",
      "Cell \u001b[1;32mIn[11], line 15\u001b[0m, in \u001b[0;36mauthenticate_google_sheets\u001b[1;34m(credentials_file)\u001b[0m\n\u001b[0;32m      9\u001b[0m \u001b[38;5;28;01mdef\u001b[39;00m \u001b[38;5;21mauthenticate_google_sheets\u001b[39m(credentials_file):\n\u001b[0;32m     10\u001b[0m     scope \u001b[38;5;241m=\u001b[39m [\n\u001b[0;32m     11\u001b[0m         \u001b[38;5;124m\"\u001b[39m\u001b[38;5;124mhttps://spreadsheets.google.com/feeds\u001b[39m\u001b[38;5;124m\"\u001b[39m,\n\u001b[0;32m     12\u001b[0m         \u001b[38;5;124m\"\u001b[39m\u001b[38;5;124mhttps://www.googleapis.com/auth/spreadsheets\u001b[39m\u001b[38;5;124m\"\u001b[39m,\n\u001b[0;32m     13\u001b[0m         \u001b[38;5;124m\"\u001b[39m\u001b[38;5;124mhttps://www.googleapis.com/auth/drive\u001b[39m\u001b[38;5;124m\"\u001b[39m,\n\u001b[0;32m     14\u001b[0m     ]\n\u001b[1;32m---> 15\u001b[0m     credentials \u001b[38;5;241m=\u001b[39m ServiceAccountCredentials\u001b[38;5;241m.\u001b[39mfrom_json_keyfile_name(credentials_file, scope)\n\u001b[0;32m     16\u001b[0m     client \u001b[38;5;241m=\u001b[39m gspread\u001b[38;5;241m.\u001b[39mauthorize(credentials)\n\u001b[0;32m     17\u001b[0m     \u001b[38;5;28;01mreturn\u001b[39;00m client\n",
      "File \u001b[1;32m~\\AppData\\Roaming\\Python\\Python312\\site-packages\\oauth2client\\service_account.py:219\u001b[0m, in \u001b[0;36mServiceAccountCredentials.from_json_keyfile_name\u001b[1;34m(cls, filename, scopes, token_uri, revoke_uri)\u001b[0m\n\u001b[0;32m    193\u001b[0m \u001b[38;5;129m@classmethod\u001b[39m\n\u001b[0;32m    194\u001b[0m \u001b[38;5;28;01mdef\u001b[39;00m \u001b[38;5;21mfrom_json_keyfile_name\u001b[39m(\u001b[38;5;28mcls\u001b[39m, filename, scopes\u001b[38;5;241m=\u001b[39m\u001b[38;5;124m'\u001b[39m\u001b[38;5;124m'\u001b[39m,\n\u001b[0;32m    195\u001b[0m                            token_uri\u001b[38;5;241m=\u001b[39m\u001b[38;5;28;01mNone\u001b[39;00m, revoke_uri\u001b[38;5;241m=\u001b[39m\u001b[38;5;28;01mNone\u001b[39;00m):\n\u001b[0;32m    197\u001b[0m \u001b[38;5;250m    \u001b[39m\u001b[38;5;124;03m\"\"\"Factory constructor from JSON keyfile by name.\u001b[39;00m\n\u001b[0;32m    198\u001b[0m \n\u001b[0;32m    199\u001b[0m \u001b[38;5;124;03m    Args:\u001b[39;00m\n\u001b[1;32m   (...)\u001b[0m\n\u001b[0;32m    217\u001b[0m \u001b[38;5;124;03m            the keyfile.\u001b[39;00m\n\u001b[0;32m    218\u001b[0m \u001b[38;5;124;03m    \"\"\"\u001b[39;00m\n\u001b[1;32m--> 219\u001b[0m     \u001b[38;5;28;01mwith\u001b[39;00m \u001b[38;5;28mopen\u001b[39m(filename, \u001b[38;5;124m'\u001b[39m\u001b[38;5;124mr\u001b[39m\u001b[38;5;124m'\u001b[39m) \u001b[38;5;28;01mas\u001b[39;00m file_obj:\n\u001b[0;32m    220\u001b[0m         client_credentials \u001b[38;5;241m=\u001b[39m json\u001b[38;5;241m.\u001b[39mload(file_obj)\n\u001b[0;32m    221\u001b[0m     \u001b[38;5;28;01mreturn\u001b[39;00m \u001b[38;5;28mcls\u001b[39m\u001b[38;5;241m.\u001b[39m_from_parsed_json_keyfile(client_credentials, scopes,\n\u001b[0;32m    222\u001b[0m                                          token_uri\u001b[38;5;241m=\u001b[39mtoken_uri,\n\u001b[0;32m    223\u001b[0m                                          revoke_uri\u001b[38;5;241m=\u001b[39mrevoke_uri)\n",
      "\u001b[1;31mFileNotFoundError\u001b[0m: [Errno 2] No such file or directory: '/content/drive/MyDrive/Key/credentials.json'"
     ]
    }
   ],
   "source": [
    "import gspread\n",
    "from oauth2client.service_account import ServiceAccountCredentials\n",
    "import pandas as pd\n",
    "import smtplib\n",
    "from email.mime.multipart import MIMEMultipart\n",
    "from email.mime.text import MIMEText\n",
    "\n",
    "# Google Sheets API 인증 설정\n",
    "def authenticate_google_sheets(credentials_file):\n",
    "    scope = [\n",
    "        \"https://spreadsheets.google.com/feeds\",\n",
    "        \"https://www.googleapis.com/auth/spreadsheets\",\n",
    "        \"https://www.googleapis.com/auth/drive\",\n",
    "    ]\n",
    "    credentials = ServiceAccountCredentials.from_json_keyfile_name(credentials_file, scope)\n",
    "    client = gspread.authorize(credentials)\n",
    "    return client\n",
    "\n",
    "\n",
    "# Google Sheets 데이터 읽기\n",
    "def load_sheet_data(client, spreadsheet_id, sheet_name):\n",
    "    sheet = client.open_by_key(spreadsheet_id).worksheet(sheet_name)\n",
    "    data = pd.DataFrame(sheet.get_all_records())\n",
    "    return data\n",
    "\n",
    "# SP담당자별 데이터 필터링\n",
    "def filter_data_by_sp(data, sp_manager_column, sp_manager):\n",
    "    return data[data[sp_manager_column].str.lower() == sp_manager.lower()]\n",
    "\n",
    "# HTML 테이블 생성\n",
    "def create_html_table(dataframe):\n",
    "    if dataframe.empty:\n",
    "        return \"<p>데이터가 없습니다.</p>\"\n",
    "    return dataframe.to_html(index=False, border=1, classes=\"table\", justify=\"left\")\n",
    "\n",
    "# 이메일 전송 함수\n",
    "def send_email(smtp_server, port, login, password, recipient, subject, body, cc=None):\n",
    "    msg = MIMEMultipart()\n",
    "    msg[\"From\"] = login\n",
    "    msg[\"To\"] = recipient\n",
    "    msg[\"Subject\"] = subject\n",
    "    if cc:\n",
    "        msg[\"Cc\"] = cc\n",
    "    msg.attach(MIMEText(body, \"html\"))\n",
    "\n",
    "    try:\n",
    "        with smtplib.SMTP(smtp_server, port) as server:\n",
    "            server.starttls()\n",
    "            server.login(login, password)\n",
    "            server.sendmail(login, [recipient] + ([cc] if cc else []), msg.as_string())\n",
    "        print(f\"이메일 발송 완료: {recipient}\")\n",
    "    except Exception as e:\n",
    "        print(f\"이메일 발송 오류: {e}\")\n",
    "\n",
    "\n",
    "# 메인 함수\n",
    "def main():\n",
    "    # 인증 및 Google Sheets 설정\n",
    "    credentials_file = \"/content/drive/MyDrive/Key/credentials.json\"  # JSON 키 파일 경로\n",
    "    spreadsheet_id = \"1rC2VatA-QczdN5mP9MXqWXCNREfAiUkfUu2XtkJ6sT0\"  # Google 스프레드시트 ID\n",
    "    db_sheet_name = \"db\"  # DB 시트 이름\n",
    "    filter_sheet_name = \"장기설변\"  # 장기설변 시트 이름\n",
    "    mail_sheet_name = \"메일관리\"  # 메일관리 시트 이름\n",
    "\n",
    "    client = authenticate_google_sheets(credentials_file)\n",
    "\n",
    "    # 시트 데이터 로드\n",
    "    db_data = load_sheet_data(client, spreadsheet_id, db_sheet_name)\n",
    "    filter_data = load_sheet_data(client, spreadsheet_id, filter_sheet_name)\n",
    "    mail_data = load_sheet_data(client, spreadsheet_id, mail_sheet_name)\n",
    "\n",
    "    # 메일 설정\n",
    "    smtp_server = \"smtp.gmail.com\"\n",
    "    port = 587\n",
    "    email_account = \"bough38@naver.com\"  # 발신 이메일 계정\n",
    "    email_password = \"see0303!!\"  # 발신 이메일 계정 비밀번호\n",
    "\n",
    "    sp_manager_column = \"SP담당자명\"  # SP담당자명 컬럼 이름\n",
    "    email_column = \"이메일\"\n",
    "    cc_column = \"참조자메일\"\n",
    "\n",
    "    # 메일관리 시트의 각 SP담당자에 대해 작업\n",
    "    for _, mail_row in mail_data.iterrows():\n",
    "        sp_manager = mail_row.get(sp_manager_column)\n",
    "        recipient_email = mail_row.get(email_column)\n",
    "        cc_email = mail_row.get(cc_column)\n",
    "\n",
    "        if not sp_manager or not recipient_email:\n",
    "            print(f\"SP담당자명 또는 이메일이 없습니다: {mail_row}\")\n",
    "            continue\n",
    "\n",
    "        # SP담당자명별 데이터 필터링\n",
    "        filtered_db_data = filter_data_by_sp(db_data, sp_manager_column, sp_manager)\n",
    "        filtered_filter_data = filter_data_by_sp(filter_data, sp_manager_column, sp_manager)\n",
    "\n",
    "        # 데이터가 없는 경우 이메일 전송 생략\n",
    "        if filtered_db_data.empty and filtered_filter_data.empty:\n",
    "            print(f\"{sp_manager}님의 데이터가 없습니다. 메일을 전송하지 않습니다.\")\n",
    "            continue\n",
    "\n",
    "        # HTML 테이블 생성\n",
    "        db_table = create_html_table(filtered_db_data)\n",
    "        filter_table = create_html_table(filtered_filter_data)\n",
    "\n",
    "        # 이메일 본문 작성\n",
    "        html_body = f\"\"\"\n",
    "        <p>안녕하세요,</p>\n",
    "        <p>{sp_manager}님의 데이터는 아래와 같습니다:</p>\n",
    "        <h3>DB 데이터</h3>\n",
    "        {db_table}\n",
    "        <h3>장기설변 데이터</h3>\n",
    "        {filter_table}\n",
    "        <p>감사합니다.</p>\n",
    "        \"\"\"\n",
    "\n",
    "        # 이메일 전송\n",
    "        send_email(\n",
    "            smtp_server,\n",
    "            port,\n",
    "            email_account,\n",
    "            email_password,\n",
    "            recipient_email,\n",
    "            f\"{sp_manager}님의 데이터 공유\",\n",
    "            html_body,\n",
    "            cc=cc_email\n",
    "        )\n",
    "\n",
    "if __name__ == \"__main__\":\n",
    "    main()\n"
   ]
  },
  {
   "cell_type": "code",
   "execution_count": null,
   "id": "c611c457-d20a-49e4-ba44-6eed4b865e93",
   "metadata": {},
   "outputs": [],
   "source": []
  },
  {
   "cell_type": "code",
   "execution_count": null,
   "id": "562924bd-bbc9-4813-95b2-ade14aae525a",
   "metadata": {},
   "outputs": [],
   "source": []
  },
  {
   "cell_type": "code",
   "execution_count": null,
   "id": "a43baabe-116c-4948-b872-0b1bbca654eb",
   "metadata": {},
   "outputs": [],
   "source": []
  },
  {
   "cell_type": "code",
   "execution_count": null,
   "id": "88b4867c-34be-412d-ae1f-b2c02226dc44",
   "metadata": {},
   "outputs": [],
   "source": []
  },
  {
   "cell_type": "code",
   "execution_count": null,
   "id": "ef7cc26f-7438-4e24-aad8-40bd2e6e388b",
   "metadata": {},
   "outputs": [],
   "source": []
  },
  {
   "cell_type": "code",
   "execution_count": null,
   "id": "f0c6aa15-eab4-4532-b0bc-6fcdd2801585",
   "metadata": {},
   "outputs": [],
   "source": []
  },
  {
   "cell_type": "code",
   "execution_count": null,
   "id": "7bdb8e7b-b70c-491c-b4fe-580d91c6fbd2",
   "metadata": {},
   "outputs": [],
   "source": []
  },
  {
   "cell_type": "code",
   "execution_count": null,
   "id": "17e307fa-2a9e-4d6e-b8d8-9bc889f65197",
   "metadata": {},
   "outputs": [],
   "source": []
  },
  {
   "cell_type": "code",
   "execution_count": null,
   "id": "46a0514e-5eac-4a3e-a2ec-c27a73ea2b02",
   "metadata": {},
   "outputs": [],
   "source": []
  },
  {
   "cell_type": "code",
   "execution_count": null,
   "id": "246fd1f7-fed3-4621-91e9-718a8541a3f5",
   "metadata": {},
   "outputs": [],
   "source": []
  },
  {
   "cell_type": "code",
   "execution_count": null,
   "id": "3c96e52f-7ced-4679-b367-a629e11c21cc",
   "metadata": {},
   "outputs": [],
   "source": []
  },
  {
   "cell_type": "code",
   "execution_count": null,
   "id": "171c06cc-a676-4c69-a098-61cdf511aa9f",
   "metadata": {},
   "outputs": [],
   "source": []
  },
  {
   "cell_type": "code",
   "execution_count": null,
   "id": "0bd1cbc1-6d0a-420e-b6d5-8c4542bdd5f2",
   "metadata": {},
   "outputs": [],
   "source": []
  },
  {
   "cell_type": "code",
   "execution_count": null,
   "id": "aae4be91-1a10-41ab-89a2-67e3eeed55a3",
   "metadata": {},
   "outputs": [],
   "source": []
  },
  {
   "cell_type": "code",
   "execution_count": null,
   "id": "f11cc6ad-bf83-422d-8b5c-ae676cceb614",
   "metadata": {},
   "outputs": [],
   "source": []
  },
  {
   "cell_type": "code",
   "execution_count": null,
   "id": "17f05586-bf7c-41bc-94e7-6d05e1d79748",
   "metadata": {},
   "outputs": [],
   "source": []
  },
  {
   "cell_type": "code",
   "execution_count": null,
   "id": "e7fa26f8-46bf-48c1-b759-2382882f4533",
   "metadata": {},
   "outputs": [],
   "source": []
  },
  {
   "cell_type": "code",
   "execution_count": null,
   "id": "5a7206fd-69b6-48ce-895d-c8f32329b2e3",
   "metadata": {},
   "outputs": [],
   "source": []
  },
  {
   "cell_type": "code",
   "execution_count": null,
   "id": "fa24bcb7-e6ad-47b8-b0e7-923dc3043279",
   "metadata": {},
   "outputs": [],
   "source": []
  },
  {
   "cell_type": "code",
   "execution_count": null,
   "id": "5c0a46d1-6754-4b6b-ae25-9f58a42227be",
   "metadata": {},
   "outputs": [],
   "source": []
  },
  {
   "cell_type": "code",
   "execution_count": null,
   "id": "020a3cd2-04e9-4cf9-baf6-96e054fb10ba",
   "metadata": {},
   "outputs": [],
   "source": []
  },
  {
   "cell_type": "code",
   "execution_count": null,
   "id": "c00ce1ff-c879-417e-b6b1-9241f9323677",
   "metadata": {},
   "outputs": [],
   "source": []
  },
  {
   "cell_type": "code",
   "execution_count": null,
   "id": "cf24984b-472f-45c3-9f2f-6b25f92f9e25",
   "metadata": {},
   "outputs": [],
   "source": []
  },
  {
   "cell_type": "code",
   "execution_count": null,
   "id": "0bcd1d4c-eb4e-4a04-a81e-6284ebf43b4d",
   "metadata": {},
   "outputs": [],
   "source": []
  },
  {
   "cell_type": "code",
   "execution_count": null,
   "id": "24071c84-e715-46c8-9730-5be481bd5f03",
   "metadata": {},
   "outputs": [],
   "source": []
  }
 ],
 "metadata": {
  "kernelspec": {
   "display_name": "Python 3 (ipykernel)",
   "language": "python",
   "name": "python3"
  },
  "language_info": {
   "codemirror_mode": {
    "name": "ipython",
    "version": 3
   },
   "file_extension": ".py",
   "mimetype": "text/x-python",
   "name": "python",
   "nbconvert_exporter": "python",
   "pygments_lexer": "ipython3",
   "version": "3.12.4"
  }
 },
 "nbformat": 4,
 "nbformat_minor": 5
}
