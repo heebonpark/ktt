{
 "cells": [
  {
   "cell_type": "code",
   "execution_count": 3,
   "id": "65af8951-291e-4487-b7f3-f383420fa5b6",
   "metadata": {},
   "outputs": [
    {
     "name": "stdout",
     "output_type": "stream",
     "text": [
      "Looking in indexes: https://pypi.org/simple/\n",
      "Requirement already satisfied: pywin32 in c:\\users\\user\\appdata\\roaming\\python\\python312\\site-packages (306)\n",
      "Note: you may need to restart the kernel to use updated packages.\n"
     ]
    }
   ],
   "source": [
    "pip install pywin32"
   ]
  },
  {
   "cell_type": "code",
   "execution_count": 13,
   "id": "6b40b46e-0349-484c-afa6-cda659f45055",
   "metadata": {},
   "outputs": [
    {
     "name": "stdout",
     "output_type": "stream",
     "text": [
      "Opening file: D:/대리점자동화연습/(20240528)아이디어_사외채널 정산 프로그램 도입.pdf\n"
     ]
    }
   ],
   "source": [
    "import os\n",
    "import subprocess\n",
    "\n",
    "def open_files_with_keyword(directory, keyword):\n",
    "    for root, dirs, files in os.walk(directory):\n",
    "        for file in files:\n",
    "            if keyword in file:\n",
    "                file_path = os.path.join(root, file)\n",
    "                print(f\"Opening file: {file_path}\")\n",
    "                os.startfile(file_path)  # Windows에서 파일을 엽니다\n",
    "\n",
    "# 대리점 자동화 연습 아이디어 파일이 있는 디렉터리 경로 설정\n",
    "directory_path = \"D:/대리점자동화연습/\"\n",
    "keyword = \"아이디어\"  # 여기 원하는 키워드를 입력하세요\n",
    "\n",
    "# 함수 호출\n",
    "open_files_with_keyword(directory_path, keyword)\n"
   ]
  },
  {
   "cell_type": "code",
   "execution_count": null,
   "id": "63b1980f-fa88-4f27-8d8a-7ad28f5feea8",
   "metadata": {},
   "outputs": [],
   "source": []
  },
  {
   "cell_type": "code",
   "execution_count": null,
   "id": "3332c8db-0b7a-47e0-870e-47145bd8930c",
   "metadata": {},
   "outputs": [],
   "source": []
  },
  {
   "cell_type": "code",
   "execution_count": null,
   "id": "9bdbdef2-acc8-4be5-90e9-9fa0c248c767",
   "metadata": {},
   "outputs": [],
   "source": []
  }
 ],
 "metadata": {
  "kernelspec": {
   "display_name": "Python 3 (ipykernel)",
   "language": "python",
   "name": "python3"
  },
  "language_info": {
   "codemirror_mode": {
    "name": "ipython",
    "version": 3
   },
   "file_extension": ".py",
   "mimetype": "text/x-python",
   "name": "python",
   "nbconvert_exporter": "python",
   "pygments_lexer": "ipython3",
   "version": "3.12.3"
  }
 },
 "nbformat": 4,
 "nbformat_minor": 5
}
