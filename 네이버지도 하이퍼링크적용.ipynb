{
 "cells": [
  {
   "cell_type": "code",
   "execution_count": 6,
   "id": "e04d394b",
   "metadata": {},
   "outputs": [
    {
     "name": "stdout",
     "output_type": "stream",
     "text": [
      "파일을 찾았습니다: C:\\Users\\User\\Desktop\\2.27_실습파일\\ktlms_download\\[AI모델링]데이터 핸들링 및 전처리\\data\\users.csv\n"
     ]
    }
   ],
   "source": [
    "import os\n",
    "\n",
    "# 사용자의 홈 디렉토리 가져오기\n",
    "home_directory = os.path.expanduser(\"~\")\n",
    "\n",
    "# 파일을 찾을 디렉토리 경로 설정\n",
    "target_directory = home_directory\n",
    "\n",
    "# 파일 이름 설정\n",
    "file_name = \"users.csv\"\n",
    "\n",
    "# 파일을 찾는 반복문\n",
    "for dirpath, dirnames, filenames in os.walk(target_directory):\n",
    "    if file_name in filenames:\n",
    "        file_path = os.path.join(dirpath, file_name)\n",
    "        print(\"파일을 찾았습니다:\", file_path)\n",
    "        break\n",
    "else:\n",
    "    print(\"파일을 찾을 수 없습니다.\")"
   ]
  },
  {
   "cell_type": "code",
   "execution_count": null,
   "id": "6fce9e6c-89a7-4c40-9559-1723543443e2",
   "metadata": {},
   "outputs": [],
   "source": []
  },
  {
   "cell_type": "code",
   "execution_count": 7,
   "id": "a8a391d3",
   "metadata": {},
   "outputs": [
    {
     "name": "stdout",
     "output_type": "stream",
     "text": [
      "파일을 찾을 수 없습니다.\n"
     ]
    }
   ],
   "source": [
    "import os\n",
    "\n",
    "# 사용자의 홈 디렉토리 가져오기\n",
    "home_directory = os.path.expanduser(\"~\")\n",
    "\n",
    "# 파일을 찾을 디렉토리 경로 설정\n",
    "target_directory = home_directory\n",
    "\n",
    "# 파일 이름 설정\n",
    "file_name = \"ignore\"\n",
    "\n",
    "# 파일을 찾는 반복문\n",
    "for dirpath, dirnames, filenames in os.walk(target_directory):\n",
    "    if file_name in filenames:\n",
    "        file_path = os.path.join(dirpath, file_name)\n",
    "        print(\"파일을 찾았습니다:\", file_path)\n",
    "        break\n",
    "else:\n",
    "    print(\"파일을 찾을 수 없습니다.\")"
   ]
  },
  {
   "cell_type": "code",
   "execution_count": null,
   "id": "809b485d",
   "metadata": {},
   "outputs": [],
   "source": []
  },
  {
   "cell_type": "code",
   "execution_count": 1,
   "id": "f0598b2e",
   "metadata": {},
   "outputs": [
    {
     "name": "stdout",
     "output_type": "stream",
     "text": [
      "네이버 지도 하이퍼링크 추가 작업 완료!\n"
     ]
    }
   ],
   "source": [
    "from openpyxl import load_workbook\n",
    "\n",
    "def add_naver_map_hyperlinks(file_path):\n",
    "    wb = load_workbook(filename=file_path)\n",
    "    ws = wb.active\n",
    "\n",
    "    for row in range(2, ws.max_row + 1):  # 첫 번째 행을 제외하고 시작\n",
    "        address = ws[f'b{row}'].value  # A열에서 주소 가져오기\n",
    "        if address is not None:\n",
    "            # 네이버 지도 검색 URL 생성\n",
    "            map_url = f\"https://map.naver.com/v5/search/{address}\"\n",
    "            # B열에 하이퍼링크 적용\n",
    "            ws[f'c{row}'].hyperlink = map_url\n",
    "            ws[f'c{row}'].value = \"네이버 지도에서 보기\"  # 표시할 텍스트\n",
    "            ws[f'c{row}'].style = \"Hyperlink\"  # 하이퍼링크 스타일 적용\n",
    "\n",
    "    wb.save(filename=file_path)  # 변경 사항 저장\n",
    "\n",
    "file_path = 'D:\\\\공공기관 데이터모음\\\\신규사업자_디비리아자료_0507_지도변환.xlsx'  # 예: 'D:\\\\공공기관 데이터모음\\\\디비리아자료.xlsx'\n",
    "\n",
    "add_naver_map_hyperlinks(file_path)  # 함수 실행\n",
    "\n",
    "print(\"네이버 지도 하이퍼링크 추가 작업 완료!\")"
   ]
  },
  {
   "cell_type": "code",
   "execution_count": null,
   "id": "776240f6-e647-44f0-bc92-7514a0a2676a",
   "metadata": {},
   "outputs": [],
   "source": []
  }
 ],
 "metadata": {
  "kernelspec": {
   "display_name": "Python 3 (ipykernel)",
   "language": "python",
   "name": "python3"
  },
  "language_info": {
   "codemirror_mode": {
    "name": "ipython",
    "version": 3
   },
   "file_extension": ".py",
   "mimetype": "text/x-python",
   "name": "python",
   "nbconvert_exporter": "python",
   "pygments_lexer": "ipython3",
   "version": "3.12.3"
  }
 },
 "nbformat": 4,
 "nbformat_minor": 5
}
