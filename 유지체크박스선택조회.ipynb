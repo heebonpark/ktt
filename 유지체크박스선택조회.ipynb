{
 "cells": [
  {
   "cell_type": "code",
   "execution_count": 1,
   "id": "aa673a02-5eee-47ec-9d88-fa9d9f6f8471",
   "metadata": {},
   "outputs": [
    {
     "name": "stdout",
     "output_type": "stream",
     "text": [
      "Defaulting to user installation because normal site-packages is not writeable\n",
      "Requirement already satisfied: ipywidgets in c:\\users\\user\\appdata\\roaming\\python\\python312\\site-packages (8.1.5)\n",
      "Requirement already satisfied: comm>=0.1.3 in c:\\programdata\\anaconda3\\lib\\site-packages (from ipywidgets) (0.2.1)\n",
      "Requirement already satisfied: ipython>=6.1.0 in c:\\programdata\\anaconda3\\lib\\site-packages (from ipywidgets) (8.25.0)\n",
      "Requirement already satisfied: traitlets>=4.3.1 in c:\\programdata\\anaconda3\\lib\\site-packages (from ipywidgets) (5.14.3)\n",
      "Requirement already satisfied: widgetsnbextension~=4.0.12 in c:\\users\\user\\appdata\\roaming\\python\\python312\\site-packages (from ipywidgets) (4.0.13)\n",
      "Requirement already satisfied: jupyterlab-widgets~=3.0.12 in c:\\users\\user\\appdata\\roaming\\python\\python312\\site-packages (from ipywidgets) (3.0.13)\n",
      "Requirement already satisfied: decorator in c:\\programdata\\anaconda3\\lib\\site-packages (from ipython>=6.1.0->ipywidgets) (5.1.1)\n",
      "Requirement already satisfied: jedi>=0.16 in c:\\programdata\\anaconda3\\lib\\site-packages (from ipython>=6.1.0->ipywidgets) (0.18.1)\n",
      "Requirement already satisfied: matplotlib-inline in c:\\programdata\\anaconda3\\lib\\site-packages (from ipython>=6.1.0->ipywidgets) (0.1.6)\n",
      "Requirement already satisfied: prompt-toolkit<3.1.0,>=3.0.41 in c:\\programdata\\anaconda3\\lib\\site-packages (from ipython>=6.1.0->ipywidgets) (3.0.43)\n",
      "Requirement already satisfied: pygments>=2.4.0 in c:\\programdata\\anaconda3\\lib\\site-packages (from ipython>=6.1.0->ipywidgets) (2.15.1)\n",
      "Requirement already satisfied: stack-data in c:\\programdata\\anaconda3\\lib\\site-packages (from ipython>=6.1.0->ipywidgets) (0.2.0)\n",
      "Requirement already satisfied: colorama in c:\\programdata\\anaconda3\\lib\\site-packages (from ipython>=6.1.0->ipywidgets) (0.4.6)\n",
      "Requirement already satisfied: parso<0.9.0,>=0.8.0 in c:\\programdata\\anaconda3\\lib\\site-packages (from jedi>=0.16->ipython>=6.1.0->ipywidgets) (0.8.3)\n",
      "Requirement already satisfied: wcwidth in c:\\programdata\\anaconda3\\lib\\site-packages (from prompt-toolkit<3.1.0,>=3.0.41->ipython>=6.1.0->ipywidgets) (0.2.5)\n",
      "Requirement already satisfied: executing in c:\\programdata\\anaconda3\\lib\\site-packages (from stack-data->ipython>=6.1.0->ipywidgets) (0.8.3)\n",
      "Requirement already satisfied: asttokens in c:\\programdata\\anaconda3\\lib\\site-packages (from stack-data->ipython>=6.1.0->ipywidgets) (2.0.5)\n",
      "Requirement already satisfied: pure-eval in c:\\programdata\\anaconda3\\lib\\site-packages (from stack-data->ipython>=6.1.0->ipywidgets) (0.2.2)\n",
      "Requirement already satisfied: six in c:\\programdata\\anaconda3\\lib\\site-packages (from asttokens->stack-data->ipython>=6.1.0->ipywidgets) (1.16.0)\n",
      "Note: you may need to restart the kernel to use updated packages.\n"
     ]
    }
   ],
   "source": [
    "pip install ipywidgets"
   ]
  },
  {
   "cell_type": "code",
   "execution_count": 3,
   "id": "5c267cf4-7728-40ec-8272-ba0b12495361",
   "metadata": {},
   "outputs": [
    {
     "data": {
      "application/vnd.jupyter.widget-view+json": {
       "model_id": "97a49db0e2bc4c338d200354b8086921",
       "version_major": 2,
       "version_minor": 0
      },
      "text/plain": [
       "Label(value='삭제할 열을 선택하세요:')"
      ]
     },
     "metadata": {},
     "output_type": "display_data"
    },
    {
     "data": {
      "application/vnd.jupyter.widget-view+json": {
       "model_id": "1791f9c540b043ed922d511f0365b7d6",
       "version_major": 2,
       "version_minor": 0
      },
      "text/plain": [
       "VBox(children=(Checkbox(value=False, description='관리본부코드'), Checkbox(value=False, description='관리본부명'), Checkb…"
      ]
     },
     "metadata": {},
     "output_type": "display_data"
    },
    {
     "data": {
      "application/vnd.jupyter.widget-view+json": {
       "model_id": "26c2b853dd034b0090ed7fbd9ae984d2",
       "version_major": 2,
       "version_minor": 0
      },
      "text/plain": [
       "Button(description='선택한 열 삭제', style=ButtonStyle())"
      ]
     },
     "metadata": {},
     "output_type": "display_data"
    },
    {
     "data": {
      "application/vnd.jupyter.widget-view+json": {
       "model_id": "13b68355871e4b4899a94abf49443054",
       "version_major": 2,
       "version_minor": 0
      },
      "text/plain": [
       "Label(value='특정 텍스트로 행 삭제:')"
      ]
     },
     "metadata": {},
     "output_type": "display_data"
    },
    {
     "data": {
      "application/vnd.jupyter.widget-view+json": {
       "model_id": "a3d5db978740459da34dafc5118526d2",
       "version_major": 2,
       "version_minor": 0
      },
      "text/plain": [
       "Text(value='', placeholder='행값에 포함된 텍스트를 입력하세요')"
      ]
     },
     "metadata": {},
     "output_type": "display_data"
    },
    {
     "data": {
      "application/vnd.jupyter.widget-view+json": {
       "model_id": "71bc3fcdc5a344e8b80d8a7d759c9cfb",
       "version_major": 2,
       "version_minor": 0
      },
      "text/plain": [
       "Button(description='텍스트 포함된 행 삭제', style=ButtonStyle())"
      ]
     },
     "metadata": {},
     "output_type": "display_data"
    },
    {
     "data": {
      "application/vnd.jupyter.widget-view+json": {
       "model_id": "b86edecc984f4b6bbc8ed32b5e4075e3",
       "version_major": 2,
       "version_minor": 0
      },
      "text/plain": [
       "Text(value='D:/시설/유지/필터링_데이터.csv', description='저장 경로:')"
      ]
     },
     "metadata": {},
     "output_type": "display_data"
    },
    {
     "data": {
      "application/vnd.jupyter.widget-view+json": {
       "model_id": "2a5d6c39302b48e2b7fb0048061f75ce",
       "version_major": 2,
       "version_minor": 0
      },
      "text/plain": [
       "Button(description='결과 저장', style=ButtonStyle())"
      ]
     },
     "metadata": {},
     "output_type": "display_data"
    },
    {
     "data": {
      "application/vnd.jupyter.widget-view+json": {
       "model_id": "9d286775befb402b959281c2194b9135",
       "version_major": 2,
       "version_minor": 0
      },
      "text/plain": [
       "Output()"
      ]
     },
     "metadata": {},
     "output_type": "display_data"
    }
   ],
   "source": [
    "import pandas as pd\n",
    "import ipywidgets as widgets\n",
    "from IPython.display import display, clear_output\n",
    "\n",
    "# 파일 경로 설정\n",
    "file_path = 'D:/시설/유지/24년11월유지가입자_날짜형식조정.cs'\n",
    "\n",
    "# 데이터 읽기\n",
    "df = pd.read_csv(file_path, encoding='cp949', low_memory=False)\n",
    "\n",
    "# 헤더 값 확인\n",
    "headers = df.columns.tolist()\n",
    "\n",
    "# 체크박스로 헤더 선택\n",
    "header_checkboxes = [widgets.Checkbox(value=False, description=header) for header in headers]\n",
    "header_box = widgets.VBox(header_checkboxes)\n",
    "header_label = widgets.Label(\"삭제할 열을 선택하세요:\")\n",
    "display(header_label, header_box)\n",
    "\n",
    "# 버튼 생성\n",
    "delete_columns_button = widgets.Button(description=\"선택한 열 삭제\")\n",
    "display(delete_columns_button)\n",
    "\n",
    "# 선택한 행값을 기반으로 삭제\n",
    "delete_rows_label = widgets.Label(\"특정 텍스트로 행 삭제:\")\n",
    "row_text_input = widgets.Text(placeholder=\"행값에 포함된 텍스트를 입력하세요\")\n",
    "delete_rows_button = widgets.Button(description=\"텍스트 포함된 행 삭제\")\n",
    "display(delete_rows_label, row_text_input, delete_rows_button)\n",
    "\n",
    "# 최종 저장 버튼\n",
    "save_button = widgets.Button(description=\"결과 저장\")\n",
    "save_path_input = widgets.Text(value=\"D:/시설/유지/필터링_데이터.csv\", description=\"저장 경로:\")\n",
    "display(save_path_input, save_button)\n",
    "\n",
    "# 출력 영역\n",
    "output = widgets.Output()\n",
    "display(output)\n",
    "\n",
    "# 열 삭제 버튼 클릭 이벤트\n",
    "def delete_columns_event(b):\n",
    "    with output:\n",
    "        clear_output()\n",
    "        selected_columns = [cb.description for cb in header_checkboxes if cb.value]\n",
    "        if selected_columns:\n",
    "            global df\n",
    "            df = df.drop(columns=selected_columns, errors='ignore')\n",
    "            print(f\"선택한 열이 삭제되었습니다: {selected_columns}\")\n",
    "        else:\n",
    "            print(\"선택한 열이 없습니다.\")\n",
    "\n",
    "delete_columns_button.on_click(delete_columns_event)\n",
    "\n",
    "# 행 삭제 버튼 클릭 이벤트\n",
    "def delete_rows_event(b):\n",
    "    with output:\n",
    "        clear_output()\n",
    "        text_to_exclude = row_text_input.value\n",
    "        if text_to_exclude:\n",
    "            global df\n",
    "            # 모든 열에서 텍스트 포함된 행 삭제\n",
    "            df = df[~df.apply(lambda row: row.astype(str).str.contains(text_to_exclude).any(), axis=1)]\n",
    "            print(f\"'{text_to_exclude}'를 포함하는 행이 삭제되었습니다.\")\n",
    "        else:\n",
    "            print(\"삭제할 텍스트를 입력하세요.\")\n",
    "\n",
    "delete_rows_button.on_click(delete_rows_event)\n",
    "\n",
    "# 저장 버튼 클릭 이벤트\n",
    "def save_data_event(b):\n",
    "    with output:\n",
    "        clear_output()\n",
    "        save_path = save_path_input.value\n",
    "        if save_path:\n",
    "            df.to_csv(save_path, index=False, encoding='cp949')\n",
    "            print(f\"데이터가 저장되었습니다: {save_path}\")\n",
    "        else:\n",
    "            print(\"저장 경로를 입력하세요.\")\n",
    "\n",
    "save_button.on_click(save_data_event)\n"
   ]
  },
  {
   "cell_type": "code",
   "execution_count": 5,
   "id": "8e3a9abd-78ff-4d55-8297-542ce92c3986",
   "metadata": {},
   "outputs": [
    {
     "data": {
      "application/vnd.jupyter.widget-view+json": {
       "model_id": "cca3c0ce14bf4d95985f350ba971365b",
       "version_major": 2,
       "version_minor": 0
      },
      "text/plain": [
       "Label(value='데이터의 헤더(열 이름):')"
      ]
     },
     "metadata": {},
     "output_type": "display_data"
    },
    {
     "data": {
      "application/vnd.jupyter.widget-view+json": {
       "model_id": "88adc52c3e4a43e0977e0582cb953411",
       "version_major": 2,
       "version_minor": 0
      },
      "text/plain": [
       "Output()"
      ]
     },
     "metadata": {},
     "output_type": "display_data"
    },
    {
     "data": {
      "application/vnd.jupyter.widget-view+json": {
       "model_id": "62d73af2b4654fed98b1f86148c46a1a",
       "version_major": 2,
       "version_minor": 0
      },
      "text/plain": [
       "Label(value='저장할 열을 선택하세요:')"
      ]
     },
     "metadata": {},
     "output_type": "display_data"
    },
    {
     "data": {
      "application/vnd.jupyter.widget-view+json": {
       "model_id": "cd3fcd2b899c4c78997337e9c3cf0983",
       "version_major": 2,
       "version_minor": 0
      },
      "text/plain": [
       "VBox(children=(Checkbox(value=False, description='관리본부코드'), Checkbox(value=False, description='관리본부명'), Checkb…"
      ]
     },
     "metadata": {},
     "output_type": "display_data"
    },
    {
     "data": {
      "application/vnd.jupyter.widget-view+json": {
       "model_id": "9c599e3bd9e74bac8356cfd674e6542e",
       "version_major": 2,
       "version_minor": 0
      },
      "text/plain": [
       "Label(value='조건에 해당하는 값을 입력하세요 (열 기준으로 검색):')"
      ]
     },
     "metadata": {},
     "output_type": "display_data"
    },
    {
     "data": {
      "application/vnd.jupyter.widget-view+json": {
       "model_id": "7d83db9e5ab843ea943e142eeca945dd",
       "version_major": 2,
       "version_minor": 0
      },
      "text/plain": [
       "Text(value='', placeholder='조건 값을 입력하세요')"
      ]
     },
     "metadata": {},
     "output_type": "display_data"
    },
    {
     "data": {
      "application/vnd.jupyter.widget-view+json": {
       "model_id": "4fa77f6530fc4bc4bf91cbfb739bf926",
       "version_major": 2,
       "version_minor": 0
      },
      "text/plain": [
       "Text(value='D:/시설/유지/필터링_결과.csv', description='저장 경로:')"
      ]
     },
     "metadata": {},
     "output_type": "display_data"
    },
    {
     "data": {
      "application/vnd.jupyter.widget-view+json": {
       "model_id": "b24eaa34814c4ad9af66b62d0f80c609",
       "version_major": 2,
       "version_minor": 0
      },
      "text/plain": [
       "Button(description='선택한 열과 조건에 맞는 데이터 저장', style=ButtonStyle())"
      ]
     },
     "metadata": {},
     "output_type": "display_data"
    },
    {
     "data": {
      "application/vnd.jupyter.widget-view+json": {
       "model_id": "e0e791f919ad4d73a425d36a7af2700c",
       "version_major": 2,
       "version_minor": 0
      },
      "text/plain": [
       "Output()"
      ]
     },
     "metadata": {},
     "output_type": "display_data"
    }
   ],
   "source": [
    "import pandas as pd\n",
    "import ipywidgets as widgets\n",
    "from IPython.display import display, clear_output\n",
    "\n",
    "# 파일 경로 설정\n",
    "file_path = 'D:/시설/유지/24년11월유지가입자_날짜형식조정.cs'\n",
    "\n",
    "# 데이터 읽기\n",
    "df = pd.read_csv(file_path, encoding='cp949', low_memory=False)\n",
    "\n",
    "# 헤더 값(열 이름)을 데이터프레임으로 표시\n",
    "headers = pd.DataFrame({'열 이름': df.columns})\n",
    "headers.index += 1  # 보기 좋게 1부터 시작하는 인덱스 설정\n",
    "\n",
    "# 헤더를 테이블로 표시\n",
    "header_label = widgets.Label(\"데이터의 헤더(열 이름):\")\n",
    "header_table = widgets.Output()\n",
    "\n",
    "with header_table:\n",
    "    clear_output()\n",
    "    display(headers)\n",
    "\n",
    "display(header_label, header_table)\n",
    "\n",
    "# 체크박스로 필요한 열 선택\n",
    "header_checkboxes = [widgets.Checkbox(value=False, description=header) for header in df.columns]\n",
    "header_box = widgets.VBox(header_checkboxes)\n",
    "header_selection_label = widgets.Label(\"저장할 열을 선택하세요:\")\n",
    "display(header_selection_label, header_box)\n",
    "\n",
    "# 텍스트 조건 입력\n",
    "condition_label = widgets.Label(\"조건에 해당하는 값을 입력하세요 (열 기준으로 검색):\")\n",
    "condition_input = widgets.Text(placeholder=\"조건 값을 입력하세요\")\n",
    "display(condition_label, condition_input)\n",
    "\n",
    "# 저장 경로 입력\n",
    "save_path_input = widgets.Text(value=\"D:/시설/유지/필터링_결과.csv\", description=\"저장 경로:\")\n",
    "display(save_path_input)\n",
    "\n",
    "# 저장 버튼 생성\n",
    "save_button = widgets.Button(description=\"선택한 열과 조건에 맞는 데이터 저장\")\n",
    "display(save_button)\n",
    "\n",
    "# 출력 영역\n",
    "output = widgets.Output()\n",
    "display(output)\n",
    "\n",
    "# 날짜 형식 변환 대상 열\n",
    "date_columns = [\n",
    "    '계약시작일', '계약종료일', '준공완료일', '관제개통일', '서비스개시일', '서비스재개시일',\n",
    "    '정지시작일자', '결합시작일', '계약최초서비스게시일', '실적최초등록일'\n",
    "]\n",
    "\n",
    "# 저장 버튼 클릭 이벤트\n",
    "def save_filtered_data(b):\n",
    "    with output:\n",
    "        clear_output()\n",
    "        # 선택한 열\n",
    "        selected_columns = [cb.description for cb in header_checkboxes if cb.value]\n",
    "        if not selected_columns:\n",
    "            print(\"저장할 열을 선택하세요.\")\n",
    "            return\n",
    "\n",
    "        # 조건값 입력\n",
    "        condition_value = condition_input.value.strip()\n",
    "        if condition_value:\n",
    "            filtered_df = df[selected_columns]\n",
    "            # 조건에 해당하는 행 필터링\n",
    "            filtered_df = filtered_df[filtered_df.apply(\n",
    "                lambda row: row.astype(str).str.contains(condition_value, na=False).any(), axis=1\n",
    "            )]\n",
    "        else:\n",
    "            filtered_df = df[selected_columns]\n",
    "\n",
    "        # 날짜 열 변환\n",
    "        for col in date_columns:\n",
    "            if col in filtered_df.columns:\n",
    "                filtered_df[col] = pd.to_datetime(\n",
    "                    filtered_df[col], format='%Y%m%d', errors='coerce'\n",
    "                ).dt.strftime('%Y-%m-%d')\n",
    "\n",
    "        # 저장\n",
    "        save_path = save_path_input.value.strip()\n",
    "        if save_path:\n",
    "            filtered_df.to_csv(save_path, index=False, encoding='cp949')\n",
    "            print(f\"선택한 열과 조건에 맞는 데이터가 저장되었습니다: {save_path}\")\n",
    "        else:\n",
    "            print(\"저장 경로를 입력하세요.\")\n",
    "\n",
    "save_button.on_click(save_filtered_data)"
   ]
  },
  {
   "cell_type": "code",
   "execution_count": 7,
   "id": "6d8ae055-966a-4eda-9740-22ab6b884615",
   "metadata": {},
   "outputs": [],
   "source": [
    "import pandas as pd\n",
    "import tkinter as tk\n",
    "from tkinter import filedialog, messagebox\n",
    "\n",
    "class DataFilterApp:\n",
    "    def __init__(self, root):\n",
    "        self.root = root\n",
    "        self.root.title(\"데이터 필터링 및 저장\")\n",
    "       \n",
    "        # 초기 데이터프레임\n",
    "        self.df = None\n",
    "        self.filtered_df = None\n",
    "       \n",
    "        # 파일 경로 입력 및 선택\n",
    "        self.file_label = tk.Label(root, text=\"파일 경로:\")\n",
    "        self.file_label.grid(row=0, column=0, padx=10, pady=10, sticky='w')\n",
    "       \n",
    "        self.file_entry = tk.Entry(root, width=50)\n",
    "        self.file_entry.grid(row=0, column=1, padx=10, pady=10)\n",
    "       \n",
    "        self.browse_button = tk.Button(root, text=\"파일 선택\", command=self.load_file)\n",
    "        self.browse_button.grid(row=0, column=2, padx=10, pady=10)\n",
    "       \n",
    "        # 열 선택 리스트박스\n",
    "        self.column_label = tk.Label(root, text=\"열 선택:\")\n",
    "        self.column_label.grid(row=1, column=0, padx=10, pady=10, sticky='nw')\n",
    "       \n",
    "        self.column_listbox = tk.Listbox(root, selectmode=tk.MULTIPLE, width=50, height=15)\n",
    "        self.column_listbox.grid(row=1, column=1, padx=10, pady=10)\n",
    "       \n",
    "        # 조건 입력\n",
    "        self.condition_label = tk.Label(root, text=\"조건 입력 (포함된 값):\")\n",
    "        self.condition_label.grid(row=2, column=0, padx=10, pady=10, sticky='w')\n",
    "       \n",
    "        self.condition_entry = tk.Entry(root, width=50)\n",
    "        self.condition_entry.grid(row=2, column=1, padx=10, pady=10)\n",
    "       \n",
    "        # 저장 경로 입력\n",
    "        self.save_label = tk.Label(root, text=\"저장 경로:\")\n",
    "        self.save_label.grid(row=3, column=0, padx=10, pady=10, sticky='w')\n",
    "       \n",
    "        self.save_entry = tk.Entry(root, width=50)\n",
    "        self.save_entry.grid(row=3, column=1, padx=10, pady=10)\n",
    "       \n",
    "        self.save_button = tk.Button(root, text=\"저장 위치 선택\", command=self.select_save_path)\n",
    "        self.save_button.grid(row=3, column=2, padx=10, pady=10)\n",
    "       \n",
    "        # 실행 버튼\n",
    "        self.run_button = tk.Button(root, text=\"필터링 및 저장\", command=self.filter_and_save)\n",
    "        self.run_button.grid(row=4, column=1, padx=10, pady=10)\n",
    "   \n",
    "    def load_file(self):\n",
    "        # 파일 선택 대화상자 열기\n",
    "        file_path = filedialog.askopenfilename(filetypes=[(\"CSV Files\", \"*.csv\")])\n",
    "        if file_path:\n",
    "            self.file_entry.delete(0, tk.END)\n",
    "            self.file_entry.insert(0, file_path)\n",
    "            try:\n",
    "                # 파일 읽기\n",
    "                self.df = pd.read_csv(file_path, encoding='cp949', low_memory=False)\n",
    "                self.update_columns()\n",
    "                messagebox.showinfo(\"파일 로드 완료\", \"파일이 성공적으로 로드되었습니다.\")\n",
    "            except Exception as e:\n",
    "                messagebox.showerror(\"파일 로드 실패\", f\"파일을 로드하는 중 오류가 발생했습니다:\\n{e}\")\n",
    "   \n",
    "    def update_columns(self):\n",
    "        # 열 리스트박스 업데이트\n",
    "        self.column_listbox.delete(0, tk.END)\n",
    "        for col in self.df.columns:\n",
    "            self.column_listbox.insert(tk.END, col)\n",
    "   \n",
    "    def select_save_path(self):\n",
    "        # 저장 경로 선택\n",
    "        save_path = filedialog.asksaveasfilename(defaultextension=\".csv\", filetypes=[(\"CSV Files\", \"*.csv\")])\n",
    "        if save_path:\n",
    "            self.save_entry.delete(0, tk.END)\n",
    "            self.save_entry.insert(0, save_path)\n",
    "   \n",
    "    def filter_and_save(self):\n",
    "        if self.df is None:\n",
    "            messagebox.showerror(\"데이터 없음\", \"먼저 파일을 로드하세요.\")\n",
    "            return\n",
    "       \n",
    "        # 선택한 열 가져오기\n",
    "        selected_indices = self.column_listbox.curselection()\n",
    "        selected_columns = [self.column_listbox.get(i) for i in selected_indices]\n",
    "       \n",
    "        if not selected_columns:\n",
    "            messagebox.showerror(\"열 선택 없음\", \"저장할 열을 선택하세요.\")\n",
    "            return\n",
    "       \n",
    "        # 조건 가져오기\n",
    "        condition = self.condition_entry.get().strip()\n",
    "       \n",
    "        # 데이터 필터링\n",
    "        self.filtered_df = self.df[selected_columns]\n",
    "        if condition:\n",
    "            self.filtered_df = self.filtered_df[self.filtered_df.apply(\n",
    "                lambda row: row.astype(str).str.contains(condition, na=False).any(), axis=1\n",
    "            )]\n",
    "       \n",
    "        # 날짜 형식 변환\n",
    "        date_columns = [\n",
    "            '계약시작일', '계약종료일', '준공완료일', '관제개통일', '서비스개시일', '서비스재개시일',\n",
    "            '정지시작일자', '결합시작일', '계약최초서비스게시일', '실적최초등록일'\n",
    "        ]\n",
    "        for col in date_columns:\n",
    "            if col in self.filtered_df.columns:\n",
    "                self.filtered_df[col] = pd.to_datetime(\n",
    "                    self.filtered_df[col], format='%Y%m%d', errors='coerce'\n",
    "                ).dt.strftime('%Y-%m-%d')\n",
    "       \n",
    "        # 저장 경로\n",
    "        save_path = self.save_entry.get().strip()\n",
    "        if not save_path:\n",
    "            messagebox.showerror(\"저장 경로 없음\", \"저장 경로를 입력하세요.\")\n",
    "            return\n",
    "       \n",
    "        try:\n",
    "            # 데이터 저장\n",
    "            self.filtered_df.to_csv(save_path, index=False, encoding='cp949')\n",
    "            messagebox.showinfo(\"저장 완료\", f\"데이터가 성공적으로 저장되었습니다:\\n{save_path}\")\n",
    "        except Exception as e:\n",
    "            messagebox.showerror(\"저장 실패\", f\"데이터를 저장하는 중 오류가 발생했습니다:\\n{e}\")\n",
    "\n",
    "# GUI 실행\n",
    "root = tk.Tk()\n",
    "app = DataFilterApp(root)\n",
    "root.mainloop()"
   ]
  },
  {
   "cell_type": "code",
   "execution_count": 9,
   "id": "fc10833b-1735-4458-b20a-f04362234ed5",
   "metadata": {},
   "outputs": [],
   "source": [
    "import pandas as pd\n",
    "import tkinter as tk\n",
    "from tkinter import filedialog, messagebox\n",
    "\n",
    "class DataFilterApp:\n",
    "    def __init__(self, root):\n",
    "        self.root = root\n",
    "        self.root.title(\"데이터 필터링 및 분석\")\n",
    "       \n",
    "        # 초기 데이터프레임\n",
    "        self.df = None\n",
    "        self.filtered_df = None\n",
    "       \n",
    "        # 파일 경로 입력 및 선택\n",
    "        self.file_label = tk.Label(root, text=\"파일 경로:\")\n",
    "        self.file_label.grid(row=0, column=0, padx=10, pady=10, sticky='w')\n",
    "       \n",
    "        self.file_entry = tk.Entry(root, width=50)\n",
    "        self.file_entry.grid(row=0, column=1, padx=10, pady=10)\n",
    "       \n",
    "        self.browse_button = tk.Button(root, text=\"파일 선택\", command=self.load_file)\n",
    "        self.browse_button.grid(row=0, column=2, padx=10, pady=10)\n",
    "       \n",
    "        # 열 선택 리스트박스\n",
    "        self.column_label = tk.Label(root, text=\"열 선택:\")\n",
    "        self.column_label.grid(row=1, column=0, padx=10, pady=10, sticky='nw')\n",
    "       \n",
    "        self.column_listbox = tk.Listbox(root, selectmode=tk.SINGLE, width=50, height=10)\n",
    "        self.column_listbox.grid(row=1, column=1, padx=10, pady=10)\n",
    "       \n",
    "        self.apply_column_button = tk.Button(root, text=\"열 적용\", command=self.apply_column_selection)\n",
    "        self.apply_column_button.grid(row=1, column=2, padx=10, pady=10)\n",
    "       \n",
    "        # 특정 텍스트 조건 입력\n",
    "        self.condition_label = tk.Label(root, text=\"특정 텍스트 값:\")\n",
    "        self.condition_label.grid(row=2, column=0, padx=10, pady=10, sticky='w')\n",
    "       \n",
    "        self.condition_entry = tk.Entry(root, width=50)\n",
    "        self.condition_entry.grid(row=2, column=1, padx=10, pady=10)\n",
    "       \n",
    "        # 저장 경로 입력\n",
    "        self.save_label = tk.Label(root, text=\"저장 경로:\")\n",
    "        self.save_label.grid(row=3, column=0, padx=10, pady=10, sticky='w')\n",
    "       \n",
    "        self.save_entry = tk.Entry(root, width=50)\n",
    "        self.save_entry.grid(row=3, column=1, padx=10, pady=10)\n",
    "       \n",
    "        self.save_button = tk.Button(root, text=\"저장 위치 선택\", command=self.select_save_path)\n",
    "        self.save_button.grid(row=3, column=2, padx=10, pady=10)\n",
    "       \n",
    "        # 실행 버튼\n",
    "        self.run_button = tk.Button(root, text=\"필터링 및 저장\", command=self.filter_and_save)\n",
    "        self.run_button.grid(row=4, column=1, padx=10, pady=10)\n",
    "       \n",
    "        # 출력 영역\n",
    "        self.output_label = tk.Label(root, text=\"\")\n",
    "        self.output_label.grid(row=5, column=0, columnspan=3, padx=10, pady=10)\n",
    "   \n",
    "    def load_file(self):\n",
    "        # 파일 선택 대화상자 열기\n",
    "        file_path = filedialog.askopenfilename(filetypes=[(\"CSV Files\", \"*.csv\")])\n",
    "        if file_path:\n",
    "            self.file_entry.delete(0, tk.END)\n",
    "            self.file_entry.insert(0, file_path)\n",
    "            try:\n",
    "                # 파일 읽기\n",
    "                self.df = pd.read_csv(file_path, encoding='cp949', low_memory=False)\n",
    "                self.update_columns()\n",
    "                messagebox.showinfo(\"파일 로드 완료\", \"파일이 성공적으로 로드되었습니다.\")\n",
    "            except Exception as e:\n",
    "                messagebox.showerror(\"파일 로드 실패\", f\"파일을 로드하는 중 오류가 발생했습니다:\\n{e}\")\n",
    "   \n",
    "    def update_columns(self):\n",
    "        # 열 리스트박스 업데이트\n",
    "        self.column_listbox.delete(0, tk.END)\n",
    "        for col in self.df.columns:\n",
    "            self.column_listbox.insert(tk.END, col)\n",
    "   \n",
    "    def apply_column_selection(self):\n",
    "        if self.df is None:\n",
    "            messagebox.showerror(\"데이터 없음\", \"먼저 파일을 로드하세요.\")\n",
    "            return\n",
    "       \n",
    "        # 선택한 열 가져오기\n",
    "        selected_index = self.column_listbox.curselection()\n",
    "        if not selected_index:\n",
    "            messagebox.showerror(\"열 선택 없음\", \"적용할 열을 선택하세요.\")\n",
    "            return\n",
    "       \n",
    "        selected_column = self.column_listbox.get(selected_index)\n",
    "       \n",
    "        # 열에서 500개 이상 중복된 값 필터링\n",
    "        filtered_values = self.df[selected_column].value_counts()\n",
    "        filtered_values = filtered_values[filtered_values >= 500].index.tolist()\n",
    "       \n",
    "        if not filtered_values:\n",
    "            self.output_label.config(text=\"500개 이상 중복된 값이 없습니다.\")\n",
    "        else:\n",
    "            self.filtered_df = self.df[self.df[selected_column].isin(filtered_values)]\n",
    "            self.output_label.config(\n",
    "                text=f\"'{selected_column}' 열에서 500개 이상 중복된 값이 필터링되었습니다.\"\n",
    "            )\n",
    "   \n",
    "    def select_save_path(self):\n",
    "        # 저장 경로 선택\n",
    "        save_path = filedialog.asksaveasfilename(defaultextension=\".csv\", filetypes=[(\"CSV Files\", \"*.csv\")])\n",
    "        if save_path:\n",
    "            self.save_entry.delete(0, tk.END)\n",
    "            self.save_entry.insert(0, save_path)\n",
    "   \n",
    "    def filter_and_save(self):\n",
    "        if self.filtered_df is None:\n",
    "            messagebox.showerror(\"필터링 안됨\", \"먼저 열을 적용하고 데이터를 필터링하세요.\")\n",
    "            return\n",
    "       \n",
    "        # 특정 텍스트 조건 추가\n",
    "        condition = self.condition_entry.get().strip()\n",
    "        if condition:\n",
    "            self.filtered_df = self.filtered_df[\n",
    "                self.filtered_df.apply(lambda row: row.astype(str).str.contains(condition, na=False).any(), axis=1)\n",
    "            ]\n",
    "       \n",
    "        # 저장 경로\n",
    "        save_path = self.save_entry.get().strip()\n",
    "        if not save_path:\n",
    "            messagebox.showerror(\"저장 경로 없음\", \"저장 경로를 입력하세요.\")\n",
    "            return\n",
    "       \n",
    "        try:\n",
    "            # 데이터 저장\n",
    "            self.filtered_df.to_csv(save_path, index=False, encoding='cp949')\n",
    "            messagebox.showinfo(\"저장 완료\", f\"데이터가 성공적으로 저장되었습니다:\\n{save_path}\")\n",
    "        except Exception as e:\n",
    "            messagebox.showerror(\"저장 실패\", f\"데이터를 저장하는 중 오류가 발생했습니다:\\n{e}\")\n",
    "\n",
    "# GUI 실행\n",
    "root = tk.Tk()\n",
    "app = DataFilterApp(root)\n",
    "root.mainloop()"
   ]
  },
  {
   "cell_type": "code",
   "execution_count": null,
   "id": "d0770965-4c4f-4d7f-8c91-1d2a29b51bd0",
   "metadata": {},
   "outputs": [],
   "source": []
  },
  {
   "cell_type": "code",
   "execution_count": 11,
   "id": "9daab8cb-58b6-4fa4-93c9-35ee3b6e7dad",
   "metadata": {},
   "outputs": [
    {
     "data": {
      "application/vnd.jupyter.widget-view+json": {
       "model_id": "d8bb66eaf1cc4331b9877979ed9c5b7d",
       "version_major": 2,
       "version_minor": 0
      },
      "text/plain": [
       "VBox(children=(HBox(children=(VBox(children=(Text(value='', description='청구번호:', placeholder='청구 번호 입력'), Text…"
      ]
     },
     "metadata": {},
     "output_type": "display_data"
    }
   ],
   "source": [
    "import pandas as pd\n",
    "import ipywidgets as widgets\n",
    "from IPython.display import display, HTML, clear_output\n",
    "\n",
    "# 파일 경로 설정\n",
    "file_path = 'D:/시설/유지/24년11월유지가입자_날짜형식조정.cs'\n",
    "\n",
    "# CSV 파일 읽기, 모든 데이터를 문자열로 처리\n",
    "df = pd.read_csv(file_path, encoding='cp949', dtype=str)\n",
    "df.fillna('', inplace=True)  # NaN 값을 빈 문자열로 대체\n",
    "\n",
    "# 입력 위젯 설정\n",
    "input_fields = {\n",
    "    '청구번호': '청구 번호 입력',\n",
    "    '계약번호': '계약 번호 입력',\n",
    "    '상호': '상호 부분 입력',\n",
    "    '실적최초등록일': '실적최초등록일 부분 입력',\n",
    "    '서비스재개시일': '서빗재개시일 부분 입력',\n",
    "    '고객명': '고객명 부분 입력',\n",
    "    '설치주소': '설치 주소 부분 입력',\n",
    "    '관리본부명': '관리 본부명 입력',\n",
    "    '관리지사명': '관리 지사명 입력',\n",
    "    '시설구분': '시설대상 입력',\n",
    "    '요금구분': '요금대상 입력',\n",
    "    '제외사유': '제외사유 대상입력',\n",
    "    '영업자명': '구역 담당 영업사원 입력',\n",
    "    '무인매장구분': '무인매장구분 입력',\n",
    "    '무인매장업종구분': '무인매장업종구분 입력'\n",
    "}\n",
    "\n",
    "# 제외할 컬럼 목록 정의\n",
    "excluded_columns = [\n",
    "    \"관리본부코드\", \"관리지사코드\", \"영상전환일\", \"서비스상태(대)\", \"서비스상태(중)\",\n",
    "    \"접속전화번호\", \"설치우편번호\", \"견적월정료\", \"할인율\", \"월정료면제사유\",\n",
    "    \"면제시작일\", \"면제종료일\", \"계약보증금\", \"보증금면제사유\", \"판매상품비\", \"견적설치공사비\",\n",
    "    \"설치공사할부개월\", \"계약공사비\", \"면제공사비\", \"실징수액\", \"추천구분\", \"영업본부코드\",\n",
    "    \"영업지사코드\", \"영업지점명\", \"모집유형\", \"추천본부코드\", \"추천본부명\", \"추천지사코드\",\n",
    "    \"유통망소분류\", \"추천채널\", \"정보제공자부서\", \"정보제공자사번\", \"정보제공자연락처\",\n",
    "    \"청구본부코드\", \"청구지사코드\", \"청구자명\", \"세금계산서발행여부\", \"계산서발행여부\", \"선후납구분\",\n",
    "    \"청구전화번호\", \"청구우편번호\", \"청약일자\", \"청약취소일자\", \"공사희망일\", \"공사완료일\",\n",
    "    \"준공완료일\", \"관제개통일\", \"서비스개시일\", \"공사의뢰유형\", \"회선방식(대)\",\n",
    "    \"MUX\", \"전용회선번호\", \"MIN번호\", \"해지일자\", \"업종_대\", \"업종_중\",\n",
    "    \"비고\", \"결합구분\", \"결합상품명\", \"결합약정개월수\", \"결합시작일\", \"금융기관코드\",\n",
    "    \"면책구분\", \"타사전환\", \"이전고객번호\", \"전입신규여부\", \"고객추가정보\", \"청약취소사유\",\n",
    "    \"정지기간\", \"정지유형\", \"설치공사비\", \"영업이익율\", \"공헌이익율\",\"SW주장치안정화DB\",\n",
    "    \"선장품\", \"브랜드\", \"A/S운용기간\", \"고객계약유형\",\"판매할부개월\",\n",
    "    \"최종계약구분\", \"KT마스터ID\", \"BIZNARU계약ID\", \"정지희망종료일\", \"신규PP\",\"직접/추천\",\n",
    "    \"판매구분\"\n",
    "]\n",
    "\n",
    "# 데이터프레임에서 이 컬럼들을 제거\n",
    "df = df.drop(columns=[col for col in excluded_columns if col in df.columns])\n",
    "\n",
    "inputs = {key: widgets.Text(placeholder=desc, description=f'{key}:') for key, desc in input_fields.items()}\n",
    "\n",
    "# 체크박스와 컬럼 이름 구성\n",
    "checkboxes = [widgets.Checkbox(value=False, description=label) for label in df.columns]\n",
    "checkbox_container = widgets.VBox(children=[widgets.HBox(checkboxes[i:i+5]) for i in range(0, len(checkboxes), 5)])\n",
    "\n",
    "# 전체 선택/해제 버튼\n",
    "toggle_buttons = widgets.ToggleButtons(\n",
    "    options=['Select All', 'Deselect All'],\n",
    "    description='Check:',\n",
    "    disabled=False,\n",
    "    button_style='',  # 'success', 'info', 'warning', 'danger' or ''\n",
    ")\n",
    "\n",
    "def toggle_checkboxes(change):\n",
    "    if change['new'] == 'Select All':\n",
    "        for checkbox in checkboxes:\n",
    "            checkbox.value = True\n",
    "    elif change['new'] == 'Deselect All':\n",
    "        for checkbox in checkboxes:\n",
    "            checkbox.value = False\n",
    "    toggle_buttons.value = None  # Reset toggle button state\n",
    "\n",
    "toggle_buttons.observe(toggle_checkboxes, 'value')\n",
    "\n",
    "# 실행 버튼\n",
    "run_button = widgets.Button(description='조회 실행', button_style='success', icon='search')\n",
    "# 저장 버튼\n",
    "save_button = widgets.Button(description='Excel로 저장', button_style='info', icon='save')\n",
    "\n",
    "output = widgets.Output()\n",
    "\n",
    "def run_query(b):\n",
    "    global filtered_data, selected_columns\n",
    "    with output:\n",
    "        clear_output(wait=True)\n",
    "        try:\n",
    "            condition = True\n",
    "            for field, widget in inputs.items():\n",
    "                if widget.value.strip():\n",
    "                    condition &= df[field].str.contains(widget.value.strip(), case=False)\n",
    "            filtered_data = df.loc[condition]\n",
    "            selected_columns = [cb.description for cb in checkboxes if cb.value]\n",
    "            if not selected_columns:\n",
    "                raise ValueError(\"결과로 표시할 컬럼을 선택하세요.\")\n",
    "            if filtered_data.empty:\n",
    "                raise ValueError(\"조회된 데이터가 없습니다. 조건을 확인해주세요.\")\n",
    "            styled_html = filtered_data[selected_columns].to_html(escape=False, classes='styledTable')\n",
    "            styled_css = \"\"\"\n",
    "            <style>\n",
    "                .styledTable {\n",
    "                    width: 100%;\n",
    "                    border-collapse: collapse;\n",
    "                    box-shadow: 0 2px 8px rgba(0,0,0,0.1);\n",
    "                    background-color: #f9f9f9;\n",
    "                    color: #333;\n",
    "                }\n",
    "                .styledTable th, .styledTable td {\n",
    "                    border: 1px solid #dddddd;\n",
    "                    padding: 8px;\n",
    "                    text-align: left;\n",
    "                }\n",
    "                .styledTable th {\n",
    "                    background-color: #f2f2f2;\n",
    "                    color: #333;\n",
    "                }\n",
    "                .styledTable tr:nth-child(even) {\n",
    "                    background-color: #ffffff;\n",
    "                }\n",
    "                .styledTable tr:nth-child(odd) {\n",
    "                    background-color: #f7f7f7;\n",
    "                }\n",
    "                .styledTable tr:hover {\n",
    "                    background-color: #f1f1f1;\n",
    "                }\n",
    "            </style>\n",
    "            \"\"\"\n",
    "            display(HTML(styled_css + styled_html))\n",
    "        except Exception as e:\n",
    "            display(HTML(f\"<div style='color: red;'>Error: {e}</div>\"))\n",
    "\n",
    "def save_to_excel(b):\n",
    "    global filtered_data, selected_columns\n",
    "    try:\n",
    "        if 'filtered_data' in globals() and 'selected_columns' in globals():\n",
    "            filtered_data[selected_columns].to_excel('추출리스트.xlsx', index=False)\n",
    "            with output:\n",
    "                clear_output(wait=True)\n",
    "                display(HTML(\"<div style='color: green;'>Data successfully saved to '추출리스트.xlsx'</div>\"))\n",
    "        else:\n",
    "            raise ValueError(\"저장할 데이터가 없습니다. 먼저 조회를 실행하세요.\")\n",
    "    except Exception as e:\n",
    "        with output:\n",
    "            clear_output(wait=True)\n",
    "            display(HTML(f\"<div style='color: red;'>Error saving file: {e}</div>\"))\n",
    "\n",
    "# 이벤트 핸들러 연결\n",
    "run_button.on_click(run_query)\n",
    "save_button.on_click(save_to_excel)\n",
    "\n",
    "# 입력 필드와 버튼을 같은 행에 배치\n",
    "input_row = widgets.HBox([widgets.VBox([inputs[field] for field in inputs.keys()]), widgets.VBox([run_button, save_button])])\n",
    "\n",
    "# 체크박스 토글과 컬럼 선택을 관리하는 행\n",
    "checkbox_toggle_row = widgets.HBox([toggle_buttons])\n",
    "\n",
    "# UI 구성\n",
    "ui = widgets.VBox([input_row, checkbox_toggle_row, checkbox_container, output])\n",
    "display(ui)"
   ]
  },
  {
   "cell_type": "code",
   "execution_count": null,
   "id": "baeaa285-2d41-4c11-84c7-62eb7bd575af",
   "metadata": {},
   "outputs": [],
   "source": []
  }
 ],
 "metadata": {
  "kernelspec": {
   "display_name": "Python 3 (ipykernel)",
   "language": "python",
   "name": "python3"
  },
  "language_info": {
   "codemirror_mode": {
    "name": "ipython",
    "version": 3
   },
   "file_extension": ".py",
   "mimetype": "text/x-python",
   "name": "python",
   "nbconvert_exporter": "python",
   "pygments_lexer": "ipython3",
   "version": "3.12.4"
  }
 },
 "nbformat": 4,
 "nbformat_minor": 5
}
