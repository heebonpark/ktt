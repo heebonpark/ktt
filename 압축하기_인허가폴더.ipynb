{
 "cells": [
  {
   "cell_type": "code",
   "execution_count": 29,
   "id": "6cceac7a-7063-4913-bee4-e8f25d7b0a45",
   "metadata": {},
   "outputs": [
    {
     "name": "stdout",
     "output_type": "stream",
     "text": [
      "모든 Excel, Access, CSV 파일이 D 드라이브에 압축되었습니다.\n"
     ]
    },
    {
     "ename": "FileNotFoundError",
     "evalue": "[WinError 2] 지정된 파일을 찾을 수 없습니다: 'D:\\\\압축된_폴더'",
     "output_type": "error",
     "traceback": [
      "\u001b[1;31m---------------------------------------------------------------------------\u001b[0m",
      "\u001b[1;31mFileNotFoundError\u001b[0m                         Traceback (most recent call last)",
      "Cell \u001b[1;32mIn[29], line 32\u001b[0m\n\u001b[0;32m     29\u001b[0m \u001b[38;5;28mprint\u001b[39m(\u001b[38;5;124m\"\u001b[39m\u001b[38;5;124m모든 Excel, Access, CSV 파일이 D 드라이브에 압축되었습니다.\u001b[39m\u001b[38;5;124m\"\u001b[39m)\n\u001b[0;32m     31\u001b[0m \u001b[38;5;66;03m# 압축된 파일 경로 열기\u001b[39;00m\n\u001b[1;32m---> 32\u001b[0m os\u001b[38;5;241m.\u001b[39mstartfile(destination_dir)\n",
      "\u001b[1;31mFileNotFoundError\u001b[0m: [WinError 2] 지정된 파일을 찾을 수 없습니다: 'D:\\\\압축된_폴더'"
     ]
    }
   ],
   "source": [
    "import os\n",
    "import zipfile\n",
    "\n",
    "# 압축할 디렉토리 경로\n",
    "base_dir = r\"E:\\★ 엑세스\\이전\"\n",
    "\n",
    "# 압축 파일 저장 경로\n",
    "destination_dir = r\"D:\\압축된_폴더\"\n",
    "\n",
    "# 필요한 확장자 목록\n",
    "file_extensions = ('.xlsx', '.xls', '.csv', '.accdb', '.mdb')\n",
    "\n",
    "# 지정된 디렉토리 내의 모든 폴더를 가져옵니다.\n",
    "folders = [f for f in os.listdir(base_dir) if os.path.isdir(os.path.join(base_dir, f))]\n",
    "\n",
    "# 각 폴더를 ZIP 파일로 압축\n",
    "for folder in folders:\n",
    "    folder_path = os.path.join(base_dir, folder)\n",
    "    zip_path = os.path.join(destination_dir, f\"{folder}.zip\")\n",
    "\n",
    "    with zipfile.ZipFile(zip_path, 'w', zipfile.ZIP_DEFLATED) as zipf:\n",
    "        for root, dirs, files in os.walk(folder_path):\n",
    "            for file in files:\n",
    "                if file.lower().endswith(file_extensions):  # 지정된 확장자 파일만 포함\n",
    "                    file_path = os.path.join(root, file)\n",
    "                    arcname = os.path.relpath(file_path, start=folder_path)\n",
    "                    zipf.write(file_path, arcname)\n",
    "\n",
    "print(\"모든 Excel, Access, CSV 파일이 D 드라이브에 압축되었습니다.\")\n",
    "\n",
    "# 압축된 파일 경로 열기\n",
    "os.startfile(destination_dir)\n",
    "\n"
   ]
  },
  {
   "cell_type": "code",
   "execution_count": 9,
   "id": "b4e5d833-eec7-4a71-ab7b-5adf26448235",
   "metadata": {},
   "outputs": [
    {
     "name": "stdout",
     "output_type": "stream",
     "text": [
      "모든 폴더가 압축되었습니다.\n"
     ]
    }
   ],
   "source": [
    "import subprocess\n",
    "import sys\n",
    "\n",
    "# 필요한 라이브러리 설치 함수\n",
    "def install(package):\n",
    "    subprocess.check_call([sys.executable, \"-m\", \"pip\", \"install\", package])\n",
    "\n",
    "# 필요한 라이브러리 설치\n",
    "try:\n",
    "    import os\n",
    "    import zipfile\n",
    "except ImportError:\n",
    "    install('os')\n",
    "    install('zipfile')\n",
    "\n",
    "# 압축할 디렉토리 경로\n",
    "base_dir = r\"E:\\★ 엑세스\\이전\"\n",
    "\n",
    "# 지정된 디렉토리 내의 모든 폴더를 가져옵니다.\n",
    "folders = [f for f in os.listdir(base_dir) if os.path.isdir(os.path.join(base_dir, f))]\n",
    "\n",
    "# 각 폴더를 ZIP 파일로 압축\n",
    "for folder in folders:\n",
    "    folder_path = os.path.join(base_dir, folder)\n",
    "    zip_path = os.path.join(base_dir, f\"{folder}.zip\")\n",
    "\n",
    "    with zipfile.ZipFile(zip_path, 'w', zipfile.ZIP_DEFLATED) as zipf:\n",
    "        for root, dirs, files in os.walk(folder_path):\n",
    "            for file in files:\n",
    "                file_path = os.path.join(root, file)\n",
    "                arcname = os.path.relpath(file_path, start=folder_path)\n",
    "                zipf.write(file_path, arcname)\n",
    "\n",
    "print(\"모든 폴더가 압축되었습니다.\")"
   ]
  },
  {
   "cell_type": "code",
   "execution_count": null,
   "id": "8cd9e114-89a1-4b08-bbe6-c004bc39a2fa",
   "metadata": {},
   "outputs": [],
   "source": [
    "import subprocess\n",
    "import sys\n",
    "\n",
    "# 필요한 라이브러리 설치 함수\n",
    "def install(package):\n",
    "    subprocess.check_call([sys.executable, \"-m\", \"pip\", \"install\", package])\n",
    "\n",
    "# 필요한 라이브러리 설치\n",
    "try:\n",
    "    import os\n",
    "    import zipfile\n",
    "except ImportError:\n",
    "    install('os')\n",
    "    install('zipfile')\n",
    "\n",
    "# 압축할 디렉토리 경로\n",
    "base_dir = r\"D:\\자료\\교육\\ICT교육\"\n",
    "\n",
    "# 지정된 디렉토리 내의 모든 폴더를 가져옵니다.\n",
    "folders = [f for f in os.listdir(base_dir) if os.path.isdir(os.path.join(base_dir, f))]\n",
    "\n",
    "# 각 폴더를 ZIP 파일로 압축\n",
    "for folder in folders:\n",
    "    folder_path = os.path.join(base_dir, folder)\n",
    "    zip_path = os.path.join(base_dir, f\"{folder}.zip\")\n",
    "\n",
    "    with zipfile.ZipFile(zip_path, 'w', zipfile.ZIP_DEFLATED) as zipf:\n",
    "        for root, dirs, files in os.walk(folder_path):\n",
    "            for file in files:\n",
    "                file_path = os.path.join(root, file)\n",
    "                arcname = os.path.relpath(file_path, start=folder_path)\n",
    "                zipf.write(file_path, arcname)\n",
    "\n",
    "print(\"모든 폴더가 압축되었습니다.\")"
   ]
  },
  {
   "cell_type": "code",
   "execution_count": 1,
   "id": "a708cb1a-eb4e-4831-9379-d48484543e99",
   "metadata": {},
   "outputs": [
    {
     "name": "stdout",
     "output_type": "stream",
     "text": [
      "모든 폴더가 압축되었습니다.\n"
     ]
    }
   ],
   "source": [
    "import subprocess\n",
    "import sys\n",
    "\n",
    "# 필요한 라이브러리 설치 함수\n",
    "def install(package):\n",
    "    subprocess.check_call([sys.executable, \"-m\", \"pip\", \"install\", package])\n",
    "\n",
    "# 필요한 라이브러리 설치\n",
    "try:\n",
    "    import os\n",
    "    import zipfile\n",
    "except ImportError:\n",
    "    install('os')\n",
    "    install('zipfile')\n",
    "\n",
    "# 압축할 디렉토리 경로\n",
    "base_dir = r\"D:\\영업기회정보제공\\16-20240816T005358Z-001\\16\"\n",
    "\n",
    "# 지정된 디렉토리 내의 모든 폴더를 가져옵니다.\n",
    "folders = [f for f in os.listdir(base_dir) if os.path.isdir(os.path.join(base_dir, f))]\n",
    "\n",
    "# 각 폴더를 ZIP 파일로 압축\n",
    "for folder in folders:\n",
    "    folder_path = os.path.join(base_dir, folder)\n",
    "    zip_path = os.path.join(base_dir, f\"{folder}.zip\")\n",
    "\n",
    "    with zipfile.ZipFile(zip_path, 'w', zipfile.ZIP_DEFLATED) as zipf:\n",
    "        for root, dirs, files in os.walk(folder_path):\n",
    "            for file in files:\n",
    "                file_path = os.path.join(root, file)\n",
    "                arcname = os.path.relpath(file_path, start=folder_path)\n",
    "                zipf.write(file_path, arcname)\n",
    "\n",
    "print(\"모든 폴더가 압축되었습니다.\")"
   ]
  },
  {
   "cell_type": "code",
   "execution_count": 3,
   "id": "9e77f8d5-26c4-486e-be88-73940ee283d6",
   "metadata": {},
   "outputs": [
    {
     "name": "stdout",
     "output_type": "stream",
     "text": [
      "'d:\\시설\\유지\\24년7월 조건요약.cs' 파일이 'd:\\시설\\유지\\7월유지.zip'로 압축되었습니다.\n"
     ]
    }
   ],
   "source": [
    "import zipfile\n",
    "import os\n",
    "\n",
    "# 압축할 파일의 경로와 파일명 설정\n",
    "file_path = r'd:\\시설\\유지\\24년7월 조건요약.cs'\n",
    "zip_file_path = r'd:\\시설\\유지\\7월유지.zip'\n",
    "\n",
    "# Zip 파일 생성 및 파일 추가\n",
    "with zipfile.ZipFile(zip_file_path, 'w') as zipf:\n",
    "    zipf.write(file_path, os.path.basename(file_path))\n",
    "\n",
    "print(f\"'{file_path}' 파일이 '{zip_file_path}'로 압축되었습니다.\")"
   ]
  },
  {
   "cell_type": "code",
   "execution_count": 5,
   "id": "7b881816-dffa-4bdd-956b-903f50454bf8",
   "metadata": {},
   "outputs": [
    {
     "ename": "SMTPAuthenticationError",
     "evalue": "(535, b'5.7.1 Username and Password not accepted QLabcE5STv2tXwIjZbmU8Q - nsmtp')",
     "output_type": "error",
     "traceback": [
      "\u001b[1;31m---------------------------------------------------------------------------\u001b[0m",
      "\u001b[1;31mSMTPAuthenticationError\u001b[0m                   Traceback (most recent call last)",
      "Cell \u001b[1;32mIn[5], line 40\u001b[0m\n\u001b[0;32m     38\u001b[0m \u001b[38;5;28;01mwith\u001b[39;00m smtplib\u001b[38;5;241m.\u001b[39mSMTP(smtp_server, smtp_port) \u001b[38;5;28;01mas\u001b[39;00m server:\n\u001b[0;32m     39\u001b[0m     server\u001b[38;5;241m.\u001b[39mstarttls()\n\u001b[1;32m---> 40\u001b[0m     \u001b[43mserver\u001b[49m\u001b[38;5;241;43m.\u001b[39;49m\u001b[43mlogin\u001b[49m\u001b[43m(\u001b[49m\u001b[43msender_email\u001b[49m\u001b[43m,\u001b[49m\u001b[43m \u001b[49m\u001b[43mpassword\u001b[49m\u001b[43m)\u001b[49m\n\u001b[0;32m     41\u001b[0m     server\u001b[38;5;241m.\u001b[39msend_message(msg)\n\u001b[0;32m     43\u001b[0m \u001b[38;5;28mprint\u001b[39m(\u001b[38;5;124mf\u001b[39m\u001b[38;5;124m\"\u001b[39m\u001b[38;5;124m'\u001b[39m\u001b[38;5;132;01m{\u001b[39;00mzip_file_path\u001b[38;5;132;01m}\u001b[39;00m\u001b[38;5;124m'\u001b[39m\u001b[38;5;124m 파일이 \u001b[39m\u001b[38;5;124m'\u001b[39m\u001b[38;5;132;01m{\u001b[39;00mreceiver_email\u001b[38;5;132;01m}\u001b[39;00m\u001b[38;5;124m'\u001b[39m\u001b[38;5;124m로 전송되었습니다.\u001b[39m\u001b[38;5;124m\"\u001b[39m)\n",
      "File \u001b[1;32m~\\anaconda3\\envs\\Python_v1\\Lib\\smtplib.py:750\u001b[0m, in \u001b[0;36mSMTP.login\u001b[1;34m(self, user, password, initial_response_ok)\u001b[0m\n\u001b[0;32m    747\u001b[0m         last_exception \u001b[38;5;241m=\u001b[39m e\n\u001b[0;32m    749\u001b[0m \u001b[38;5;66;03m# We could not login successfully.  Return result of last attempt.\u001b[39;00m\n\u001b[1;32m--> 750\u001b[0m \u001b[38;5;28;01mraise\u001b[39;00m last_exception\n",
      "File \u001b[1;32m~\\anaconda3\\envs\\Python_v1\\Lib\\smtplib.py:739\u001b[0m, in \u001b[0;36mSMTP.login\u001b[1;34m(self, user, password, initial_response_ok)\u001b[0m\n\u001b[0;32m    737\u001b[0m method_name \u001b[38;5;241m=\u001b[39m \u001b[38;5;124m'\u001b[39m\u001b[38;5;124mauth_\u001b[39m\u001b[38;5;124m'\u001b[39m \u001b[38;5;241m+\u001b[39m authmethod\u001b[38;5;241m.\u001b[39mlower()\u001b[38;5;241m.\u001b[39mreplace(\u001b[38;5;124m'\u001b[39m\u001b[38;5;124m-\u001b[39m\u001b[38;5;124m'\u001b[39m, \u001b[38;5;124m'\u001b[39m\u001b[38;5;124m_\u001b[39m\u001b[38;5;124m'\u001b[39m)\n\u001b[0;32m    738\u001b[0m \u001b[38;5;28;01mtry\u001b[39;00m:\n\u001b[1;32m--> 739\u001b[0m     (code, resp) \u001b[38;5;241m=\u001b[39m \u001b[38;5;28;43mself\u001b[39;49m\u001b[38;5;241;43m.\u001b[39;49m\u001b[43mauth\u001b[49m\u001b[43m(\u001b[49m\n\u001b[0;32m    740\u001b[0m \u001b[43m        \u001b[49m\u001b[43mauthmethod\u001b[49m\u001b[43m,\u001b[49m\u001b[43m \u001b[49m\u001b[38;5;28;43mgetattr\u001b[39;49m\u001b[43m(\u001b[49m\u001b[38;5;28;43mself\u001b[39;49m\u001b[43m,\u001b[49m\u001b[43m \u001b[49m\u001b[43mmethod_name\u001b[49m\u001b[43m)\u001b[49m\u001b[43m,\u001b[49m\n\u001b[0;32m    741\u001b[0m \u001b[43m        \u001b[49m\u001b[43minitial_response_ok\u001b[49m\u001b[38;5;241;43m=\u001b[39;49m\u001b[43minitial_response_ok\u001b[49m\u001b[43m)\u001b[49m\n\u001b[0;32m    742\u001b[0m     \u001b[38;5;66;03m# 235 == 'Authentication successful'\u001b[39;00m\n\u001b[0;32m    743\u001b[0m     \u001b[38;5;66;03m# 503 == 'Error: already authenticated'\u001b[39;00m\n\u001b[0;32m    744\u001b[0m     \u001b[38;5;28;01mif\u001b[39;00m code \u001b[38;5;129;01min\u001b[39;00m (\u001b[38;5;241m235\u001b[39m, \u001b[38;5;241m503\u001b[39m):\n",
      "File \u001b[1;32m~\\anaconda3\\envs\\Python_v1\\Lib\\smtplib.py:662\u001b[0m, in \u001b[0;36mSMTP.auth\u001b[1;34m(self, mechanism, authobject, initial_response_ok)\u001b[0m\n\u001b[0;32m    660\u001b[0m \u001b[38;5;28;01mif\u001b[39;00m code \u001b[38;5;129;01min\u001b[39;00m (\u001b[38;5;241m235\u001b[39m, \u001b[38;5;241m503\u001b[39m):\n\u001b[0;32m    661\u001b[0m     \u001b[38;5;28;01mreturn\u001b[39;00m (code, resp)\n\u001b[1;32m--> 662\u001b[0m \u001b[38;5;28;01mraise\u001b[39;00m SMTPAuthenticationError(code, resp)\n",
      "\u001b[1;31mSMTPAuthenticationError\u001b[0m: (535, b'5.7.1 Username and Password not accepted QLabcE5STv2tXwIjZbmU8Q - nsmtp')"
     ]
    }
   ],
   "source": [
    "import smtplib\n",
    "from email.mime.multipart import MIMEMultipart\n",
    "from email.mime.base import MIMEBase\n",
    "from email import encoders\n",
    "import zipfile\n",
    "import os\n",
    "\n",
    "# 압축할 파일의 경로와 파일명 설정\n",
    "file_path = r'd:\\시설\\유지\\24년7월 조건요약.cs'\n",
    "zip_file_path = r'd:\\시설\\유지\\7월유지첨부.zip'\n",
    "\n",
    "# Zip 파일 생성 및 파일 추가\n",
    "with zipfile.ZipFile(zip_file_path, 'w') as zipf:\n",
    "    zipf.write(file_path, os.path.basename(file_path))\n",
    "\n",
    "# 이메일 설정\n",
    "smtp_server = 'smtp.naver.com'\n",
    "smtp_port = 587\n",
    "sender_email = 'bough38@naver.com'  # 본인의 네이버 이메일 주소\n",
    "password = 'PLus3867@@'  # 네이버 앱 비밀번호\n",
    "receiver_email = 'bough38@naver.com'  # 수신자 이메일 주소\n",
    "\n",
    "# 이메일 메시지 생성\n",
    "msg = MIMEMultipart()\n",
    "msg['From'] = sender_email\n",
    "msg['To'] = receiver_email\n",
    "msg['Subject'] = '압축된 7월.cs 파일 전송'\n",
    "\n",
    "# 첨부 파일 추가\n",
    "with open(zip_file_path, 'rb') as attachment:\n",
    "    part = MIMEBase('application', 'octet-stream')\n",
    "    part.set_payload(attachment.read())\n",
    "    encoders.encode_base64(part)\n",
    "    part.add_header('Content-Disposition', f'attachment; filename={os.path.basename(zip_file_path)}')\n",
    "    msg.attach(part)\n",
    "\n",
    "# 이메일 서버 연결 및 이메일 전송\n",
    "with smtplib.SMTP(smtp_server, smtp_port) as server:\n",
    "    server.starttls()\n",
    "    server.login(sender_email, password)\n",
    "    server.send_message(msg)\n",
    "\n",
    "print(f\"'{zip_file_path}' 파일이 '{receiver_email}'로 전송되었습니다.\")"
   ]
  },
  {
   "cell_type": "code",
   "execution_count": 9,
   "id": "82823225-c6f9-454c-99f2-1a866061fac7",
   "metadata": {},
   "outputs": [
    {
     "ename": "SMTPSenderRefused",
     "evalue": "(451, b'4.4.2 Timeout - closing connection yeOpuzd-RM2Btx+PM+vRHA - nsmtp', 'bough38@naver.com')",
     "output_type": "error",
     "traceback": [
      "\u001b[1;31m---------------------------------------------------------------------------\u001b[0m",
      "\u001b[1;31mSMTPSenderRefused\u001b[0m                         Traceback (most recent call last)",
      "Cell \u001b[1;32mIn[9], line 43\u001b[0m\n\u001b[0;32m     41\u001b[0m     server\u001b[38;5;241m.\u001b[39mstarttls(context\u001b[38;5;241m=\u001b[39mcontext)\n\u001b[0;32m     42\u001b[0m     server\u001b[38;5;241m.\u001b[39mlogin(sender_email, password)\n\u001b[1;32m---> 43\u001b[0m     \u001b[43mserver\u001b[49m\u001b[38;5;241;43m.\u001b[39;49m\u001b[43msend_message\u001b[49m\u001b[43m(\u001b[49m\u001b[43mmsg\u001b[49m\u001b[43m)\u001b[49m\n\u001b[0;32m     45\u001b[0m \u001b[38;5;28mprint\u001b[39m(\u001b[38;5;124mf\u001b[39m\u001b[38;5;124m\"\u001b[39m\u001b[38;5;124m'\u001b[39m\u001b[38;5;132;01m{\u001b[39;00mzip_file_path\u001b[38;5;132;01m}\u001b[39;00m\u001b[38;5;124m'\u001b[39m\u001b[38;5;124m 파일이 \u001b[39m\u001b[38;5;124m'\u001b[39m\u001b[38;5;132;01m{\u001b[39;00mreceiver_email\u001b[38;5;132;01m}\u001b[39;00m\u001b[38;5;124m'\u001b[39m\u001b[38;5;124m로 전송되었습니다.\u001b[39m\u001b[38;5;124m\"\u001b[39m)\n",
      "File \u001b[1;32m~\\anaconda3\\envs\\Python_v1\\Lib\\smtplib.py:975\u001b[0m, in \u001b[0;36mSMTP.send_message\u001b[1;34m(self, msg, from_addr, to_addrs, mail_options, rcpt_options)\u001b[0m\n\u001b[0;32m    973\u001b[0m     g\u001b[38;5;241m.\u001b[39mflatten(msg_copy, linesep\u001b[38;5;241m=\u001b[39m\u001b[38;5;124m'\u001b[39m\u001b[38;5;130;01m\\r\u001b[39;00m\u001b[38;5;130;01m\\n\u001b[39;00m\u001b[38;5;124m'\u001b[39m)\n\u001b[0;32m    974\u001b[0m     flatmsg \u001b[38;5;241m=\u001b[39m bytesmsg\u001b[38;5;241m.\u001b[39mgetvalue()\n\u001b[1;32m--> 975\u001b[0m \u001b[38;5;28;01mreturn\u001b[39;00m \u001b[38;5;28;43mself\u001b[39;49m\u001b[38;5;241;43m.\u001b[39;49m\u001b[43msendmail\u001b[49m\u001b[43m(\u001b[49m\u001b[43mfrom_addr\u001b[49m\u001b[43m,\u001b[49m\u001b[43m \u001b[49m\u001b[43mto_addrs\u001b[49m\u001b[43m,\u001b[49m\u001b[43m \u001b[49m\u001b[43mflatmsg\u001b[49m\u001b[43m,\u001b[49m\u001b[43m \u001b[49m\u001b[43mmail_options\u001b[49m\u001b[43m,\u001b[49m\n\u001b[0;32m    976\u001b[0m \u001b[43m                     \u001b[49m\u001b[43mrcpt_options\u001b[49m\u001b[43m)\u001b[49m\n",
      "File \u001b[1;32m~\\anaconda3\\envs\\Python_v1\\Lib\\smtplib.py:876\u001b[0m, in \u001b[0;36mSMTP.sendmail\u001b[1;34m(self, from_addr, to_addrs, msg, mail_options, rcpt_options)\u001b[0m\n\u001b[0;32m    874\u001b[0m     \u001b[38;5;28;01melse\u001b[39;00m:\n\u001b[0;32m    875\u001b[0m         \u001b[38;5;28mself\u001b[39m\u001b[38;5;241m.\u001b[39m_rset()\n\u001b[1;32m--> 876\u001b[0m     \u001b[38;5;28;01mraise\u001b[39;00m SMTPSenderRefused(code, resp, from_addr)\n\u001b[0;32m    877\u001b[0m senderrs \u001b[38;5;241m=\u001b[39m {}\n\u001b[0;32m    878\u001b[0m \u001b[38;5;28;01mif\u001b[39;00m \u001b[38;5;28misinstance\u001b[39m(to_addrs, \u001b[38;5;28mstr\u001b[39m):\n",
      "\u001b[1;31mSMTPSenderRefused\u001b[0m: (451, b'4.4.2 Timeout - closing connection yeOpuzd-RM2Btx+PM+vRHA - nsmtp', 'bough38@naver.com')"
     ]
    }
   ],
   "source": [
    "import smtplib\n",
    "from email.mime.multipart import MIMEMultipart\n",
    "from email.mime.base import MIMEBase\n",
    "from email import encoders\n",
    "import zipfile\n",
    "import os\n",
    "import ssl\n",
    "\n",
    "# 압축할 파일의 경로와 파일명 설정\n",
    "file_path = r'd:\\시설\\유지\\24년7월 조건요약.cs'\n",
    "zip_file_path = r'd:\\시설\\유지\\7월유지첨부.zip'\n",
    "\n",
    "# Zip 파일 생성 및 파일 추가\n",
    "with zipfile.ZipFile(zip_file_path, 'w') as zipf:\n",
    "    zipf.write(file_path, os.path.basename(file_path))\n",
    "\n",
    "# 이메일 설정\n",
    "smtp_server = 'smtp.naver.com'\n",
    "smtp_port = 587  # TLS 포트\n",
    "sender_email = 'bough38@naver.com'  # 본인의 네이버 이메일 주소\n",
    "password = 'T24Y49EZH8E9'  # 네이버 앱 비밀번호\n",
    "receiver_email = 'bough38@naver.com'  # 수신자 이메일 주소\n",
    "\n",
    "# 이메일 메시지 생성\n",
    "msg = MIMEMultipart()\n",
    "msg['From'] = sender_email\n",
    "msg['To'] = receiver_email\n",
    "msg['Subject'] = '압축된 7월.cs 파일 전송'\n",
    "\n",
    "# 첨부 파일 추가\n",
    "with open(zip_file_path, 'rb') as attachment:\n",
    "    part = MIMEBase('application', 'octet-stream')\n",
    "    part.set_payload(attachment.read())\n",
    "    encoders.encode_base64(part)\n",
    "    part.add_header('Content-Disposition', f'attachment; filename={os.path.basename(zip_file_path)}')\n",
    "    msg.attach(part)\n",
    "\n",
    "# SSL/TLS 설정 및 SMTP 서버 연결 및 이메일 전송\n",
    "context = ssl.create_default_context()\n",
    "with smtplib.SMTP(smtp_server, smtp_port, timeout=60) as server:  # 타임아웃을 60초로 설정\n",
    "    server.starttls(context=context)\n",
    "    server.login(sender_email, password)\n",
    "    server.send_message(msg)\n",
    "\n",
    "print(f\"'{zip_file_path}' 파일이 '{receiver_email}'로 전송되었습니다.\")"
   ]
  },
  {
   "cell_type": "code",
   "execution_count": 10,
   "id": "a4db9002-1826-4aeb-8400-b33c61b68d6e",
   "metadata": {},
   "outputs": [
    {
     "ename": "SMTPSenderRefused",
     "evalue": "(451, b'4.4.2 Timeout - closing connection qM5nawBHR-O+I+26Kg+B0A - nsmtp', 'bough38@naver.com')",
     "output_type": "error",
     "traceback": [
      "\u001b[1;31m---------------------------------------------------------------------------\u001b[0m",
      "\u001b[1;31mSMTPSenderRefused\u001b[0m                         Traceback (most recent call last)",
      "Cell \u001b[1;32mIn[10], line 42\u001b[0m\n\u001b[0;32m     40\u001b[0m \u001b[38;5;28;01mwith\u001b[39;00m smtplib\u001b[38;5;241m.\u001b[39mSMTP_SSL(smtp_server, smtp_port, context\u001b[38;5;241m=\u001b[39mcontext, timeout\u001b[38;5;241m=\u001b[39m\u001b[38;5;241m120\u001b[39m) \u001b[38;5;28;01mas\u001b[39;00m server:  \u001b[38;5;66;03m# 타임아웃을 120초로 설정\u001b[39;00m\n\u001b[0;32m     41\u001b[0m     server\u001b[38;5;241m.\u001b[39mlogin(sender_email, password)\n\u001b[1;32m---> 42\u001b[0m     \u001b[43mserver\u001b[49m\u001b[38;5;241;43m.\u001b[39;49m\u001b[43msend_message\u001b[49m\u001b[43m(\u001b[49m\u001b[43mmsg\u001b[49m\u001b[43m)\u001b[49m\n\u001b[0;32m     44\u001b[0m \u001b[38;5;28mprint\u001b[39m(\u001b[38;5;124mf\u001b[39m\u001b[38;5;124m\"\u001b[39m\u001b[38;5;124m'\u001b[39m\u001b[38;5;132;01m{\u001b[39;00mzip_file_path\u001b[38;5;132;01m}\u001b[39;00m\u001b[38;5;124m'\u001b[39m\u001b[38;5;124m 파일이 \u001b[39m\u001b[38;5;124m'\u001b[39m\u001b[38;5;132;01m{\u001b[39;00mreceiver_email\u001b[38;5;132;01m}\u001b[39;00m\u001b[38;5;124m'\u001b[39m\u001b[38;5;124m로 전송되었습니다.\u001b[39m\u001b[38;5;124m\"\u001b[39m)\n",
      "File \u001b[1;32m~\\anaconda3\\envs\\Python_v1\\Lib\\smtplib.py:975\u001b[0m, in \u001b[0;36mSMTP.send_message\u001b[1;34m(self, msg, from_addr, to_addrs, mail_options, rcpt_options)\u001b[0m\n\u001b[0;32m    973\u001b[0m     g\u001b[38;5;241m.\u001b[39mflatten(msg_copy, linesep\u001b[38;5;241m=\u001b[39m\u001b[38;5;124m'\u001b[39m\u001b[38;5;130;01m\\r\u001b[39;00m\u001b[38;5;130;01m\\n\u001b[39;00m\u001b[38;5;124m'\u001b[39m)\n\u001b[0;32m    974\u001b[0m     flatmsg \u001b[38;5;241m=\u001b[39m bytesmsg\u001b[38;5;241m.\u001b[39mgetvalue()\n\u001b[1;32m--> 975\u001b[0m \u001b[38;5;28;01mreturn\u001b[39;00m \u001b[38;5;28;43mself\u001b[39;49m\u001b[38;5;241;43m.\u001b[39;49m\u001b[43msendmail\u001b[49m\u001b[43m(\u001b[49m\u001b[43mfrom_addr\u001b[49m\u001b[43m,\u001b[49m\u001b[43m \u001b[49m\u001b[43mto_addrs\u001b[49m\u001b[43m,\u001b[49m\u001b[43m \u001b[49m\u001b[43mflatmsg\u001b[49m\u001b[43m,\u001b[49m\u001b[43m \u001b[49m\u001b[43mmail_options\u001b[49m\u001b[43m,\u001b[49m\n\u001b[0;32m    976\u001b[0m \u001b[43m                     \u001b[49m\u001b[43mrcpt_options\u001b[49m\u001b[43m)\u001b[49m\n",
      "File \u001b[1;32m~\\anaconda3\\envs\\Python_v1\\Lib\\smtplib.py:876\u001b[0m, in \u001b[0;36mSMTP.sendmail\u001b[1;34m(self, from_addr, to_addrs, msg, mail_options, rcpt_options)\u001b[0m\n\u001b[0;32m    874\u001b[0m     \u001b[38;5;28;01melse\u001b[39;00m:\n\u001b[0;32m    875\u001b[0m         \u001b[38;5;28mself\u001b[39m\u001b[38;5;241m.\u001b[39m_rset()\n\u001b[1;32m--> 876\u001b[0m     \u001b[38;5;28;01mraise\u001b[39;00m SMTPSenderRefused(code, resp, from_addr)\n\u001b[0;32m    877\u001b[0m senderrs \u001b[38;5;241m=\u001b[39m {}\n\u001b[0;32m    878\u001b[0m \u001b[38;5;28;01mif\u001b[39;00m \u001b[38;5;28misinstance\u001b[39m(to_addrs, \u001b[38;5;28mstr\u001b[39m):\n",
      "\u001b[1;31mSMTPSenderRefused\u001b[0m: (451, b'4.4.2 Timeout - closing connection qM5nawBHR-O+I+26Kg+B0A - nsmtp', 'bough38@naver.com')"
     ]
    }
   ],
   "source": [
    "import smtplib\n",
    "from email.mime.multipart import MIMEMultipart\n",
    "from email.mime.base import MIMEBase\n",
    "from email import encoders\n",
    "import zipfile\n",
    "import os\n",
    "import ssl\n",
    "\n",
    "# 압축할 파일의 경로와 파일명 설정\n",
    "file_path = r'd:\\시설\\유지\\24년7월 조건요약.cs'\n",
    "zip_file_path = r'd:\\시설\\유지\\7월유지첨부.zip'\n",
    "\n",
    "# Zip 파일 생성 및 파일 추가\n",
    "with zipfile.ZipFile(zip_file_path, 'w') as zipf:\n",
    "    zipf.write(file_path, os.path.basename(file_path))\n",
    "\n",
    "# 이메일 설정\n",
    "smtp_server = 'smtp.naver.com'\n",
    "smtp_port = 465  # SSL 포트\n",
    "sender_email = 'bough38@naver.com'  # 본인의 네이버 이메일 주소\n",
    "password = 'T24Y49EZH8E9'  # 네이버 앱 비밀번호\n",
    "receiver_email = 'bough38@naver.com'  # 수신자 이메일 주소\n",
    "\n",
    "# 이메일 메시지 생성\n",
    "msg = MIMEMultipart()\n",
    "msg['From'] = sender_email\n",
    "msg['To'] = receiver_email\n",
    "msg['Subject'] = '압축된 7월.cs 파일 전송'\n",
    "\n",
    "# 첨부 파일 추가\n",
    "with open(zip_file_path, 'rb') as attachment:\n",
    "    part = MIMEBase('application', 'octet-stream')\n",
    "    part.set_payload(attachment.read())\n",
    "    encoders.encode_base64(part)\n",
    "    part.add_header('Content-Disposition', f'attachment; filename={os.path.basename(zip_file_path)}')\n",
    "    msg.attach(part)\n",
    "\n",
    "# SSL 설정 및 SMTP 서버 연결 및 이메일 전송\n",
    "context = ssl.create_default_context()\n",
    "with smtplib.SMTP_SSL(smtp_server, smtp_port, context=context, timeout=120) as server:  # 타임아웃을 120초로 설정\n",
    "    server.login(sender_email, password)\n",
    "    server.send_message(msg)\n",
    "\n",
    "print(f\"'{zip_file_path}' 파일이 '{receiver_email}'로 전송되었습니다.\")"
   ]
  },
  {
   "cell_type": "code",
   "execution_count": null,
   "id": "4aeb25f2-3a6c-4e85-909b-ea290c95a3ef",
   "metadata": {},
   "outputs": [
    {
     "name": "stdout",
     "output_type": "stream",
     "text": [
      "이메일 전송 시도 1 실패: (451, b'4.4.2 Timeout - closing connection 6V7K4ctTT6WQhBqTTh8rYA - nsmtp', 'bough38@naver.com')\n",
      "이메일 전송 시도 2 실패: (451, b'4.4.2 Timeout - closing connection fkYYG5bSRJ228tYIm7VJLA - nsmtp', 'bough38@naver.com')\n"
     ]
    }
   ],
   "source": [
    "import smtplib\n",
    "from email.mime.multipart import MIMEMultipart\n",
    "from email.mime.base import MIMEBase\n",
    "from email import encoders\n",
    "import zipfile\n",
    "import os\n",
    "import ssl\n",
    "import time\n",
    "\n",
    "# 압축할 파일의 경로와 파일명 설정\n",
    "file_path = r'd:\\시설\\유지\\24년7월 조건요약.cs'\n",
    "zip_file_path = r'd:\\시설\\유지\\7월유지첨부.zip'\n",
    "\n",
    "# Zip 파일 생성 및 파일 추가\n",
    "with zipfile.ZipFile(zip_file_path, 'w') as zipf:\n",
    "    zipf.write(file_path, os.path.basename(file_path))\n",
    "\n",
    "# 이메일 설정\n",
    "smtp_server = 'smtp.naver.com'\n",
    "smtp_port = 465  # SSL 포트\n",
    "sender_email = 'bough38@naver.com'  # 본인의 네이버 이메일 주소\n",
    "password = 'T24Y49EZH8E9'  # 네이버 앱 비밀번호\n",
    "receiver_email = 'bough38@naver.com'  # 수신자 이메일 주소\n",
    "\n",
    "# 이메일 메시지 생성\n",
    "msg = MIMEMultipart()\n",
    "msg['From'] = sender_email\n",
    "msg['To'] = receiver_email\n",
    "msg['Subject'] = '압축된 7월.cs 파일 전송'\n",
    "\n",
    "# 첨부 파일 추가\n",
    "with open(zip_file_path, 'rb') as attachment:\n",
    "    part = MIMEBase('application', 'octet-stream')\n",
    "    part.set_payload(attachment.read())\n",
    "    encoders.encode_base64(part)\n",
    "    part.add_header('Content-Disposition', f'attachment; filename={os.path.basename(zip_file_path)}')\n",
    "    msg.attach(part)\n",
    "\n",
    "# 재시도 횟수 설정\n",
    "max_attempts = 3\n",
    "attempt = 0\n",
    "\n",
    "while attempt < max_attempts:\n",
    "    try:\n",
    "        # SSL 설정 및 SMTP 서버 연결 및 이메일 전송\n",
    "        context = ssl.create_default_context()\n",
    "        with smtplib.SMTP_SSL(smtp_server, smtp_port, context=context, timeout=120) as server:  # 타임아웃을 120초로 설정\n",
    "            server.login(sender_email, password)\n",
    "            server.send_message(msg)\n",
    "        print(f\"'{zip_file_path}' 파일이 '{receiver_email}'로 전송되었습니다.\")\n",
    "        break  # 성공적으로 전송되면 루프 종료\n",
    "    except smtplib.SMTPException as e:\n",
    "        attempt += 1\n",
    "        print(f\"이메일 전송 시도 {attempt} 실패: {e}\")\n",
    "        time.sleep(5)  # 재시도 전 5초 대기\n",
    "\n",
    "if attempt == max_attempts:\n",
    "    print(\"이메일 전송에 실패했습니다. 나중에 다시 시도하세요.\")"
   ]
  },
  {
   "cell_type": "code",
   "execution_count": 1,
   "id": "ab6a8ac2-cad2-408e-ad7f-eb9fb053a721",
   "metadata": {},
   "outputs": [
    {
     "name": "stdout",
     "output_type": "stream",
     "text": [
      "폴더가 압축되었습니다: D:/사원증조사_20241219/강북강원본부_SP사원증사진.zip\n"
     ]
    }
   ],
   "source": [
    "import shutil\n",
    "\n",
    "# 압축할 폴더 경로 및 ZIP 파일 저장 경로 설정\n",
    "folder_path = \"D:/사원증조사_20241219/강북강원본부_SP사원증 사진\"  # 압축하려는 폴더 경로\n",
    "output_zip = \"D:/사원증조사_20241219/강북강원본부_SP사원증사진.zip\"  # 생성될 ZIP 파일 경로\n",
    "\n",
    "# 폴더 압축\n",
    "shutil.make_archive(output_zip.replace(\".zip\", \"\"), 'zip', folder_path)\n",
    "\n",
    "print(f\"폴더가 압축되었습니다: {output_zip}\")\n"
   ]
  },
  {
   "cell_type": "code",
   "execution_count": 3,
   "id": "bc2f19ef-9b7f-49d6-936e-0c82b4ef7481",
   "metadata": {},
   "outputs": [
    {
     "name": "stdout",
     "output_type": "stream",
     "text": [
      "폴더가 압축되었습니다: D:/강북강원본부/20240930_장재혁_사외채널 인수인계/사외채널 인수인계/2025년 대리점 재계약/구정례_대리점_2025년 재계약.zip\n"
     ]
    }
   ],
   "source": [
    "import shutil\n",
    "\n",
    "# 압축할 폴더 경로 및 ZIP 파일 저장 경로 설정\n",
    "\n",
    "folder_path = \"D:/강북강원본부/20240930_장재혁_사외채널 인수인계/사외채널 인수인계/2025년 대리점 재계약/구정례_재계약\"  # 압축하려는 폴더 경로\n",
    "output_zip = \"D:/강북강원본부/20240930_장재혁_사외채널 인수인계/사외채널 인수인계/2025년 대리점 재계약/구정례_대리점_2025년 재계약.zip\"  # 생성될 ZIP 파일 경로\n",
    "\n",
    "# 폴더 압축\n",
    "shutil.make_archive(output_zip.replace(\".zip\", \"\"), 'zip', folder_path)\n",
    "\n",
    "print(f\"폴더가 압축되었습니다: {output_zip}\")\n"
   ]
  },
  {
   "cell_type": "code",
   "execution_count": null,
   "id": "0328781b-2bb3-49d5-bad7-bc39176b1ed6",
   "metadata": {},
   "outputs": [],
   "source": []
  },
  {
   "cell_type": "code",
   "execution_count": 5,
   "id": "ad1e41c5-baa0-4426-b789-439a6ab0860a",
   "metadata": {},
   "outputs": [
    {
     "ename": "FileNotFoundError",
     "evalue": "[WinError 3] 지정된 경로를 찾을 수 없습니다: 'D:/강북강원본부\\x8240930_장재혁_사외채널 인수인계/사외채널 인수인계/교육/강북강원본부_사외채널 Risk 예방교육 결과'",
     "output_type": "error",
     "traceback": [
      "\u001b[1;31m---------------------------------------------------------------------------\u001b[0m",
      "\u001b[1;31mFileNotFoundError\u001b[0m                         Traceback (most recent call last)",
      "Cell \u001b[1;32mIn[5], line 13\u001b[0m\n\u001b[0;32m      6\u001b[0m output_zip \u001b[38;5;241m=\u001b[39m \u001b[38;5;124m\"\u001b[39m\u001b[38;5;124mD:/강북강원본부\u001b[39m\u001b[38;5;130;01m\\202\u001b[39;00m\u001b[38;5;124m40930_장재혁_사외채널 인수인계/사외채널 인수인계/교육/강북강원본부_사외채널 Risk 예방교육 결과계약.zip\u001b[39m\u001b[38;5;124m\"\u001b[39m  \u001b[38;5;66;03m# 생성될 ZIP 파일 경로\u001b[39;00m\n\u001b[0;32m      9\u001b[0m \u001b[38;5;66;03m# D:/강북강원본부\\20240930_장재혁_사외채널 인수인계/사외채널 인수인계/교육/강북강원본부_사외채널 Risk 예방교육 결과\u001b[39;00m\n\u001b[0;32m     10\u001b[0m \n\u001b[0;32m     11\u001b[0m \n\u001b[0;32m     12\u001b[0m \u001b[38;5;66;03m# 폴더 압축\u001b[39;00m\n\u001b[1;32m---> 13\u001b[0m shutil\u001b[38;5;241m.\u001b[39mmake_archive(output_zip\u001b[38;5;241m.\u001b[39mreplace(\u001b[38;5;124m\"\u001b[39m\u001b[38;5;124m.zip\u001b[39m\u001b[38;5;124m\"\u001b[39m, \u001b[38;5;124m\"\u001b[39m\u001b[38;5;124m\"\u001b[39m), \u001b[38;5;124m'\u001b[39m\u001b[38;5;124mzip\u001b[39m\u001b[38;5;124m'\u001b[39m, folder_path)\n\u001b[0;32m     15\u001b[0m \u001b[38;5;28mprint\u001b[39m(\u001b[38;5;124mf\u001b[39m\u001b[38;5;124m\"\u001b[39m\u001b[38;5;124m폴더가 압축되었습니다: \u001b[39m\u001b[38;5;132;01m{\u001b[39;00moutput_zip\u001b[38;5;132;01m}\u001b[39;00m\u001b[38;5;124m\"\u001b[39m)\n",
      "File \u001b[1;32mC:\\ProgramData\\anaconda3\\Lib\\shutil.py:1144\u001b[0m, in \u001b[0;36mmake_archive\u001b[1;34m(base_name, format, root_dir, base_dir, verbose, dry_run, owner, group, logger)\u001b[0m\n\u001b[0;32m   1142\u001b[0m save_cwd \u001b[38;5;241m=\u001b[39m \u001b[38;5;28;01mNone\u001b[39;00m\n\u001b[0;32m   1143\u001b[0m \u001b[38;5;28;01mif\u001b[39;00m root_dir \u001b[38;5;129;01mis\u001b[39;00m \u001b[38;5;129;01mnot\u001b[39;00m \u001b[38;5;28;01mNone\u001b[39;00m:\n\u001b[1;32m-> 1144\u001b[0m     stmd \u001b[38;5;241m=\u001b[39m os\u001b[38;5;241m.\u001b[39mstat(root_dir)\u001b[38;5;241m.\u001b[39mst_mode\n\u001b[0;32m   1145\u001b[0m     \u001b[38;5;28;01mif\u001b[39;00m \u001b[38;5;129;01mnot\u001b[39;00m stat\u001b[38;5;241m.\u001b[39mS_ISDIR(stmd):\n\u001b[0;32m   1146\u001b[0m         \u001b[38;5;28;01mraise\u001b[39;00m \u001b[38;5;167;01mNotADirectoryError\u001b[39;00m(errno\u001b[38;5;241m.\u001b[39mENOTDIR, \u001b[38;5;124m'\u001b[39m\u001b[38;5;124mNot a directory\u001b[39m\u001b[38;5;124m'\u001b[39m, root_dir)\n",
      "\u001b[1;31mFileNotFoundError\u001b[0m: [WinError 3] 지정된 경로를 찾을 수 없습니다: 'D:/강북강원본부\\x8240930_장재혁_사외채널 인수인계/사외채널 인수인계/교육/강북강원본부_사외채널 Risk 예방교육 결과'"
     ]
    }
   ],
   "source": [
    "import shutil\n",
    "\n",
    "# 압축할 폴더 경로 및 ZIP 파일 저장 경로 설정\n",
    "\n",
    "folder_path = \"D:/강북강원본부\\20240930_장재혁_사외채널 인수인계/사외채널 인수인계/교육/강북강원본부_사외채널 Risk 예방교육 결과\"  # 압축하려는 폴더 경로\n",
    "output_zip = \"D:/강북강원본부\\20240930_장재혁_사외채널 인수인계/사외채널 인수인계/교육/강북강원본부_사외채널 Risk 예방교육 결과계약.zip\"  # 생성될 ZIP 파일 경로\n",
    "\n",
    "\n",
    "# D:/강북강원본부\\20240930_장재혁_사외채널 인수인계/사외채널 인수인계/교육/강북강원본부_사외채널 Risk 예방교육 결과\n",
    "\n",
    "\n",
    "# 폴더 압축\n",
    "shutil.make_archive(output_zip.replace(\".zip\", \"\"), 'zip', folder_path)\n",
    "\n",
    "print(f\"폴더가 압축되었습니다: {output_zip}\")"
   ]
  },
  {
   "cell_type": "code",
   "execution_count": null,
   "id": "05623ecf-598a-452f-9257-4f7c6e7d04ee",
   "metadata": {},
   "outputs": [],
   "source": []
  },
  {
   "cell_type": "code",
   "execution_count": null,
   "id": "4804d253-3951-4eea-acbf-aae6b957f8ac",
   "metadata": {},
   "outputs": [],
   "source": []
  },
  {
   "cell_type": "code",
   "execution_count": null,
   "id": "fa1be08c-bf8e-4962-af5c-813fe5aee479",
   "metadata": {},
   "outputs": [],
   "source": []
  },
  {
   "cell_type": "code",
   "execution_count": null,
   "id": "b087d532-aa9d-4bc6-82f3-da84453a1904",
   "metadata": {},
   "outputs": [],
   "source": []
  },
  {
   "cell_type": "code",
   "execution_count": null,
   "id": "3e412ca6-4140-4244-9191-3226d8f54de5",
   "metadata": {},
   "outputs": [],
   "source": []
  }
 ],
 "metadata": {
  "kernelspec": {
   "display_name": "Python 3 (ipykernel)",
   "language": "python",
   "name": "python3"
  },
  "language_info": {
   "codemirror_mode": {
    "name": "ipython",
    "version": 3
   },
   "file_extension": ".py",
   "mimetype": "text/x-python",
   "name": "python",
   "nbconvert_exporter": "python",
   "pygments_lexer": "ipython3",
   "version": "3.12.4"
  }
 },
 "nbformat": 4,
 "nbformat_minor": 5
}
